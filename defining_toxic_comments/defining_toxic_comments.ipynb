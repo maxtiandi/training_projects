{
 "cells": [
  {
   "cell_type": "markdown",
   "id": "6f408b8fc71a5203",
   "metadata": {},
   "source": [
    "# Определение токсичных комментариев (BERT)"
   ]
  },
  {
   "cell_type": "markdown",
   "id": "da105db75f279c5a",
   "metadata": {},
   "source": [
    "Интернет-магазин запускает новый сервис. Теперь пользователи могут редактировать и дополнять описания товаров, как в вики-сообществах. То есть клиенты предлагают свои правки и комментируют изменения других. Требуется инструмент, который будет искать токсичные комментарии и отправлять их на модерацию.\n",
    "\n",
    "\n",
    "---\n",
    "\n",
    "**КОНТЕКСТ ИССЛЕДОВАНИЯ:**  набор данных с разметкой о токсичности правок\n",
    "\n",
    "---\n",
    "\n",
    "**ЦЕЛЬ ИССЛЕДОВАНИЯ:** обучить модель классифицировать комментарии на позитивные и негативные.\n",
    "\n",
    "---\n",
    "\n",
    "**ПЛАН ИССЛЕДОВАНИЯ**:\n",
    "\n",
    "- Загрузить данные и изучить общую информацию о данных\n",
    "- Подготовить данные для обучения при помощи BERT\n",
    "- Обучить разные модели с различными гиперпараметрами.\n",
    "- Выбрать лучшую модель и проверить ее качество на тестовой выборке\n",
    "\n",
    "---\n",
    "\n",
    "**КРИТЕРИИ УСПЕХА И ПРИМЕЧАНИЯ:**\n",
    "\n",
    "- Значение метрики качества **F1** не меньше 0.75\n",
    "\n",
    "---\n",
    "\n",
    "**Описание данных для первого исследования:**\n",
    "\n",
    "*Столбец text содержит текст комментария, а toxic — целевой признак*"
   ]
  },
  {
   "cell_type": "markdown",
   "id": "fb8376359a0ac654",
   "metadata": {},
   "source": [
    "## Загрузка и изучение данных"
   ]
  },
  {
   "cell_type": "code",
   "execution_count": 1,
   "id": "a6bffeb9bf707794",
   "metadata": {
    "ExecuteTime": {
     "end_time": "2024-03-15T11:19:59.536892Z",
     "start_time": "2024-03-15T11:19:53.517141Z"
    }
   },
   "source": [
    "!pip install tqdm -q\n",
    "!pip install lightgbm\n",
    "!pip install xgboost\n",
    "!pip install catboost\n",
    "!pip install -U scikit-learn\n",
    "!pip install torch\n",
    "!pip install transformers\n",
    "\n",
    "import warnings\n",
    "from warnings import simplefilter\n",
    "\n",
    "import matplotlib.pyplot as plt\n",
    "import numpy as np\n",
    "import pandas as pd\n",
    "import seaborn as sns\n",
    "import torch\n",
    "import transformers\n",
    "from catboost import CatBoostClassifier\n",
    "from lightgbm import LGBMClassifier\n",
    "from sklearn.linear_model import LogisticRegression\n",
    "from sklearn.metrics import f1_score\n",
    "from sklearn.model_selection import cross_val_score, train_test_split, RandomizedSearchCV\n",
    "from tqdm import notebook\n",
    "from transformers import AutoTokenizer, AutoModel\n",
    "from xgboost import XGBClassifier\n",
    "\n",
    "pd.set_option('display.max_columns', None)\n",
    "pd.set_option('display.max_rows', None)\n",
    "pd.options.mode.chained_assignment = None\n",
    "\n",
    "warnings.filterwarnings(\"ignore\", \"is_categorical_dtype\")\n",
    "warnings.filterwarnings(\"ignore\", \"use_inf_as_na\")\n",
    "simplefilter(action='ignore', category=FutureWarning)"
   ]
  },
  {
   "cell_type": "code",
   "execution_count": 2,
   "id": "b0cc848f02ff1895",
   "metadata": {
    "ExecuteTime": {
     "end_time": "2024-03-15T11:20:00.059238Z",
     "start_time": "2024-03-15T11:19:59.537216Z"
    }
   },
   "outputs": [],
   "source": [
    "# Загружаем датасеты для первой задачи\n",
    "try:\n",
    "    data = pd.read_csv('toxic_comments.csv')\n",
    "\n",
    "except:\n",
    "    data = pd.read_csv('https://code.s3.yandex.net/datasets/toxic_comments.csv')"
   ]
  },
  {
   "cell_type": "code",
   "execution_count": 3,
   "id": "43edac0ddde5206b",
   "metadata": {
    "ExecuteTime": {
     "end_time": "2024-03-15T11:20:00.074637Z",
     "start_time": "2024-03-15T11:20:00.061960Z"
    }
   },
   "outputs": [
    {
     "data": {
      "text/plain": "   Unnamed: 0                                               text  toxic\n0           0  Explanation\\nWhy the edits made under my usern...      0\n1           1  D'aww! He matches this background colour I'm s...      0\n2           2  Hey man, I'm really not trying to edit war. It...      0\n3           3  \"\\nMore\\nI can't make any real suggestions on ...      0\n4           4  You, sir, are my hero. Any chance you remember...      0",
      "text/html": "<div>\n<style scoped>\n    .dataframe tbody tr th:only-of-type {\n        vertical-align: middle;\n    }\n\n    .dataframe tbody tr th {\n        vertical-align: top;\n    }\n\n    .dataframe thead th {\n        text-align: right;\n    }\n</style>\n<table border=\"1\" class=\"dataframe\">\n  <thead>\n    <tr style=\"text-align: right;\">\n      <th></th>\n      <th>Unnamed: 0</th>\n      <th>text</th>\n      <th>toxic</th>\n    </tr>\n  </thead>\n  <tbody>\n    <tr>\n      <th>0</th>\n      <td>0</td>\n      <td>Explanation\\nWhy the edits made under my usern...</td>\n      <td>0</td>\n    </tr>\n    <tr>\n      <th>1</th>\n      <td>1</td>\n      <td>D'aww! He matches this background colour I'm s...</td>\n      <td>0</td>\n    </tr>\n    <tr>\n      <th>2</th>\n      <td>2</td>\n      <td>Hey man, I'm really not trying to edit war. It...</td>\n      <td>0</td>\n    </tr>\n    <tr>\n      <th>3</th>\n      <td>3</td>\n      <td>\"\\nMore\\nI can't make any real suggestions on ...</td>\n      <td>0</td>\n    </tr>\n    <tr>\n      <th>4</th>\n      <td>4</td>\n      <td>You, sir, are my hero. Any chance you remember...</td>\n      <td>0</td>\n    </tr>\n  </tbody>\n</table>\n</div>"
     },
     "metadata": {},
     "output_type": "display_data"
    },
    {
     "name": "stdout",
     "output_type": "stream",
     "text": [
      "<class 'pandas.core.frame.DataFrame'>\n",
      "RangeIndex: 159292 entries, 0 to 159291\n",
      "Data columns (total 3 columns):\n",
      " #   Column      Non-Null Count   Dtype \n",
      "---  ------      --------------   ----- \n",
      " 0   Unnamed: 0  159292 non-null  int64 \n",
      " 1   text        159292 non-null  object\n",
      " 2   toxic       159292 non-null  int64 \n",
      "dtypes: int64(2), object(1)\n",
      "memory usage: 3.6+ MB\n"
     ]
    },
    {
     "data": {
      "text/plain": "None"
     },
     "metadata": {},
     "output_type": "display_data"
    }
   ],
   "source": [
    "display(data.head())\n",
    "display(data.info())"
   ]
  },
  {
   "cell_type": "code",
   "execution_count": 4,
   "id": "1a9c18517762b8ba",
   "metadata": {
    "ExecuteTime": {
     "end_time": "2024-03-15T11:20:00.266963Z",
     "start_time": "2024-03-15T11:20:00.075134Z"
    }
   },
   "outputs": [
    {
     "name": "stdout",
     "output_type": "stream",
     "text": [
      "Кол-во явных дубликатов: 0\n",
      "Кол-во пропусков:\n",
      " Unnamed: 0    0\n",
      "text          0\n",
      "toxic         0\n",
      "dtype: int64\n"
     ]
    }
   ],
   "source": [
    "print('Кол-во явных дубликатов:', data.duplicated().sum())\n",
    "print('Кол-во пропусков:\\n', data.isna().sum())"
   ]
  },
  {
   "cell_type": "code",
   "execution_count": 5,
   "outputs": [
    {
     "data": {
      "text/plain": "<Figure size 640x480 with 1 Axes>",
      "image/png": "[encoded data removed]"
     },
     "metadata": {},
     "output_type": "display_data"
    }
   ],
   "source": [
    "# Построим график распределения классов таргета\n",
    "plt.pie(\n",
    "    data['toxic'].value_counts(),\n",
    "    labels=[\n",
    "        'not toxic',\n",
    "        'toxic',\n",
    "    ],\n",
    "    autopct='%1.1f%%',\n",
    "    colors=sns.color_palette('Set1')\n",
    ")\n",
    "plt.title('Распределение классов таргета')\n",
    "plt.grid()\n",
    "plt.show()"
   ],
   "metadata": {
    "collapsed": false,
    "ExecuteTime": {
     "end_time": "2024-03-15T11:20:00.321309Z",
     "start_time": "2024-03-15T11:20:00.268395Z"
    }
   },
   "id": "3c5c38de5c208e21"
  },
  {
   "cell_type": "markdown",
   "id": "904eea168fcb6201",
   "metadata": {},
   "source": [
    "---\n",
    "- Обнаружили дисбаланс классов таргета. Учтем это при обучении моделей\n",
    "- Данные чистые, пропусков и дубликатов нет. Отлично! Можем приступать к следующим шагам\n",
    "\n",
    "---"
   ]
  },
  {
   "cell_type": "markdown",
   "id": "7773a49778bade18",
   "metadata": {},
   "source": [
    "## Подготовка данных "
   ]
  },
  {
   "cell_type": "code",
   "execution_count": 6,
   "id": "93247d64956343c7",
   "metadata": {
    "ExecuteTime": {
     "end_time": "2024-03-15T11:20:00.332398Z",
     "start_time": "2024-03-15T11:20:00.321684Z"
    }
   },
   "outputs": [
    {
     "data": {
      "text/plain": "(159292, 3)"
     },
     "metadata": {},
     "output_type": "display_data"
    },
    {
     "data": {
      "text/plain": "(10000, 3)"
     },
     "metadata": {},
     "output_type": "display_data"
    }
   ],
   "source": [
    "RANDOM_STATE = 42\n",
    "\n",
    "# Выделим 10000 случайных строк из всего датасета для ускорения обучения\n",
    "data_sampled = data.sample(10000, random_state=RANDOM_STATE).reset_index(drop=True)\n",
    "\n",
    "display(data.shape)\n",
    "display(data_sampled.shape)"
   ]
  },
  {
   "cell_type": "code",
   "execution_count": 7,
   "id": "15652523e3167023",
   "metadata": {
    "ExecuteTime": {
     "end_time": "2024-03-15T11:20:02.845978Z",
     "start_time": "2024-03-15T11:20:00.332484Z"
    }
   },
   "outputs": [
    {
     "data": {
      "text/plain": "(10000, 512)"
     },
     "metadata": {},
     "output_type": "display_data"
    },
    {
     "data": {
      "text/plain": "(10000, 512)"
     },
     "metadata": {},
     "output_type": "display_data"
    }
   ],
   "source": [
    "# Токенизируем текст предобученным токенайзером\n",
    "tokenizer = AutoTokenizer.from_pretrained('unitary/toxic-bert')\n",
    "tokenized = data_sampled['text'].apply(\n",
    "    lambda x: tokenizer.encode(x, add_special_tokens=True, truncation=True))\n",
    "\n",
    "# Найдем максимальную длину токенов\n",
    "max_len = 0\n",
    "for i in tokenized.values:\n",
    "    if len(i) > max_len:\n",
    "        max_len = len(i)\n",
    "\n",
    "# Ограничим длину токенов и создадим маску\n",
    "padded = np.array([i + [0] * (max_len - len(i)) for i in tokenized.values])\n",
    "attention_mask = np.where(padded != 0, 1, 0)\n",
    "display(padded.shape, attention_mask.shape)"
   ]
  },
  {
   "cell_type": "code",
   "execution_count": 8,
   "id": "e68ea22ce609eb5b",
   "metadata": {
    "ExecuteTime": {
     "end_time": "2024-03-15T13:39:48.746814Z",
     "start_time": "2024-03-15T11:20:02.836631Z"
    }
   },
   "outputs": [
    {
     "name": "stderr",
     "output_type": "stream",
     "text": [
      "huggingface/tokenizers: The current process just got forked, after parallelism has already been used. Disabling parallelism to avoid deadlocks...\n",
      "To disable this warning, you can either:\n",
      "\t- Avoid using `tokenizers` before the fork if possible\n",
      "\t- Explicitly set the environment variable TOKENIZERS_PARALLELISM=(true | false)\n"
     ]
    },
    {
     "data": {
      "text/plain": "  0%|          | 0/100 [00:00<?, ?it/s]",
      "application/vnd.jupyter.widget-view+json": {
       "version_major": 2,
       "version_minor": 0,
       "model_id": "449d657f3a1b426e85a1e47c53f6dc3a"
      }
     },
     "metadata": {},
     "output_type": "display_data"
    },
    {
     "name": "stdout",
     "output_type": "stream",
     "text": [
      "CPU times: user 15h 47min 25s, sys: 1h 26min 54s, total: 17h 14min 20s\n",
      "Wall time: 2h 19min 45s\n"
     ]
    }
   ],
   "source": [
    "%%time\n",
    "\n",
    "# Загрузим предобученную модель\n",
    "try:\n",
    "    config = transformers.BertConfig.from_json_file(\n",
    "        'config.json')\n",
    "except:\n",
    "    config = transformers.BertConfig.from_json_file(\n",
    "        'https://huggingface.co/unitary/toxic-bert/tree/main/config.json')\n",
    "\n",
    "model = AutoModel.from_pretrained('unitary/toxic-bert')\n",
    "\n",
    "# Получим эмбеддинги\n",
    "batch_size = 100\n",
    "embeddings = []\n",
    "for i in notebook.tqdm(range(padded.shape[0] // batch_size)):\n",
    "    batch = torch.LongTensor(padded[batch_size * i:batch_size * (i + 1)])\n",
    "    attention_mask_batch = torch.LongTensor(attention_mask[batch_size * i:batch_size * (i + 1)])\n",
    "\n",
    "    with torch.no_grad():\n",
    "        batch_embeddings = model(batch, attention_mask=attention_mask_batch)\n",
    "\n",
    "    embeddings.append(batch_embeddings[0][:, 0, :].numpy())\n",
    "\n",
    "# Соберем все эмбеддинги в один массив\n",
    "X = np.concatenate(embeddings)\n",
    "y = data_sampled['toxic']"
   ]
  },
  {
   "cell_type": "code",
   "execution_count": 9,
   "id": "217460b3a2cea557",
   "metadata": {
    "ExecuteTime": {
     "end_time": "2024-03-15T13:39:49.028476Z",
     "start_time": "2024-03-15T13:39:48.817910Z"
    }
   },
   "outputs": [
    {
     "data": {
      "text/plain": "(8000, 768)"
     },
     "metadata": {},
     "output_type": "display_data"
    },
    {
     "data": {
      "text/plain": "(2000, 768)"
     },
     "metadata": {},
     "output_type": "display_data"
    },
    {
     "data": {
      "text/plain": "(8000,)"
     },
     "metadata": {},
     "output_type": "display_data"
    },
    {
     "data": {
      "text/plain": "(2000,)"
     },
     "metadata": {},
     "output_type": "display_data"
    }
   ],
   "source": [
    "TEST_SIZE = 0.2\n",
    "\n",
    "# Разделим данные на фичи и таргет\n",
    "X_train, X_test, y_train, y_test = train_test_split(\n",
    "    X,\n",
    "    y,\n",
    "    stratify=y,\n",
    "    test_size=TEST_SIZE,\n",
    "    random_state=RANDOM_STATE\n",
    ")\n",
    "\n",
    "display(X_train.shape, X_test.shape)\n",
    "display(y_train.shape, y_test.shape)"
   ]
  },
  {
   "cell_type": "markdown",
   "id": "f70ec76a70a0710b",
   "metadata": {},
   "source": [
    "## Обучение моделей"
   ]
  },
  {
   "cell_type": "code",
   "execution_count": 10,
   "id": "9162500fd549020f",
   "metadata": {
    "ExecuteTime": {
     "end_time": "2024-03-15T13:39:49.029037Z",
     "start_time": "2024-03-15T13:39:48.818933Z"
    }
   },
   "outputs": [],
   "source": [
    "# Создадим пустой словарь для хранения результатов\n",
    "results = {\n",
    "    'model': [],\n",
    "    'f1_val': [],\n",
    "}"
   ]
  },
  {
   "cell_type": "markdown",
   "id": "a66463abc862ae46",
   "metadata": {},
   "source": [
    "### `LogisticRegression`"
   ]
  },
  {
   "cell_type": "code",
   "execution_count": 11,
   "id": "a1f7a6dfd1d69d4d",
   "metadata": {
    "ExecuteTime": {
     "end_time": "2024-03-15T13:39:53.004019Z",
     "start_time": "2024-03-15T13:39:48.820464Z"
    }
   },
   "outputs": [],
   "source": [
    "# Обучим модель\n",
    "lr_model = LogisticRegression(solver='liblinear', random_state=RANDOM_STATE)\n",
    "lr_model.fit(X_train, y_train)\n",
    "\n",
    "# Посчитаем метрику на кросс-валидации\n",
    "lr_f1_val = cross_val_score(\n",
    "    lr_model,\n",
    "    X_train,\n",
    "    y_train,\n",
    "    cv=5,\n",
    "    scoring='f1'\n",
    ").mean()\n",
    "\n",
    "# Сохраним результаты\n",
    "results['model'].append('LogisticRegression')\n",
    "results['f1_val'].append(lr_f1_val)"
   ]
  },
  {
   "cell_type": "markdown",
   "id": "39360ea8f4315e90",
   "metadata": {},
   "source": [
    "### `CatBoostClassifier`"
   ]
  },
  {
   "cell_type": "code",
   "execution_count": 12,
   "id": "a1a71e42dc73d8c7",
   "metadata": {
    "ExecuteTime": {
     "end_time": "2024-03-15T17:35:03.039732Z",
     "start_time": "2024-03-15T13:39:53.013494Z"
    }
   },
   "outputs": [
    {
     "name": "stderr",
     "output_type": "stream",
     "text": [
      "/Users/maxtiandi/anaconda3/envs/practicum/lib/python3.8/site-packages/sklearn/model_selection/_search.py:307: UserWarning: The total space of parameters 84 is smaller than n_iter=100. Running 84 iterations. For exhaustive searches, use GridSearchCV.\n",
      "  warnings.warn(\n"
     ]
    },
    {
     "name": "stdout",
     "output_type": "stream",
     "text": [
      "CPU times: user 1d 4h 29min 18s, sys: 26min 5s, total: 1d 4h 55min 23s\n",
      "Wall time: 3h 55min 10s\n"
     ]
    }
   ],
   "source": [
    "%%time\n",
    "\n",
    "# Переберем гиперпараметры\n",
    "cat_params = {\n",
    "    'depth': range(3, 10),\n",
    "    'learning_rate': [0.03, 0.1, 0.15],\n",
    "    'l2_leaf_reg': [1, 3, 7, 9],\n",
    "}\n",
    "\n",
    "cat_model = CatBoostClassifier(random_seed=RANDOM_STATE, silent=True)\n",
    "\n",
    "cat_search = RandomizedSearchCV(\n",
    "    cat_model,\n",
    "    cat_params,\n",
    "    n_iter=100,\n",
    "    verbose=5,\n",
    "    cv=5,\n",
    "    scoring='f1',\n",
    "    random_state=RANDOM_STATE,\n",
    ")\n",
    "\n",
    "cat_search.fit(X_train, y_train)\n",
    "cat_best_model = cat_search.best_estimator_\n",
    "cat_f1_val = cat_search.best_score_\n",
    "\n",
    "# Сохраним результаты\n",
    "results['model'].append('CatBoostClassifier')\n",
    "results['f1_val'].append(cat_f1_val)"
   ]
  },
  {
   "cell_type": "markdown",
   "id": "c9d48942b67e43d8",
   "metadata": {},
   "source": [
    "### `LGBMClassifier`"
   ]
  },
  {
   "cell_type": "code",
   "execution_count": 13,
   "id": "9d9ee87f62fdd6db",
   "metadata": {
    "ExecuteTime": {
     "end_time": "2024-03-15T17:51:29.416563Z",
     "start_time": "2024-03-15T17:35:03.085948Z"
    }
   },
   "outputs": [
    {
     "name": "stdout",
     "output_type": "stream",
     "text": [
      "Fitting 5 folds for each of 100 candidates, totalling 500 fits\n"
     ]
    },
    {
     "name": "stderr",
     "output_type": "stream",
     "text": [
      "huggingface/tokenizers: The current process just got forked, after parallelism has already been used. Disabling parallelism to avoid deadlocks...\n",
      "To disable this warning, you can either:\n",
      "\t- Avoid using `tokenizers` before the fork if possible\n",
      "\t- Explicitly set the environment variable TOKENIZERS_PARALLELISM=(true | false)\n"
     ]
    },
    {
     "name": "stdout",
     "output_type": "stream",
     "text": [
      "CPU times: user 40min 54s, sys: 12min 43s, total: 53min 37s\n",
      "Wall time: 16min 26s\n"
     ]
    }
   ],
   "source": [
    "%%time\n",
    "\n",
    "# Переберем гиперпараметры\n",
    "lgbm_params = {\n",
    "    'n_estimators': range(100, 350),\n",
    "    'max_depth': range(3, 10),\n",
    "    'learning_rate': [0.1, 0.01, 0.001],\n",
    "}\n",
    "\n",
    "lgbm_model = LGBMClassifier(random_state=RANDOM_STATE, verbose=-1)\n",
    "\n",
    "lgbm_search = RandomizedSearchCV(\n",
    "    lgbm_model,\n",
    "    lgbm_params,\n",
    "    n_iter=100,\n",
    "    verbose=5,\n",
    "    cv=5,\n",
    "    scoring='f1',\n",
    "    random_state=RANDOM_STATE,\n",
    ")\n",
    "\n",
    "lgbm_search.fit(X_train, y_train)\n",
    "lgbm_best_model = lgbm_search.best_estimator_\n",
    "lgbm_f1_val = lgbm_search.best_score_\n",
    "\n",
    "# Сохраним результаты\n",
    "results['model'].append('LGBMClassifier')\n",
    "results['f1_val'].append(lgbm_f1_val)"
   ]
  },
  {
   "cell_type": "markdown",
   "id": "7ab0262b04ef3b9f",
   "metadata": {},
   "source": [
    "### `XGBClassifier`"
   ]
  },
  {
   "cell_type": "code",
   "execution_count": 14,
   "id": "4cd30f86b22e699e",
   "metadata": {
    "ExecuteTime": {
     "end_time": "2024-03-15T18:12:52.255252Z",
     "start_time": "2024-03-15T17:51:29.420714Z"
    }
   },
   "outputs": [
    {
     "name": "stdout",
     "output_type": "stream",
     "text": [
      "Fitting 5 folds for each of 100 candidates, totalling 500 fits\n",
      "CPU times: user 2h 21min 59s, sys: 50min 58s, total: 3h 12min 58s\n",
      "Wall time: 21min 22s\n"
     ]
    }
   ],
   "source": [
    "%%time\n",
    "\n",
    "# Переберем гиперпараметры\n",
    "xgb_params = {\n",
    "    'n_estimators': range(100, 350),\n",
    "    'max_depth': range(3, 10),\n",
    "    'learning_rate': [0.1, 0.01, 0.001],\n",
    "}\n",
    "\n",
    "xgb_model = XGBClassifier(random_state=RANDOM_STATE)\n",
    "\n",
    "xgb_search = RandomizedSearchCV(\n",
    "    xgb_model,\n",
    "    xgb_params,\n",
    "    n_iter=100,\n",
    "    verbose=5,\n",
    "    cv=5,\n",
    "    scoring='f1',\n",
    "    random_state=RANDOM_STATE,\n",
    ")\n",
    "\n",
    "xgb_search.fit(X_train, y_train)\n",
    "xgb_best_model = xgb_search.best_estimator_\n",
    "xgb_f1_val = xgb_search.best_score_\n",
    "\n",
    "# Сохраним результаты\n",
    "results['model'].append('XGBClassifier')\n",
    "results['f1_val'].append(xgb_f1_val)"
   ]
  },
  {
   "cell_type": "markdown",
   "id": "7733e6ffd506ce31",
   "metadata": {},
   "source": [
    "## Тестирование лучшей модели"
   ]
  },
  {
   "cell_type": "code",
   "execution_count": 15,
   "id": "41508246c280ebb9",
   "metadata": {
    "ExecuteTime": {
     "end_time": "2024-03-15T18:12:52.291101Z",
     "start_time": "2024-03-15T18:12:52.275924Z"
    }
   },
   "outputs": [
    {
     "data": {
      "text/plain": "                model    f1_val\n1  CatBoostClassifier  0.957883\n3       XGBClassifier  0.953041\n2      LGBMClassifier  0.952486\n0  LogisticRegression  0.947330",
      "text/html": "<div>\n<style scoped>\n    .dataframe tbody tr th:only-of-type {\n        vertical-align: middle;\n    }\n\n    .dataframe tbody tr th {\n        vertical-align: top;\n    }\n\n    .dataframe thead th {\n        text-align: right;\n    }\n</style>\n<table border=\"1\" class=\"dataframe\">\n  <thead>\n    <tr style=\"text-align: right;\">\n      <th></th>\n      <th>model</th>\n      <th>f1_val</th>\n    </tr>\n  </thead>\n  <tbody>\n    <tr>\n      <th>1</th>\n      <td>CatBoostClassifier</td>\n      <td>0.957883</td>\n    </tr>\n    <tr>\n      <th>3</th>\n      <td>XGBClassifier</td>\n      <td>0.953041</td>\n    </tr>\n    <tr>\n      <th>2</th>\n      <td>LGBMClassifier</td>\n      <td>0.952486</td>\n    </tr>\n    <tr>\n      <th>0</th>\n      <td>LogisticRegression</td>\n      <td>0.947330</td>\n    </tr>\n  </tbody>\n</table>\n</div>"
     },
     "metadata": {},
     "output_type": "display_data"
    }
   ],
   "source": [
    "results_df = pd.DataFrame(results)\n",
    "display(results_df.sort_values(by='f1_val', ascending=False))"
   ]
  },
  {
   "cell_type": "markdown",
   "id": "4570f6478efb5ec5",
   "metadata": {},
   "source": [
    "---\n",
    "\n",
    "Модель, показавшая лучшую усредненную метрику на кросс-валидации - `CatBoostClassifier`. Проверим ее качество на тестовой выборке!\n",
    "\n",
    "---"
   ]
  },
  {
   "cell_type": "code",
   "execution_count": 16,
   "id": "b757343fd889082d",
   "metadata": {
    "scrolled": true,
    "ExecuteTime": {
     "end_time": "2024-03-15T18:12:52.301234Z",
     "start_time": "2024-03-15T18:12:52.292056Z"
    }
   },
   "outputs": [
    {
     "name": "stdout",
     "output_type": "stream",
     "text": [
      "F1 лучшей модели на тестовой выборке: 0.93734335839599\n"
     ]
    }
   ],
   "source": [
    "# Проверим качество модели на тестовой выборке\n",
    "predictions = cat_best_model.predict(X_test)\n",
    "cat_f1_test = f1_score(y_test, predictions)\n",
    "print('F1 лучшей модели на тестовой выборке:', cat_f1_test)"
   ]
  },
  {
   "cell_type": "markdown",
   "id": "f2a1d18abe4fe834",
   "metadata": {},
   "source": [
    "## Общий вывод"
   ]
  },
  {
   "cell_type": "markdown",
   "id": "def7771e1e24b80a",
   "metadata": {},
   "source": [
    "**В ходе исследования была выбрана и обучена лучшая модель, способная классифицировать комментарии на положительные и негативные**\n",
    "\n",
    "- Изначальные данные в хорошем состоянии, предобработка не понадобилась\n",
    "- Токенизировали данные при помощи предобученной модели BERT, специализирующейся на токсичных комментариях (взята из Toxic контеста)\n",
    "- Перебрали гиперпараметры 4-х моделей, проверили усредненное качество метрики `F1-меры` на кросс-валидации:\n",
    "    - `CatBoostClassifier` - лидер, со значением F1 на cross_val = **0.957883**\n",
    "    - `XGBClassifier` - *0.953041*\n",
    "    - `LGBMClassifier` - *0.952486*\n",
    "    - `LogisticRegression` - *0.947330*\n",
    "\n",
    "- `F1` лучшей модели на тестовой выборке: **0.93734335839599**\n",
    "\n",
    "Конечный результат получился выше критерия успеха заказчика - получили отличное значение метрики :) "
   ]
  }
 ],
 "metadata": {
  "ExecuteTimeLog": [
   {
    "duration": 29375,
    "start_time": "2024-03-14T07:07:50.332Z"
   }
  ],
  "kernelspec": {
   "display_name": "Python 3 (ipykernel)",
   "language": "python",
   "name": "python3"
  },
  "language_info": {
   "codemirror_mode": {
    "name": "ipython",
    "version": 3
   },
   "file_extension": ".py",
   "mimetype": "text/x-python",
   "name": "python",
   "nbconvert_exporter": "python",
   "pygments_lexer": "ipython3",
   "version": "3.9.5"
  },
  "toc": {
   "base_numbering": 1,
   "nav_menu": {},
   "number_sections": true,
   "sideBar": true,
   "skip_h1_title": true,
   "title_cell": "Table of Contents",
   "title_sidebar": "Contents",
   "toc_cell": false,
   "toc_position": {},
   "toc_section_display": true,
   "toc_window_display": false
  }
 },
 "nbformat": 4,
 "nbformat_minor": 5
}
