{
 "cells": [
  {
   "cell_type": "markdown",
   "metadata": {
    "toc": true
   },
   "source": [
    "<h1>Содержание<span class=\"tocSkip\"></span></h1>\n",
    "<div class=\"toc\"><ul class=\"toc-item\"><li><span><a href=\"#Загрузка-и-подготовка-данных\" data-toc-modified-id=\"Загрузка-и-подготовка-данных-1\"><span class=\"toc-item-num\">1&nbsp;&nbsp;</span>Загрузка и подготовка данных</a></span><ul class=\"toc-item\"><li><span><a href=\"#Изучение-общей-информации-о-данных\" data-toc-modified-id=\"Изучение-общей-информации-о-данных-1.1\"><span class=\"toc-item-num\">1.1&nbsp;&nbsp;</span>Изучение общей информации о данных</a></span></li><li><span><a href=\"#Подготовка-данных-для-обучения-модели\" data-toc-modified-id=\"Подготовка-данных-для-обучения-модели-1.2\"><span class=\"toc-item-num\">1.2&nbsp;&nbsp;</span>Подготовка данных для обучения модели</a></span></li></ul></li><li><span><a href=\"#Обучение-и-проверка-модели\" data-toc-modified-id=\"Обучение-и-проверка-модели-2\"><span class=\"toc-item-num\">2&nbsp;&nbsp;</span>Обучение и проверка модели</a></span><ul class=\"toc-item\"><li><span><a href=\"#Обучение-модели-LinearRegression\" data-toc-modified-id=\"Обучение-модели-LinearRegression-2.1\"><span class=\"toc-item-num\">2.1&nbsp;&nbsp;</span>Обучение модели <code>LinearRegression</code></a></span></li></ul></li><li><span><a href=\"#Подготовка-к-расчёту-прибыли\" data-toc-modified-id=\"Подготовка-к-расчёту-прибыли-3\"><span class=\"toc-item-num\">3&nbsp;&nbsp;</span>Подготовка к расчёту прибыли</a></span></li><li><span><a href=\"#Расчёт-прибыли-и-рисков\" data-toc-modified-id=\"Расчёт-прибыли-и-рисков-4\"><span class=\"toc-item-num\">4&nbsp;&nbsp;</span>Расчёт прибыли и рисков</a></span></li><li><span><a href=\"#Общий-вывод-по-исследованию\" data-toc-modified-id=\"Общий-вывод-по-исследованию-5\"><span class=\"toc-item-num\">5&nbsp;&nbsp;</span>Общий вывод по исследованию</a></span></li></ul></div>"
   ]
  },
  {
   "cell_type": "markdown",
   "metadata": {},
   "source": [
    "# Выбор локации для скважины"
   ]
  },
  {
   "cell_type": "markdown",
   "metadata": {},
   "source": [
    "Предоставлены пробы нефти в трёх регионах. Характеристики для каждой скважины в регионе уже известны. Нужно построить модель для определения региона, где добыча принесёт наибольшую прибыль.\n",
    "\n",
    "---\n",
    "\n",
    "**Цель исследования:** Построить модель машинного обучения, которая поможет определить регион, где добыча принесет наибольшую прибыль. Проанализировать возможную прибыль и риски техникой Bootstrap\n",
    "\n",
    "**Контекст исследования:** Пробы нефти в трёх регионах: в каждом 10 000 месторождений, где измерили качество нефти и объём её запасов. Данные синтетические: детали контрактов и характеристики месторождений не разглашаются.\n",
    "\n",
    "**План исследования:**\n",
    "1. *Загрузить и подготовить данные*\n",
    "\n",
    "\n",
    "2. *Обучить и проверить модель для каждого региона:*\n",
    "- Разбить данные на обучающую и валидационную выборки в соотношении 75:25.\n",
    "- Обучить модель и сделать предсказания на валидационной выборке.\n",
    "- Сохранить предсказания и правильные ответы на валидационной выборке.\n",
    "- Напечатать на экране средний запас предсказанного сырья и RMSE модели.\n",
    "- Проанализировать результаты.\n",
    "3. *Подготовка к расчёту прибыли:*\n",
    "- Все ключевые значения для расчётов сохранить в отдельных переменных.\n",
    "- Рассчитать достаточный объём сырья для безубыточной разработки новой скважины. Сравнить полученный объём сырья со средним запасом в каждом регионе. \n",
    "- Написать выводы по этапу подготовки расчёта прибыли.\n",
    "4. *Написать функцию для расчёта прибыли по выбранным скважинам и предсказаниям модели:*\n",
    "- Выбрать скважины с максимальными значениями предсказаний. \n",
    "- Просуммировать целевое значение объёма сырья, соответствующее этим предсказаниям.\n",
    "- Рассчитать прибыль для полученного объёма сырья.\n",
    "5. *Посчитать риски и прибыль для каждого региона:*\n",
    "- Применить технику Bootstrap с 1000 выборок, чтобы найти распределение прибыли.\n",
    "- Найти среднюю прибыль, 95%-й доверительный интервал и риск убытков. Убыток — это отрицательная прибыль.\n",
    "- Написать выводы: предложить регион для разработки скважин и обоснуйте выбор.\n",
    "\n",
    "**Шаги для выбора локации:**\n",
    "\n",
    "- В избранном регионе ищут месторождения, для каждого определяют значения признаков;\n",
    "- Строят модель и оценивают объём запасов;\n",
    "- Выбирают месторождения с самым высокими оценками значений. Количество месторождений зависит от бюджета компании и стоимости разработки одной скважины;\n",
    "- Прибыль равна суммарной прибыли отобранных месторождений.\n",
    "\n",
    "**Условия задачи:**\n",
    "- Для обучения модели подходит только линейная регрессия (остальные — недостаточно предсказуемые).\n",
    "- При разведке региона исследуют 500 точек, из которых с помощью машинного обучения выбирают 200 лучших для разработки.\n",
    "- Бюджет на разработку скважин в регионе — 10 млрд рублей.\n",
    "- При нынешних ценах один баррель сырья приносит 450 рублей дохода. Доход с каждой единицы продукта составляет 450 тыс. рублей, поскольку объём указан в тысячах баррелей.\n",
    "- После оценки рисков нужно оставить лишь те регионы, в которых вероятность убытков меньше 2.5%. Среди них выбирают регион с наибольшей средней прибылью.\n",
    "\n",
    "**Описание данных:**\n",
    "\n",
    "- *Признаки:*\n",
    "    - `id` — уникальный идентификатор скважины;\n",
    "    - `f0, f1, f2` — три признака точек (неважно, что они означают, но сами признаки значимы);` \n",
    "    - `product` — объём запасов в скважине (тыс. баррелей).\n",
    "\n"
   ]
  },
  {
   "cell_type": "markdown",
   "metadata": {},
   "source": [
    "## Загрузка и подготовка данных"
   ]
  },
  {
   "cell_type": "markdown",
   "metadata": {},
   "source": [
    "### Изучение общей информации о данных"
   ]
  },
  {
   "cell_type": "code",
   "execution_count": 1,
   "metadata": {
    "ExecuteTime": {
     "end_time": "2024-01-19T09:32:17.526623Z",
     "start_time": "2024-01-19T09:32:16.975824Z"
    }
   },
   "outputs": [],
   "source": [
    "import pandas as pd\n",
    "import numpy as np\n",
    "import matplotlib.pyplot as plt\n",
    "from sklearn.model_selection import train_test_split\n",
    "from sklearn.preprocessing import StandardScaler\n",
    "from sklearn.linear_model import LinearRegression\n",
    "from sklearn.metrics import mean_squared_error\n",
    "\n",
    "pd.set_option('display.max_columns', None)\n",
    "pd.set_option('display.max_rows', None)\n",
    "pd.options.mode.chained_assignment = None"
   ]
  },
  {
   "cell_type": "code",
   "execution_count": 2,
   "metadata": {
    "ExecuteTime": {
     "end_time": "2024-01-19T09:32:20.708685Z",
     "start_time": "2024-01-19T09:32:17.527874Z"
    }
   },
   "outputs": [],
   "source": [
    "# Загружаем датасеты\n",
    "try:\n",
    "    first_geo = pd.read_csv('/datasets/geo_data_0.csv')\n",
    "    second_geo = pd.read_csv('/datasets/geo_data_1.csv')\n",
    "    third_geo = pd.read_csv('/datasets/geo_data_2.csv')\n",
    "except:\n",
    "    first_geo = pd.read_csv('https://code.s3.yandex.net/datasets/geo_data_0.csv')\n",
    "    second_geo = pd.read_csv('https://code.s3.yandex.net/datasets/geo_data_1.csv')\n",
    "    third_geo = pd.read_csv('https://code.s3.yandex.net/datasets/geo_data_2.csv')"
   ]
  },
  {
   "cell_type": "code",
   "execution_count": 3,
   "metadata": {
    "ExecuteTime": {
     "end_time": "2024-01-19T09:32:20.713403Z",
     "start_time": "2024-01-19T09:32:20.711002Z"
    }
   },
   "outputs": [],
   "source": [
    "# Напишем функцию для получения общей информации о датасете\n",
    "def get_info(data):\n",
    "    display(data.head())\n",
    "    print('')\n",
    "    display(data.info())\n",
    "    display(data.describe())\n",
    "    print('')\n",
    "    id_duplicates = data['id'].value_counts()\n",
    "    print('')\n",
    "    print('-----')\n",
    "    print('')\n",
    "    print('Кол-во неявных дубликатов в столбце id:', len(data) - id_duplicates.count())\n",
    "    data = data.drop_duplicates(subset='id', keep=False)\n",
    "    print('Кол-во явных дубликатов:', data.duplicated().sum())\n",
    "    print('Кол-во пропусков:\\n',  data.isna().sum())\n",
    "    print('')\n",
    "    print('-----')\n",
    "    print('')\n",
    "    display(data.info())\n",
    "    \n",
    "    plt.hist(data['product'], color = 'c', edgecolor = 'c', bins = 1000)\n",
    "    x_axis = np.arange(0, 200, 20)\n",
    "    y_axis = np.arange(0, 500, 50)\n",
    "    plt.xticks(x_axis)\n",
    "    plt.yticks(y_axis)\n",
    "    plt.ylim(0, 200)\n",
    "    plt.title('Распределение целевой переменной product:')\n",
    "    plt.xlabel('Значение переменной')\n",
    "    plt.show()\n"
   ]
  },
  {
   "cell_type": "code",
   "execution_count": 4,
   "metadata": {
    "scrolled": false,
    "ExecuteTime": {
     "end_time": "2024-01-19T09:32:21.310084Z",
     "start_time": "2024-01-19T09:32:20.714233Z"
    }
   },
   "outputs": [
    {
     "data": {
      "text/plain": "      id        f0        f1        f2     product\n0  txEyH  0.705745 -0.497823  1.221170  105.280062\n1  2acmU  1.334711 -0.340164  4.365080   73.037750\n2  409Wp  1.022732  0.151990  1.419926   85.265647\n3  iJLyR -0.032172  0.139033  2.978566  168.620776\n4  Xdl7t  1.988431  0.155413  4.751769  154.036647",
      "text/html": "<div>\n<style scoped>\n    .dataframe tbody tr th:only-of-type {\n        vertical-align: middle;\n    }\n\n    .dataframe tbody tr th {\n        vertical-align: top;\n    }\n\n    .dataframe thead th {\n        text-align: right;\n    }\n</style>\n<table border=\"1\" class=\"dataframe\">\n  <thead>\n    <tr style=\"text-align: right;\">\n      <th></th>\n      <th>id</th>\n      <th>f0</th>\n      <th>f1</th>\n      <th>f2</th>\n      <th>product</th>\n    </tr>\n  </thead>\n  <tbody>\n    <tr>\n      <th>0</th>\n      <td>txEyH</td>\n      <td>0.705745</td>\n      <td>-0.497823</td>\n      <td>1.221170</td>\n      <td>105.280062</td>\n    </tr>\n    <tr>\n      <th>1</th>\n      <td>2acmU</td>\n      <td>1.334711</td>\n      <td>-0.340164</td>\n      <td>4.365080</td>\n      <td>73.037750</td>\n    </tr>\n    <tr>\n      <th>2</th>\n      <td>409Wp</td>\n      <td>1.022732</td>\n      <td>0.151990</td>\n      <td>1.419926</td>\n      <td>85.265647</td>\n    </tr>\n    <tr>\n      <th>3</th>\n      <td>iJLyR</td>\n      <td>-0.032172</td>\n      <td>0.139033</td>\n      <td>2.978566</td>\n      <td>168.620776</td>\n    </tr>\n    <tr>\n      <th>4</th>\n      <td>Xdl7t</td>\n      <td>1.988431</td>\n      <td>0.155413</td>\n      <td>4.751769</td>\n      <td>154.036647</td>\n    </tr>\n  </tbody>\n</table>\n</div>"
     },
     "metadata": {},
     "output_type": "display_data"
    },
    {
     "name": "stdout",
     "output_type": "stream",
     "text": [
      "\n",
      "<class 'pandas.core.frame.DataFrame'>\n",
      "RangeIndex: 100000 entries, 0 to 99999\n",
      "Data columns (total 5 columns):\n",
      " #   Column   Non-Null Count   Dtype  \n",
      "---  ------   --------------   -----  \n",
      " 0   id       100000 non-null  object \n",
      " 1   f0       100000 non-null  float64\n",
      " 2   f1       100000 non-null  float64\n",
      " 3   f2       100000 non-null  float64\n",
      " 4   product  100000 non-null  float64\n",
      "dtypes: float64(4), object(1)\n",
      "memory usage: 3.8+ MB\n"
     ]
    },
    {
     "data": {
      "text/plain": "None"
     },
     "metadata": {},
     "output_type": "display_data"
    },
    {
     "data": {
      "text/plain": "                  f0             f1             f2        product\ncount  100000.000000  100000.000000  100000.000000  100000.000000\nmean        0.500419       0.250143       2.502647      92.500000\nstd         0.871832       0.504433       3.248248      44.288691\nmin        -1.408605      -0.848218     -12.088328       0.000000\n25%        -0.072580      -0.200881       0.287748      56.497507\n50%         0.502360       0.250252       2.515969      91.849972\n75%         1.073581       0.700646       4.715088     128.564089\nmax         2.362331       1.343769      16.003790     185.364347",
      "text/html": "<div>\n<style scoped>\n    .dataframe tbody tr th:only-of-type {\n        vertical-align: middle;\n    }\n\n    .dataframe tbody tr th {\n        vertical-align: top;\n    }\n\n    .dataframe thead th {\n        text-align: right;\n    }\n</style>\n<table border=\"1\" class=\"dataframe\">\n  <thead>\n    <tr style=\"text-align: right;\">\n      <th></th>\n      <th>f0</th>\n      <th>f1</th>\n      <th>f2</th>\n      <th>product</th>\n    </tr>\n  </thead>\n  <tbody>\n    <tr>\n      <th>count</th>\n      <td>100000.000000</td>\n      <td>100000.000000</td>\n      <td>100000.000000</td>\n      <td>100000.000000</td>\n    </tr>\n    <tr>\n      <th>mean</th>\n      <td>0.500419</td>\n      <td>0.250143</td>\n      <td>2.502647</td>\n      <td>92.500000</td>\n    </tr>\n    <tr>\n      <th>std</th>\n      <td>0.871832</td>\n      <td>0.504433</td>\n      <td>3.248248</td>\n      <td>44.288691</td>\n    </tr>\n    <tr>\n      <th>min</th>\n      <td>-1.408605</td>\n      <td>-0.848218</td>\n      <td>-12.088328</td>\n      <td>0.000000</td>\n    </tr>\n    <tr>\n      <th>25%</th>\n      <td>-0.072580</td>\n      <td>-0.200881</td>\n      <td>0.287748</td>\n      <td>56.497507</td>\n    </tr>\n    <tr>\n      <th>50%</th>\n      <td>0.502360</td>\n      <td>0.250252</td>\n      <td>2.515969</td>\n      <td>91.849972</td>\n    </tr>\n    <tr>\n      <th>75%</th>\n      <td>1.073581</td>\n      <td>0.700646</td>\n      <td>4.715088</td>\n      <td>128.564089</td>\n    </tr>\n    <tr>\n      <th>max</th>\n      <td>2.362331</td>\n      <td>1.343769</td>\n      <td>16.003790</td>\n      <td>185.364347</td>\n    </tr>\n  </tbody>\n</table>\n</div>"
     },
     "metadata": {},
     "output_type": "display_data"
    },
    {
     "name": "stdout",
     "output_type": "stream",
     "text": [
      "\n",
      "\n",
      "-----\n",
      "\n",
      "Кол-во неявных дубликатов в столбце id: 10\n",
      "Кол-во явных дубликатов: 0\n",
      "Кол-во пропусков:\n",
      " id         0\n",
      "f0         0\n",
      "f1         0\n",
      "f2         0\n",
      "product    0\n",
      "dtype: int64\n",
      "\n",
      "-----\n",
      "\n",
      "<class 'pandas.core.frame.DataFrame'>\n",
      "Index: 99980 entries, 0 to 99999\n",
      "Data columns (total 5 columns):\n",
      " #   Column   Non-Null Count  Dtype  \n",
      "---  ------   --------------  -----  \n",
      " 0   id       99980 non-null  object \n",
      " 1   f0       99980 non-null  float64\n",
      " 2   f1       99980 non-null  float64\n",
      " 3   f2       99980 non-null  float64\n",
      " 4   product  99980 non-null  float64\n",
      "dtypes: float64(4), object(1)\n",
      "memory usage: 4.6+ MB\n"
     ]
    },
    {
     "data": {
      "text/plain": "None"
     },
     "metadata": {},
     "output_type": "display_data"
    },
    {
     "data": {
      "text/plain": "<Figure size 640x480 with 1 Axes>",
      "image/png": "[encoded data removed]"
     },
     "metadata": {},
     "output_type": "display_data"
    }
   ],
   "source": [
    "# Инфо о первом датасете\n",
    "get_info(first_geo)"
   ]
  },
  {
   "cell_type": "code",
   "execution_count": 5,
   "metadata": {
    "ExecuteTime": {
     "end_time": "2024-01-19T09:32:21.790869Z",
     "start_time": "2024-01-19T09:32:21.313799Z"
    }
   },
   "outputs": [
    {
     "data": {
      "text/plain": "      id         f0         f1        f2     product\n0  kBEdx -15.001348  -8.276000 -0.005876    3.179103\n1  62mP7  14.272088  -3.475083  0.999183   26.953261\n2  vyE1P   6.263187  -5.948386  5.001160  134.766305\n3  KcrkZ -13.081196 -11.506057  4.999415  137.945408\n4  AHL4O  12.702195  -8.147433  5.004363  134.766305",
      "text/html": "<div>\n<style scoped>\n    .dataframe tbody tr th:only-of-type {\n        vertical-align: middle;\n    }\n\n    .dataframe tbody tr th {\n        vertical-align: top;\n    }\n\n    .dataframe thead th {\n        text-align: right;\n    }\n</style>\n<table border=\"1\" class=\"dataframe\">\n  <thead>\n    <tr style=\"text-align: right;\">\n      <th></th>\n      <th>id</th>\n      <th>f0</th>\n      <th>f1</th>\n      <th>f2</th>\n      <th>product</th>\n    </tr>\n  </thead>\n  <tbody>\n    <tr>\n      <th>0</th>\n      <td>kBEdx</td>\n      <td>-15.001348</td>\n      <td>-8.276000</td>\n      <td>-0.005876</td>\n      <td>3.179103</td>\n    </tr>\n    <tr>\n      <th>1</th>\n      <td>62mP7</td>\n      <td>14.272088</td>\n      <td>-3.475083</td>\n      <td>0.999183</td>\n      <td>26.953261</td>\n    </tr>\n    <tr>\n      <th>2</th>\n      <td>vyE1P</td>\n      <td>6.263187</td>\n      <td>-5.948386</td>\n      <td>5.001160</td>\n      <td>134.766305</td>\n    </tr>\n    <tr>\n      <th>3</th>\n      <td>KcrkZ</td>\n      <td>-13.081196</td>\n      <td>-11.506057</td>\n      <td>4.999415</td>\n      <td>137.945408</td>\n    </tr>\n    <tr>\n      <th>4</th>\n      <td>AHL4O</td>\n      <td>12.702195</td>\n      <td>-8.147433</td>\n      <td>5.004363</td>\n      <td>134.766305</td>\n    </tr>\n  </tbody>\n</table>\n</div>"
     },
     "metadata": {},
     "output_type": "display_data"
    },
    {
     "name": "stdout",
     "output_type": "stream",
     "text": [
      "\n",
      "<class 'pandas.core.frame.DataFrame'>\n",
      "RangeIndex: 100000 entries, 0 to 99999\n",
      "Data columns (total 5 columns):\n",
      " #   Column   Non-Null Count   Dtype  \n",
      "---  ------   --------------   -----  \n",
      " 0   id       100000 non-null  object \n",
      " 1   f0       100000 non-null  float64\n",
      " 2   f1       100000 non-null  float64\n",
      " 3   f2       100000 non-null  float64\n",
      " 4   product  100000 non-null  float64\n",
      "dtypes: float64(4), object(1)\n",
      "memory usage: 3.8+ MB\n"
     ]
    },
    {
     "data": {
      "text/plain": "None"
     },
     "metadata": {},
     "output_type": "display_data"
    },
    {
     "data": {
      "text/plain": "                  f0             f1             f2        product\ncount  100000.000000  100000.000000  100000.000000  100000.000000\nmean        1.141296      -4.796579       2.494541      68.825000\nstd         8.965932       5.119872       1.703572      45.944423\nmin       -31.609576     -26.358598      -0.018144       0.000000\n25%        -6.298551      -8.267985       1.000021      26.953261\n50%         1.153055      -4.813172       2.011479      57.085625\n75%         8.621015      -1.332816       3.999904     107.813044\nmax        29.421755      18.734063       5.019721     137.945408",
      "text/html": "<div>\n<style scoped>\n    .dataframe tbody tr th:only-of-type {\n        vertical-align: middle;\n    }\n\n    .dataframe tbody tr th {\n        vertical-align: top;\n    }\n\n    .dataframe thead th {\n        text-align: right;\n    }\n</style>\n<table border=\"1\" class=\"dataframe\">\n  <thead>\n    <tr style=\"text-align: right;\">\n      <th></th>\n      <th>f0</th>\n      <th>f1</th>\n      <th>f2</th>\n      <th>product</th>\n    </tr>\n  </thead>\n  <tbody>\n    <tr>\n      <th>count</th>\n      <td>100000.000000</td>\n      <td>100000.000000</td>\n      <td>100000.000000</td>\n      <td>100000.000000</td>\n    </tr>\n    <tr>\n      <th>mean</th>\n      <td>1.141296</td>\n      <td>-4.796579</td>\n      <td>2.494541</td>\n      <td>68.825000</td>\n    </tr>\n    <tr>\n      <th>std</th>\n      <td>8.965932</td>\n      <td>5.119872</td>\n      <td>1.703572</td>\n      <td>45.944423</td>\n    </tr>\n    <tr>\n      <th>min</th>\n      <td>-31.609576</td>\n      <td>-26.358598</td>\n      <td>-0.018144</td>\n      <td>0.000000</td>\n    </tr>\n    <tr>\n      <th>25%</th>\n      <td>-6.298551</td>\n      <td>-8.267985</td>\n      <td>1.000021</td>\n      <td>26.953261</td>\n    </tr>\n    <tr>\n      <th>50%</th>\n      <td>1.153055</td>\n      <td>-4.813172</td>\n      <td>2.011479</td>\n      <td>57.085625</td>\n    </tr>\n    <tr>\n      <th>75%</th>\n      <td>8.621015</td>\n      <td>-1.332816</td>\n      <td>3.999904</td>\n      <td>107.813044</td>\n    </tr>\n    <tr>\n      <th>max</th>\n      <td>29.421755</td>\n      <td>18.734063</td>\n      <td>5.019721</td>\n      <td>137.945408</td>\n    </tr>\n  </tbody>\n</table>\n</div>"
     },
     "metadata": {},
     "output_type": "display_data"
    },
    {
     "name": "stdout",
     "output_type": "stream",
     "text": [
      "\n",
      "\n",
      "-----\n",
      "\n",
      "Кол-во неявных дубликатов в столбце id: 4\n",
      "Кол-во явных дубликатов: 0\n",
      "Кол-во пропусков:\n",
      " id         0\n",
      "f0         0\n",
      "f1         0\n",
      "f2         0\n",
      "product    0\n",
      "dtype: int64\n",
      "\n",
      "-----\n",
      "\n",
      "<class 'pandas.core.frame.DataFrame'>\n",
      "Index: 99992 entries, 0 to 99999\n",
      "Data columns (total 5 columns):\n",
      " #   Column   Non-Null Count  Dtype  \n",
      "---  ------   --------------  -----  \n",
      " 0   id       99992 non-null  object \n",
      " 1   f0       99992 non-null  float64\n",
      " 2   f1       99992 non-null  float64\n",
      " 3   f2       99992 non-null  float64\n",
      " 4   product  99992 non-null  float64\n",
      "dtypes: float64(4), object(1)\n",
      "memory usage: 4.6+ MB\n"
     ]
    },
    {
     "data": {
      "text/plain": "None"
     },
     "metadata": {},
     "output_type": "display_data"
    },
    {
     "data": {
      "text/plain": "<Figure size 640x480 with 1 Axes>",
      "image/png": "[encoded data removed]"
     },
     "metadata": {},
     "output_type": "display_data"
    }
   ],
   "source": [
    "# Инфо о втором датасете\n",
    "get_info(second_geo)"
   ]
  },
  {
   "cell_type": "code",
   "execution_count": 6,
   "metadata": {
    "ExecuteTime": {
     "end_time": "2024-01-19T09:32:22.316322Z",
     "start_time": "2024-01-19T09:32:21.793187Z"
    }
   },
   "outputs": [
    {
     "data": {
      "text/plain": "      id        f0        f1        f2     product\n0  fwXo0 -1.146987  0.963328 -0.828965   27.758673\n1  WJtFt  0.262778  0.269839 -2.530187   56.069697\n2  ovLUW  0.194587  0.289035 -5.586433   62.871910\n3  q6cA6  2.236060 -0.553760  0.930038  114.572842\n4  WPMUX -0.515993  1.716266  5.899011  149.600746",
      "text/html": "<div>\n<style scoped>\n    .dataframe tbody tr th:only-of-type {\n        vertical-align: middle;\n    }\n\n    .dataframe tbody tr th {\n        vertical-align: top;\n    }\n\n    .dataframe thead th {\n        text-align: right;\n    }\n</style>\n<table border=\"1\" class=\"dataframe\">\n  <thead>\n    <tr style=\"text-align: right;\">\n      <th></th>\n      <th>id</th>\n      <th>f0</th>\n      <th>f1</th>\n      <th>f2</th>\n      <th>product</th>\n    </tr>\n  </thead>\n  <tbody>\n    <tr>\n      <th>0</th>\n      <td>fwXo0</td>\n      <td>-1.146987</td>\n      <td>0.963328</td>\n      <td>-0.828965</td>\n      <td>27.758673</td>\n    </tr>\n    <tr>\n      <th>1</th>\n      <td>WJtFt</td>\n      <td>0.262778</td>\n      <td>0.269839</td>\n      <td>-2.530187</td>\n      <td>56.069697</td>\n    </tr>\n    <tr>\n      <th>2</th>\n      <td>ovLUW</td>\n      <td>0.194587</td>\n      <td>0.289035</td>\n      <td>-5.586433</td>\n      <td>62.871910</td>\n    </tr>\n    <tr>\n      <th>3</th>\n      <td>q6cA6</td>\n      <td>2.236060</td>\n      <td>-0.553760</td>\n      <td>0.930038</td>\n      <td>114.572842</td>\n    </tr>\n    <tr>\n      <th>4</th>\n      <td>WPMUX</td>\n      <td>-0.515993</td>\n      <td>1.716266</td>\n      <td>5.899011</td>\n      <td>149.600746</td>\n    </tr>\n  </tbody>\n</table>\n</div>"
     },
     "metadata": {},
     "output_type": "display_data"
    },
    {
     "name": "stdout",
     "output_type": "stream",
     "text": [
      "\n",
      "<class 'pandas.core.frame.DataFrame'>\n",
      "RangeIndex: 100000 entries, 0 to 99999\n",
      "Data columns (total 5 columns):\n",
      " #   Column   Non-Null Count   Dtype  \n",
      "---  ------   --------------   -----  \n",
      " 0   id       100000 non-null  object \n",
      " 1   f0       100000 non-null  float64\n",
      " 2   f1       100000 non-null  float64\n",
      " 3   f2       100000 non-null  float64\n",
      " 4   product  100000 non-null  float64\n",
      "dtypes: float64(4), object(1)\n",
      "memory usage: 3.8+ MB\n"
     ]
    },
    {
     "data": {
      "text/plain": "None"
     },
     "metadata": {},
     "output_type": "display_data"
    },
    {
     "data": {
      "text/plain": "                  f0             f1             f2        product\ncount  100000.000000  100000.000000  100000.000000  100000.000000\nmean        0.002023      -0.002081       2.495128      95.000000\nstd         1.732045       1.730417       3.473445      44.749921\nmin        -8.760004      -7.084020     -11.970335       0.000000\n25%        -1.162288      -1.174820       0.130359      59.450441\n50%         0.009424      -0.009482       2.484236      94.925613\n75%         1.158535       1.163678       4.858794     130.595027\nmax         7.238262       7.844801      16.739402     190.029838",
      "text/html": "<div>\n<style scoped>\n    .dataframe tbody tr th:only-of-type {\n        vertical-align: middle;\n    }\n\n    .dataframe tbody tr th {\n        vertical-align: top;\n    }\n\n    .dataframe thead th {\n        text-align: right;\n    }\n</style>\n<table border=\"1\" class=\"dataframe\">\n  <thead>\n    <tr style=\"text-align: right;\">\n      <th></th>\n      <th>f0</th>\n      <th>f1</th>\n      <th>f2</th>\n      <th>product</th>\n    </tr>\n  </thead>\n  <tbody>\n    <tr>\n      <th>count</th>\n      <td>100000.000000</td>\n      <td>100000.000000</td>\n      <td>100000.000000</td>\n      <td>100000.000000</td>\n    </tr>\n    <tr>\n      <th>mean</th>\n      <td>0.002023</td>\n      <td>-0.002081</td>\n      <td>2.495128</td>\n      <td>95.000000</td>\n    </tr>\n    <tr>\n      <th>std</th>\n      <td>1.732045</td>\n      <td>1.730417</td>\n      <td>3.473445</td>\n      <td>44.749921</td>\n    </tr>\n    <tr>\n      <th>min</th>\n      <td>-8.760004</td>\n      <td>-7.084020</td>\n      <td>-11.970335</td>\n      <td>0.000000</td>\n    </tr>\n    <tr>\n      <th>25%</th>\n      <td>-1.162288</td>\n      <td>-1.174820</td>\n      <td>0.130359</td>\n      <td>59.450441</td>\n    </tr>\n    <tr>\n      <th>50%</th>\n      <td>0.009424</td>\n      <td>-0.009482</td>\n      <td>2.484236</td>\n      <td>94.925613</td>\n    </tr>\n    <tr>\n      <th>75%</th>\n      <td>1.158535</td>\n      <td>1.163678</td>\n      <td>4.858794</td>\n      <td>130.595027</td>\n    </tr>\n    <tr>\n      <th>max</th>\n      <td>7.238262</td>\n      <td>7.844801</td>\n      <td>16.739402</td>\n      <td>190.029838</td>\n    </tr>\n  </tbody>\n</table>\n</div>"
     },
     "metadata": {},
     "output_type": "display_data"
    },
    {
     "name": "stdout",
     "output_type": "stream",
     "text": [
      "\n",
      "\n",
      "-----\n",
      "\n",
      "Кол-во неявных дубликатов в столбце id: 4\n",
      "Кол-во явных дубликатов: 0\n",
      "Кол-во пропусков:\n",
      " id         0\n",
      "f0         0\n",
      "f1         0\n",
      "f2         0\n",
      "product    0\n",
      "dtype: int64\n",
      "\n",
      "-----\n",
      "\n",
      "<class 'pandas.core.frame.DataFrame'>\n",
      "Index: 99992 entries, 0 to 99999\n",
      "Data columns (total 5 columns):\n",
      " #   Column   Non-Null Count  Dtype  \n",
      "---  ------   --------------  -----  \n",
      " 0   id       99992 non-null  object \n",
      " 1   f0       99992 non-null  float64\n",
      " 2   f1       99992 non-null  float64\n",
      " 3   f2       99992 non-null  float64\n",
      " 4   product  99992 non-null  float64\n",
      "dtypes: float64(4), object(1)\n",
      "memory usage: 4.6+ MB\n"
     ]
    },
    {
     "data": {
      "text/plain": "None"
     },
     "metadata": {},
     "output_type": "display_data"
    },
    {
     "data": {
      "text/plain": "<Figure size 640x480 with 1 Axes>",
      "image/png": "[encoded data removed]"
     },
     "metadata": {},
     "output_type": "display_data"
    }
   ],
   "source": [
    "# Инфо о третьем датасете\n",
    "get_info(third_geo)"
   ]
  },
  {
   "cell_type": "markdown",
   "metadata": {},
   "source": [
    "---\n",
    "**Вывод по изучению общей информации:**\n",
    "- Данные в порядке и готовы к дальнейшей работе\n",
    "- Пропущенных значений не обнаружено\n",
    "- Явные дубликаты не обнаружены\n",
    "- Убраны неявные дубликаты из столбца `[id]`:\n",
    "    - 20 строк из `first_geo`\n",
    "    - 8 строк из `second_geo`\n",
    "    - 8 строки из `third_geo`\n",
    "- Типы данных - в порядке\n",
    "- Наблюдается сильная зависимость между признаками `f2` и `product`. Стоит разобраться в качестве предоставленных данных\n",
    "- Распределение целевой переменной `product` во втором регионе очень сомнительно. \n",
    "\n",
    "\n",
    "---"
   ]
  },
  {
   "cell_type": "markdown",
   "metadata": {},
   "source": [
    "### Подготовка данных для обучения модели"
   ]
  },
  {
   "cell_type": "code",
   "execution_count": 7,
   "metadata": {
    "ExecuteTime": {
     "end_time": "2024-01-19T09:32:22.316472Z",
     "start_time": "2024-01-19T09:32:22.299553Z"
    }
   },
   "outputs": [],
   "source": [
    "# Индексируем выборки\n",
    "first_geo = first_geo.set_index('id')\n",
    "second_geo = second_geo.set_index('id')\n",
    "third_geo = third_geo.set_index('id')\n",
    "\n",
    "# Избавляемся от целевого признака\n",
    "features_first_geo = first_geo.drop('product', axis=1)\n",
    "features_second_geo = second_geo.drop('product', axis=1)\n",
    "features_third_geo = third_geo.drop('product', axis=1)\n",
    "\n",
    "# Выделяем целевые признаки\n",
    "target_first_geo = first_geo['product']\n",
    "target_second_geo = second_geo['product']\n",
    "target_third_geo = third_geo['product']"
   ]
  },
  {
   "cell_type": "markdown",
   "metadata": {},
   "source": [
    "## Обучение и проверка модели"
   ]
  },
  {
   "cell_type": "markdown",
   "metadata": {},
   "source": [
    "### Обучение модели `LinearRegression`"
   ]
  },
  {
   "cell_type": "markdown",
   "metadata": {},
   "source": [
    "---\n",
    "- Поскольку мы имеем три схожих датасэта, думаю, имеет смысл написать **единую функцию** для обучения моделей\n",
    "- Пользуяюсь условием: для обучения модели подходит только `LinearRegression` (остальные — недостаточно предсказуемые)\n",
    "- Не забудем применить **стандартизацию** для количественных переменных для каждой разделенной выборки\n",
    "- За ключевую метрику для регрессионной модели возьмем `RMSE`, которая точнее остальных покажет фактическое отклонение от реальных значений\n",
    "\n",
    "---"
   ]
  },
  {
   "cell_type": "code",
   "execution_count": 8,
   "metadata": {
    "ExecuteTime": {
     "end_time": "2024-01-19T09:32:22.316686Z",
     "start_time": "2024-01-19T09:32:22.306898Z"
    }
   },
   "outputs": [],
   "source": [
    "# Функция для обучения модели\n",
    "def machine_learning(features, target, region): \n",
    "    \n",
    "    \"\"\"\n",
    "    Функция убирает лишний столбец из нецелевых признаков, разделяет загруженный набор данных на обучающую и валидационные выборки в \n",
    "    соотношении 75:25, применяет стандартизацию для всех выборок по количественным признакам, обучает модель линейной регрессии,\n",
    "    записывает предсказания модели, выводит на экран средний запас сырья в определенном регионе и среднюю квадратичную ошибку модели.\n",
    "    \n",
    "    ----------\n",
    "    PARAMETERS\n",
    "    ----------\n",
    "    features: Pandas Dataframe\n",
    "        Изначальный набор нецелевых признаков (региона).\n",
    "    target: Pandas Series\n",
    "        Набор целевых признаков (региона)\n",
    "    region: str\n",
    "        Название региона\n",
    "        \n",
    "    -------\n",
    "    RETURNS\n",
    "    -------\n",
    "    - Предсказания модели: pd.Series\n",
    "    - Правильные ответы модели (target): pd.Series\n",
    "    - Датафрейм с предсказаниями и правильным ответами модели: pd.DataFrame\n",
    "    \"\"\"\n",
    "    \n",
    "    features_train, features_valid, target_train, target_valid = train_test_split(\n",
    "        features,\n",
    "        target,\n",
    "        random_state=12345,\n",
    "        test_size=0.25,\n",
    "    )\n",
    "    scaler = StandardScaler()\n",
    "    numerics = ['f0', 'f1', 'f2']\n",
    "    features_train[numerics] = scaler.fit_transform(features_train[numerics])\n",
    "    features_valid[numerics] = scaler.transform(features_valid[numerics])\n",
    "    \n",
    "    model = LinearRegression()\n",
    "    model.fit(features_train, target_train)\n",
    "    predicted = model.predict(features_valid)\n",
    "    \n",
    "    print(f'Средний запас сырья в {region}:', predicted.mean())\n",
    "    print('RMSE модели:', mean_squared_error(target_valid, predicted, squared=False))\n",
    "    print('------')\n",
    "    \n",
    "    df = pd.DataFrame([], columns=['correct', 'predicted'])\n",
    "    df['correct'] = target_valid\n",
    "    df['predicted'] = predicted\n",
    "    \n",
    "    return pd.Series(predicted), pd.Series(target_valid), df\n"
   ]
  },
  {
   "cell_type": "code",
   "execution_count": 9,
   "metadata": {
    "ExecuteTime": {
     "end_time": "2024-01-19T09:32:22.376405Z",
     "start_time": "2024-01-19T09:32:22.313765Z"
    }
   },
   "outputs": [
    {
     "name": "stdout",
     "output_type": "stream",
     "text": [
      "Средний запас сырья в first_region: 92.59256778438035\n",
      "RMSE модели: 37.5794217150813\n",
      "------\n",
      "Средний запас сырья в second_region: 68.728546895446\n",
      "RMSE модели: 0.8930992867756167\n",
      "------\n",
      "Средний запас сырья в third_region: 94.96504596800489\n",
      "RMSE модели: 40.02970873393434\n",
      "------\n"
     ]
    }
   ],
   "source": [
    "# Обучаем модели и сохраняем результаты\n",
    "predicted_first_geo, correct_first_geo, df_first_geo = machine_learning(features_first_geo, target_first_geo, 'first_region')\n",
    "predicted_second_geo, correct_second_geo, df_second_geo = machine_learning(features_second_geo, target_second_geo, 'second_region')\n",
    "predicted_third_geo, correct_third_geo, df_third_geo = machine_learning(features_third_geo, target_third_geo, 'third_region')\n",
    "\n",
    "# Сохраняем индексацию предсказанных и реальных значений\n",
    "predicted_first_geo.index = correct_first_geo.index\n",
    "predicted_second_geo.index = correct_second_geo.index\n",
    "predicted_third_geo.index = correct_third_geo.index"
   ]
  },
  {
   "cell_type": "code",
   "execution_count": 10,
   "metadata": {
    "ExecuteTime": {
     "end_time": "2024-01-19T09:32:22.386501Z",
     "start_time": "2024-01-19T09:32:22.376947Z"
    }
   },
   "outputs": [
    {
     "data": {
      "text/plain": "(25000,)"
     },
     "metadata": {},
     "output_type": "display_data"
    },
    {
     "data": {
      "text/plain": "(25000,)"
     },
     "metadata": {},
     "output_type": "display_data"
    },
    {
     "data": {
      "text/plain": "          correct  predicted\nid                          \n7Z2gx   10.038645  95.894952\nb2HU8  114.551489  77.572583\nY0dXD  132.603635  77.892640\nMje59  169.072125  90.175134\nyqXxU  122.325180  70.510088",
      "text/html": "<div>\n<style scoped>\n    .dataframe tbody tr th:only-of-type {\n        vertical-align: middle;\n    }\n\n    .dataframe tbody tr th {\n        vertical-align: top;\n    }\n\n    .dataframe thead th {\n        text-align: right;\n    }\n</style>\n<table border=\"1\" class=\"dataframe\">\n  <thead>\n    <tr style=\"text-align: right;\">\n      <th></th>\n      <th>correct</th>\n      <th>predicted</th>\n    </tr>\n    <tr>\n      <th>id</th>\n      <th></th>\n      <th></th>\n    </tr>\n  </thead>\n  <tbody>\n    <tr>\n      <th>7Z2gx</th>\n      <td>10.038645</td>\n      <td>95.894952</td>\n    </tr>\n    <tr>\n      <th>b2HU8</th>\n      <td>114.551489</td>\n      <td>77.572583</td>\n    </tr>\n    <tr>\n      <th>Y0dXD</th>\n      <td>132.603635</td>\n      <td>77.892640</td>\n    </tr>\n    <tr>\n      <th>Mje59</th>\n      <td>169.072125</td>\n      <td>90.175134</td>\n    </tr>\n    <tr>\n      <th>yqXxU</th>\n      <td>122.325180</td>\n      <td>70.510088</td>\n    </tr>\n  </tbody>\n</table>\n</div>"
     },
     "metadata": {},
     "output_type": "display_data"
    }
   ],
   "source": [
    "display(predicted_first_geo.shape)\n",
    "display(correct_first_geo.shape)\n",
    "display(df_first_geo.head())"
   ]
  },
  {
   "cell_type": "markdown",
   "metadata": {},
   "source": [
    "---\n",
    "**Выводы по обучению модели:**\n",
    "- Лучше всех себя показала  модель в предсказаниях *на втором регионе*: `RMSE = 0.893099286775617`!\n",
    "- Самое крупное значение среднего запаса сырья, однако же - *в третьем регионе*: `94.96504596800489`\n",
    "\n",
    "---"
   ]
  },
  {
   "cell_type": "markdown",
   "metadata": {},
   "source": [
    "## Подготовка к расчёту прибыли"
   ]
  },
  {
   "cell_type": "code",
   "execution_count": 11,
   "metadata": {
    "ExecuteTime": {
     "end_time": "2024-01-19T09:32:22.386641Z",
     "start_time": "2024-01-19T09:32:22.381848Z"
    }
   },
   "outputs": [],
   "source": [
    "# Зададим константы для основных значений\n",
    "TOTAL_BUDGET = 10000000000\n",
    "SELECTING_WELLS_COUNT = 500\n",
    "BEST_WELLS_COUNT = 200\n",
    "INCOME_FROM_ONE_UNIT = 450000"
   ]
  },
  {
   "cell_type": "code",
   "execution_count": 12,
   "metadata": {
    "ExecuteTime": {
     "end_time": "2024-01-19T09:32:22.386951Z",
     "start_time": "2024-01-19T09:32:22.384100Z"
    }
   },
   "outputs": [
    {
     "name": "stdout",
     "output_type": "stream",
     "text": [
      "Необходимое кол-во единиц продукта для безубыточности: 111.11111111111111\n"
     ]
    }
   ],
   "source": [
    "NEEDED_VOLUME = TOTAL_BUDGET / BEST_WELLS_COUNT / INCOME_FROM_ONE_UNIT\n",
    "print(f'Необходимое кол-во единиц продукта для безубыточности: {NEEDED_VOLUME}')"
   ]
  },
  {
   "cell_type": "code",
   "execution_count": 13,
   "metadata": {
    "ExecuteTime": {
     "end_time": "2024-01-19T09:32:22.391345Z",
     "start_time": "2024-01-19T09:32:22.386128Z"
    }
   },
   "outputs": [],
   "source": [
    "# Создадим функцию для расчета прибыли\n",
    "def revenue_count(target_sample, probabilities_sample, INCOME_FROM_ONE_UNIT, TOTAL_BUDGET):\n",
    "    \"\"\"\n",
    "    Функция считает прибыль с отобранных лучших 200х скважин.\n",
    "\n",
    "    ----------\n",
    "    PARAMETERS\n",
    "    ----------\n",
    "    target_sample: Pandas Series\n",
    "        Выборка таргета из 500 скважин\n",
    "    probabilities_sample: Pandas Series\n",
    "        Соответствующие target_sample по индексу предсказанные ответы модели\n",
    "    INCOME_FROM_ONE_UNIT: int\n",
    "        Доход с единицы продукта.\n",
    "    TOTAL_BUDGET: int\n",
    "        Общий бюджет;\n",
    "        \n",
    "    -------\n",
    "    RETURNS\n",
    "    -------\n",
    "    - Прибыль с отобранных скважин: int\n",
    "    \"\"\"\n",
    "    probs_200_best = probabilities_sample.sort_values(ascending=False).head(200)\n",
    "    selected = target_sample[probs_200_best.index]\n",
    "    return selected.sum() * INCOME_FROM_ONE_UNIT - TOTAL_BUDGET"
   ]
  },
  {
   "cell_type": "markdown",
   "metadata": {},
   "source": [
    "---\n",
    "**Вывод по подготовке к расчету прибыли:**\n",
    "- Задали основные константы для выполнения условий исследования\n",
    "- Необходимое кол-во единиц продукта для безубыточности: `111.11111111111111`\n",
    "- На данный момент, самое крупное предсказанное значение среднего запас сырья (в третьем регионе) - `94.96504596800489` - не дотягивает до безубыточного производства. В том числе и первый, и второй регион не приближаются по значению среднего запаса сырья к расчитанному безубыточному значению. Это рискованно, в связи с чем переходим к следующему этапу\n",
    "- Создали функцию для подсчета прибыли в лучших отобранных скважинах\n",
    "---"
   ]
  },
  {
   "cell_type": "markdown",
   "metadata": {},
   "source": [
    "## Расчёт прибыли и рисков "
   ]
  },
  {
   "cell_type": "code",
   "execution_count": 14,
   "metadata": {
    "ExecuteTime": {
     "end_time": "2024-01-19T09:32:22.394978Z",
     "start_time": "2024-01-19T09:32:22.392656Z"
    }
   },
   "outputs": [],
   "source": [
    "# Bootstrap\n",
    "def bootstrap(target, probabilities, INCOME_FROM_ONE_UNIT, TOTAL_BUDGET, region):\n",
    "    state = np.random.RandomState(12345)\n",
    "    values = []\n",
    "     \n",
    "    for i in range(1000):\n",
    "        target_subsample = target.sample(n=SELECTING_WELLS_COUNT, replace=True, random_state=state)\n",
    "        probs_subsample = probabilities[target_subsample.index]\n",
    "        profit = revenue_count(target_subsample, probs_subsample, INCOME_FROM_ONE_UNIT, TOTAL_BUDGET)\n",
    "        values.append(profit)\n",
    "        \n",
    "    values = pd.Series(values)\n",
    "    mean_profit = values.mean()\n",
    "    lower = values.quantile(0.025)\n",
    "    upper = values.quantile(0.975)\n",
    "    \n",
    "    print(f'ДЛЯ РЕГИОНА {region.upper()}:')\n",
    "    print('Средняя прибыль:', mean_profit / 1000000, 'млн')\n",
    "    print('Нижняя граница:', lower / 1000000, 'млн')\n",
    "    print('Верхняя граница:', upper/ 1000000, 'млн')\n",
    "    print(f'Риск убытка: {(len(values[values < 0]) / len(values)):.2%}')\n",
    "    print('---')"
   ]
  },
  {
   "cell_type": "code",
   "execution_count": 15,
   "metadata": {
    "scrolled": false,
    "ExecuteTime": {
     "end_time": "2024-01-19T09:32:24.345184Z",
     "start_time": "2024-01-19T09:32:22.395359Z"
    }
   },
   "outputs": [
    {
     "name": "stdout",
     "output_type": "stream",
     "text": [
      "ДЛЯ РЕГИОНА FIRST_REGION:\n",
      "Средняя прибыль: 600.7352442611652 млн\n",
      "Нижняя граница: 12.948331135115241 млн\n",
      "Верхняя граница: 1231.1636057914982 млн\n",
      "Риск убытка: 2.00%\n",
      "---\n",
      "ДЛЯ РЕГИОНА SECOND_REGION:\n",
      "Средняя прибыль: 665.2410582210723 млн\n",
      "Нижняя граница: 157.98848131991573 млн\n",
      "Верхняя граница: 1197.641587463152 млн\n",
      "Риск убытка: 0.30%\n",
      "---\n",
      "ДЛЯ РЕГИОНА THIRD_REGION:\n",
      "Средняя прибыль: 615.5597228409678 млн\n",
      "Нижняя граница: -12.218495237293952 млн\n",
      "Верхняя граница: 1230.644473941316 млн\n",
      "Риск убытка: 3.00%\n",
      "---\n"
     ]
    }
   ],
   "source": [
    "bootstrap(correct_first_geo, predicted_first_geo, INCOME_FROM_ONE_UNIT, TOTAL_BUDGET, 'first_region')\n",
    "bootstrap(correct_second_geo, predicted_second_geo, INCOME_FROM_ONE_UNIT, TOTAL_BUDGET, 'second_region')\n",
    "bootstrap(correct_third_geo, predicted_third_geo, INCOME_FROM_ONE_UNIT, TOTAL_BUDGET, 'third_region')"
   ]
  },
  {
   "cell_type": "markdown",
   "metadata": {},
   "source": [
    "---\n",
    "**Выводы по окончательному расчету прибыли и рисков:**\n",
    "\n",
    "`Предлагаю выбрать регион номер 2`:\n",
    "- Маленький риск убытков - **0.3%** *(< 2.5% по условию заказчика)*\n",
    "- Самая высокая средняя прибыль **~665 млн**\n",
    "\n",
    "---"
   ]
  },
  {
   "cell_type": "markdown",
   "metadata": {},
   "source": [
    "## Общий вывод по исследованию"
   ]
  },
  {
   "cell_type": "markdown",
   "metadata": {},
   "source": [
    "---\n",
    "**В результате исследования была построена модель машинного обучения, способная определить регион, где добыча принесет наибольшую прибыль. В ходе анализа рисков и прибыли при помощи метода `Bootstrap` были сделаны следующие выводы:**\n",
    "\n",
    "- Рекомендация по выбору региона - **`регион номер 2`**\n",
    "- В нем предсказан маленький **`риск убытков - 0.3%%`** *(VS 2% в первом регионе и 3% в третьем регионе)*\n",
    "- Регион может в среднем принести **`~665 млн прибыли`** *(VS 600 млн в первом регионе и 615 млн в третьем регионе)*\n",
    "---\n",
    "\n",
    "*Исследование было разделено на несколько этапов:*\n",
    "\n",
    "**1. Загрузка и подготовка данных:**\n",
    "- ***Изучение общей информации***\n",
    "    - Импортировали нужные библиотеки и загрузили 3 датасэта: `first_geo`, `second_geo` и `third_geo`\n",
    "    - Написали функцию `get_info` для получения общей информации о данных\n",
    "    - Определили, что данные в порядке и готовы к дальнейшей работе\n",
    "    - Пропущенные значения и явные дубликаты в данных не были обнаружены\n",
    "    - Убраны неявные дубликаты из столбца `[id]`:\n",
    "        - 20 строк из `first_geo`\n",
    "        - 8 строк из `second_geo`\n",
    "        - 8 строки из `third_geo`\n",
    "    - Типы данных - тоже в порядке\n",
    "    - Наблюдали сильную зависимость между признаками `f2` и `product`. Стоит разобраться в качестве предоставленных данных\n",
    "    \n",
    "    \n",
    "- ***Подготовка данных для обучение модели:***\n",
    "    - Выделили нецелевые и целевой признаки в данных\n",
    "    - Проиндексировали выборки\n",
    "\n",
    "\n",
    "\n",
    "**2. Обучение и проверка модели**\n",
    "- ***Написали функцию для обучения модели `LinearRegression`, которая:***\n",
    "    - убирает лишний столбец из нецелевых признаков \n",
    "    - разделяет загруженный набор данных на обучающую и валидационные выборки в соотношении 75:25\n",
    "    - применяет стандартизацию для всех выборок по количественным признакам\n",
    "    - обучает модель линейной регрессии\n",
    "    - записывает предсказания модели \n",
    "    - выводит на экран средний запас сырья в определенном регионе и среднюю квадратичную ошибку (RMSE) модели\n",
    "- Лучше всех себя показала модель в предсказаниях на втором регионе: **`RMSE`** - `0.8902801001028846`\n",
    "- Самое **крупное значение среднего запаса сырья** - в третьем регионе: `94.96504596800489`\n",
    "\n",
    "**3. Подготовка к расчету прибыли**\n",
    "- Задали основные константы для выполнения условий исследования\n",
    "- *Необходимое кол-во единиц продукта для безубыточности: `111.11111111111111`*\n",
    "- На данный момент, самое крупное предсказанное значение среднего запас сырья (в третьем регионе) - **94.96504596800489 - не дотягивает до безубыточного производства**. В том числе и первый, и второй регион не приближаются по значению среднего запаса сырья к расчитанному безубыточному значению, что рискованно. \n",
    "- Создали функцию `revenue_count` для подсчета прибыли в лучших отобранных скважинах\n",
    "\n",
    "**4. Расчет прибыли и рисков**\n",
    "- Применили метод `Bootstrap`:\n",
    "    - 1000 раз создали выборки из 500 скважин и посчитали необходимые метрики\n",
    "- **Лучшим приняли для рекомендации `второй регион`, его показатели:**\n",
    "    - Средняя прибыль: 665.2410582210723 млн\n",
    "    - Нижняя граница: 157.98848131991573 млн\n",
    "    - Верхняя граница: 1197.641587463152 млн\n",
    "    - Риск убытка: **0.30%**\n",
    "\n",
    "---"
   ]
  }
 ],
 "metadata": {
  "ExecuteTimeLog": [
   {
    "duration": 427,
    "start_time": "2023-09-21T16:48:17.019Z"
   },
   {
    "duration": 851,
    "start_time": "2023-09-21T16:49:37.444Z"
   },
   {
    "duration": 423,
    "start_time": "2023-09-21T16:50:08.132Z"
   },
   {
    "duration": 32,
    "start_time": "2023-09-21T16:50:25.665Z"
   },
   {
    "duration": 22,
    "start_time": "2023-09-21T16:50:34.468Z"
   },
   {
    "duration": 1433,
    "start_time": "2023-09-21T17:12:10.323Z"
   },
   {
    "duration": 7,
    "start_time": "2023-09-21T17:13:53.568Z"
   },
   {
    "duration": 501,
    "start_time": "2023-09-21T17:13:56.096Z"
   },
   {
    "duration": 24,
    "start_time": "2023-09-21T17:13:56.599Z"
   },
   {
    "duration": 469,
    "start_time": "2023-09-21T17:15:03.747Z"
   },
   {
    "duration": 23,
    "start_time": "2023-09-21T17:15:10.994Z"
   },
   {
    "duration": 0,
    "start_time": "2023-09-21T18:10:36.662Z"
   },
   {
    "duration": 0,
    "start_time": "2023-09-21T18:10:36.664Z"
   },
   {
    "duration": 0,
    "start_time": "2023-09-21T18:10:36.666Z"
   },
   {
    "duration": 4,
    "start_time": "2023-09-21T18:11:06.831Z"
   },
   {
    "duration": 4,
    "start_time": "2023-09-21T18:11:42.119Z"
   },
   {
    "duration": 240,
    "start_time": "2023-09-21T18:11:49.069Z"
   },
   {
    "duration": 3,
    "start_time": "2023-09-21T18:12:07.206Z"
   },
   {
    "duration": 3,
    "start_time": "2023-09-21T18:12:07.742Z"
   },
   {
    "duration": 120,
    "start_time": "2023-09-21T18:12:07.893Z"
   },
   {
    "duration": 13,
    "start_time": "2023-09-21T18:12:24.245Z"
   },
   {
    "duration": 97,
    "start_time": "2023-09-21T18:12:25.300Z"
   },
   {
    "duration": 4,
    "start_time": "2023-09-21T18:13:10.600Z"
   },
   {
    "duration": 139,
    "start_time": "2023-09-21T18:13:10.692Z"
   },
   {
    "duration": 19,
    "start_time": "2023-09-21T18:13:35.180Z"
   },
   {
    "duration": 21,
    "start_time": "2023-09-21T18:14:14.166Z"
   },
   {
    "duration": 11,
    "start_time": "2023-09-21T18:14:17.025Z"
   },
   {
    "duration": 15,
    "start_time": "2023-09-21T18:14:20.292Z"
   },
   {
    "duration": 17,
    "start_time": "2023-09-21T18:14:22.681Z"
   },
   {
    "duration": 14,
    "start_time": "2023-09-21T18:14:34.736Z"
   },
   {
    "duration": 6,
    "start_time": "2023-09-21T18:14:37.135Z"
   },
   {
    "duration": 195,
    "start_time": "2023-09-21T18:15:07.922Z"
   },
   {
    "duration": 211,
    "start_time": "2023-09-21T18:15:25.679Z"
   },
   {
    "duration": 123,
    "start_time": "2023-09-21T18:15:30.299Z"
   },
   {
    "duration": 4,
    "start_time": "2023-09-21T18:15:47.229Z"
   },
   {
    "duration": 241,
    "start_time": "2023-09-21T18:15:51.540Z"
   },
   {
    "duration": 150,
    "start_time": "2023-09-21T18:15:59.890Z"
   },
   {
    "duration": 3,
    "start_time": "2023-09-21T18:16:42.483Z"
   },
   {
    "duration": 1704,
    "start_time": "2023-09-21T18:17:13.475Z"
   },
   {
    "duration": 590,
    "start_time": "2023-09-21T18:17:15.186Z"
   },
   {
    "duration": 7,
    "start_time": "2023-09-21T18:17:15.789Z"
   },
   {
    "duration": 185,
    "start_time": "2023-09-21T18:17:15.798Z"
   },
   {
    "duration": 180,
    "start_time": "2023-09-21T18:17:15.984Z"
   },
   {
    "duration": 153,
    "start_time": "2023-09-21T18:17:16.170Z"
   },
   {
    "duration": 10,
    "start_time": "2023-09-21T18:17:40.850Z"
   },
   {
    "duration": 4,
    "start_time": "2023-09-21T18:17:51.910Z"
   },
   {
    "duration": 4,
    "start_time": "2023-09-21T18:17:53.009Z"
   },
   {
    "duration": 129,
    "start_time": "2023-09-21T18:17:53.138Z"
   },
   {
    "duration": 111,
    "start_time": "2023-09-21T18:17:53.316Z"
   },
   {
    "duration": 14,
    "start_time": "2023-09-21T18:17:53.477Z"
   },
   {
    "duration": 125,
    "start_time": "2023-09-21T18:17:56.088Z"
   },
   {
    "duration": 130,
    "start_time": "2023-09-21T18:18:17.981Z"
   },
   {
    "duration": 49,
    "start_time": "2023-09-25T12:00:52.136Z"
   },
   {
    "duration": 1241,
    "start_time": "2023-09-25T12:01:02.336Z"
   },
   {
    "duration": 797,
    "start_time": "2023-09-25T12:01:03.579Z"
   },
   {
    "duration": 3,
    "start_time": "2023-09-25T12:01:04.378Z"
   },
   {
    "duration": 201,
    "start_time": "2023-09-25T12:01:04.383Z"
   },
   {
    "duration": 0,
    "start_time": "2023-09-25T12:01:04.586Z"
   },
   {
    "duration": 0,
    "start_time": "2023-09-25T12:01:04.587Z"
   },
   {
    "duration": 0,
    "start_time": "2023-09-25T12:01:04.589Z"
   },
   {
    "duration": 9,
    "start_time": "2023-09-25T12:02:16.831Z"
   },
   {
    "duration": 15,
    "start_time": "2023-09-25T12:02:22.612Z"
   },
   {
    "duration": 11,
    "start_time": "2023-09-25T12:02:22.733Z"
   },
   {
    "duration": 1337,
    "start_time": "2023-09-25T12:02:30.149Z"
   },
   {
    "duration": 393,
    "start_time": "2023-09-25T12:02:31.488Z"
   },
   {
    "duration": 3,
    "start_time": "2023-09-25T12:02:31.883Z"
   },
   {
    "duration": 195,
    "start_time": "2023-09-25T12:02:31.887Z"
   },
   {
    "duration": 0,
    "start_time": "2023-09-25T12:02:32.083Z"
   },
   {
    "duration": 0,
    "start_time": "2023-09-25T12:02:32.084Z"
   },
   {
    "duration": 0,
    "start_time": "2023-09-25T12:02:32.085Z"
   },
   {
    "duration": 0,
    "start_time": "2023-09-25T12:02:32.086Z"
   },
   {
    "duration": 9,
    "start_time": "2023-09-25T12:02:39.570Z"
   },
   {
    "duration": 1507,
    "start_time": "2023-09-25T12:02:46.984Z"
   },
   {
    "duration": 386,
    "start_time": "2023-09-25T12:02:48.493Z"
   },
   {
    "duration": 4,
    "start_time": "2023-09-25T12:02:48.880Z"
   },
   {
    "duration": 181,
    "start_time": "2023-09-25T12:02:48.885Z"
   },
   {
    "duration": 0,
    "start_time": "2023-09-25T12:02:49.068Z"
   },
   {
    "duration": 0,
    "start_time": "2023-09-25T12:02:49.070Z"
   },
   {
    "duration": 0,
    "start_time": "2023-09-25T12:02:49.071Z"
   },
   {
    "duration": 0,
    "start_time": "2023-09-25T12:02:49.072Z"
   },
   {
    "duration": 1262,
    "start_time": "2023-09-25T12:03:06.516Z"
   },
   {
    "duration": 388,
    "start_time": "2023-09-25T12:03:07.780Z"
   },
   {
    "duration": 3,
    "start_time": "2023-09-25T12:03:08.170Z"
   },
   {
    "duration": 4281,
    "start_time": "2023-09-25T12:03:08.175Z"
   },
   {
    "duration": 4607,
    "start_time": "2023-09-25T12:03:12.457Z"
   },
   {
    "duration": 1221,
    "start_time": "2023-09-25T12:03:39.871Z"
   },
   {
    "duration": 399,
    "start_time": "2023-09-25T12:03:41.094Z"
   },
   {
    "duration": 3,
    "start_time": "2023-09-25T12:03:41.495Z"
   },
   {
    "duration": 148,
    "start_time": "2023-09-25T12:03:41.500Z"
   },
   {
    "duration": 103,
    "start_time": "2023-09-25T12:03:41.650Z"
   },
   {
    "duration": 103,
    "start_time": "2023-09-25T12:03:41.754Z"
   },
   {
    "duration": 10,
    "start_time": "2023-09-25T12:03:41.859Z"
   },
   {
    "duration": 36,
    "start_time": "2023-09-25T12:03:41.871Z"
   },
   {
    "duration": 122,
    "start_time": "2023-09-25T12:08:50.773Z"
   },
   {
    "duration": 110,
    "start_time": "2023-09-25T12:08:58.273Z"
   },
   {
    "duration": 17,
    "start_time": "2023-09-25T12:09:13.197Z"
   },
   {
    "duration": 16,
    "start_time": "2023-09-25T12:09:52.225Z"
   },
   {
    "duration": 9,
    "start_time": "2023-09-25T12:09:52.639Z"
   },
   {
    "duration": 17,
    "start_time": "2023-09-25T12:10:47.311Z"
   },
   {
    "duration": 31,
    "start_time": "2023-09-25T12:10:47.330Z"
   },
   {
    "duration": 7,
    "start_time": "2023-09-25T12:10:58.701Z"
   },
   {
    "duration": 1740,
    "start_time": "2023-09-25T17:43:45.734Z"
   },
   {
    "duration": 1499,
    "start_time": "2023-09-25T17:43:51.231Z"
   },
   {
    "duration": 2217,
    "start_time": "2023-09-25T17:43:52.733Z"
   },
   {
    "duration": 3,
    "start_time": "2023-09-25T17:43:54.952Z"
   },
   {
    "duration": 143,
    "start_time": "2023-09-25T17:43:54.957Z"
   },
   {
    "duration": 123,
    "start_time": "2023-09-25T17:43:55.102Z"
   },
   {
    "duration": 141,
    "start_time": "2023-09-25T17:43:55.227Z"
   },
   {
    "duration": 16,
    "start_time": "2023-09-25T17:43:55.370Z"
   },
   {
    "duration": 10,
    "start_time": "2023-09-25T18:03:01.321Z"
   },
   {
    "duration": 5,
    "start_time": "2023-09-25T18:03:11.653Z"
   },
   {
    "duration": 1692,
    "start_time": "2023-09-29T12:41:48.689Z"
   },
   {
    "duration": 824,
    "start_time": "2023-09-29T12:41:50.384Z"
   },
   {
    "duration": 4,
    "start_time": "2023-09-29T12:41:51.209Z"
   },
   {
    "duration": 130,
    "start_time": "2023-09-29T12:41:51.215Z"
   },
   {
    "duration": 113,
    "start_time": "2023-09-29T12:41:51.347Z"
   },
   {
    "duration": 132,
    "start_time": "2023-09-29T12:41:51.461Z"
   },
   {
    "duration": 16,
    "start_time": "2023-09-29T12:41:51.594Z"
   },
   {
    "duration": 9,
    "start_time": "2023-09-29T12:41:51.612Z"
   },
   {
    "duration": 138,
    "start_time": "2023-09-29T12:41:51.623Z"
   },
   {
    "duration": 0,
    "start_time": "2023-09-29T12:41:51.763Z"
   },
   {
    "duration": 13,
    "start_time": "2023-09-29T12:41:59.008Z"
   },
   {
    "duration": 5,
    "start_time": "2023-09-29T12:42:07.589Z"
   },
   {
    "duration": 13,
    "start_time": "2023-09-29T12:42:07.988Z"
   },
   {
    "duration": 6,
    "start_time": "2023-09-29T12:42:34.668Z"
   },
   {
    "duration": 36,
    "start_time": "2023-09-29T12:42:35.138Z"
   },
   {
    "duration": 6,
    "start_time": "2023-09-29T12:43:02.308Z"
   },
   {
    "duration": 27,
    "start_time": "2023-09-29T12:43:02.417Z"
   },
   {
    "duration": 7,
    "start_time": "2023-09-29T12:43:54.602Z"
   },
   {
    "duration": 25,
    "start_time": "2023-09-29T12:43:54.730Z"
   },
   {
    "duration": 6,
    "start_time": "2023-09-29T12:44:05.088Z"
   },
   {
    "duration": 80,
    "start_time": "2023-09-29T12:44:05.216Z"
   },
   {
    "duration": 1435,
    "start_time": "2023-09-29T12:44:17.607Z"
   },
   {
    "duration": 428,
    "start_time": "2023-09-29T12:44:19.044Z"
   },
   {
    "duration": 3,
    "start_time": "2023-09-29T12:44:19.474Z"
   },
   {
    "duration": 134,
    "start_time": "2023-09-29T12:44:19.479Z"
   },
   {
    "duration": 118,
    "start_time": "2023-09-29T12:44:19.616Z"
   },
   {
    "duration": 117,
    "start_time": "2023-09-29T12:44:19.736Z"
   },
   {
    "duration": 11,
    "start_time": "2023-09-29T12:44:19.855Z"
   },
   {
    "duration": 21,
    "start_time": "2023-09-29T12:44:19.881Z"
   },
   {
    "duration": 390,
    "start_time": "2023-09-29T12:44:19.904Z"
   },
   {
    "duration": 0,
    "start_time": "2023-09-29T12:44:20.296Z"
   },
   {
    "duration": 8,
    "start_time": "2023-09-29T12:45:21.102Z"
   },
   {
    "duration": 150,
    "start_time": "2023-09-29T12:45:21.734Z"
   },
   {
    "duration": 5,
    "start_time": "2023-09-29T12:45:34.328Z"
   },
   {
    "duration": 45,
    "start_time": "2023-09-29T12:45:34.437Z"
   },
   {
    "duration": 12,
    "start_time": "2023-09-29T12:46:21.502Z"
   },
   {
    "duration": 786,
    "start_time": "2023-09-29T12:47:20.013Z"
   },
   {
    "duration": 8,
    "start_time": "2023-09-29T12:47:53.646Z"
   },
   {
    "duration": 907,
    "start_time": "2023-09-29T12:47:53.766Z"
   },
   {
    "duration": 5,
    "start_time": "2023-09-29T12:48:03.625Z"
   },
   {
    "duration": 767,
    "start_time": "2023-09-29T12:48:03.900Z"
   },
   {
    "duration": 7,
    "start_time": "2023-09-29T12:48:12.637Z"
   },
   {
    "duration": 876,
    "start_time": "2023-09-29T12:48:12.726Z"
   },
   {
    "duration": 8,
    "start_time": "2023-09-29T13:14:06.969Z"
   },
   {
    "duration": 818,
    "start_time": "2023-09-29T13:16:06.068Z"
   },
   {
    "duration": 1476,
    "start_time": "2023-09-29T13:17:24.579Z"
   },
   {
    "duration": 431,
    "start_time": "2023-09-29T13:17:26.057Z"
   },
   {
    "duration": 3,
    "start_time": "2023-09-29T13:17:26.490Z"
   },
   {
    "duration": 154,
    "start_time": "2023-09-29T13:17:26.495Z"
   },
   {
    "duration": 166,
    "start_time": "2023-09-29T13:17:26.652Z"
   },
   {
    "duration": 129,
    "start_time": "2023-09-29T13:17:26.820Z"
   },
   {
    "duration": 15,
    "start_time": "2023-09-29T13:17:26.951Z"
   },
   {
    "duration": 8,
    "start_time": "2023-09-29T13:17:26.980Z"
   },
   {
    "duration": 876,
    "start_time": "2023-09-29T13:17:26.990Z"
   },
   {
    "duration": 13,
    "start_time": "2023-09-29T13:17:27.869Z"
   },
   {
    "duration": 2,
    "start_time": "2023-09-29T13:18:26.960Z"
   },
   {
    "duration": 19,
    "start_time": "2023-09-29T13:18:35.140Z"
   },
   {
    "duration": 15,
    "start_time": "2023-09-29T13:18:38.203Z"
   },
   {
    "duration": 55,
    "start_time": "2023-09-29T13:21:56.135Z"
   },
   {
    "duration": 16,
    "start_time": "2023-09-29T13:21:59.071Z"
   },
   {
    "duration": 17,
    "start_time": "2023-09-29T13:22:03.609Z"
   },
   {
    "duration": 302,
    "start_time": "2023-09-29T13:24:18.819Z"
   },
   {
    "duration": 1540,
    "start_time": "2023-09-29T13:25:07.473Z"
   },
   {
    "duration": 420,
    "start_time": "2023-09-29T13:25:09.015Z"
   },
   {
    "duration": 3,
    "start_time": "2023-09-29T13:25:09.437Z"
   },
   {
    "duration": 147,
    "start_time": "2023-09-29T13:25:09.442Z"
   },
   {
    "duration": 127,
    "start_time": "2023-09-29T13:25:09.592Z"
   },
   {
    "duration": 121,
    "start_time": "2023-09-29T13:25:09.721Z"
   },
   {
    "duration": 15,
    "start_time": "2023-09-29T13:25:09.844Z"
   },
   {
    "duration": 23,
    "start_time": "2023-09-29T13:25:09.861Z"
   },
   {
    "duration": 884,
    "start_time": "2023-09-29T13:25:09.886Z"
   },
   {
    "duration": 25,
    "start_time": "2023-09-29T13:25:10.773Z"
   },
   {
    "duration": 3,
    "start_time": "2023-09-29T13:29:07.410Z"
   },
   {
    "duration": 3124,
    "start_time": "2023-09-29T13:29:22.018Z"
   },
   {
    "duration": 17,
    "start_time": "2023-09-29T13:29:27.270Z"
   },
   {
    "duration": 17,
    "start_time": "2023-09-29T13:29:30.380Z"
   },
   {
    "duration": 8,
    "start_time": "2023-09-29T13:29:51.364Z"
   },
   {
    "duration": 5,
    "start_time": "2023-09-29T13:30:18.812Z"
   },
   {
    "duration": 15,
    "start_time": "2023-09-29T13:31:03.215Z"
   },
   {
    "duration": 1400,
    "start_time": "2023-09-29T13:31:09.040Z"
   },
   {
    "duration": 426,
    "start_time": "2023-09-29T13:31:10.442Z"
   },
   {
    "duration": 9,
    "start_time": "2023-09-29T13:31:10.872Z"
   },
   {
    "duration": 133,
    "start_time": "2023-09-29T13:31:10.882Z"
   },
   {
    "duration": 116,
    "start_time": "2023-09-29T13:31:11.017Z"
   },
   {
    "duration": 136,
    "start_time": "2023-09-29T13:31:11.135Z"
   },
   {
    "duration": 12,
    "start_time": "2023-09-29T13:31:11.281Z"
   },
   {
    "duration": 17,
    "start_time": "2023-09-29T13:31:11.295Z"
   },
   {
    "duration": 852,
    "start_time": "2023-09-29T13:31:11.315Z"
   },
   {
    "duration": 26,
    "start_time": "2023-09-29T13:31:12.169Z"
   },
   {
    "duration": 5,
    "start_time": "2023-09-29T13:31:20.755Z"
   },
   {
    "duration": 5,
    "start_time": "2023-09-29T13:31:56.617Z"
   },
   {
    "duration": 4,
    "start_time": "2023-09-29T13:32:06.355Z"
   },
   {
    "duration": 1501,
    "start_time": "2023-09-29T13:32:15.467Z"
   },
   {
    "duration": 455,
    "start_time": "2023-09-29T13:32:16.970Z"
   },
   {
    "duration": 4,
    "start_time": "2023-09-29T13:32:17.426Z"
   },
   {
    "duration": 130,
    "start_time": "2023-09-29T13:32:17.432Z"
   },
   {
    "duration": 121,
    "start_time": "2023-09-29T13:32:17.564Z"
   },
   {
    "duration": 123,
    "start_time": "2023-09-29T13:32:17.687Z"
   },
   {
    "duration": 15,
    "start_time": "2023-09-29T13:32:17.812Z"
   },
   {
    "duration": 30,
    "start_time": "2023-09-29T13:32:17.829Z"
   },
   {
    "duration": 813,
    "start_time": "2023-09-29T13:32:17.861Z"
   },
   {
    "duration": 21,
    "start_time": "2023-09-29T13:32:18.677Z"
   },
   {
    "duration": 14,
    "start_time": "2023-09-29T13:34:06.291Z"
   },
   {
    "duration": 14,
    "start_time": "2023-09-29T13:34:13.219Z"
   },
   {
    "duration": 14,
    "start_time": "2023-09-29T13:38:21.208Z"
   },
   {
    "duration": 6,
    "start_time": "2023-09-29T13:38:21.966Z"
   },
   {
    "duration": 936,
    "start_time": "2023-09-29T13:38:22.932Z"
   },
   {
    "duration": 21,
    "start_time": "2023-09-29T13:38:24.644Z"
   },
   {
    "duration": 807,
    "start_time": "2023-09-29T13:52:00.252Z"
   },
   {
    "duration": 26,
    "start_time": "2023-09-29T13:52:01.061Z"
   },
   {
    "duration": 858,
    "start_time": "2023-09-29T13:52:34.024Z"
   },
   {
    "duration": 20,
    "start_time": "2023-09-29T13:52:34.884Z"
   },
   {
    "duration": 766,
    "start_time": "2023-09-29T13:52:52.115Z"
   },
   {
    "duration": 110,
    "start_time": "2023-09-29T13:54:38.108Z"
   },
   {
    "duration": 844,
    "start_time": "2023-09-29T13:54:42.651Z"
   },
   {
    "duration": 20,
    "start_time": "2023-09-29T13:54:43.497Z"
   },
   {
    "duration": 93,
    "start_time": "2023-09-29T13:54:54.950Z"
   },
   {
    "duration": 5,
    "start_time": "2023-09-29T13:55:01.421Z"
   },
   {
    "duration": 782,
    "start_time": "2023-09-29T13:55:05.392Z"
   },
   {
    "duration": 21,
    "start_time": "2023-09-29T13:55:06.365Z"
   },
   {
    "duration": 4,
    "start_time": "2023-09-29T13:58:51.607Z"
   },
   {
    "duration": 10,
    "start_time": "2023-09-29T14:01:39.973Z"
   },
   {
    "duration": 5,
    "start_time": "2023-09-29T14:01:51.296Z"
   },
   {
    "duration": 5,
    "start_time": "2023-09-29T14:01:57.028Z"
   },
   {
    "duration": 1037,
    "start_time": "2023-09-29T14:02:01.660Z"
   },
   {
    "duration": 111,
    "start_time": "2023-09-29T14:02:20.465Z"
   },
   {
    "duration": 4,
    "start_time": "2023-09-29T14:04:12.063Z"
   },
   {
    "duration": 8,
    "start_time": "2023-09-29T14:10:36.634Z"
   },
   {
    "duration": 1396,
    "start_time": "2023-09-29T14:23:55.016Z"
   },
   {
    "duration": 482,
    "start_time": "2023-09-29T14:23:56.414Z"
   },
   {
    "duration": 3,
    "start_time": "2023-09-29T14:23:56.898Z"
   },
   {
    "duration": 129,
    "start_time": "2023-09-29T14:23:56.903Z"
   },
   {
    "duration": 115,
    "start_time": "2023-09-29T14:23:57.034Z"
   },
   {
    "duration": 137,
    "start_time": "2023-09-29T14:23:57.151Z"
   },
   {
    "duration": 12,
    "start_time": "2023-09-29T14:23:57.290Z"
   },
   {
    "duration": 8,
    "start_time": "2023-09-29T14:23:57.303Z"
   },
   {
    "duration": 780,
    "start_time": "2023-09-29T14:23:57.312Z"
   },
   {
    "duration": 0,
    "start_time": "2023-09-29T14:23:58.094Z"
   },
   {
    "duration": 0,
    "start_time": "2023-09-29T14:23:58.095Z"
   },
   {
    "duration": 778,
    "start_time": "2023-09-29T14:24:30.190Z"
   },
   {
    "duration": 9,
    "start_time": "2023-09-29T14:29:10.448Z"
   },
   {
    "duration": 5,
    "start_time": "2023-09-29T14:29:19.418Z"
   },
   {
    "duration": 3,
    "start_time": "2023-09-29T14:31:46.494Z"
   },
   {
    "duration": 4,
    "start_time": "2023-09-29T14:31:46.795Z"
   },
   {
    "duration": 23,
    "start_time": "2023-09-29T14:32:48.019Z"
   },
   {
    "duration": 1451,
    "start_time": "2023-09-29T14:32:52.699Z"
   },
   {
    "duration": 424,
    "start_time": "2023-09-29T14:32:54.152Z"
   },
   {
    "duration": 4,
    "start_time": "2023-09-29T14:32:54.578Z"
   },
   {
    "duration": 130,
    "start_time": "2023-09-29T14:32:54.583Z"
   },
   {
    "duration": 112,
    "start_time": "2023-09-29T14:32:54.715Z"
   },
   {
    "duration": 119,
    "start_time": "2023-09-29T14:32:54.829Z"
   },
   {
    "duration": 12,
    "start_time": "2023-09-29T14:32:54.949Z"
   },
   {
    "duration": 24,
    "start_time": "2023-09-29T14:32:54.962Z"
   },
   {
    "duration": 977,
    "start_time": "2023-09-29T14:32:54.988Z"
   },
   {
    "duration": 24,
    "start_time": "2023-09-29T14:32:55.966Z"
   },
   {
    "duration": 2,
    "start_time": "2023-09-29T14:32:55.991Z"
   },
   {
    "duration": 5,
    "start_time": "2023-09-29T14:32:55.995Z"
   },
   {
    "duration": 901,
    "start_time": "2023-09-29T14:33:10.665Z"
   },
   {
    "duration": 21,
    "start_time": "2023-09-29T14:33:11.894Z"
   },
   {
    "duration": 102,
    "start_time": "2023-09-29T14:34:09.091Z"
   },
   {
    "duration": 3,
    "start_time": "2023-09-29T14:34:11.715Z"
   },
   {
    "duration": 4,
    "start_time": "2023-09-29T14:35:55.994Z"
   },
   {
    "duration": 1408,
    "start_time": "2023-09-29T14:47:21.708Z"
   },
   {
    "duration": 436,
    "start_time": "2023-09-29T14:47:23.119Z"
   },
   {
    "duration": 3,
    "start_time": "2023-09-29T14:47:23.557Z"
   },
   {
    "duration": 143,
    "start_time": "2023-09-29T14:47:23.563Z"
   },
   {
    "duration": 113,
    "start_time": "2023-09-29T14:47:23.708Z"
   },
   {
    "duration": 110,
    "start_time": "2023-09-29T14:47:23.823Z"
   },
   {
    "duration": 12,
    "start_time": "2023-09-29T14:47:23.935Z"
   },
   {
    "duration": 30,
    "start_time": "2023-09-29T14:47:23.949Z"
   },
   {
    "duration": 895,
    "start_time": "2023-09-29T14:47:23.981Z"
   },
   {
    "duration": 23,
    "start_time": "2023-09-29T14:47:24.880Z"
   },
   {
    "duration": 33,
    "start_time": "2023-09-29T14:47:24.905Z"
   },
   {
    "duration": 23,
    "start_time": "2023-09-29T14:47:24.940Z"
   },
   {
    "duration": 63,
    "start_time": "2023-09-29T14:47:24.965Z"
   },
   {
    "duration": 1646,
    "start_time": "2023-10-02T13:38:36.370Z"
   },
   {
    "duration": 1776,
    "start_time": "2023-10-02T13:38:38.018Z"
   },
   {
    "duration": 3,
    "start_time": "2023-10-02T13:38:39.796Z"
   },
   {
    "duration": 139,
    "start_time": "2023-10-02T13:38:39.800Z"
   },
   {
    "duration": 130,
    "start_time": "2023-10-02T13:38:39.941Z"
   },
   {
    "duration": 122,
    "start_time": "2023-10-02T13:38:40.073Z"
   },
   {
    "duration": 12,
    "start_time": "2023-10-02T13:38:40.197Z"
   },
   {
    "duration": 27,
    "start_time": "2023-10-02T13:38:40.211Z"
   },
   {
    "duration": 899,
    "start_time": "2023-10-02T13:38:40.240Z"
   },
   {
    "duration": 26,
    "start_time": "2023-10-02T13:38:41.141Z"
   },
   {
    "duration": 3,
    "start_time": "2023-10-02T13:38:41.169Z"
   },
   {
    "duration": 19,
    "start_time": "2023-10-02T13:38:41.174Z"
   },
   {
    "duration": 10,
    "start_time": "2023-10-02T13:38:41.195Z"
   },
   {
    "duration": 3,
    "start_time": "2023-10-02T13:50:00.561Z"
   },
   {
    "duration": 7,
    "start_time": "2023-10-02T13:50:48.722Z"
   },
   {
    "duration": 4,
    "start_time": "2023-10-02T16:44:21.383Z"
   },
   {
    "duration": 5,
    "start_time": "2023-10-02T16:46:23.526Z"
   },
   {
    "duration": 1578,
    "start_time": "2023-10-02T16:46:29.175Z"
   },
   {
    "duration": 456,
    "start_time": "2023-10-02T16:46:30.755Z"
   },
   {
    "duration": 3,
    "start_time": "2023-10-02T16:46:31.213Z"
   },
   {
    "duration": 274,
    "start_time": "2023-10-02T16:46:31.218Z"
   },
   {
    "duration": 248,
    "start_time": "2023-10-02T16:46:31.494Z"
   },
   {
    "duration": 126,
    "start_time": "2023-10-02T16:46:31.744Z"
   },
   {
    "duration": 13,
    "start_time": "2023-10-02T16:46:31.872Z"
   },
   {
    "duration": 26,
    "start_time": "2023-10-02T16:46:31.886Z"
   },
   {
    "duration": 840,
    "start_time": "2023-10-02T16:46:31.914Z"
   },
   {
    "duration": 22,
    "start_time": "2023-10-02T16:46:32.756Z"
   },
   {
    "duration": 18,
    "start_time": "2023-10-02T16:46:32.779Z"
   },
   {
    "duration": 20,
    "start_time": "2023-10-02T16:46:32.799Z"
   },
   {
    "duration": 33,
    "start_time": "2023-10-02T16:46:32.822Z"
   },
   {
    "duration": 17,
    "start_time": "2023-10-02T16:46:32.858Z"
   },
   {
    "duration": 6,
    "start_time": "2023-10-02T16:46:32.877Z"
   },
   {
    "duration": 5,
    "start_time": "2023-10-02T16:49:05.757Z"
   },
   {
    "duration": 2041,
    "start_time": "2023-10-02T16:50:30.151Z"
   },
   {
    "duration": 3,
    "start_time": "2023-10-02T16:50:46.984Z"
   },
   {
    "duration": 1521,
    "start_time": "2023-10-02T16:50:59.528Z"
   },
   {
    "duration": 449,
    "start_time": "2023-10-02T16:51:01.051Z"
   },
   {
    "duration": 3,
    "start_time": "2023-10-02T16:51:01.502Z"
   },
   {
    "duration": 168,
    "start_time": "2023-10-02T16:51:01.507Z"
   },
   {
    "duration": 118,
    "start_time": "2023-10-02T16:51:01.677Z"
   },
   {
    "duration": 120,
    "start_time": "2023-10-02T16:51:01.797Z"
   },
   {
    "duration": 17,
    "start_time": "2023-10-02T16:51:01.919Z"
   },
   {
    "duration": 21,
    "start_time": "2023-10-02T16:51:01.957Z"
   },
   {
    "duration": 882,
    "start_time": "2023-10-02T16:51:01.980Z"
   },
   {
    "duration": 23,
    "start_time": "2023-10-02T16:51:02.864Z"
   },
   {
    "duration": 3,
    "start_time": "2023-10-02T16:51:02.890Z"
   },
   {
    "duration": 15,
    "start_time": "2023-10-02T16:51:02.894Z"
   },
   {
    "duration": 27,
    "start_time": "2023-10-02T16:51:02.911Z"
   },
   {
    "duration": 65,
    "start_time": "2023-10-02T16:51:02.940Z"
   },
   {
    "duration": 31,
    "start_time": "2023-10-02T16:51:03.008Z"
   },
   {
    "duration": 28853,
    "start_time": "2023-10-02T16:51:03.041Z"
   },
   {
    "duration": 8,
    "start_time": "2023-10-02T16:51:36.095Z"
   },
   {
    "duration": 15714,
    "start_time": "2023-10-02T16:51:53.135Z"
   },
   {
    "duration": 28573,
    "start_time": "2023-10-02T16:52:31.727Z"
   },
   {
    "duration": 5,
    "start_time": "2023-10-02T16:54:05.333Z"
   },
   {
    "duration": 117,
    "start_time": "2023-10-02T16:54:06.479Z"
   },
   {
    "duration": 106,
    "start_time": "2023-10-02T16:54:13.842Z"
   },
   {
    "duration": 10462,
    "start_time": "2023-10-02T16:54:16.749Z"
   },
   {
    "duration": 31352,
    "start_time": "2023-10-02T16:54:38.857Z"
   },
   {
    "duration": 5,
    "start_time": "2023-10-02T16:56:49.913Z"
   },
   {
    "duration": 2496,
    "start_time": "2023-10-02T16:56:50.910Z"
   },
   {
    "duration": 4,
    "start_time": "2023-10-02T16:58:35.165Z"
   },
   {
    "duration": 6,
    "start_time": "2023-10-02T16:58:44.496Z"
   },
   {
    "duration": 73,
    "start_time": "2023-10-02T16:58:45.013Z"
   },
   {
    "duration": 6,
    "start_time": "2023-10-02T16:58:52.982Z"
   },
   {
    "duration": 15197,
    "start_time": "2023-10-02T16:58:53.665Z"
   },
   {
    "duration": 6,
    "start_time": "2023-10-02T17:00:02.860Z"
   },
   {
    "duration": 14799,
    "start_time": "2023-10-02T17:00:03.388Z"
   },
   {
    "duration": 5,
    "start_time": "2023-10-02T17:01:36.147Z"
   },
   {
    "duration": 15,
    "start_time": "2023-10-02T17:01:36.531Z"
   },
   {
    "duration": 6,
    "start_time": "2023-10-02T17:01:59.290Z"
   },
   {
    "duration": 14,
    "start_time": "2023-10-02T17:01:59.539Z"
   },
   {
    "duration": 6,
    "start_time": "2023-10-02T17:02:18.565Z"
   },
   {
    "duration": 31123,
    "start_time": "2023-10-02T17:02:18.840Z"
   },
   {
    "duration": 57,
    "start_time": "2023-10-02T17:03:33.101Z"
   },
   {
    "duration": 115,
    "start_time": "2023-10-02T17:03:38.041Z"
   },
   {
    "duration": 5456,
    "start_time": "2023-10-02T17:03:38.766Z"
   },
   {
    "duration": 1468,
    "start_time": "2023-10-02T17:03:55.259Z"
   },
   {
    "duration": 461,
    "start_time": "2023-10-02T17:03:56.729Z"
   },
   {
    "duration": 3,
    "start_time": "2023-10-02T17:03:57.192Z"
   },
   {
    "duration": 129,
    "start_time": "2023-10-02T17:03:57.197Z"
   },
   {
    "duration": 114,
    "start_time": "2023-10-02T17:03:57.329Z"
   },
   {
    "duration": 122,
    "start_time": "2023-10-02T17:03:57.457Z"
   },
   {
    "duration": 12,
    "start_time": "2023-10-02T17:03:57.581Z"
   },
   {
    "duration": 8,
    "start_time": "2023-10-02T17:03:57.595Z"
   },
   {
    "duration": 935,
    "start_time": "2023-10-02T17:03:57.605Z"
   },
   {
    "duration": 27,
    "start_time": "2023-10-02T17:03:58.542Z"
   },
   {
    "duration": 6,
    "start_time": "2023-10-02T17:03:58.571Z"
   },
   {
    "duration": 41,
    "start_time": "2023-10-02T17:03:58.579Z"
   },
   {
    "duration": 7,
    "start_time": "2023-10-02T17:03:58.621Z"
   },
   {
    "duration": 19,
    "start_time": "2023-10-02T17:03:58.631Z"
   },
   {
    "duration": 110,
    "start_time": "2023-10-02T17:03:58.651Z"
   },
   {
    "duration": 0,
    "start_time": "2023-10-02T17:03:58.762Z"
   },
   {
    "duration": 4,
    "start_time": "2023-10-02T17:04:04.268Z"
   },
   {
    "duration": 435,
    "start_time": "2023-10-02T17:04:04.380Z"
   },
   {
    "duration": 8,
    "start_time": "2023-10-02T17:04:12.472Z"
   },
   {
    "duration": 5,
    "start_time": "2023-10-02T17:04:24.200Z"
   },
   {
    "duration": 11181,
    "start_time": "2023-10-02T17:04:24.794Z"
   },
   {
    "duration": 5,
    "start_time": "2023-10-02T17:04:49.707Z"
   },
   {
    "duration": 28654,
    "start_time": "2023-10-02T17:04:50.983Z"
   },
   {
    "duration": 4,
    "start_time": "2023-10-02T17:06:22.400Z"
   },
   {
    "duration": 29350,
    "start_time": "2023-10-02T17:06:22.508Z"
   },
   {
    "duration": 5,
    "start_time": "2023-10-02T17:10:33.051Z"
   },
   {
    "duration": 1200,
    "start_time": "2023-10-02T19:20:58.630Z"
   },
   {
    "duration": 1198,
    "start_time": "2023-10-02T19:21:20.045Z"
   },
   {
    "duration": 865,
    "start_time": "2023-10-02T19:21:21.246Z"
   },
   {
    "duration": 3,
    "start_time": "2023-10-02T19:21:22.113Z"
   },
   {
    "duration": 156,
    "start_time": "2023-10-02T19:21:22.118Z"
   },
   {
    "duration": 147,
    "start_time": "2023-10-02T19:21:22.282Z"
   },
   {
    "duration": 155,
    "start_time": "2023-10-02T19:21:22.431Z"
   },
   {
    "duration": 200,
    "start_time": "2023-10-02T19:21:22.589Z"
   },
   {
    "duration": 356,
    "start_time": "2023-10-02T19:21:22.792Z"
   },
   {
    "duration": 942,
    "start_time": "2023-10-02T19:21:23.149Z"
   },
   {
    "duration": 29,
    "start_time": "2023-10-02T19:21:24.092Z"
   },
   {
    "duration": 3,
    "start_time": "2023-10-02T19:21:24.123Z"
   },
   {
    "duration": 26,
    "start_time": "2023-10-02T19:21:24.128Z"
   },
   {
    "duration": 12,
    "start_time": "2023-10-02T19:21:24.156Z"
   },
   {
    "duration": 26,
    "start_time": "2023-10-02T19:21:24.172Z"
   },
   {
    "duration": 87,
    "start_time": "2023-10-02T19:21:24.200Z"
   },
   {
    "duration": 29967,
    "start_time": "2023-10-02T19:21:24.290Z"
   },
   {
    "duration": 1137,
    "start_time": "2023-10-02T19:45:27.579Z"
   },
   {
    "duration": 436,
    "start_time": "2023-10-02T19:45:28.718Z"
   },
   {
    "duration": 3,
    "start_time": "2023-10-02T19:45:29.156Z"
   },
   {
    "duration": 147,
    "start_time": "2023-10-02T19:45:29.161Z"
   },
   {
    "duration": 117,
    "start_time": "2023-10-02T19:45:29.310Z"
   },
   {
    "duration": 128,
    "start_time": "2023-10-02T19:45:29.429Z"
   },
   {
    "duration": 32,
    "start_time": "2023-10-02T19:45:29.559Z"
   },
   {
    "duration": 6,
    "start_time": "2023-10-02T19:45:29.593Z"
   },
   {
    "duration": 874,
    "start_time": "2023-10-02T19:45:29.601Z"
   },
   {
    "duration": 22,
    "start_time": "2023-10-02T19:45:30.476Z"
   },
   {
    "duration": 36,
    "start_time": "2023-10-02T19:45:30.500Z"
   },
   {
    "duration": 58,
    "start_time": "2023-10-02T19:45:30.537Z"
   },
   {
    "duration": 68,
    "start_time": "2023-10-02T19:45:30.597Z"
   },
   {
    "duration": 55,
    "start_time": "2023-10-02T19:45:30.668Z"
   },
   {
    "duration": 89,
    "start_time": "2023-10-02T19:45:30.725Z"
   },
   {
    "duration": 29071,
    "start_time": "2023-10-02T19:45:30.816Z"
   },
   {
    "duration": 1601,
    "start_time": "2023-10-02T21:57:26.789Z"
   },
   {
    "duration": 1368,
    "start_time": "2023-10-02T21:57:32.252Z"
   },
   {
    "duration": 812,
    "start_time": "2023-10-02T21:57:33.622Z"
   },
   {
    "duration": 3,
    "start_time": "2023-10-02T21:57:34.436Z"
   },
   {
    "duration": 197,
    "start_time": "2023-10-02T21:57:34.442Z"
   },
   {
    "duration": 128,
    "start_time": "2023-10-02T21:57:34.642Z"
   },
   {
    "duration": 120,
    "start_time": "2023-10-02T21:57:34.771Z"
   },
   {
    "duration": 17,
    "start_time": "2023-10-02T21:57:34.903Z"
   },
   {
    "duration": 26,
    "start_time": "2023-10-02T21:57:34.922Z"
   },
   {
    "duration": 829,
    "start_time": "2023-10-02T21:57:34.950Z"
   },
   {
    "duration": 24,
    "start_time": "2023-10-02T21:57:35.782Z"
   },
   {
    "duration": 137,
    "start_time": "2023-10-02T21:57:35.808Z"
   },
   {
    "duration": 27,
    "start_time": "2023-10-02T21:57:35.947Z"
   },
   {
    "duration": 43,
    "start_time": "2023-10-02T21:57:35.975Z"
   },
   {
    "duration": 29,
    "start_time": "2023-10-02T21:57:36.020Z"
   },
   {
    "duration": 37,
    "start_time": "2023-10-02T21:57:36.051Z"
   },
   {
    "duration": 28220,
    "start_time": "2023-10-02T21:57:36.090Z"
   },
   {
    "duration": 145,
    "start_time": "2023-10-02T21:58:04.312Z"
   },
   {
    "duration": 25,
    "start_time": "2023-10-02T21:58:18.617Z"
   },
   {
    "duration": 10,
    "start_time": "2023-10-02T21:58:47.078Z"
   },
   {
    "duration": 9,
    "start_time": "2023-10-02T21:58:49.812Z"
   },
   {
    "duration": 20,
    "start_time": "2023-10-02T21:58:49.962Z"
   },
   {
    "duration": 1442,
    "start_time": "2023-10-02T22:05:33.193Z"
   },
   {
    "duration": 425,
    "start_time": "2023-10-02T22:05:34.638Z"
   },
   {
    "duration": 3,
    "start_time": "2023-10-02T22:05:35.065Z"
   },
   {
    "duration": 199,
    "start_time": "2023-10-02T22:05:35.069Z"
   },
   {
    "duration": 165,
    "start_time": "2023-10-02T22:05:35.271Z"
   },
   {
    "duration": 180,
    "start_time": "2023-10-02T22:05:35.438Z"
   },
   {
    "duration": 11,
    "start_time": "2023-10-02T22:05:35.620Z"
   },
   {
    "duration": 62,
    "start_time": "2023-10-02T22:05:35.633Z"
   },
   {
    "duration": 900,
    "start_time": "2023-10-02T22:05:35.697Z"
   },
   {
    "duration": 21,
    "start_time": "2023-10-02T22:05:36.601Z"
   },
   {
    "duration": 142,
    "start_time": "2023-10-02T22:05:36.624Z"
   },
   {
    "duration": 19,
    "start_time": "2023-10-02T22:05:36.767Z"
   },
   {
    "duration": 35,
    "start_time": "2023-10-02T22:05:36.788Z"
   },
   {
    "duration": 6,
    "start_time": "2023-10-02T22:05:36.826Z"
   },
   {
    "duration": 20,
    "start_time": "2023-10-02T22:05:36.833Z"
   },
   {
    "duration": 28349,
    "start_time": "2023-10-02T22:05:36.855Z"
   },
   {
    "duration": 1559,
    "start_time": "2023-10-02T22:07:08.052Z"
   },
   {
    "duration": 4,
    "start_time": "2023-10-02T22:07:25.420Z"
   },
   {
    "duration": 10352,
    "start_time": "2023-10-02T22:07:27.500Z"
   },
   {
    "duration": 4,
    "start_time": "2023-10-02T22:09:27.690Z"
   },
   {
    "duration": 187,
    "start_time": "2023-10-02T22:09:27.905Z"
   },
   {
    "duration": 162,
    "start_time": "2023-10-02T22:09:28.904Z"
   },
   {
    "duration": 183,
    "start_time": "2023-10-02T22:09:29.067Z"
   },
   {
    "duration": 120,
    "start_time": "2023-10-02T22:10:35.023Z"
   },
   {
    "duration": 4,
    "start_time": "2023-10-02T22:10:43.990Z"
   },
   {
    "duration": 4,
    "start_time": "2023-10-02T22:10:45.252Z"
   },
   {
    "duration": 147,
    "start_time": "2023-10-02T22:10:45.679Z"
   },
   {
    "duration": 144,
    "start_time": "2023-10-02T22:10:46.585Z"
   },
   {
    "duration": 162,
    "start_time": "2023-10-02T22:10:46.733Z"
   },
   {
    "duration": 3,
    "start_time": "2023-10-02T22:11:16.137Z"
   },
   {
    "duration": 3,
    "start_time": "2023-10-02T22:11:16.567Z"
   },
   {
    "duration": 137,
    "start_time": "2023-10-02T22:11:16.877Z"
   },
   {
    "duration": 4,
    "start_time": "2023-10-02T22:11:37.488Z"
   },
   {
    "duration": 173,
    "start_time": "2023-10-02T22:11:37.640Z"
   },
   {
    "duration": 3,
    "start_time": "2023-10-02T22:12:16.667Z"
   },
   {
    "duration": 1578,
    "start_time": "2023-10-02T22:12:22.202Z"
   },
   {
    "duration": 446,
    "start_time": "2023-10-02T22:12:23.784Z"
   },
   {
    "duration": 4,
    "start_time": "2023-10-02T22:12:24.232Z"
   },
   {
    "duration": 372,
    "start_time": "2023-10-02T22:12:24.238Z"
   },
   {
    "duration": 220,
    "start_time": "2023-10-02T22:12:24.613Z"
   },
   {
    "duration": 200,
    "start_time": "2023-10-02T22:12:24.835Z"
   },
   {
    "duration": 14,
    "start_time": "2023-10-02T22:12:25.037Z"
   },
   {
    "duration": 25,
    "start_time": "2023-10-02T22:12:25.052Z"
   },
   {
    "duration": 808,
    "start_time": "2023-10-02T22:12:25.079Z"
   },
   {
    "duration": 20,
    "start_time": "2023-10-02T22:12:25.889Z"
   },
   {
    "duration": 20,
    "start_time": "2023-10-02T22:12:25.911Z"
   },
   {
    "duration": 41,
    "start_time": "2023-10-02T22:12:25.932Z"
   },
   {
    "duration": 30,
    "start_time": "2023-10-02T22:12:25.976Z"
   },
   {
    "duration": 109,
    "start_time": "2023-10-02T22:12:26.009Z"
   },
   {
    "duration": 60,
    "start_time": "2023-10-02T22:12:26.120Z"
   },
   {
    "duration": 28522,
    "start_time": "2023-10-02T22:12:26.181Z"
   },
   {
    "duration": 132,
    "start_time": "2023-10-02T22:13:38.201Z"
   },
   {
    "duration": 13,
    "start_time": "2023-10-02T22:13:45.282Z"
   },
   {
    "duration": 13,
    "start_time": "2023-10-02T22:18:52.856Z"
   },
   {
    "duration": 12,
    "start_time": "2023-10-02T22:19:03.752Z"
   },
   {
    "duration": 1473,
    "start_time": "2023-10-02T22:22:23.418Z"
   },
   {
    "duration": 421,
    "start_time": "2023-10-02T22:22:24.893Z"
   },
   {
    "duration": 5,
    "start_time": "2023-10-02T22:22:25.315Z"
   },
   {
    "duration": 230,
    "start_time": "2023-10-02T22:22:25.322Z"
   },
   {
    "duration": 189,
    "start_time": "2023-10-02T22:22:25.554Z"
   },
   {
    "duration": 199,
    "start_time": "2023-10-02T22:22:25.745Z"
   },
   {
    "duration": 14,
    "start_time": "2023-10-02T22:22:25.945Z"
   },
   {
    "duration": 36,
    "start_time": "2023-10-02T22:22:25.960Z"
   },
   {
    "duration": 6,
    "start_time": "2023-10-02T22:22:25.998Z"
   },
   {
    "duration": 912,
    "start_time": "2023-10-02T22:22:26.006Z"
   },
   {
    "duration": 20,
    "start_time": "2023-10-02T22:22:26.919Z"
   },
   {
    "duration": 186,
    "start_time": "2023-10-02T22:22:26.941Z"
   },
   {
    "duration": 57,
    "start_time": "2023-10-02T22:22:27.129Z"
   },
   {
    "duration": 24,
    "start_time": "2023-10-02T22:22:27.189Z"
   },
   {
    "duration": 32,
    "start_time": "2023-10-02T22:22:27.214Z"
   },
   {
    "duration": 46,
    "start_time": "2023-10-02T22:22:27.248Z"
   },
   {
    "duration": 28663,
    "start_time": "2023-10-02T22:22:27.296Z"
   },
   {
    "duration": 1802,
    "start_time": "2023-10-03T13:42:34.518Z"
   },
   {
    "duration": 843,
    "start_time": "2023-10-03T13:42:36.322Z"
   },
   {
    "duration": 5,
    "start_time": "2023-10-03T13:42:37.168Z"
   },
   {
    "duration": 534,
    "start_time": "2023-10-03T13:42:37.176Z"
   },
   {
    "duration": 201,
    "start_time": "2023-10-03T13:42:37.713Z"
   },
   {
    "duration": 195,
    "start_time": "2023-10-03T13:42:37.916Z"
   },
   {
    "duration": 15,
    "start_time": "2023-10-03T13:42:38.113Z"
   },
   {
    "duration": 163,
    "start_time": "2023-10-03T13:42:38.130Z"
   },
   {
    "duration": 88,
    "start_time": "2023-10-03T13:42:38.295Z"
   },
   {
    "duration": 1105,
    "start_time": "2023-10-03T13:42:38.385Z"
   },
   {
    "duration": 24,
    "start_time": "2023-10-03T13:42:39.491Z"
   },
   {
    "duration": 7,
    "start_time": "2023-10-03T13:42:39.517Z"
   },
   {
    "duration": 19,
    "start_time": "2023-10-03T13:42:39.526Z"
   },
   {
    "duration": 8,
    "start_time": "2023-10-03T13:42:39.548Z"
   },
   {
    "duration": 23,
    "start_time": "2023-10-03T13:42:39.558Z"
   },
   {
    "duration": 10,
    "start_time": "2023-10-03T13:42:39.582Z"
   },
   {
    "duration": 29780,
    "start_time": "2023-10-03T13:42:39.594Z"
   },
   {
    "duration": 5,
    "start_time": "2023-10-03T13:50:07.631Z"
   },
   {
    "duration": 1657,
    "start_time": "2023-10-03T13:50:11.892Z"
   },
   {
    "duration": 569,
    "start_time": "2023-10-03T13:50:13.551Z"
   },
   {
    "duration": 5,
    "start_time": "2023-10-03T13:50:14.122Z"
   },
   {
    "duration": 498,
    "start_time": "2023-10-03T13:50:14.130Z"
   },
   {
    "duration": 483,
    "start_time": "2023-10-03T13:50:14.631Z"
   },
   {
    "duration": 404,
    "start_time": "2023-10-03T13:50:15.116Z"
   },
   {
    "duration": 85,
    "start_time": "2023-10-03T13:50:15.522Z"
   },
   {
    "duration": 15,
    "start_time": "2023-10-03T13:50:15.609Z"
   },
   {
    "duration": 76,
    "start_time": "2023-10-03T13:50:15.626Z"
   },
   {
    "duration": 877,
    "start_time": "2023-10-03T13:50:15.704Z"
   },
   {
    "duration": 24,
    "start_time": "2023-10-03T13:50:16.582Z"
   },
   {
    "duration": 11,
    "start_time": "2023-10-03T13:50:16.607Z"
   },
   {
    "duration": 46,
    "start_time": "2023-10-03T13:50:16.620Z"
   },
   {
    "duration": 37,
    "start_time": "2023-10-03T13:50:16.668Z"
   },
   {
    "duration": 46,
    "start_time": "2023-10-03T13:50:16.706Z"
   },
   {
    "duration": 48,
    "start_time": "2023-10-03T13:50:16.754Z"
   },
   {
    "duration": 29230,
    "start_time": "2023-10-03T13:50:16.804Z"
   },
   {
    "duration": 1793,
    "start_time": "2023-10-05T19:26:29.715Z"
   },
   {
    "duration": 1869,
    "start_time": "2023-10-05T19:26:31.511Z"
   },
   {
    "duration": 5,
    "start_time": "2023-10-05T19:26:33.381Z"
   },
   {
    "duration": 246,
    "start_time": "2023-10-05T19:26:33.388Z"
   },
   {
    "duration": 239,
    "start_time": "2023-10-05T19:26:33.636Z"
   },
   {
    "duration": 222,
    "start_time": "2023-10-05T19:26:33.881Z"
   },
   {
    "duration": 34,
    "start_time": "2023-10-05T19:26:34.104Z"
   },
   {
    "duration": 30,
    "start_time": "2023-10-05T19:26:34.140Z"
   },
   {
    "duration": 14,
    "start_time": "2023-10-05T19:26:34.172Z"
   },
   {
    "duration": 957,
    "start_time": "2023-10-05T19:26:34.190Z"
   },
   {
    "duration": 35,
    "start_time": "2023-10-05T19:26:35.149Z"
   },
   {
    "duration": 10,
    "start_time": "2023-10-05T19:26:35.187Z"
   },
   {
    "duration": 56,
    "start_time": "2023-10-05T19:26:35.198Z"
   },
   {
    "duration": 52,
    "start_time": "2023-10-05T19:26:35.256Z"
   },
   {
    "duration": 4,
    "start_time": "2023-10-05T19:26:35.310Z"
   },
   {
    "duration": 6,
    "start_time": "2023-10-05T19:26:35.316Z"
   },
   {
    "duration": 29984,
    "start_time": "2023-10-05T19:26:35.324Z"
   },
   {
    "duration": 1552,
    "start_time": "2023-10-07T14:49:55.919Z"
   },
   {
    "duration": 805,
    "start_time": "2023-10-07T14:49:57.473Z"
   },
   {
    "duration": 4,
    "start_time": "2023-10-07T14:49:58.280Z"
   },
   {
    "duration": 199,
    "start_time": "2023-10-07T14:49:58.286Z"
   },
   {
    "duration": 178,
    "start_time": "2023-10-07T14:49:58.487Z"
   },
   {
    "duration": 185,
    "start_time": "2023-10-07T14:49:58.667Z"
   },
   {
    "duration": 27,
    "start_time": "2023-10-07T14:49:58.854Z"
   },
   {
    "duration": 14,
    "start_time": "2023-10-07T14:49:58.883Z"
   },
   {
    "duration": 44,
    "start_time": "2023-10-07T14:49:58.899Z"
   },
   {
    "duration": 847,
    "start_time": "2023-10-07T14:49:58.946Z"
   },
   {
    "duration": 21,
    "start_time": "2023-10-07T14:49:59.794Z"
   },
   {
    "duration": 3,
    "start_time": "2023-10-07T14:49:59.824Z"
   },
   {
    "duration": 7,
    "start_time": "2023-10-07T14:49:59.828Z"
   },
   {
    "duration": 16,
    "start_time": "2023-10-07T14:49:59.836Z"
   },
   {
    "duration": 16,
    "start_time": "2023-10-07T14:49:59.854Z"
   },
   {
    "duration": 22,
    "start_time": "2023-10-07T14:49:59.871Z"
   },
   {
    "duration": 27292,
    "start_time": "2023-10-07T14:49:59.894Z"
   },
   {
    "duration": 822,
    "start_time": "2023-10-07T14:51:56.044Z"
   },
   {
    "duration": 5190,
    "start_time": "2023-10-07T14:52:43.055Z"
   },
   {
    "duration": 779,
    "start_time": "2023-10-07T14:53:00.510Z"
   },
   {
    "duration": 1415,
    "start_time": "2023-10-07T14:54:10.486Z"
   },
   {
    "duration": 400,
    "start_time": "2023-10-07T14:54:11.904Z"
   },
   {
    "duration": 4,
    "start_time": "2023-10-07T14:54:12.306Z"
   },
   {
    "duration": 706,
    "start_time": "2023-10-07T14:54:12.311Z"
   },
   {
    "duration": 699,
    "start_time": "2023-10-07T14:54:13.020Z"
   },
   {
    "duration": 678,
    "start_time": "2023-10-07T14:54:13.723Z"
   },
   {
    "duration": 40,
    "start_time": "2023-10-07T14:54:14.402Z"
   },
   {
    "duration": 11,
    "start_time": "2023-10-07T14:54:14.444Z"
   },
   {
    "duration": 6,
    "start_time": "2023-10-07T14:54:14.456Z"
   },
   {
    "duration": 830,
    "start_time": "2023-10-07T14:54:14.464Z"
   },
   {
    "duration": 19,
    "start_time": "2023-10-07T14:54:15.296Z"
   },
   {
    "duration": 19,
    "start_time": "2023-10-07T14:54:15.317Z"
   },
   {
    "duration": 57,
    "start_time": "2023-10-07T14:54:15.337Z"
   },
   {
    "duration": 17,
    "start_time": "2023-10-07T14:54:15.396Z"
   },
   {
    "duration": 18,
    "start_time": "2023-10-07T14:54:15.415Z"
   },
   {
    "duration": 15,
    "start_time": "2023-10-07T14:54:15.434Z"
   },
   {
    "duration": 27013,
    "start_time": "2023-10-07T14:54:15.450Z"
   },
   {
    "duration": 1344,
    "start_time": "2023-10-07T14:55:06.960Z"
   },
   {
    "duration": 410,
    "start_time": "2023-10-07T14:55:08.306Z"
   },
   {
    "duration": 7,
    "start_time": "2023-10-07T14:55:08.718Z"
   },
   {
    "duration": 686,
    "start_time": "2023-10-07T14:55:08.727Z"
   },
   {
    "duration": 231,
    "start_time": "2023-10-07T14:55:09.414Z"
   },
   {
    "duration": 211,
    "start_time": "2023-10-07T14:55:09.648Z"
   },
   {
    "duration": 30,
    "start_time": "2023-10-07T14:55:09.861Z"
   },
   {
    "duration": 31,
    "start_time": "2023-10-07T14:55:09.893Z"
   },
   {
    "duration": 6,
    "start_time": "2023-10-07T14:55:09.926Z"
   },
   {
    "duration": 880,
    "start_time": "2023-10-07T14:55:09.934Z"
   },
   {
    "duration": 27,
    "start_time": "2023-10-07T14:55:10.815Z"
   },
   {
    "duration": 34,
    "start_time": "2023-10-07T14:55:10.844Z"
   },
   {
    "duration": 49,
    "start_time": "2023-10-07T14:55:10.880Z"
   },
   {
    "duration": 67,
    "start_time": "2023-10-07T14:55:10.931Z"
   },
   {
    "duration": 42,
    "start_time": "2023-10-07T14:55:10.999Z"
   },
   {
    "duration": 352,
    "start_time": "2023-10-07T14:55:11.043Z"
   },
   {
    "duration": 26822,
    "start_time": "2023-10-07T14:55:11.397Z"
   },
   {
    "duration": 4,
    "start_time": "2023-10-07T14:56:30.863Z"
   },
   {
    "duration": 179,
    "start_time": "2023-10-07T14:56:34.638Z"
   },
   {
    "duration": 177,
    "start_time": "2023-10-07T14:56:40.168Z"
   },
   {
    "duration": 1338,
    "start_time": "2023-10-07T14:57:07.259Z"
   },
   {
    "duration": 412,
    "start_time": "2023-10-07T14:57:08.599Z"
   },
   {
    "duration": 4,
    "start_time": "2023-10-07T14:57:09.013Z"
   },
   {
    "duration": 297,
    "start_time": "2023-10-07T14:57:09.023Z"
   },
   {
    "duration": 202,
    "start_time": "2023-10-07T14:57:09.324Z"
   },
   {
    "duration": 215,
    "start_time": "2023-10-07T14:57:09.527Z"
   },
   {
    "duration": 36,
    "start_time": "2023-10-07T14:57:09.744Z"
   },
   {
    "duration": 14,
    "start_time": "2023-10-07T14:57:09.782Z"
   },
   {
    "duration": 65,
    "start_time": "2023-10-07T14:57:09.797Z"
   },
   {
    "duration": 831,
    "start_time": "2023-10-07T14:57:09.864Z"
   },
   {
    "duration": 20,
    "start_time": "2023-10-07T14:57:10.697Z"
   },
   {
    "duration": 51,
    "start_time": "2023-10-07T14:57:10.718Z"
   },
   {
    "duration": 133,
    "start_time": "2023-10-07T14:57:10.771Z"
   },
   {
    "duration": 48,
    "start_time": "2023-10-07T14:57:10.906Z"
   },
   {
    "duration": 123,
    "start_time": "2023-10-07T14:57:10.956Z"
   },
   {
    "duration": 92,
    "start_time": "2023-10-07T14:57:11.081Z"
   },
   {
    "duration": 26246,
    "start_time": "2023-10-07T14:57:11.175Z"
   },
   {
    "duration": 4,
    "start_time": "2023-10-07T14:57:54.029Z"
   },
   {
    "duration": 1486,
    "start_time": "2023-10-07T14:58:08.480Z"
   },
   {
    "duration": 431,
    "start_time": "2023-10-07T14:58:09.968Z"
   },
   {
    "duration": 5,
    "start_time": "2023-10-07T14:58:10.400Z"
   },
   {
    "duration": 231,
    "start_time": "2023-10-07T14:58:10.406Z"
   },
   {
    "duration": 217,
    "start_time": "2023-10-07T14:58:10.639Z"
   },
   {
    "duration": 214,
    "start_time": "2023-10-07T14:58:10.858Z"
   },
   {
    "duration": 34,
    "start_time": "2023-10-07T14:58:11.073Z"
   },
   {
    "duration": 26,
    "start_time": "2023-10-07T14:58:11.109Z"
   },
   {
    "duration": 25,
    "start_time": "2023-10-07T14:58:11.137Z"
   },
   {
    "duration": 835,
    "start_time": "2023-10-07T14:58:11.163Z"
   },
   {
    "duration": 18,
    "start_time": "2023-10-07T14:58:12.000Z"
   },
   {
    "duration": 8,
    "start_time": "2023-10-07T14:58:12.019Z"
   },
   {
    "duration": 8,
    "start_time": "2023-10-07T14:58:12.028Z"
   },
   {
    "duration": 10,
    "start_time": "2023-10-07T14:58:12.038Z"
   },
   {
    "duration": 12,
    "start_time": "2023-10-07T14:58:12.050Z"
   },
   {
    "duration": 18,
    "start_time": "2023-10-07T14:58:12.064Z"
   },
   {
    "duration": 25680,
    "start_time": "2023-10-07T14:58:12.084Z"
   },
   {
    "duration": 10,
    "start_time": "2023-10-07T14:59:38.706Z"
   },
   {
    "duration": 11,
    "start_time": "2023-10-07T14:59:41.611Z"
   },
   {
    "duration": 1608,
    "start_time": "2023-10-07T15:01:30.904Z"
   },
   {
    "duration": 411,
    "start_time": "2023-10-07T15:01:32.513Z"
   },
   {
    "duration": 5,
    "start_time": "2023-10-07T15:01:32.925Z"
   },
   {
    "duration": 347,
    "start_time": "2023-10-07T15:01:32.932Z"
   },
   {
    "duration": 217,
    "start_time": "2023-10-07T15:01:33.281Z"
   },
   {
    "duration": 210,
    "start_time": "2023-10-07T15:01:33.500Z"
   },
   {
    "duration": 22,
    "start_time": "2023-10-07T15:01:33.711Z"
   },
   {
    "duration": 24,
    "start_time": "2023-10-07T15:01:33.735Z"
   },
   {
    "duration": 945,
    "start_time": "2023-10-07T15:01:33.760Z"
   },
   {
    "duration": 23,
    "start_time": "2023-10-07T15:01:34.707Z"
   },
   {
    "duration": 24,
    "start_time": "2023-10-07T15:01:34.731Z"
   },
   {
    "duration": 23,
    "start_time": "2023-10-07T15:01:34.757Z"
   },
   {
    "duration": 9,
    "start_time": "2023-10-07T15:01:34.781Z"
   },
   {
    "duration": 24,
    "start_time": "2023-10-07T15:01:34.792Z"
   },
   {
    "duration": 46,
    "start_time": "2023-10-07T15:01:34.817Z"
   },
   {
    "duration": 26562,
    "start_time": "2023-10-07T15:01:34.864Z"
   },
   {
    "duration": 1368,
    "start_time": "2023-10-07T15:03:44.248Z"
   },
   {
    "duration": 438,
    "start_time": "2023-10-07T15:03:45.618Z"
   },
   {
    "duration": 5,
    "start_time": "2023-10-07T15:03:46.058Z"
   },
   {
    "duration": 250,
    "start_time": "2023-10-07T15:03:46.066Z"
   },
   {
    "duration": 215,
    "start_time": "2023-10-07T15:03:46.324Z"
   },
   {
    "duration": 230,
    "start_time": "2023-10-07T15:03:46.541Z"
   },
   {
    "duration": 17,
    "start_time": "2023-10-07T15:03:46.773Z"
   },
   {
    "duration": 44,
    "start_time": "2023-10-07T15:03:46.791Z"
   },
   {
    "duration": 853,
    "start_time": "2023-10-07T15:03:46.837Z"
   },
   {
    "duration": 18,
    "start_time": "2023-10-07T15:03:47.693Z"
   },
   {
    "duration": 30,
    "start_time": "2023-10-07T15:03:47.712Z"
   },
   {
    "duration": 13,
    "start_time": "2023-10-07T15:03:47.743Z"
   },
   {
    "duration": 6,
    "start_time": "2023-10-07T15:03:47.758Z"
   },
   {
    "duration": 19,
    "start_time": "2023-10-07T15:03:47.766Z"
   },
   {
    "duration": 12,
    "start_time": "2023-10-07T15:03:47.787Z"
   },
   {
    "duration": 26744,
    "start_time": "2023-10-07T15:03:47.801Z"
   },
   {
    "duration": 126,
    "start_time": "2023-10-07T15:06:06.285Z"
   },
   {
    "duration": 4,
    "start_time": "2023-10-07T15:06:18.667Z"
   },
   {
    "duration": 1464,
    "start_time": "2023-10-07T15:06:25.542Z"
   },
   {
    "duration": 418,
    "start_time": "2023-10-07T15:06:27.008Z"
   },
   {
    "duration": 5,
    "start_time": "2023-10-07T15:06:27.427Z"
   },
   {
    "duration": 229,
    "start_time": "2023-10-07T15:06:27.433Z"
   },
   {
    "duration": 214,
    "start_time": "2023-10-07T15:06:27.664Z"
   },
   {
    "duration": 230,
    "start_time": "2023-10-07T15:06:27.880Z"
   },
   {
    "duration": 23,
    "start_time": "2023-10-07T15:06:28.113Z"
   },
   {
    "duration": 9,
    "start_time": "2023-10-07T15:06:28.138Z"
   },
   {
    "duration": 855,
    "start_time": "2023-10-07T15:06:28.149Z"
   },
   {
    "duration": 23,
    "start_time": "2023-10-07T15:06:29.006Z"
   },
   {
    "duration": 3,
    "start_time": "2023-10-07T15:06:29.031Z"
   },
   {
    "duration": 15,
    "start_time": "2023-10-07T15:06:29.035Z"
   },
   {
    "duration": 14,
    "start_time": "2023-10-07T15:06:29.052Z"
   },
   {
    "duration": 24,
    "start_time": "2023-10-07T15:06:29.070Z"
   },
   {
    "duration": 15,
    "start_time": "2023-10-07T15:06:29.097Z"
   },
   {
    "duration": 1539,
    "start_time": "2023-10-07T15:06:55.000Z"
   },
   {
    "duration": 466,
    "start_time": "2023-10-07T15:06:56.541Z"
   },
   {
    "duration": 4,
    "start_time": "2023-10-07T15:06:57.009Z"
   },
   {
    "duration": 265,
    "start_time": "2023-10-07T15:06:57.015Z"
   },
   {
    "duration": 244,
    "start_time": "2023-10-07T15:06:57.282Z"
   },
   {
    "duration": 244,
    "start_time": "2023-10-07T15:06:57.529Z"
   },
   {
    "duration": 13,
    "start_time": "2023-10-07T15:06:57.775Z"
   },
   {
    "duration": 55,
    "start_time": "2023-10-07T15:06:57.790Z"
   },
   {
    "duration": 926,
    "start_time": "2023-10-07T15:06:57.847Z"
   },
   {
    "duration": 18,
    "start_time": "2023-10-07T15:06:58.775Z"
   },
   {
    "duration": 38,
    "start_time": "2023-10-07T15:06:58.795Z"
   },
   {
    "duration": 77,
    "start_time": "2023-10-07T15:06:58.837Z"
   },
   {
    "duration": 126,
    "start_time": "2023-10-07T15:06:58.915Z"
   },
   {
    "duration": 78,
    "start_time": "2023-10-07T15:06:59.043Z"
   },
   {
    "duration": 113,
    "start_time": "2023-10-07T15:06:59.124Z"
   },
   {
    "duration": 1321,
    "start_time": "2023-10-07T15:07:16.581Z"
   },
   {
    "duration": 430,
    "start_time": "2023-10-07T15:07:17.904Z"
   },
   {
    "duration": 5,
    "start_time": "2023-10-07T15:07:18.335Z"
   },
   {
    "duration": 350,
    "start_time": "2023-10-07T15:07:18.343Z"
   },
   {
    "duration": 215,
    "start_time": "2023-10-07T15:07:18.694Z"
   },
   {
    "duration": 230,
    "start_time": "2023-10-07T15:07:18.911Z"
   },
   {
    "duration": 15,
    "start_time": "2023-10-07T15:07:19.143Z"
   },
   {
    "duration": 51,
    "start_time": "2023-10-07T15:07:19.160Z"
   },
   {
    "duration": 879,
    "start_time": "2023-10-07T15:07:19.212Z"
   },
   {
    "duration": 19,
    "start_time": "2023-10-07T15:07:20.093Z"
   },
   {
    "duration": 37,
    "start_time": "2023-10-07T15:07:20.114Z"
   },
   {
    "duration": 140,
    "start_time": "2023-10-07T15:07:20.153Z"
   },
   {
    "duration": 35,
    "start_time": "2023-10-07T15:07:20.295Z"
   },
   {
    "duration": 23,
    "start_time": "2023-10-07T15:07:20.332Z"
   },
   {
    "duration": 37,
    "start_time": "2023-10-07T15:07:20.356Z"
   },
   {
    "duration": 26242,
    "start_time": "2023-10-07T15:07:20.395Z"
   },
   {
    "duration": 1440,
    "start_time": "2023-10-07T15:08:27.815Z"
   },
   {
    "duration": 413,
    "start_time": "2023-10-07T15:08:29.257Z"
   },
   {
    "duration": 5,
    "start_time": "2023-10-07T15:08:29.671Z"
   },
   {
    "duration": 238,
    "start_time": "2023-10-07T15:08:29.678Z"
   },
   {
    "duration": 230,
    "start_time": "2023-10-07T15:08:29.923Z"
   },
   {
    "duration": 284,
    "start_time": "2023-10-07T15:08:30.155Z"
   },
   {
    "duration": 16,
    "start_time": "2023-10-07T15:08:30.440Z"
   },
   {
    "duration": 30,
    "start_time": "2023-10-07T15:08:30.457Z"
   },
   {
    "duration": 1001,
    "start_time": "2023-10-07T15:08:30.489Z"
   },
   {
    "duration": 21,
    "start_time": "2023-10-07T15:08:31.493Z"
   },
   {
    "duration": 19,
    "start_time": "2023-10-07T15:08:31.523Z"
   },
   {
    "duration": 53,
    "start_time": "2023-10-07T15:08:31.544Z"
   },
   {
    "duration": 25,
    "start_time": "2023-10-07T15:08:31.599Z"
   },
   {
    "duration": 37,
    "start_time": "2023-10-07T15:08:31.626Z"
   },
   {
    "duration": 38,
    "start_time": "2023-10-07T15:08:31.665Z"
   },
   {
    "duration": 26151,
    "start_time": "2023-10-07T15:08:31.705Z"
   },
   {
    "duration": 1381,
    "start_time": "2023-10-07T15:09:05.077Z"
   },
   {
    "duration": 407,
    "start_time": "2023-10-07T15:09:06.462Z"
   },
   {
    "duration": 5,
    "start_time": "2023-10-07T15:09:06.871Z"
   },
   {
    "duration": 247,
    "start_time": "2023-10-07T15:09:06.877Z"
   },
   {
    "duration": 228,
    "start_time": "2023-10-07T15:09:07.126Z"
   },
   {
    "duration": 237,
    "start_time": "2023-10-07T15:09:07.356Z"
   },
   {
    "duration": 30,
    "start_time": "2023-10-07T15:09:07.594Z"
   },
   {
    "duration": 7,
    "start_time": "2023-10-07T15:09:07.627Z"
   },
   {
    "duration": 759,
    "start_time": "2023-10-07T15:09:07.635Z"
   },
   {
    "duration": 18,
    "start_time": "2023-10-07T15:09:08.396Z"
   },
   {
    "duration": 10,
    "start_time": "2023-10-07T15:09:08.415Z"
   },
   {
    "duration": 6,
    "start_time": "2023-10-07T15:09:08.426Z"
   },
   {
    "duration": 8,
    "start_time": "2023-10-07T15:09:08.434Z"
   },
   {
    "duration": 17,
    "start_time": "2023-10-07T15:09:08.444Z"
   },
   {
    "duration": 15,
    "start_time": "2023-10-07T15:09:08.464Z"
   },
   {
    "duration": 26729,
    "start_time": "2023-10-07T15:09:08.482Z"
   },
   {
    "duration": 1465,
    "start_time": "2023-10-07T15:14:07.683Z"
   },
   {
    "duration": 448,
    "start_time": "2023-10-07T15:14:09.150Z"
   },
   {
    "duration": 5,
    "start_time": "2023-10-07T15:14:09.600Z"
   },
   {
    "duration": 256,
    "start_time": "2023-10-07T15:14:09.607Z"
   },
   {
    "duration": 245,
    "start_time": "2023-10-07T15:14:09.866Z"
   },
   {
    "duration": 284,
    "start_time": "2023-10-07T15:14:10.113Z"
   },
   {
    "duration": 32,
    "start_time": "2023-10-07T15:14:10.399Z"
   },
   {
    "duration": 6,
    "start_time": "2023-10-07T15:14:10.433Z"
   },
   {
    "duration": 896,
    "start_time": "2023-10-07T15:14:10.442Z"
   },
   {
    "duration": 19,
    "start_time": "2023-10-07T15:14:11.341Z"
   },
   {
    "duration": 23,
    "start_time": "2023-10-07T15:14:11.362Z"
   },
   {
    "duration": 17,
    "start_time": "2023-10-07T15:14:11.386Z"
   },
   {
    "duration": 28,
    "start_time": "2023-10-07T15:14:11.405Z"
   },
   {
    "duration": 32,
    "start_time": "2023-10-07T15:14:11.435Z"
   },
   {
    "duration": 56,
    "start_time": "2023-10-07T15:14:11.468Z"
   },
   {
    "duration": 29864,
    "start_time": "2023-10-07T15:14:11.526Z"
   },
   {
    "duration": 1773,
    "start_time": "2023-10-09T13:52:04.766Z"
   },
   {
    "duration": 1756,
    "start_time": "2023-10-09T13:52:06.541Z"
   },
   {
    "duration": 5,
    "start_time": "2023-10-09T13:52:08.299Z"
   },
   {
    "duration": 286,
    "start_time": "2023-10-09T13:52:08.306Z"
   },
   {
    "duration": 291,
    "start_time": "2023-10-09T13:52:08.594Z"
   },
   {
    "duration": 333,
    "start_time": "2023-10-09T13:52:08.887Z"
   },
   {
    "duration": 17,
    "start_time": "2023-10-09T13:52:09.221Z"
   },
   {
    "duration": 33,
    "start_time": "2023-10-09T13:52:09.240Z"
   },
   {
    "duration": 997,
    "start_time": "2023-10-09T13:52:09.275Z"
   },
   {
    "duration": 24,
    "start_time": "2023-10-09T13:52:10.274Z"
   },
   {
    "duration": 16,
    "start_time": "2023-10-09T13:52:10.299Z"
   },
   {
    "duration": 33,
    "start_time": "2023-10-09T13:52:10.317Z"
   },
   {
    "duration": 38,
    "start_time": "2023-10-09T13:52:10.352Z"
   },
   {
    "duration": 18,
    "start_time": "2023-10-09T13:52:10.392Z"
   },
   {
    "duration": 34,
    "start_time": "2023-10-09T13:52:10.412Z"
   },
   {
    "duration": 30559,
    "start_time": "2023-10-09T13:52:10.448Z"
   },
   {
    "duration": 7,
    "start_time": "2023-10-09T13:55:28.776Z"
   },
   {
    "duration": 5,
    "start_time": "2023-10-09T13:57:37.517Z"
   },
   {
    "duration": 7974,
    "start_time": "2023-10-09T13:57:38.051Z"
   },
   {
    "duration": 1686,
    "start_time": "2023-10-09T13:57:59.635Z"
   },
   {
    "duration": 474,
    "start_time": "2023-10-09T13:58:01.323Z"
   },
   {
    "duration": 7,
    "start_time": "2023-10-09T13:58:01.800Z"
   },
   {
    "duration": 8537,
    "start_time": "2023-10-09T13:58:01.809Z"
   },
   {
    "duration": 8829,
    "start_time": "2023-10-09T13:58:10.349Z"
   },
   {
    "duration": 8814,
    "start_time": "2023-10-09T13:58:19.181Z"
   },
   {
    "duration": 21,
    "start_time": "2023-10-09T13:58:27.997Z"
   },
   {
    "duration": 19,
    "start_time": "2023-10-09T13:58:28.020Z"
   },
   {
    "duration": 840,
    "start_time": "2023-10-09T13:58:28.042Z"
   },
   {
    "duration": 25,
    "start_time": "2023-10-09T13:58:28.884Z"
   },
   {
    "duration": 3,
    "start_time": "2023-10-09T13:58:28.912Z"
   },
   {
    "duration": 11,
    "start_time": "2023-10-09T13:58:28.917Z"
   },
   {
    "duration": 45,
    "start_time": "2023-10-09T13:58:28.930Z"
   },
   {
    "duration": 5,
    "start_time": "2023-10-09T13:58:28.979Z"
   },
   {
    "duration": 59,
    "start_time": "2023-10-09T13:58:28.986Z"
   },
   {
    "duration": 31875,
    "start_time": "2023-10-09T13:58:29.048Z"
   },
   {
    "duration": 1613,
    "start_time": "2023-10-09T14:00:35.430Z"
   },
   {
    "duration": 497,
    "start_time": "2023-10-09T14:00:37.046Z"
   },
   {
    "duration": 11,
    "start_time": "2023-10-09T14:00:37.545Z"
   },
   {
    "duration": 8247,
    "start_time": "2023-10-09T14:00:37.559Z"
   },
   {
    "duration": 8496,
    "start_time": "2023-10-09T14:00:45.809Z"
   },
   {
    "duration": 8776,
    "start_time": "2023-10-09T14:00:54.307Z"
   },
   {
    "duration": 17,
    "start_time": "2023-10-09T14:01:03.086Z"
   },
   {
    "duration": 135,
    "start_time": "2023-10-09T14:01:03.105Z"
   },
   {
    "duration": 903,
    "start_time": "2023-10-09T14:01:03.242Z"
   },
   {
    "duration": 26,
    "start_time": "2023-10-09T14:01:04.148Z"
   },
   {
    "duration": 191,
    "start_time": "2023-10-09T14:01:04.176Z"
   },
   {
    "duration": 36,
    "start_time": "2023-10-09T14:01:04.369Z"
   },
   {
    "duration": 34,
    "start_time": "2023-10-09T14:01:04.407Z"
   },
   {
    "duration": 19,
    "start_time": "2023-10-09T14:01:04.443Z"
   },
   {
    "duration": 19,
    "start_time": "2023-10-09T14:01:04.464Z"
   },
   {
    "duration": 30728,
    "start_time": "2023-10-09T14:01:04.485Z"
   },
   {
    "duration": 5,
    "start_time": "2023-10-09T14:01:35.216Z"
   },
   {
    "duration": 8,
    "start_time": "2023-10-09T14:01:48.200Z"
   },
   {
    "duration": 15,
    "start_time": "2023-10-09T14:02:28.119Z"
   },
   {
    "duration": 1618,
    "start_time": "2023-10-09T14:03:41.603Z"
   },
   {
    "duration": 462,
    "start_time": "2023-10-09T14:03:43.223Z"
   },
   {
    "duration": 6,
    "start_time": "2023-10-09T14:03:43.688Z"
   },
   {
    "duration": 81439,
    "start_time": "2023-10-09T14:03:43.696Z"
   },
   {
    "duration": 1492,
    "start_time": "2023-10-09T14:05:45.102Z"
   },
   {
    "duration": 477,
    "start_time": "2023-10-09T14:05:46.597Z"
   },
   {
    "duration": 6,
    "start_time": "2023-10-09T14:05:47.077Z"
   },
   {
    "duration": 1955,
    "start_time": "2023-10-09T14:05:47.085Z"
   },
   {
    "duration": 1793,
    "start_time": "2023-10-09T14:05:49.043Z"
   },
   {
    "duration": 1871,
    "start_time": "2023-10-09T14:05:50.839Z"
   },
   {
    "duration": 14,
    "start_time": "2023-10-09T14:05:52.712Z"
   },
   {
    "duration": 44,
    "start_time": "2023-10-09T14:05:52.729Z"
   },
   {
    "duration": 883,
    "start_time": "2023-10-09T14:05:52.775Z"
   },
   {
    "duration": 24,
    "start_time": "2023-10-09T14:05:53.660Z"
   },
   {
    "duration": 3,
    "start_time": "2023-10-09T14:05:53.686Z"
   },
   {
    "duration": 8,
    "start_time": "2023-10-09T14:05:53.690Z"
   },
   {
    "duration": 7,
    "start_time": "2023-10-09T14:05:53.700Z"
   },
   {
    "duration": 39,
    "start_time": "2023-10-09T14:05:53.710Z"
   },
   {
    "duration": 63,
    "start_time": "2023-10-09T14:05:53.751Z"
   },
   {
    "duration": 31203,
    "start_time": "2023-10-09T14:05:53.816Z"
   },
   {
    "duration": 7,
    "start_time": "2023-10-09T14:07:00.263Z"
   },
   {
    "duration": 1532,
    "start_time": "2023-10-09T14:07:04.319Z"
   },
   {
    "duration": 468,
    "start_time": "2023-10-09T14:07:05.853Z"
   },
   {
    "duration": 7,
    "start_time": "2023-10-09T14:07:06.323Z"
   },
   {
    "duration": 1986,
    "start_time": "2023-10-09T14:07:06.332Z"
   },
   {
    "duration": 0,
    "start_time": "2023-10-09T14:07:08.320Z"
   },
   {
    "duration": 0,
    "start_time": "2023-10-09T14:07:08.322Z"
   },
   {
    "duration": 0,
    "start_time": "2023-10-09T14:07:08.323Z"
   },
   {
    "duration": 0,
    "start_time": "2023-10-09T14:07:08.325Z"
   },
   {
    "duration": 0,
    "start_time": "2023-10-09T14:07:08.326Z"
   },
   {
    "duration": 0,
    "start_time": "2023-10-09T14:07:08.327Z"
   },
   {
    "duration": 0,
    "start_time": "2023-10-09T14:07:08.329Z"
   },
   {
    "duration": 0,
    "start_time": "2023-10-09T14:07:08.330Z"
   },
   {
    "duration": 0,
    "start_time": "2023-10-09T14:07:08.332Z"
   },
   {
    "duration": 0,
    "start_time": "2023-10-09T14:07:08.333Z"
   },
   {
    "duration": 0,
    "start_time": "2023-10-09T14:07:08.334Z"
   },
   {
    "duration": 0,
    "start_time": "2023-10-09T14:07:08.357Z"
   },
   {
    "duration": 1539,
    "start_time": "2023-10-09T14:07:18.488Z"
   },
   {
    "duration": 452,
    "start_time": "2023-10-09T14:07:20.029Z"
   },
   {
    "duration": 6,
    "start_time": "2023-10-09T14:07:20.483Z"
   },
   {
    "duration": 1841,
    "start_time": "2023-10-09T14:07:20.491Z"
   },
   {
    "duration": 1931,
    "start_time": "2023-10-09T14:07:22.334Z"
   },
   {
    "duration": 1965,
    "start_time": "2023-10-09T14:07:24.267Z"
   },
   {
    "duration": 23,
    "start_time": "2023-10-09T14:07:26.234Z"
   },
   {
    "duration": 33,
    "start_time": "2023-10-09T14:07:26.259Z"
   },
   {
    "duration": 866,
    "start_time": "2023-10-09T14:07:26.295Z"
   },
   {
    "duration": 25,
    "start_time": "2023-10-09T14:07:27.164Z"
   },
   {
    "duration": 30,
    "start_time": "2023-10-09T14:07:27.191Z"
   },
   {
    "duration": 18,
    "start_time": "2023-10-09T14:07:27.223Z"
   },
   {
    "duration": 41,
    "start_time": "2023-10-09T14:07:27.244Z"
   },
   {
    "duration": 32,
    "start_time": "2023-10-09T14:07:27.287Z"
   },
   {
    "duration": 33,
    "start_time": "2023-10-09T14:07:27.321Z"
   },
   {
    "duration": 31033,
    "start_time": "2023-10-09T14:07:27.356Z"
   },
   {
    "duration": 1502,
    "start_time": "2023-10-09T14:08:09.461Z"
   },
   {
    "duration": 476,
    "start_time": "2023-10-09T14:08:10.966Z"
   },
   {
    "duration": 12,
    "start_time": "2023-10-09T14:08:11.445Z"
   },
   {
    "duration": 1869,
    "start_time": "2023-10-09T14:08:11.460Z"
   },
   {
    "duration": 1878,
    "start_time": "2023-10-09T14:08:13.331Z"
   },
   {
    "duration": 1877,
    "start_time": "2023-10-09T14:08:15.211Z"
   },
   {
    "duration": 17,
    "start_time": "2023-10-09T14:08:17.090Z"
   },
   {
    "duration": 18,
    "start_time": "2023-10-09T14:08:17.109Z"
   },
   {
    "duration": 834,
    "start_time": "2023-10-09T14:08:17.129Z"
   },
   {
    "duration": 25,
    "start_time": "2023-10-09T14:08:17.966Z"
   },
   {
    "duration": 18,
    "start_time": "2023-10-09T14:08:17.994Z"
   },
   {
    "duration": 12,
    "start_time": "2023-10-09T14:08:18.014Z"
   },
   {
    "duration": 12,
    "start_time": "2023-10-09T14:08:18.028Z"
   },
   {
    "duration": 15,
    "start_time": "2023-10-09T14:08:18.042Z"
   },
   {
    "duration": 11,
    "start_time": "2023-10-09T14:08:18.059Z"
   },
   {
    "duration": 31185,
    "start_time": "2023-10-09T14:08:18.073Z"
   },
   {
    "duration": 1476,
    "start_time": "2023-10-09T14:08:54.770Z"
   },
   {
    "duration": 465,
    "start_time": "2023-10-09T14:08:56.248Z"
   },
   {
    "duration": 7,
    "start_time": "2023-10-09T14:08:56.715Z"
   },
   {
    "duration": 1861,
    "start_time": "2023-10-09T14:08:56.724Z"
   },
   {
    "duration": 1901,
    "start_time": "2023-10-09T14:08:58.587Z"
   },
   {
    "duration": 1876,
    "start_time": "2023-10-09T14:09:00.490Z"
   },
   {
    "duration": 19,
    "start_time": "2023-10-09T14:09:02.369Z"
   },
   {
    "duration": 385,
    "start_time": "2023-10-09T14:09:02.390Z"
   },
   {
    "duration": 1086,
    "start_time": "2023-10-09T14:09:02.777Z"
   },
   {
    "duration": 23,
    "start_time": "2023-10-09T14:09:03.866Z"
   },
   {
    "duration": 20,
    "start_time": "2023-10-09T14:09:03.890Z"
   },
   {
    "duration": 13,
    "start_time": "2023-10-09T14:09:03.912Z"
   },
   {
    "duration": 8,
    "start_time": "2023-10-09T14:09:03.926Z"
   },
   {
    "duration": 23,
    "start_time": "2023-10-09T14:09:03.936Z"
   },
   {
    "duration": 17,
    "start_time": "2023-10-09T14:09:03.961Z"
   },
   {
    "duration": 30770,
    "start_time": "2023-10-09T14:09:03.980Z"
   },
   {
    "duration": 3,
    "start_time": "2023-10-09T14:36:36.008Z"
   },
   {
    "duration": 1659,
    "start_time": "2023-10-09T14:37:37.947Z"
   },
   {
    "duration": 480,
    "start_time": "2023-10-09T14:37:39.608Z"
   },
   {
    "duration": 7,
    "start_time": "2023-10-09T14:37:40.090Z"
   },
   {
    "duration": 1852,
    "start_time": "2023-10-09T14:37:40.099Z"
   },
   {
    "duration": 1829,
    "start_time": "2023-10-09T14:37:41.958Z"
   },
   {
    "duration": 1882,
    "start_time": "2023-10-09T14:37:43.789Z"
   },
   {
    "duration": 18,
    "start_time": "2023-10-09T14:37:45.673Z"
   },
   {
    "duration": 14,
    "start_time": "2023-10-09T14:37:45.693Z"
   },
   {
    "duration": 863,
    "start_time": "2023-10-09T14:37:45.709Z"
   },
   {
    "duration": 24,
    "start_time": "2023-10-09T14:37:46.574Z"
   },
   {
    "duration": 7,
    "start_time": "2023-10-09T14:37:46.599Z"
   },
   {
    "duration": 34,
    "start_time": "2023-10-09T14:37:46.609Z"
   },
   {
    "duration": 14,
    "start_time": "2023-10-09T14:37:46.645Z"
   },
   {
    "duration": 28,
    "start_time": "2023-10-09T14:37:46.662Z"
   },
   {
    "duration": 11,
    "start_time": "2023-10-09T14:37:46.693Z"
   },
   {
    "duration": 31379,
    "start_time": "2023-10-09T14:37:46.706Z"
   },
   {
    "duration": 1481,
    "start_time": "2023-10-09T14:39:57.494Z"
   },
   {
    "duration": 488,
    "start_time": "2023-10-09T14:39:58.977Z"
   },
   {
    "duration": 6,
    "start_time": "2023-10-09T14:39:59.467Z"
   },
   {
    "duration": 1925,
    "start_time": "2023-10-09T14:39:59.476Z"
   },
   {
    "duration": 1989,
    "start_time": "2023-10-09T14:40:01.403Z"
   },
   {
    "duration": 1915,
    "start_time": "2023-10-09T14:40:03.394Z"
   },
   {
    "duration": 18,
    "start_time": "2023-10-09T14:40:05.311Z"
   },
   {
    "duration": 26,
    "start_time": "2023-10-09T14:40:05.331Z"
   },
   {
    "duration": 889,
    "start_time": "2023-10-09T14:40:05.359Z"
   },
   {
    "duration": 22,
    "start_time": "2023-10-09T14:40:06.252Z"
   },
   {
    "duration": 11,
    "start_time": "2023-10-09T14:40:06.276Z"
   },
   {
    "duration": 22,
    "start_time": "2023-10-09T14:40:06.289Z"
   },
   {
    "duration": 27,
    "start_time": "2023-10-09T14:40:06.313Z"
   },
   {
    "duration": 71,
    "start_time": "2023-10-09T14:40:06.342Z"
   },
   {
    "duration": 20,
    "start_time": "2023-10-09T14:40:06.415Z"
   },
   {
    "duration": 31387,
    "start_time": "2023-10-09T14:40:06.437Z"
   },
   {
    "duration": 4938,
    "start_time": "2023-10-10T09:26:04.686Z"
   },
   {
    "duration": 757,
    "start_time": "2023-10-10T09:26:09.626Z"
   },
   {
    "duration": 5,
    "start_time": "2023-10-10T09:26:10.385Z"
   },
   {
    "duration": 1505,
    "start_time": "2023-10-10T09:26:10.392Z"
   },
   {
    "duration": 1493,
    "start_time": "2023-10-10T09:26:11.899Z"
   },
   {
    "duration": 1640,
    "start_time": "2023-10-10T09:26:13.394Z"
   },
   {
    "duration": 17,
    "start_time": "2023-10-10T09:26:15.036Z"
   },
   {
    "duration": 34,
    "start_time": "2023-10-10T09:26:15.055Z"
   },
   {
    "duration": 818,
    "start_time": "2023-10-10T09:26:15.091Z"
   },
   {
    "duration": 22,
    "start_time": "2023-10-10T09:26:15.911Z"
   },
   {
    "duration": 3,
    "start_time": "2023-10-10T09:26:15.935Z"
   },
   {
    "duration": 4,
    "start_time": "2023-10-10T09:26:15.950Z"
   },
   {
    "duration": 8,
    "start_time": "2023-10-10T09:26:15.956Z"
   },
   {
    "duration": 24,
    "start_time": "2023-10-10T09:26:15.968Z"
   },
   {
    "duration": 10,
    "start_time": "2023-10-10T09:26:15.993Z"
   },
   {
    "duration": 24461,
    "start_time": "2023-10-10T09:26:16.004Z"
   },
   {
    "duration": 1029,
    "start_time": "2023-10-10T09:27:25.528Z"
   },
   {
    "duration": 4,
    "start_time": "2023-10-10T09:27:33.246Z"
   },
   {
    "duration": 3,
    "start_time": "2023-10-10T09:27:40.075Z"
   },
   {
    "duration": 4,
    "start_time": "2023-10-10T09:27:46.055Z"
   },
   {
    "duration": 194,
    "start_time": "2023-10-10T09:27:48.443Z"
   },
   {
    "duration": 7,
    "start_time": "2023-10-10T09:30:18.974Z"
   },
   {
    "duration": 5,
    "start_time": "2023-10-10T09:30:21.009Z"
   },
   {
    "duration": 1954,
    "start_time": "2023-10-16T14:07:26.059Z"
   },
   {
    "duration": 873,
    "start_time": "2023-10-16T14:07:28.016Z"
   },
   {
    "duration": 6,
    "start_time": "2023-10-16T14:07:28.891Z"
   },
   {
    "duration": 1864,
    "start_time": "2023-10-16T14:07:28.899Z"
   },
   {
    "duration": 1906,
    "start_time": "2023-10-16T14:07:30.765Z"
   },
   {
    "duration": 1867,
    "start_time": "2023-10-16T14:07:32.673Z"
   },
   {
    "duration": 20,
    "start_time": "2023-10-16T14:07:34.542Z"
   },
   {
    "duration": 11,
    "start_time": "2023-10-16T14:07:34.564Z"
   },
   {
    "duration": 890,
    "start_time": "2023-10-16T14:07:34.577Z"
   },
   {
    "duration": 5,
    "start_time": "2023-10-16T14:07:35.470Z"
   },
   {
    "duration": 34,
    "start_time": "2023-10-16T14:07:35.478Z"
   },
   {
    "duration": 42,
    "start_time": "2023-10-16T14:07:35.514Z"
   },
   {
    "duration": 3,
    "start_time": "2023-10-16T14:07:35.558Z"
   },
   {
    "duration": 35,
    "start_time": "2023-10-16T14:07:35.562Z"
   },
   {
    "duration": 29,
    "start_time": "2023-10-16T14:07:35.599Z"
   },
   {
    "duration": 37,
    "start_time": "2023-10-16T14:07:35.630Z"
   },
   {
    "duration": 30,
    "start_time": "2023-10-16T14:07:35.669Z"
   },
   {
    "duration": 34,
    "start_time": "2023-10-16T14:07:35.701Z"
   },
   {
    "duration": 25,
    "start_time": "2023-10-16T14:07:35.737Z"
   },
   {
    "duration": 30689,
    "start_time": "2023-10-16T14:07:35.764Z"
   },
   {
    "duration": 1438,
    "start_time": "2024-01-17T14:20:32.680Z"
   },
   {
    "duration": 846,
    "start_time": "2024-01-17T14:20:34.120Z"
   },
   {
    "duration": 6,
    "start_time": "2024-01-17T14:20:34.967Z"
   },
   {
    "duration": 1939,
    "start_time": "2024-01-17T14:20:34.974Z"
   },
   {
    "duration": 1541,
    "start_time": "2024-01-17T14:20:36.915Z"
   },
   {
    "duration": 2195,
    "start_time": "2024-01-17T14:20:38.457Z"
   },
   {
    "duration": 12,
    "start_time": "2024-01-17T14:20:40.654Z"
   },
   {
    "duration": 6,
    "start_time": "2024-01-17T14:20:40.668Z"
   },
   {
    "duration": 139,
    "start_time": "2024-01-17T14:20:40.675Z"
   },
   {
    "duration": 0,
    "start_time": "2024-01-17T14:20:40.816Z"
   },
   {
    "duration": 0,
    "start_time": "2024-01-17T14:20:40.817Z"
   },
   {
    "duration": 0,
    "start_time": "2024-01-17T14:20:40.818Z"
   },
   {
    "duration": 0,
    "start_time": "2024-01-17T14:20:40.819Z"
   },
   {
    "duration": 0,
    "start_time": "2024-01-17T14:20:40.833Z"
   },
   {
    "duration": 0,
    "start_time": "2024-01-17T14:20:40.835Z"
   },
   {
    "duration": 0,
    "start_time": "2024-01-17T14:20:40.836Z"
   },
   {
    "duration": 0,
    "start_time": "2024-01-17T14:20:40.837Z"
   },
   {
    "duration": 0,
    "start_time": "2024-01-17T14:20:40.839Z"
   },
   {
    "duration": 0,
    "start_time": "2024-01-17T14:20:40.841Z"
   },
   {
    "duration": 0,
    "start_time": "2024-01-17T14:20:40.842Z"
   },
   {
    "duration": 1334,
    "start_time": "2024-01-17T14:22:22.763Z"
   },
   {
    "duration": 379,
    "start_time": "2024-01-17T14:22:24.099Z"
   },
   {
    "duration": 6,
    "start_time": "2024-01-17T14:22:24.479Z"
   },
   {
    "duration": 1539,
    "start_time": "2024-01-17T14:22:24.486Z"
   },
   {
    "duration": 1524,
    "start_time": "2024-01-17T14:22:26.026Z"
   },
   {
    "duration": 1471,
    "start_time": "2024-01-17T14:22:27.551Z"
   },
   {
    "duration": 18,
    "start_time": "2024-01-17T14:22:29.024Z"
   },
   {
    "duration": 5,
    "start_time": "2024-01-17T14:22:29.043Z"
   },
   {
    "duration": 605,
    "start_time": "2024-01-17T14:22:29.050Z"
   },
   {
    "duration": 3,
    "start_time": "2024-01-17T14:22:29.658Z"
   },
   {
    "duration": 5,
    "start_time": "2024-01-17T14:22:29.662Z"
   },
   {
    "duration": 9,
    "start_time": "2024-01-17T14:22:29.669Z"
   },
   {
    "duration": 3,
    "start_time": "2024-01-17T14:22:29.679Z"
   },
   {
    "duration": 5,
    "start_time": "2024-01-17T14:22:29.683Z"
   },
   {
    "duration": 6,
    "start_time": "2024-01-17T14:22:29.689Z"
   },
   {
    "duration": 6,
    "start_time": "2024-01-17T14:22:29.696Z"
   },
   {
    "duration": 6,
    "start_time": "2024-01-17T14:22:29.733Z"
   },
   {
    "duration": 9,
    "start_time": "2024-01-17T14:22:29.740Z"
   },
   {
    "duration": 6,
    "start_time": "2024-01-17T14:22:29.751Z"
   },
   {
    "duration": 191,
    "start_time": "2024-01-17T14:22:29.758Z"
   },
   {
    "duration": 1289,
    "start_time": "2024-01-17T14:27:05.665Z"
   },
   {
    "duration": 380,
    "start_time": "2024-01-17T14:27:06.956Z"
   },
   {
    "duration": 6,
    "start_time": "2024-01-17T14:27:07.337Z"
   },
   {
    "duration": 1609,
    "start_time": "2024-01-17T14:27:07.344Z"
   },
   {
    "duration": 1598,
    "start_time": "2024-01-17T14:27:08.956Z"
   },
   {
    "duration": 1677,
    "start_time": "2024-01-17T14:27:10.555Z"
   },
   {
    "duration": 12,
    "start_time": "2024-01-17T14:27:12.233Z"
   },
   {
    "duration": 7,
    "start_time": "2024-01-17T14:27:12.247Z"
   },
   {
    "duration": 600,
    "start_time": "2024-01-17T14:27:12.255Z"
   },
   {
    "duration": 5,
    "start_time": "2024-01-17T14:27:12.857Z"
   },
   {
    "duration": 9,
    "start_time": "2024-01-17T14:27:12.863Z"
   },
   {
    "duration": 10,
    "start_time": "2024-01-17T14:27:12.873Z"
   },
   {
    "duration": 2,
    "start_time": "2024-01-17T14:27:12.885Z"
   },
   {
    "duration": 4,
    "start_time": "2024-01-17T14:27:12.889Z"
   },
   {
    "duration": 4,
    "start_time": "2024-01-17T14:27:12.895Z"
   },
   {
    "duration": 33,
    "start_time": "2024-01-17T14:27:12.900Z"
   },
   {
    "duration": 4,
    "start_time": "2024-01-17T14:27:12.935Z"
   },
   {
    "duration": 11,
    "start_time": "2024-01-17T14:27:12.940Z"
   },
   {
    "duration": 5,
    "start_time": "2024-01-17T14:27:12.953Z"
   },
   {
    "duration": 10799,
    "start_time": "2024-01-17T14:27:12.960Z"
   },
   {
    "duration": 235,
    "start_time": "2024-01-17T14:33:19.042Z"
   },
   {
    "duration": 5,
    "start_time": "2024-01-17T14:35:48.047Z"
   },
   {
    "duration": 7,
    "start_time": "2024-01-17T14:35:49.001Z"
   },
   {
    "duration": 4,
    "start_time": "2024-01-17T14:35:49.542Z"
   },
   {
    "duration": 10010,
    "start_time": "2024-01-17T14:35:50.292Z"
   },
   {
    "duration": 1268,
    "start_time": "2024-01-17T14:36:13.257Z"
   },
   {
    "duration": 390,
    "start_time": "2024-01-17T14:36:14.527Z"
   },
   {
    "duration": 6,
    "start_time": "2024-01-17T14:36:14.919Z"
   },
   {
    "duration": 1498,
    "start_time": "2024-01-17T14:36:14.927Z"
   },
   {
    "duration": 1507,
    "start_time": "2024-01-17T14:36:16.427Z"
   },
   {
    "duration": 1568,
    "start_time": "2024-01-17T14:36:17.936Z"
   },
   {
    "duration": 15,
    "start_time": "2024-01-17T14:36:19.506Z"
   },
   {
    "duration": 15,
    "start_time": "2024-01-17T14:36:19.522Z"
   },
   {
    "duration": 614,
    "start_time": "2024-01-17T14:36:19.539Z"
   },
   {
    "duration": 4,
    "start_time": "2024-01-17T14:36:20.155Z"
   },
   {
    "duration": 8,
    "start_time": "2024-01-17T14:36:20.161Z"
   },
   {
    "duration": 2,
    "start_time": "2024-01-17T14:36:20.171Z"
   },
   {
    "duration": 7,
    "start_time": "2024-01-17T14:36:20.174Z"
   },
   {
    "duration": 3,
    "start_time": "2024-01-17T14:36:20.183Z"
   },
   {
    "duration": 7,
    "start_time": "2024-01-17T14:36:20.187Z"
   },
   {
    "duration": 38,
    "start_time": "2024-01-17T14:36:20.196Z"
   },
   {
    "duration": 11,
    "start_time": "2024-01-17T14:36:20.235Z"
   },
   {
    "duration": 10,
    "start_time": "2024-01-17T14:36:20.248Z"
   },
   {
    "duration": 10177,
    "start_time": "2024-01-17T14:36:20.259Z"
   },
   {
    "duration": 1364,
    "start_time": "2024-01-17T14:39:22.557Z"
   },
   {
    "duration": 389,
    "start_time": "2024-01-17T14:39:23.923Z"
   },
   {
    "duration": 6,
    "start_time": "2024-01-17T14:39:24.313Z"
   },
   {
    "duration": 1530,
    "start_time": "2024-01-17T14:39:24.320Z"
   },
   {
    "duration": 1804,
    "start_time": "2024-01-17T14:39:25.852Z"
   },
   {
    "duration": 1770,
    "start_time": "2024-01-17T14:39:27.657Z"
   },
   {
    "duration": 15,
    "start_time": "2024-01-17T14:39:29.429Z"
   },
   {
    "duration": 15,
    "start_time": "2024-01-17T14:39:29.445Z"
   },
   {
    "duration": 594,
    "start_time": "2024-01-17T14:39:29.461Z"
   },
   {
    "duration": 5,
    "start_time": "2024-01-17T14:39:30.056Z"
   },
   {
    "duration": 47,
    "start_time": "2024-01-17T14:39:30.063Z"
   },
   {
    "duration": 27,
    "start_time": "2024-01-17T14:39:30.112Z"
   },
   {
    "duration": 37,
    "start_time": "2024-01-17T14:39:30.141Z"
   },
   {
    "duration": 33,
    "start_time": "2024-01-17T14:39:30.182Z"
   },
   {
    "duration": 48,
    "start_time": "2024-01-17T14:39:30.217Z"
   },
   {
    "duration": 26,
    "start_time": "2024-01-17T14:39:30.266Z"
   },
   {
    "duration": 96,
    "start_time": "2024-01-17T14:39:30.294Z"
   },
   {
    "duration": 54,
    "start_time": "2024-01-17T14:39:30.391Z"
   },
   {
    "duration": 10866,
    "start_time": "2024-01-17T14:39:30.446Z"
   },
   {
    "duration": 1350,
    "start_time": "2024-01-17T14:41:45.895Z"
   },
   {
    "duration": 787,
    "start_time": "2024-01-17T14:41:47.247Z"
   },
   {
    "duration": 6,
    "start_time": "2024-01-17T14:41:48.035Z"
   },
   {
    "duration": 1656,
    "start_time": "2024-01-17T14:41:48.042Z"
   },
   {
    "duration": 2821,
    "start_time": "2024-01-17T14:41:49.700Z"
   },
   {
    "duration": 1501,
    "start_time": "2024-01-17T14:41:52.523Z"
   },
   {
    "duration": 14,
    "start_time": "2024-01-17T14:41:54.033Z"
   },
   {
    "duration": 8,
    "start_time": "2024-01-17T14:41:54.048Z"
   },
   {
    "duration": 605,
    "start_time": "2024-01-17T14:41:54.057Z"
   },
   {
    "duration": 5,
    "start_time": "2024-01-17T14:41:54.663Z"
   },
   {
    "duration": 77,
    "start_time": "2024-01-17T14:41:54.669Z"
   },
   {
    "duration": 3,
    "start_time": "2024-01-17T14:41:54.747Z"
   },
   {
    "duration": 20,
    "start_time": "2024-01-17T14:41:54.752Z"
   },
   {
    "duration": 20,
    "start_time": "2024-01-17T14:41:54.774Z"
   },
   {
    "duration": 10,
    "start_time": "2024-01-17T14:41:54.795Z"
   },
   {
    "duration": 9,
    "start_time": "2024-01-17T14:41:54.807Z"
   },
   {
    "duration": 30,
    "start_time": "2024-01-17T14:41:54.817Z"
   },
   {
    "duration": 6,
    "start_time": "2024-01-17T14:41:54.849Z"
   },
   {
    "duration": 10751,
    "start_time": "2024-01-17T14:41:54.856Z"
   },
   {
    "duration": 270,
    "start_time": "2024-01-17T14:42:55.675Z"
   },
   {
    "duration": 276,
    "start_time": "2024-01-17T14:43:09.735Z"
   },
   {
    "duration": 271,
    "start_time": "2024-01-17T14:43:22.826Z"
   },
   {
    "duration": 240,
    "start_time": "2024-01-17T14:46:29.859Z"
   },
   {
    "duration": 26,
    "start_time": "2024-01-17T14:47:57.444Z"
   },
   {
    "duration": 1794,
    "start_time": "2024-01-17T14:49:02.981Z"
   },
   {
    "duration": 547,
    "start_time": "2024-01-17T14:49:04.777Z"
   },
   {
    "duration": 6,
    "start_time": "2024-01-17T14:49:05.326Z"
   },
   {
    "duration": 1725,
    "start_time": "2024-01-17T14:49:05.334Z"
   },
   {
    "duration": 1562,
    "start_time": "2024-01-17T14:49:07.061Z"
   },
   {
    "duration": 2264,
    "start_time": "2024-01-17T14:49:08.625Z"
   },
   {
    "duration": 30,
    "start_time": "2024-01-17T14:49:10.891Z"
   },
   {
    "duration": 15,
    "start_time": "2024-01-17T14:49:10.923Z"
   },
   {
    "duration": 159,
    "start_time": "2024-01-17T14:49:10.940Z"
   },
   {
    "duration": 0,
    "start_time": "2024-01-17T14:49:11.102Z"
   },
   {
    "duration": 0,
    "start_time": "2024-01-17T14:49:11.103Z"
   },
   {
    "duration": 0,
    "start_time": "2024-01-17T14:49:11.104Z"
   },
   {
    "duration": 0,
    "start_time": "2024-01-17T14:49:11.106Z"
   },
   {
    "duration": 0,
    "start_time": "2024-01-17T14:49:11.107Z"
   },
   {
    "duration": 0,
    "start_time": "2024-01-17T14:49:11.109Z"
   },
   {
    "duration": 0,
    "start_time": "2024-01-17T14:49:11.110Z"
   },
   {
    "duration": 0,
    "start_time": "2024-01-17T14:49:11.111Z"
   },
   {
    "duration": 0,
    "start_time": "2024-01-17T14:49:11.133Z"
   },
   {
    "duration": 0,
    "start_time": "2024-01-17T14:49:11.135Z"
   },
   {
    "duration": 9,
    "start_time": "2024-01-17T14:49:48.766Z"
   },
   {
    "duration": 9,
    "start_time": "2024-01-17T14:50:39.645Z"
   },
   {
    "duration": 1430,
    "start_time": "2024-01-17T14:53:04.495Z"
   },
   {
    "duration": 607,
    "start_time": "2024-01-17T14:53:05.927Z"
   },
   {
    "duration": 9,
    "start_time": "2024-01-17T14:53:06.540Z"
   },
   {
    "duration": 2269,
    "start_time": "2024-01-17T14:53:06.551Z"
   },
   {
    "duration": 1609,
    "start_time": "2024-01-17T14:53:08.822Z"
   },
   {
    "duration": 1644,
    "start_time": "2024-01-17T14:53:10.433Z"
   },
   {
    "duration": 22,
    "start_time": "2024-01-17T14:53:12.078Z"
   },
   {
    "duration": 17,
    "start_time": "2024-01-17T14:53:12.102Z"
   },
   {
    "duration": 642,
    "start_time": "2024-01-17T14:53:12.121Z"
   },
   {
    "duration": 4,
    "start_time": "2024-01-17T14:53:12.764Z"
   },
   {
    "duration": 12,
    "start_time": "2024-01-17T14:53:12.769Z"
   },
   {
    "duration": 14,
    "start_time": "2024-01-17T14:53:12.782Z"
   },
   {
    "duration": 28,
    "start_time": "2024-01-17T14:53:12.797Z"
   },
   {
    "duration": 22,
    "start_time": "2024-01-17T14:53:12.827Z"
   },
   {
    "duration": 10,
    "start_time": "2024-01-17T14:53:12.850Z"
   },
   {
    "duration": 14,
    "start_time": "2024-01-17T14:53:12.861Z"
   },
   {
    "duration": 17,
    "start_time": "2024-01-17T14:53:12.876Z"
   },
   {
    "duration": 11,
    "start_time": "2024-01-17T14:53:12.895Z"
   },
   {
    "duration": 11399,
    "start_time": "2024-01-17T14:53:12.907Z"
   },
   {
    "duration": 9591,
    "start_time": "2024-01-17T15:09:04.782Z"
   },
   {
    "duration": 11,
    "start_time": "2024-01-17T15:09:15.437Z"
   },
   {
    "duration": 10,
    "start_time": "2024-01-17T15:09:23.941Z"
   },
   {
    "duration": 8,
    "start_time": "2024-01-17T15:09:27.084Z"
   },
   {
    "duration": 265,
    "start_time": "2024-01-17T15:09:52.549Z"
   },
   {
    "duration": 264,
    "start_time": "2024-01-17T15:09:59.311Z"
   },
   {
    "duration": 1292,
    "start_time": "2024-01-17T15:11:11.378Z"
   },
   {
    "duration": 410,
    "start_time": "2024-01-17T15:11:12.672Z"
   },
   {
    "duration": 6,
    "start_time": "2024-01-17T15:11:13.084Z"
   },
   {
    "duration": 1604,
    "start_time": "2024-01-17T15:11:13.092Z"
   },
   {
    "duration": 1646,
    "start_time": "2024-01-17T15:11:14.698Z"
   },
   {
    "duration": 1599,
    "start_time": "2024-01-17T15:11:16.346Z"
   },
   {
    "duration": 23,
    "start_time": "2024-01-17T15:11:17.946Z"
   },
   {
    "duration": 22,
    "start_time": "2024-01-17T15:11:17.971Z"
   },
   {
    "duration": 673,
    "start_time": "2024-01-17T15:11:17.995Z"
   },
   {
    "duration": 5,
    "start_time": "2024-01-17T15:11:18.670Z"
   },
   {
    "duration": 35,
    "start_time": "2024-01-17T15:11:18.677Z"
   },
   {
    "duration": 19,
    "start_time": "2024-01-17T15:11:18.714Z"
   },
   {
    "duration": 38,
    "start_time": "2024-01-17T15:11:18.740Z"
   },
   {
    "duration": 42,
    "start_time": "2024-01-17T15:11:18.781Z"
   },
   {
    "duration": 27,
    "start_time": "2024-01-17T15:11:18.825Z"
   },
   {
    "duration": 27,
    "start_time": "2024-01-17T15:11:18.854Z"
   },
   {
    "duration": 52,
    "start_time": "2024-01-17T15:11:18.882Z"
   },
   {
    "duration": 21,
    "start_time": "2024-01-17T15:11:18.936Z"
   },
   {
    "duration": 11448,
    "start_time": "2024-01-17T15:11:18.958Z"
   },
   {
    "duration": 4,
    "start_time": "2024-01-17T15:12:48.566Z"
   },
   {
    "duration": 94,
    "start_time": "2024-01-17T15:14:59.280Z"
   },
   {
    "duration": 7,
    "start_time": "2024-01-17T15:15:36.592Z"
   },
   {
    "duration": 5,
    "start_time": "2024-01-17T15:15:39.450Z"
   },
   {
    "duration": 5,
    "start_time": "2024-01-17T15:15:43.784Z"
   },
   {
    "duration": 6,
    "start_time": "2024-01-17T15:16:11.936Z"
   },
   {
    "duration": 5,
    "start_time": "2024-01-17T15:28:14.469Z"
   },
   {
    "duration": 638,
    "start_time": "2024-01-17T15:28:34.930Z"
   },
   {
    "duration": 1446,
    "start_time": "2024-01-17T15:28:41.783Z"
   },
   {
    "duration": 7,
    "start_time": "2024-01-17T15:29:04.937Z"
   },
   {
    "duration": 8,
    "start_time": "2024-01-17T15:29:08.596Z"
   },
   {
    "duration": 6390,
    "start_time": "2024-01-17T15:31:25.769Z"
   },
   {
    "duration": 1258,
    "start_time": "2024-01-17T15:31:35.977Z"
   },
   {
    "duration": 389,
    "start_time": "2024-01-17T15:31:37.237Z"
   },
   {
    "duration": 6,
    "start_time": "2024-01-17T15:31:37.627Z"
   },
   {
    "duration": 1535,
    "start_time": "2024-01-17T15:31:37.635Z"
   },
   {
    "duration": 1548,
    "start_time": "2024-01-17T15:31:39.171Z"
   },
   {
    "duration": 1581,
    "start_time": "2024-01-17T15:31:40.721Z"
   },
   {
    "duration": 29,
    "start_time": "2024-01-17T15:31:42.304Z"
   },
   {
    "duration": 6,
    "start_time": "2024-01-17T15:31:42.334Z"
   },
   {
    "duration": 623,
    "start_time": "2024-01-17T15:31:42.341Z"
   },
   {
    "duration": 4,
    "start_time": "2024-01-17T15:31:42.966Z"
   },
   {
    "duration": 10,
    "start_time": "2024-01-17T15:31:42.972Z"
   },
   {
    "duration": 2,
    "start_time": "2024-01-17T15:31:42.984Z"
   },
   {
    "duration": 15,
    "start_time": "2024-01-17T15:31:42.988Z"
   },
   {
    "duration": 7,
    "start_time": "2024-01-17T15:31:43.005Z"
   },
   {
    "duration": 4,
    "start_time": "2024-01-17T15:31:43.032Z"
   },
   {
    "duration": 6,
    "start_time": "2024-01-17T15:31:43.037Z"
   },
   {
    "duration": 6646,
    "start_time": "2024-01-17T15:31:43.044Z"
   },
   {
    "duration": 1234,
    "start_time": "2024-01-17T15:34:27.165Z"
   },
   {
    "duration": 400,
    "start_time": "2024-01-17T15:34:28.400Z"
   },
   {
    "duration": 6,
    "start_time": "2024-01-17T15:34:28.801Z"
   },
   {
    "duration": 1492,
    "start_time": "2024-01-17T15:34:28.809Z"
   },
   {
    "duration": 1528,
    "start_time": "2024-01-17T15:34:30.303Z"
   },
   {
    "duration": 1471,
    "start_time": "2024-01-17T15:34:31.833Z"
   },
   {
    "duration": 27,
    "start_time": "2024-01-17T15:34:33.306Z"
   },
   {
    "duration": 6,
    "start_time": "2024-01-17T15:34:33.334Z"
   },
   {
    "duration": 623,
    "start_time": "2024-01-17T15:34:33.341Z"
   },
   {
    "duration": 5,
    "start_time": "2024-01-17T15:34:33.965Z"
   },
   {
    "duration": 9,
    "start_time": "2024-01-17T15:34:33.971Z"
   },
   {
    "duration": 2,
    "start_time": "2024-01-17T15:34:33.982Z"
   },
   {
    "duration": 5,
    "start_time": "2024-01-17T15:34:33.985Z"
   },
   {
    "duration": 3,
    "start_time": "2024-01-17T15:34:33.992Z"
   },
   {
    "duration": 3,
    "start_time": "2024-01-17T15:34:34.032Z"
   },
   {
    "duration": 5,
    "start_time": "2024-01-17T15:34:34.036Z"
   },
   {
    "duration": 6445,
    "start_time": "2024-01-17T15:34:34.042Z"
   },
   {
    "duration": 8,
    "start_time": "2024-01-17T15:38:25.060Z"
   },
   {
    "duration": 6341,
    "start_time": "2024-01-17T15:38:27.081Z"
   },
   {
    "duration": 76,
    "start_time": "2024-01-17T15:39:03.760Z"
   },
   {
    "duration": 4,
    "start_time": "2024-01-17T15:39:06.587Z"
   },
   {
    "duration": 1342,
    "start_time": "2024-01-17T15:39:10.866Z"
   },
   {
    "duration": 399,
    "start_time": "2024-01-17T15:39:12.210Z"
   },
   {
    "duration": 8,
    "start_time": "2024-01-17T15:39:12.611Z"
   },
   {
    "duration": 1555,
    "start_time": "2024-01-17T15:39:12.621Z"
   },
   {
    "duration": 1489,
    "start_time": "2024-01-17T15:39:14.178Z"
   },
   {
    "duration": 1489,
    "start_time": "2024-01-17T15:39:15.669Z"
   },
   {
    "duration": 22,
    "start_time": "2024-01-17T15:39:17.160Z"
   },
   {
    "duration": 6,
    "start_time": "2024-01-17T15:39:17.184Z"
   },
   {
    "duration": 674,
    "start_time": "2024-01-17T15:39:17.192Z"
   },
   {
    "duration": 5,
    "start_time": "2024-01-17T15:39:17.869Z"
   },
   {
    "duration": 29,
    "start_time": "2024-01-17T15:39:17.876Z"
   },
   {
    "duration": 20,
    "start_time": "2024-01-17T15:39:17.907Z"
   },
   {
    "duration": 21,
    "start_time": "2024-01-17T15:39:17.929Z"
   },
   {
    "duration": 16,
    "start_time": "2024-01-17T15:39:17.952Z"
   },
   {
    "duration": 28,
    "start_time": "2024-01-17T15:39:17.970Z"
   },
   {
    "duration": 18,
    "start_time": "2024-01-17T15:39:18.000Z"
   },
   {
    "duration": 4148,
    "start_time": "2024-01-17T15:39:18.020Z"
   },
   {
    "duration": 1205,
    "start_time": "2024-01-17T15:39:31.088Z"
   },
   {
    "duration": 386,
    "start_time": "2024-01-17T15:39:32.294Z"
   },
   {
    "duration": 6,
    "start_time": "2024-01-17T15:39:32.681Z"
   },
   {
    "duration": 1518,
    "start_time": "2024-01-17T15:39:32.689Z"
   },
   {
    "duration": 1454,
    "start_time": "2024-01-17T15:39:34.209Z"
   },
   {
    "duration": 1483,
    "start_time": "2024-01-17T15:39:35.664Z"
   },
   {
    "duration": 22,
    "start_time": "2024-01-17T15:39:37.149Z"
   },
   {
    "duration": 5,
    "start_time": "2024-01-17T15:39:37.172Z"
   },
   {
    "duration": 682,
    "start_time": "2024-01-17T15:39:37.179Z"
   },
   {
    "duration": 4,
    "start_time": "2024-01-17T15:39:37.864Z"
   },
   {
    "duration": 9,
    "start_time": "2024-01-17T15:39:37.869Z"
   },
   {
    "duration": 2,
    "start_time": "2024-01-17T15:39:37.880Z"
   },
   {
    "duration": 5,
    "start_time": "2024-01-17T15:39:37.883Z"
   },
   {
    "duration": 4,
    "start_time": "2024-01-17T15:39:37.889Z"
   },
   {
    "duration": 4,
    "start_time": "2024-01-17T15:39:37.894Z"
   },
   {
    "duration": 36,
    "start_time": "2024-01-17T15:39:37.899Z"
   },
   {
    "duration": 4218,
    "start_time": "2024-01-17T15:39:37.936Z"
   },
   {
    "duration": 1215,
    "start_time": "2024-01-17T15:57:47.887Z"
   },
   {
    "duration": 378,
    "start_time": "2024-01-17T15:57:49.103Z"
   },
   {
    "duration": 5,
    "start_time": "2024-01-17T15:57:49.483Z"
   },
   {
    "duration": 1879,
    "start_time": "2024-01-17T15:57:49.490Z"
   },
   {
    "duration": 1892,
    "start_time": "2024-01-17T15:57:51.371Z"
   },
   {
    "duration": 1504,
    "start_time": "2024-01-17T15:57:53.265Z"
   },
   {
    "duration": 19,
    "start_time": "2024-01-17T15:57:54.771Z"
   },
   {
    "duration": 8,
    "start_time": "2024-01-17T15:57:54.792Z"
   },
   {
    "duration": 658,
    "start_time": "2024-01-17T15:57:54.802Z"
   },
   {
    "duration": 4,
    "start_time": "2024-01-17T15:57:55.463Z"
   },
   {
    "duration": 13,
    "start_time": "2024-01-17T15:57:55.468Z"
   },
   {
    "duration": 3,
    "start_time": "2024-01-17T15:57:55.482Z"
   },
   {
    "duration": 5,
    "start_time": "2024-01-17T15:57:55.486Z"
   },
   {
    "duration": 4,
    "start_time": "2024-01-17T15:57:55.492Z"
   },
   {
    "duration": 5,
    "start_time": "2024-01-17T15:57:55.497Z"
   },
   {
    "duration": 6,
    "start_time": "2024-01-17T15:57:55.532Z"
   },
   {
    "duration": 4128,
    "start_time": "2024-01-17T15:57:55.539Z"
   },
   {
    "duration": 1254,
    "start_time": "2024-01-17T15:58:31.988Z"
   },
   {
    "duration": 376,
    "start_time": "2024-01-17T15:58:33.244Z"
   },
   {
    "duration": 6,
    "start_time": "2024-01-17T15:58:33.621Z"
   },
   {
    "duration": 1559,
    "start_time": "2024-01-17T15:58:33.628Z"
   },
   {
    "duration": 1536,
    "start_time": "2024-01-17T15:58:35.189Z"
   },
   {
    "duration": 1541,
    "start_time": "2024-01-17T15:58:36.726Z"
   },
   {
    "duration": 23,
    "start_time": "2024-01-17T15:58:38.269Z"
   },
   {
    "duration": 5,
    "start_time": "2024-01-17T15:58:38.294Z"
   },
   {
    "duration": 668,
    "start_time": "2024-01-17T15:58:38.301Z"
   },
   {
    "duration": 4,
    "start_time": "2024-01-17T15:58:38.971Z"
   },
   {
    "duration": 12,
    "start_time": "2024-01-17T15:58:38.976Z"
   },
   {
    "duration": 2,
    "start_time": "2024-01-17T15:58:38.990Z"
   },
   {
    "duration": 4,
    "start_time": "2024-01-17T15:58:38.993Z"
   },
   {
    "duration": 3,
    "start_time": "2024-01-17T15:58:39.000Z"
   },
   {
    "duration": 29,
    "start_time": "2024-01-17T15:58:39.004Z"
   },
   {
    "duration": 5,
    "start_time": "2024-01-17T15:58:39.035Z"
   },
   {
    "duration": 4274,
    "start_time": "2024-01-17T15:58:39.041Z"
   },
   {
    "duration": 4,
    "start_time": "2024-01-17T16:00:53.213Z"
   },
   {
    "duration": 2,
    "start_time": "2024-01-17T16:00:54.720Z"
   },
   {
    "duration": 5,
    "start_time": "2024-01-17T16:00:55.126Z"
   },
   {
    "duration": 1286,
    "start_time": "2024-01-17T16:01:26.615Z"
   },
   {
    "duration": 383,
    "start_time": "2024-01-17T16:01:27.903Z"
   },
   {
    "duration": 6,
    "start_time": "2024-01-17T16:01:28.287Z"
   },
   {
    "duration": 1468,
    "start_time": "2024-01-17T16:01:28.294Z"
   },
   {
    "duration": 1567,
    "start_time": "2024-01-17T16:01:29.763Z"
   },
   {
    "duration": 1531,
    "start_time": "2024-01-17T16:01:31.332Z"
   },
   {
    "duration": 26,
    "start_time": "2024-01-17T16:01:32.865Z"
   },
   {
    "duration": 40,
    "start_time": "2024-01-17T16:01:32.893Z"
   },
   {
    "duration": 631,
    "start_time": "2024-01-17T16:01:32.935Z"
   },
   {
    "duration": 5,
    "start_time": "2024-01-17T16:01:33.568Z"
   },
   {
    "duration": 9,
    "start_time": "2024-01-17T16:01:33.574Z"
   },
   {
    "duration": 2,
    "start_time": "2024-01-17T16:01:33.584Z"
   },
   {
    "duration": 6,
    "start_time": "2024-01-17T16:01:33.587Z"
   },
   {
    "duration": 5,
    "start_time": "2024-01-17T16:01:33.594Z"
   },
   {
    "duration": 35,
    "start_time": "2024-01-17T16:01:33.600Z"
   },
   {
    "duration": 11,
    "start_time": "2024-01-17T16:01:33.636Z"
   },
   {
    "duration": 4172,
    "start_time": "2024-01-17T16:01:33.649Z"
   },
   {
    "duration": 1344,
    "start_time": "2024-01-17T16:02:29.901Z"
   },
   {
    "duration": 407,
    "start_time": "2024-01-17T16:02:31.248Z"
   },
   {
    "duration": 5,
    "start_time": "2024-01-17T16:02:31.657Z"
   },
   {
    "duration": 1606,
    "start_time": "2024-01-17T16:02:31.664Z"
   },
   {
    "duration": 1552,
    "start_time": "2024-01-17T16:02:33.273Z"
   },
   {
    "duration": 1562,
    "start_time": "2024-01-17T16:02:34.826Z"
   },
   {
    "duration": 23,
    "start_time": "2024-01-17T16:02:36.389Z"
   },
   {
    "duration": 6,
    "start_time": "2024-01-17T16:02:36.414Z"
   },
   {
    "duration": 632,
    "start_time": "2024-01-17T16:02:36.433Z"
   },
   {
    "duration": 4,
    "start_time": "2024-01-17T16:02:37.066Z"
   },
   {
    "duration": 13,
    "start_time": "2024-01-17T16:02:37.072Z"
   },
   {
    "duration": 5,
    "start_time": "2024-01-17T16:02:37.087Z"
   },
   {
    "duration": 9,
    "start_time": "2024-01-17T16:02:37.094Z"
   },
   {
    "duration": 27,
    "start_time": "2024-01-17T16:02:37.106Z"
   },
   {
    "duration": 8,
    "start_time": "2024-01-17T16:02:37.135Z"
   },
   {
    "duration": 13,
    "start_time": "2024-01-17T16:02:37.144Z"
   },
   {
    "duration": 4380,
    "start_time": "2024-01-17T16:02:37.158Z"
   },
   {
    "duration": 1308,
    "start_time": "2024-01-17T16:03:26.019Z"
   },
   {
    "duration": 386,
    "start_time": "2024-01-17T16:03:27.329Z"
   },
   {
    "duration": 5,
    "start_time": "2024-01-17T16:03:27.717Z"
   },
   {
    "duration": 1635,
    "start_time": "2024-01-17T16:03:27.724Z"
   },
   {
    "duration": 1552,
    "start_time": "2024-01-17T16:03:29.362Z"
   },
   {
    "duration": 1553,
    "start_time": "2024-01-17T16:03:30.916Z"
   },
   {
    "duration": 23,
    "start_time": "2024-01-17T16:03:32.471Z"
   },
   {
    "duration": 24,
    "start_time": "2024-01-17T16:03:32.495Z"
   },
   {
    "duration": 753,
    "start_time": "2024-01-17T16:03:32.520Z"
   },
   {
    "duration": 4,
    "start_time": "2024-01-17T16:03:33.275Z"
   },
   {
    "duration": 45,
    "start_time": "2024-01-17T16:03:33.280Z"
   },
   {
    "duration": 22,
    "start_time": "2024-01-17T16:03:33.326Z"
   },
   {
    "duration": 32,
    "start_time": "2024-01-17T16:03:33.349Z"
   },
   {
    "duration": 16,
    "start_time": "2024-01-17T16:03:33.384Z"
   },
   {
    "duration": 41,
    "start_time": "2024-01-17T16:03:33.402Z"
   },
   {
    "duration": 32,
    "start_time": "2024-01-17T16:03:33.444Z"
   },
   {
    "duration": 4955,
    "start_time": "2024-01-17T16:03:33.477Z"
   },
   {
    "duration": 5,
    "start_time": "2024-01-17T16:03:55.753Z"
   },
   {
    "duration": 7,
    "start_time": "2024-01-17T16:04:00.209Z"
   },
   {
    "duration": 1227,
    "start_time": "2024-01-17T16:07:18.670Z"
   },
   {
    "duration": 374,
    "start_time": "2024-01-17T16:07:19.899Z"
   },
   {
    "duration": 6,
    "start_time": "2024-01-17T16:07:20.275Z"
   },
   {
    "duration": 1575,
    "start_time": "2024-01-17T16:07:20.283Z"
   },
   {
    "duration": 1500,
    "start_time": "2024-01-17T16:07:21.860Z"
   },
   {
    "duration": 1520,
    "start_time": "2024-01-17T16:07:23.361Z"
   },
   {
    "duration": 22,
    "start_time": "2024-01-17T16:07:24.883Z"
   },
   {
    "duration": 6,
    "start_time": "2024-01-17T16:07:24.906Z"
   },
   {
    "duration": 525,
    "start_time": "2024-01-17T16:07:24.913Z"
   },
   {
    "duration": 96,
    "start_time": "2024-01-17T16:07:25.440Z"
   },
   {
    "duration": 106,
    "start_time": "2024-01-17T16:07:25.537Z"
   },
   {
    "duration": 0,
    "start_time": "2024-01-17T16:07:25.644Z"
   },
   {
    "duration": 0,
    "start_time": "2024-01-17T16:07:25.645Z"
   },
   {
    "duration": 0,
    "start_time": "2024-01-17T16:07:25.646Z"
   },
   {
    "duration": 0,
    "start_time": "2024-01-17T16:07:25.647Z"
   },
   {
    "duration": 0,
    "start_time": "2024-01-17T16:07:25.648Z"
   },
   {
    "duration": 0,
    "start_time": "2024-01-17T16:07:25.649Z"
   },
   {
    "duration": 2,
    "start_time": "2024-01-17T16:07:34.592Z"
   },
   {
    "duration": 3,
    "start_time": "2024-01-17T16:07:34.924Z"
   },
   {
    "duration": 3,
    "start_time": "2024-01-17T16:07:35.339Z"
   },
   {
    "duration": 3,
    "start_time": "2024-01-17T16:07:35.842Z"
   },
   {
    "duration": 6,
    "start_time": "2024-01-17T16:07:36.478Z"
   },
   {
    "duration": 4349,
    "start_time": "2024-01-17T16:07:37.616Z"
   },
   {
    "duration": 0,
    "start_time": "2024-01-17T16:07:58.566Z"
   },
   {
    "duration": 7,
    "start_time": "2024-01-17T16:07:59.620Z"
   },
   {
    "duration": 1262,
    "start_time": "2024-01-17T16:09:25.469Z"
   },
   {
    "duration": 376,
    "start_time": "2024-01-17T16:09:26.734Z"
   },
   {
    "duration": 6,
    "start_time": "2024-01-17T16:09:27.112Z"
   },
   {
    "duration": 1467,
    "start_time": "2024-01-17T16:09:27.120Z"
   },
   {
    "duration": 1457,
    "start_time": "2024-01-17T16:09:28.589Z"
   },
   {
    "duration": 1525,
    "start_time": "2024-01-17T16:09:30.048Z"
   },
   {
    "duration": 20,
    "start_time": "2024-01-17T16:09:31.574Z"
   },
   {
    "duration": 6,
    "start_time": "2024-01-17T16:09:31.595Z"
   },
   {
    "duration": 531,
    "start_time": "2024-01-17T16:09:31.603Z"
   },
   {
    "duration": 98,
    "start_time": "2024-01-17T16:09:32.136Z"
   },
   {
    "duration": 2,
    "start_time": "2024-01-17T16:09:32.236Z"
   },
   {
    "duration": 10,
    "start_time": "2024-01-17T16:09:32.239Z"
   },
   {
    "duration": 4,
    "start_time": "2024-01-17T16:09:32.250Z"
   },
   {
    "duration": 4,
    "start_time": "2024-01-17T16:09:32.256Z"
   },
   {
    "duration": 5,
    "start_time": "2024-01-17T16:09:32.262Z"
   },
   {
    "duration": 4151,
    "start_time": "2024-01-17T16:09:32.269Z"
   },
   {
    "duration": 4,
    "start_time": "2024-01-17T16:10:59.292Z"
   },
   {
    "duration": 1231,
    "start_time": "2024-01-17T16:11:08.676Z"
   },
   {
    "duration": 392,
    "start_time": "2024-01-17T16:11:09.909Z"
   },
   {
    "duration": 6,
    "start_time": "2024-01-17T16:11:10.305Z"
   },
   {
    "duration": 1708,
    "start_time": "2024-01-17T16:11:10.313Z"
   },
   {
    "duration": 1543,
    "start_time": "2024-01-17T16:11:12.022Z"
   },
   {
    "duration": 1504,
    "start_time": "2024-01-17T16:11:13.567Z"
   },
   {
    "duration": 23,
    "start_time": "2024-01-17T16:11:15.072Z"
   },
   {
    "duration": 32,
    "start_time": "2024-01-17T16:11:15.097Z"
   },
   {
    "duration": 616,
    "start_time": "2024-01-17T16:11:15.131Z"
   },
   {
    "duration": 4,
    "start_time": "2024-01-17T16:11:15.833Z"
   },
   {
    "duration": 27,
    "start_time": "2024-01-17T16:11:15.838Z"
   },
   {
    "duration": 32,
    "start_time": "2024-01-17T16:11:15.866Z"
   },
   {
    "duration": 32,
    "start_time": "2024-01-17T16:11:15.900Z"
   },
   {
    "duration": 35,
    "start_time": "2024-01-17T16:11:15.934Z"
   },
   {
    "duration": 16,
    "start_time": "2024-01-17T16:11:15.971Z"
   },
   {
    "duration": 6353,
    "start_time": "2024-01-17T16:11:15.988Z"
   },
   {
    "duration": 103,
    "start_time": "2024-01-17T16:11:49.150Z"
   },
   {
    "duration": 6483,
    "start_time": "2024-01-17T16:12:29.227Z"
   },
   {
    "duration": 1299,
    "start_time": "2024-01-17T16:13:25.915Z"
   },
   {
    "duration": 370,
    "start_time": "2024-01-17T16:13:27.216Z"
   },
   {
    "duration": 5,
    "start_time": "2024-01-17T16:13:27.588Z"
   },
   {
    "duration": 1558,
    "start_time": "2024-01-17T16:13:27.595Z"
   },
   {
    "duration": 2123,
    "start_time": "2024-01-17T16:13:29.155Z"
   },
   {
    "duration": 1507,
    "start_time": "2024-01-17T16:13:31.334Z"
   },
   {
    "duration": 22,
    "start_time": "2024-01-17T16:13:32.843Z"
   },
   {
    "duration": 21,
    "start_time": "2024-01-17T16:13:32.866Z"
   },
   {
    "duration": 550,
    "start_time": "2024-01-17T16:13:32.889Z"
   },
   {
    "duration": 93,
    "start_time": "2024-01-17T16:13:33.442Z"
   },
   {
    "duration": 20,
    "start_time": "2024-01-17T16:13:33.537Z"
   },
   {
    "duration": 39,
    "start_time": "2024-01-17T16:13:33.558Z"
   },
   {
    "duration": 33,
    "start_time": "2024-01-17T16:13:33.598Z"
   },
   {
    "duration": 33,
    "start_time": "2024-01-17T16:13:33.633Z"
   },
   {
    "duration": 17,
    "start_time": "2024-01-17T16:13:33.668Z"
   },
   {
    "duration": 7868,
    "start_time": "2024-01-17T16:13:33.686Z"
   },
   {
    "duration": 9,
    "start_time": "2024-01-17T16:15:32.315Z"
   },
   {
    "duration": 4,
    "start_time": "2024-01-17T16:21:15.068Z"
   },
   {
    "duration": 1327,
    "start_time": "2024-01-17T16:21:19.803Z"
   },
   {
    "duration": 391,
    "start_time": "2024-01-17T16:21:21.132Z"
   },
   {
    "duration": 6,
    "start_time": "2024-01-17T16:21:21.524Z"
   },
   {
    "duration": 1504,
    "start_time": "2024-01-17T16:21:21.532Z"
   },
   {
    "duration": 1541,
    "start_time": "2024-01-17T16:21:23.037Z"
   },
   {
    "duration": 1524,
    "start_time": "2024-01-17T16:21:24.579Z"
   },
   {
    "duration": 29,
    "start_time": "2024-01-17T16:21:26.104Z"
   },
   {
    "duration": 6,
    "start_time": "2024-01-17T16:21:26.134Z"
   },
   {
    "duration": 497,
    "start_time": "2024-01-17T16:21:26.141Z"
   },
   {
    "duration": 95,
    "start_time": "2024-01-17T16:21:26.641Z"
   },
   {
    "duration": 8,
    "start_time": "2024-01-17T16:21:26.737Z"
   },
   {
    "duration": 5,
    "start_time": "2024-01-17T16:21:26.747Z"
   },
   {
    "duration": 6,
    "start_time": "2024-01-17T16:21:26.753Z"
   },
   {
    "duration": 5,
    "start_time": "2024-01-17T16:21:26.761Z"
   },
   {
    "duration": 6,
    "start_time": "2024-01-17T16:21:26.768Z"
   },
   {
    "duration": 6443,
    "start_time": "2024-01-17T16:21:26.775Z"
   },
   {
    "duration": 5,
    "start_time": "2024-01-17T16:21:46.564Z"
   },
   {
    "duration": 113,
    "start_time": "2024-01-17T16:21:47.838Z"
   },
   {
    "duration": 1354,
    "start_time": "2024-01-17T16:22:00.764Z"
   },
   {
    "duration": 382,
    "start_time": "2024-01-17T16:22:02.120Z"
   },
   {
    "duration": 5,
    "start_time": "2024-01-17T16:22:02.504Z"
   },
   {
    "duration": 1569,
    "start_time": "2024-01-17T16:22:02.511Z"
   },
   {
    "duration": 1489,
    "start_time": "2024-01-17T16:22:04.081Z"
   },
   {
    "duration": 1581,
    "start_time": "2024-01-17T16:22:05.571Z"
   },
   {
    "duration": 24,
    "start_time": "2024-01-17T16:22:07.154Z"
   },
   {
    "duration": 6,
    "start_time": "2024-01-17T16:22:07.180Z"
   },
   {
    "duration": 551,
    "start_time": "2024-01-17T16:22:07.188Z"
   },
   {
    "duration": 92,
    "start_time": "2024-01-17T16:22:07.743Z"
   },
   {
    "duration": 5,
    "start_time": "2024-01-17T16:22:07.837Z"
   },
   {
    "duration": 14,
    "start_time": "2024-01-17T16:22:07.843Z"
   },
   {
    "duration": 14,
    "start_time": "2024-01-17T16:22:07.859Z"
   },
   {
    "duration": 7,
    "start_time": "2024-01-17T16:22:07.874Z"
   },
   {
    "duration": 7,
    "start_time": "2024-01-17T16:22:07.883Z"
   },
   {
    "duration": 6436,
    "start_time": "2024-01-17T16:22:07.891Z"
   },
   {
    "duration": 1295,
    "start_time": "2024-01-17T16:28:22.259Z"
   },
   {
    "duration": 381,
    "start_time": "2024-01-17T16:28:23.556Z"
   },
   {
    "duration": 6,
    "start_time": "2024-01-17T16:28:23.938Z"
   },
   {
    "duration": 1496,
    "start_time": "2024-01-17T16:28:23.945Z"
   },
   {
    "duration": 1529,
    "start_time": "2024-01-17T16:28:25.443Z"
   },
   {
    "duration": 1594,
    "start_time": "2024-01-17T16:28:26.974Z"
   },
   {
    "duration": 24,
    "start_time": "2024-01-17T16:28:28.569Z"
   },
   {
    "duration": 7,
    "start_time": "2024-01-17T16:28:28.594Z"
   },
   {
    "duration": 536,
    "start_time": "2024-01-17T16:28:28.603Z"
   },
   {
    "duration": 93,
    "start_time": "2024-01-17T16:28:29.143Z"
   },
   {
    "duration": 2,
    "start_time": "2024-01-17T16:28:29.238Z"
   },
   {
    "duration": 8,
    "start_time": "2024-01-17T16:28:29.242Z"
   },
   {
    "duration": 11,
    "start_time": "2024-01-17T16:28:29.251Z"
   },
   {
    "duration": 7,
    "start_time": "2024-01-17T16:28:29.264Z"
   },
   {
    "duration": 5,
    "start_time": "2024-01-17T16:28:29.272Z"
   },
   {
    "duration": 6528,
    "start_time": "2024-01-17T16:28:29.278Z"
   },
   {
    "duration": 2853,
    "start_time": "2024-01-18T11:56:32.981Z"
   },
   {
    "duration": 835,
    "start_time": "2024-01-18T11:56:35.837Z"
   },
   {
    "duration": 6,
    "start_time": "2024-01-18T11:56:36.674Z"
   },
   {
    "duration": 1947,
    "start_time": "2024-01-18T11:56:36.682Z"
   },
   {
    "duration": 1892,
    "start_time": "2024-01-18T11:56:38.631Z"
   },
   {
    "duration": 1815,
    "start_time": "2024-01-18T11:56:40.525Z"
   },
   {
    "duration": 27,
    "start_time": "2024-01-18T11:56:42.342Z"
   },
   {
    "duration": 8,
    "start_time": "2024-01-18T11:56:42.371Z"
   },
   {
    "duration": 643,
    "start_time": "2024-01-18T11:56:42.381Z"
   },
   {
    "duration": 5,
    "start_time": "2024-01-18T11:56:43.027Z"
   },
   {
    "duration": 14,
    "start_time": "2024-01-18T11:56:43.034Z"
   },
   {
    "duration": 5,
    "start_time": "2024-01-18T11:56:43.051Z"
   },
   {
    "duration": 5,
    "start_time": "2024-01-18T11:56:43.058Z"
   },
   {
    "duration": 58,
    "start_time": "2024-01-18T11:56:43.065Z"
   },
   {
    "duration": 12,
    "start_time": "2024-01-18T11:56:43.125Z"
   },
   {
    "duration": 7751,
    "start_time": "2024-01-18T11:56:43.138Z"
   },
   {
    "duration": 297,
    "start_time": "2024-01-18T12:04:36.084Z"
   },
   {
    "duration": 5,
    "start_time": "2024-01-18T12:04:46.318Z"
   },
   {
    "duration": 1612,
    "start_time": "2024-01-18T12:04:50.551Z"
   },
   {
    "duration": 4,
    "start_time": "2024-01-18T12:05:02.696Z"
   },
   {
    "duration": 5,
    "start_time": "2024-01-18T12:06:10.252Z"
   },
   {
    "duration": 9,
    "start_time": "2024-01-18T12:06:13.150Z"
   },
   {
    "duration": 3,
    "start_time": "2024-01-18T12:06:33.627Z"
   },
   {
    "duration": 115,
    "start_time": "2024-01-18T12:06:40.320Z"
   },
   {
    "duration": 4,
    "start_time": "2024-01-18T12:06:50.290Z"
   },
   {
    "duration": 11,
    "start_time": "2024-01-18T12:06:52.311Z"
   },
   {
    "duration": 5,
    "start_time": "2024-01-18T12:06:57.541Z"
   },
   {
    "duration": 6,
    "start_time": "2024-01-18T12:07:02.259Z"
   },
   {
    "duration": 3,
    "start_time": "2024-01-18T12:07:11.076Z"
   },
   {
    "duration": 7,
    "start_time": "2024-01-18T12:07:12.823Z"
   },
   {
    "duration": 6,
    "start_time": "2024-01-18T12:08:10.019Z"
   },
   {
    "duration": 25,
    "start_time": "2024-01-18T12:08:12.839Z"
   },
   {
    "duration": 21,
    "start_time": "2024-01-18T12:08:32.348Z"
   },
   {
    "duration": 21,
    "start_time": "2024-01-18T12:08:45.974Z"
   },
   {
    "duration": 5,
    "start_time": "2024-01-18T12:09:59.135Z"
   },
   {
    "duration": 4,
    "start_time": "2024-01-18T12:10:14.619Z"
   },
   {
    "duration": 4,
    "start_time": "2024-01-18T12:10:22.275Z"
   },
   {
    "duration": 1623,
    "start_time": "2024-01-18T12:11:13.381Z"
   },
   {
    "duration": 43,
    "start_time": "2024-01-18T12:11:26.748Z"
   },
   {
    "duration": 4,
    "start_time": "2024-01-18T12:11:34.892Z"
   },
   {
    "duration": 13,
    "start_time": "2024-01-18T12:11:44.554Z"
   },
   {
    "duration": 8,
    "start_time": "2024-01-18T12:11:58.435Z"
   },
   {
    "duration": 40,
    "start_time": "2024-01-18T12:12:13.815Z"
   },
   {
    "duration": 4,
    "start_time": "2024-01-18T12:12:21.336Z"
   },
   {
    "duration": 3,
    "start_time": "2024-01-18T12:12:24.620Z"
   },
   {
    "duration": 20,
    "start_time": "2024-01-18T12:12:32.370Z"
   },
   {
    "duration": 5,
    "start_time": "2024-01-18T12:12:52.340Z"
   },
   {
    "duration": 11,
    "start_time": "2024-01-18T12:13:46.080Z"
   },
   {
    "duration": 754,
    "start_time": "2024-01-18T12:13:50.264Z"
   },
   {
    "duration": 17,
    "start_time": "2024-01-18T12:13:53.901Z"
   },
   {
    "duration": 8,
    "start_time": "2024-01-18T12:14:09.323Z"
   },
   {
    "duration": 15,
    "start_time": "2024-01-18T12:14:17.772Z"
   },
   {
    "duration": 10,
    "start_time": "2024-01-18T12:14:29.641Z"
   },
   {
    "duration": 15,
    "start_time": "2024-01-18T12:14:33.290Z"
   },
   {
    "duration": 5,
    "start_time": "2024-01-18T12:14:35.748Z"
   },
   {
    "duration": 755,
    "start_time": "2024-01-18T12:14:52.122Z"
   },
   {
    "duration": 6,
    "start_time": "2024-01-18T12:14:53.474Z"
   },
   {
    "duration": 5,
    "start_time": "2024-01-18T12:14:57.606Z"
   },
   {
    "duration": 758,
    "start_time": "2024-01-18T12:15:03.630Z"
   },
   {
    "duration": 6,
    "start_time": "2024-01-18T12:15:04.756Z"
   },
   {
    "duration": 765,
    "start_time": "2024-01-18T12:15:08.466Z"
   },
   {
    "duration": 7,
    "start_time": "2024-01-18T12:15:10.008Z"
   },
   {
    "duration": 1642,
    "start_time": "2024-01-18T15:02:21.600Z"
   },
   {
    "duration": 1758,
    "start_time": "2024-01-18T15:02:23.244Z"
   },
   {
    "duration": 7,
    "start_time": "2024-01-18T15:02:25.004Z"
   },
   {
    "duration": 1763,
    "start_time": "2024-01-18T15:02:25.013Z"
   },
   {
    "duration": 1745,
    "start_time": "2024-01-18T15:02:26.779Z"
   },
   {
    "duration": 1804,
    "start_time": "2024-01-18T15:02:28.526Z"
   },
   {
    "duration": 24,
    "start_time": "2024-01-18T15:02:30.332Z"
   },
   {
    "duration": 134,
    "start_time": "2024-01-18T15:02:30.358Z"
   },
   {
    "duration": 782,
    "start_time": "2024-01-18T15:02:30.499Z"
   },
   {
    "duration": 97,
    "start_time": "2024-01-18T15:02:31.284Z"
   },
   {
    "duration": 29,
    "start_time": "2024-01-18T15:02:31.382Z"
   },
   {
    "duration": 36,
    "start_time": "2024-01-18T15:02:31.413Z"
   },
   {
    "duration": 56,
    "start_time": "2024-01-18T15:02:31.451Z"
   },
   {
    "duration": 0,
    "start_time": "2024-01-18T15:02:31.509Z"
   },
   {
    "duration": 0,
    "start_time": "2024-01-18T15:02:31.510Z"
   },
   {
    "duration": 0,
    "start_time": "2024-01-18T15:02:31.511Z"
   },
   {
    "duration": 4,
    "start_time": "2024-01-18T15:03:11.305Z"
   },
   {
    "duration": 3,
    "start_time": "2024-01-18T15:03:13.852Z"
   },
   {
    "duration": 8,
    "start_time": "2024-01-18T15:03:14.261Z"
   },
   {
    "duration": 124,
    "start_time": "2024-01-18T15:03:15.702Z"
   },
   {
    "duration": 8,
    "start_time": "2024-01-18T15:04:04.754Z"
   },
   {
    "duration": 313,
    "start_time": "2024-01-18T15:04:16.188Z"
   },
   {
    "duration": 317,
    "start_time": "2024-01-18T15:04:27.020Z"
   },
   {
    "duration": 6,
    "start_time": "2024-01-18T15:04:38.976Z"
   },
   {
    "duration": 5,
    "start_time": "2024-01-18T15:04:51.417Z"
   },
   {
    "duration": 6,
    "start_time": "2024-01-18T15:05:29.460Z"
   },
   {
    "duration": 6,
    "start_time": "2024-01-18T15:05:35.629Z"
   },
   {
    "duration": 11,
    "start_time": "2024-01-18T15:05:41.161Z"
   },
   {
    "duration": 31,
    "start_time": "2024-01-18T15:06:20.536Z"
   },
   {
    "duration": 11,
    "start_time": "2024-01-18T15:06:35.382Z"
   },
   {
    "duration": 281,
    "start_time": "2024-01-18T15:06:41.111Z"
   },
   {
    "duration": 4,
    "start_time": "2024-01-18T15:06:48.275Z"
   },
   {
    "duration": 2,
    "start_time": "2024-01-18T15:07:12.446Z"
   },
   {
    "duration": 9,
    "start_time": "2024-01-18T15:07:14.350Z"
   },
   {
    "duration": 5,
    "start_time": "2024-01-18T15:07:15.881Z"
   },
   {
    "duration": 7,
    "start_time": "2024-01-18T15:07:30.615Z"
   },
   {
    "duration": 10,
    "start_time": "2024-01-18T15:08:28.020Z"
   },
   {
    "duration": 5,
    "start_time": "2024-01-18T15:08:48.264Z"
   },
   {
    "duration": 5,
    "start_time": "2024-01-18T15:08:48.368Z"
   },
   {
    "duration": 8,
    "start_time": "2024-01-18T15:12:51.769Z"
   },
   {
    "duration": 1600,
    "start_time": "2024-01-18T15:13:00.993Z"
   },
   {
    "duration": 276,
    "start_time": "2024-01-18T15:13:05.697Z"
   },
   {
    "duration": 1569,
    "start_time": "2024-01-18T15:13:10.347Z"
   },
   {
    "duration": 934,
    "start_time": "2024-01-18T15:13:19.338Z"
   },
   {
    "duration": 278,
    "start_time": "2024-01-18T15:13:30.984Z"
   },
   {
    "duration": 1947,
    "start_time": "2024-01-18T15:16:39.666Z"
   },
   {
    "duration": 716,
    "start_time": "2024-01-18T15:16:41.615Z"
   },
   {
    "duration": 7,
    "start_time": "2024-01-18T15:16:42.333Z"
   },
   {
    "duration": 1898,
    "start_time": "2024-01-18T15:16:42.342Z"
   },
   {
    "duration": 1849,
    "start_time": "2024-01-18T15:16:44.242Z"
   },
   {
    "duration": 1836,
    "start_time": "2024-01-18T15:16:46.093Z"
   },
   {
    "duration": 22,
    "start_time": "2024-01-18T15:16:47.931Z"
   },
   {
    "duration": 25,
    "start_time": "2024-01-18T15:16:47.955Z"
   },
   {
    "duration": 499,
    "start_time": "2024-01-18T15:16:47.982Z"
   },
   {
    "duration": 96,
    "start_time": "2024-01-18T15:16:48.483Z"
   },
   {
    "duration": 4,
    "start_time": "2024-01-18T15:16:48.581Z"
   },
   {
    "duration": 5,
    "start_time": "2024-01-18T15:16:48.587Z"
   },
   {
    "duration": 5,
    "start_time": "2024-01-18T15:16:48.593Z"
   },
   {
    "duration": 9,
    "start_time": "2024-01-18T15:16:48.600Z"
   },
   {
    "duration": 3,
    "start_time": "2024-01-18T15:16:48.611Z"
   },
   {
    "duration": 9,
    "start_time": "2024-01-18T15:16:48.615Z"
   },
   {
    "duration": 46,
    "start_time": "2024-01-18T15:16:48.625Z"
   },
   {
    "duration": 18,
    "start_time": "2024-01-18T15:16:48.672Z"
   },
   {
    "duration": 7,
    "start_time": "2024-01-18T15:16:48.692Z"
   },
   {
    "duration": 6092,
    "start_time": "2024-01-18T15:16:48.701Z"
   },
   {
    "duration": 8,
    "start_time": "2024-01-18T15:17:14.878Z"
   },
   {
    "duration": 8,
    "start_time": "2024-01-18T15:17:23.705Z"
   },
   {
    "duration": 1376,
    "start_time": "2024-01-18T15:17:58.026Z"
   },
   {
    "duration": 440,
    "start_time": "2024-01-18T15:17:59.404Z"
   },
   {
    "duration": 7,
    "start_time": "2024-01-18T15:17:59.845Z"
   },
   {
    "duration": 1808,
    "start_time": "2024-01-18T15:17:59.854Z"
   },
   {
    "duration": 1763,
    "start_time": "2024-01-18T15:18:01.664Z"
   },
   {
    "duration": 1783,
    "start_time": "2024-01-18T15:18:03.428Z"
   },
   {
    "duration": 23,
    "start_time": "2024-01-18T15:18:05.214Z"
   },
   {
    "duration": 8,
    "start_time": "2024-01-18T15:18:05.239Z"
   },
   {
    "duration": 533,
    "start_time": "2024-01-18T15:18:05.248Z"
   },
   {
    "duration": 95,
    "start_time": "2024-01-18T15:18:05.785Z"
   },
   {
    "duration": 14,
    "start_time": "2024-01-18T15:18:05.881Z"
   },
   {
    "duration": 7,
    "start_time": "2024-01-18T15:18:05.897Z"
   },
   {
    "duration": 6,
    "start_time": "2024-01-18T15:18:05.906Z"
   },
   {
    "duration": 16,
    "start_time": "2024-01-18T15:18:05.914Z"
   },
   {
    "duration": 20,
    "start_time": "2024-01-18T15:18:05.932Z"
   },
   {
    "duration": 10,
    "start_time": "2024-01-18T15:18:05.954Z"
   },
   {
    "duration": 23,
    "start_time": "2024-01-18T15:18:05.965Z"
   },
   {
    "duration": 7,
    "start_time": "2024-01-18T15:18:05.990Z"
   },
   {
    "duration": 13,
    "start_time": "2024-01-18T15:18:05.999Z"
   },
   {
    "duration": 6572,
    "start_time": "2024-01-18T15:18:06.014Z"
   },
   {
    "duration": 1492,
    "start_time": "2024-01-18T15:19:46.971Z"
   },
   {
    "duration": 448,
    "start_time": "2024-01-18T15:19:48.465Z"
   },
   {
    "duration": 6,
    "start_time": "2024-01-18T15:19:48.915Z"
   },
   {
    "duration": 1777,
    "start_time": "2024-01-18T15:19:48.922Z"
   },
   {
    "duration": 1767,
    "start_time": "2024-01-18T15:19:50.702Z"
   },
   {
    "duration": 1777,
    "start_time": "2024-01-18T15:19:52.471Z"
   },
   {
    "duration": 33,
    "start_time": "2024-01-18T15:19:54.249Z"
   },
   {
    "duration": 6,
    "start_time": "2024-01-18T15:19:54.284Z"
   },
   {
    "duration": 495,
    "start_time": "2024-01-18T15:19:54.291Z"
   },
   {
    "duration": 94,
    "start_time": "2024-01-18T15:19:54.789Z"
   },
   {
    "duration": 26,
    "start_time": "2024-01-18T15:19:54.884Z"
   },
   {
    "duration": 25,
    "start_time": "2024-01-18T15:19:54.912Z"
   },
   {
    "duration": 16,
    "start_time": "2024-01-18T15:19:54.939Z"
   },
   {
    "duration": 30,
    "start_time": "2024-01-18T15:19:54.958Z"
   },
   {
    "duration": 29,
    "start_time": "2024-01-18T15:19:54.990Z"
   },
   {
    "duration": 19,
    "start_time": "2024-01-18T15:19:55.021Z"
   },
   {
    "duration": 22,
    "start_time": "2024-01-18T15:19:55.042Z"
   },
   {
    "duration": 5859,
    "start_time": "2024-01-18T15:19:55.066Z"
   },
   {
    "duration": 1464,
    "start_time": "2024-01-18T15:22:21.391Z"
   },
   {
    "duration": 436,
    "start_time": "2024-01-18T15:22:22.857Z"
   },
   {
    "duration": 6,
    "start_time": "2024-01-18T15:22:23.295Z"
   },
   {
    "duration": 1772,
    "start_time": "2024-01-18T15:22:23.303Z"
   },
   {
    "duration": 1753,
    "start_time": "2024-01-18T15:22:25.081Z"
   },
   {
    "duration": 1773,
    "start_time": "2024-01-18T15:22:26.835Z"
   },
   {
    "duration": 25,
    "start_time": "2024-01-18T15:22:28.609Z"
   },
   {
    "duration": 6,
    "start_time": "2024-01-18T15:22:28.636Z"
   },
   {
    "duration": 540,
    "start_time": "2024-01-18T15:22:28.644Z"
   },
   {
    "duration": 96,
    "start_time": "2024-01-18T15:22:29.186Z"
   },
   {
    "duration": 3,
    "start_time": "2024-01-18T15:22:29.284Z"
   },
   {
    "duration": 46,
    "start_time": "2024-01-18T15:22:29.289Z"
   },
   {
    "duration": 17,
    "start_time": "2024-01-18T15:22:29.336Z"
   },
   {
    "duration": 16,
    "start_time": "2024-01-18T15:22:29.355Z"
   },
   {
    "duration": 8,
    "start_time": "2024-01-18T15:22:29.372Z"
   },
   {
    "duration": 5,
    "start_time": "2024-01-18T15:22:29.382Z"
   },
   {
    "duration": 10,
    "start_time": "2024-01-18T15:22:29.389Z"
   },
   {
    "duration": 128,
    "start_time": "2024-01-18T15:22:29.401Z"
   },
   {
    "duration": 11,
    "start_time": "2024-01-18T15:23:30.072Z"
   },
   {
    "duration": 5,
    "start_time": "2024-01-18T15:23:32.842Z"
   },
   {
    "duration": 7,
    "start_time": "2024-01-18T15:23:51.650Z"
   },
   {
    "duration": 5,
    "start_time": "2024-01-18T15:23:59.370Z"
   },
   {
    "duration": 8,
    "start_time": "2024-01-18T15:24:15.520Z"
   },
   {
    "duration": 1379,
    "start_time": "2024-01-18T15:39:29.637Z"
   },
   {
    "duration": 440,
    "start_time": "2024-01-18T15:39:31.018Z"
   },
   {
    "duration": 6,
    "start_time": "2024-01-18T15:39:31.460Z"
   },
   {
    "duration": 1802,
    "start_time": "2024-01-18T15:39:31.468Z"
   },
   {
    "duration": 1750,
    "start_time": "2024-01-18T15:39:33.272Z"
   },
   {
    "duration": 1773,
    "start_time": "2024-01-18T15:39:35.024Z"
   },
   {
    "duration": 31,
    "start_time": "2024-01-18T15:39:36.799Z"
   },
   {
    "duration": 7,
    "start_time": "2024-01-18T15:39:36.832Z"
   },
   {
    "duration": 542,
    "start_time": "2024-01-18T15:39:36.840Z"
   },
   {
    "duration": 96,
    "start_time": "2024-01-18T15:39:37.384Z"
   },
   {
    "duration": 43,
    "start_time": "2024-01-18T15:39:37.482Z"
   },
   {
    "duration": 56,
    "start_time": "2024-01-18T15:39:37.527Z"
   },
   {
    "duration": 29,
    "start_time": "2024-01-18T15:39:37.584Z"
   },
   {
    "duration": 37,
    "start_time": "2024-01-18T15:39:37.616Z"
   },
   {
    "duration": 21,
    "start_time": "2024-01-18T15:39:37.655Z"
   },
   {
    "duration": 28,
    "start_time": "2024-01-18T15:39:37.678Z"
   },
   {
    "duration": 186,
    "start_time": "2024-01-18T15:39:37.708Z"
   },
   {
    "duration": 0,
    "start_time": "2024-01-18T15:39:37.896Z"
   },
   {
    "duration": 0,
    "start_time": "2024-01-18T15:39:37.898Z"
   },
   {
    "duration": 0,
    "start_time": "2024-01-18T15:39:37.900Z"
   },
   {
    "duration": 19,
    "start_time": "2024-01-18T15:39:45.299Z"
   },
   {
    "duration": 1413,
    "start_time": "2024-01-18T15:40:00.132Z"
   },
   {
    "duration": 439,
    "start_time": "2024-01-18T15:40:01.547Z"
   },
   {
    "duration": 6,
    "start_time": "2024-01-18T15:40:01.988Z"
   },
   {
    "duration": 1849,
    "start_time": "2024-01-18T15:40:01.996Z"
   },
   {
    "duration": 1755,
    "start_time": "2024-01-18T15:40:03.847Z"
   },
   {
    "duration": 1987,
    "start_time": "2024-01-18T15:40:05.604Z"
   },
   {
    "duration": 25,
    "start_time": "2024-01-18T15:40:07.593Z"
   },
   {
    "duration": 7,
    "start_time": "2024-01-18T15:40:07.620Z"
   },
   {
    "duration": 557,
    "start_time": "2024-01-18T15:40:07.628Z"
   },
   {
    "duration": 96,
    "start_time": "2024-01-18T15:40:08.188Z"
   },
   {
    "duration": 38,
    "start_time": "2024-01-18T15:40:08.286Z"
   },
   {
    "duration": 83,
    "start_time": "2024-01-18T15:40:08.326Z"
   },
   {
    "duration": 115,
    "start_time": "2024-01-18T15:40:08.410Z"
   },
   {
    "duration": 45,
    "start_time": "2024-01-18T15:40:08.528Z"
   },
   {
    "duration": 31,
    "start_time": "2024-01-18T15:40:08.575Z"
   },
   {
    "duration": 39,
    "start_time": "2024-01-18T15:40:08.608Z"
   },
   {
    "duration": 144,
    "start_time": "2024-01-18T15:40:08.649Z"
   },
   {
    "duration": 1389,
    "start_time": "2024-01-18T15:40:40.125Z"
   },
   {
    "duration": 427,
    "start_time": "2024-01-18T15:40:41.516Z"
   },
   {
    "duration": 7,
    "start_time": "2024-01-18T15:40:41.945Z"
   },
   {
    "duration": 1761,
    "start_time": "2024-01-18T15:40:41.954Z"
   },
   {
    "duration": 1741,
    "start_time": "2024-01-18T15:40:43.717Z"
   },
   {
    "duration": 1763,
    "start_time": "2024-01-18T15:40:45.460Z"
   },
   {
    "duration": 24,
    "start_time": "2024-01-18T15:40:47.225Z"
   },
   {
    "duration": 7,
    "start_time": "2024-01-18T15:40:47.251Z"
   },
   {
    "duration": 528,
    "start_time": "2024-01-18T15:40:47.259Z"
   },
   {
    "duration": 93,
    "start_time": "2024-01-18T15:40:47.790Z"
   },
   {
    "duration": 13,
    "start_time": "2024-01-18T15:40:47.884Z"
   },
   {
    "duration": 10,
    "start_time": "2024-01-18T15:40:47.899Z"
   },
   {
    "duration": 8,
    "start_time": "2024-01-18T15:40:47.911Z"
   },
   {
    "duration": 20,
    "start_time": "2024-01-18T15:40:47.920Z"
   },
   {
    "duration": 4,
    "start_time": "2024-01-18T15:40:47.942Z"
   },
   {
    "duration": 7,
    "start_time": "2024-01-18T15:40:47.948Z"
   },
   {
    "duration": 4029,
    "start_time": "2024-01-18T15:40:47.956Z"
   },
   {
    "duration": 9,
    "start_time": "2024-01-18T15:52:00.700Z"
   },
   {
    "duration": 1438,
    "start_time": "2024-01-18T15:52:09.600Z"
   },
   {
    "duration": 439,
    "start_time": "2024-01-18T15:52:11.040Z"
   },
   {
    "duration": 6,
    "start_time": "2024-01-18T15:52:11.481Z"
   },
   {
    "duration": 1848,
    "start_time": "2024-01-18T15:52:11.489Z"
   },
   {
    "duration": 1832,
    "start_time": "2024-01-18T15:52:13.338Z"
   },
   {
    "duration": 1737,
    "start_time": "2024-01-18T15:52:15.172Z"
   },
   {
    "duration": 26,
    "start_time": "2024-01-18T15:52:16.911Z"
   },
   {
    "duration": 6,
    "start_time": "2024-01-18T15:52:16.939Z"
   },
   {
    "duration": 542,
    "start_time": "2024-01-18T15:52:16.946Z"
   },
   {
    "duration": 93,
    "start_time": "2024-01-18T15:52:17.491Z"
   },
   {
    "duration": 15,
    "start_time": "2024-01-18T15:52:17.586Z"
   },
   {
    "duration": 4,
    "start_time": "2024-01-18T15:52:17.603Z"
   },
   {
    "duration": 5,
    "start_time": "2024-01-18T15:52:17.609Z"
   },
   {
    "duration": 11,
    "start_time": "2024-01-18T15:52:17.616Z"
   },
   {
    "duration": 29,
    "start_time": "2024-01-18T15:52:17.629Z"
   },
   {
    "duration": 4136,
    "start_time": "2024-01-18T15:52:17.660Z"
   },
   {
    "duration": 5,
    "start_time": "2024-01-18T15:54:24.883Z"
   },
   {
    "duration": 5,
    "start_time": "2024-01-18T15:54:26.061Z"
   },
   {
    "duration": 9,
    "start_time": "2024-01-18T15:54:53.378Z"
   },
   {
    "duration": 1405,
    "start_time": "2024-01-18T16:00:50.416Z"
   },
   {
    "duration": 441,
    "start_time": "2024-01-18T16:00:51.823Z"
   },
   {
    "duration": 7,
    "start_time": "2024-01-18T16:00:52.266Z"
   },
   {
    "duration": 1848,
    "start_time": "2024-01-18T16:00:52.275Z"
   },
   {
    "duration": 1763,
    "start_time": "2024-01-18T16:00:54.125Z"
   },
   {
    "duration": 1776,
    "start_time": "2024-01-18T16:00:55.890Z"
   },
   {
    "duration": 33,
    "start_time": "2024-01-18T16:00:57.668Z"
   },
   {
    "duration": 7,
    "start_time": "2024-01-18T16:00:57.702Z"
   },
   {
    "duration": 572,
    "start_time": "2024-01-18T16:00:57.711Z"
   },
   {
    "duration": 101,
    "start_time": "2024-01-18T16:00:58.287Z"
   },
   {
    "duration": 3,
    "start_time": "2024-01-18T16:00:58.390Z"
   },
   {
    "duration": 10,
    "start_time": "2024-01-18T16:00:58.395Z"
   },
   {
    "duration": 9,
    "start_time": "2024-01-18T16:00:58.406Z"
   },
   {
    "duration": 8,
    "start_time": "2024-01-18T16:00:58.416Z"
   },
   {
    "duration": 3815,
    "start_time": "2024-01-18T16:00:58.425Z"
   },
   {
    "duration": 1476,
    "start_time": "2024-01-18T16:01:20.641Z"
   },
   {
    "duration": 454,
    "start_time": "2024-01-18T16:01:22.119Z"
   },
   {
    "duration": 7,
    "start_time": "2024-01-18T16:01:22.575Z"
   },
   {
    "duration": 1775,
    "start_time": "2024-01-18T16:01:22.584Z"
   },
   {
    "duration": 1761,
    "start_time": "2024-01-18T16:01:24.360Z"
   },
   {
    "duration": 1826,
    "start_time": "2024-01-18T16:01:26.123Z"
   },
   {
    "duration": 38,
    "start_time": "2024-01-18T16:01:27.951Z"
   },
   {
    "duration": 7,
    "start_time": "2024-01-18T16:01:27.991Z"
   },
   {
    "duration": 582,
    "start_time": "2024-01-18T16:01:27.999Z"
   },
   {
    "duration": 11,
    "start_time": "2024-01-18T16:01:28.583Z"
   },
   {
    "duration": 4,
    "start_time": "2024-01-18T16:01:28.595Z"
   },
   {
    "duration": 6,
    "start_time": "2024-01-18T16:01:28.600Z"
   },
   {
    "duration": 5,
    "start_time": "2024-01-18T16:01:28.608Z"
   },
   {
    "duration": 23,
    "start_time": "2024-01-18T16:01:28.614Z"
   },
   {
    "duration": 3686,
    "start_time": "2024-01-18T16:01:28.638Z"
   },
   {
    "duration": 6,
    "start_time": "2024-01-18T16:05:35.814Z"
   },
   {
    "duration": 108,
    "start_time": "2024-01-18T16:05:37.863Z"
   },
   {
    "duration": 6,
    "start_time": "2024-01-18T16:06:21.534Z"
   },
   {
    "duration": 19,
    "start_time": "2024-01-18T16:06:22.379Z"
   },
   {
    "duration": 1406,
    "start_time": "2024-01-18T16:06:32.912Z"
   },
   {
    "duration": 436,
    "start_time": "2024-01-18T16:06:34.320Z"
   },
   {
    "duration": 7,
    "start_time": "2024-01-18T16:06:34.758Z"
   },
   {
    "duration": 1756,
    "start_time": "2024-01-18T16:06:34.767Z"
   },
   {
    "duration": 1748,
    "start_time": "2024-01-18T16:06:36.526Z"
   },
   {
    "duration": 1850,
    "start_time": "2024-01-18T16:06:38.275Z"
   },
   {
    "duration": 25,
    "start_time": "2024-01-18T16:06:40.127Z"
   },
   {
    "duration": 7,
    "start_time": "2024-01-18T16:06:40.153Z"
   },
   {
    "duration": 524,
    "start_time": "2024-01-18T16:06:40.161Z"
   },
   {
    "duration": 103,
    "start_time": "2024-01-18T16:06:40.687Z"
   },
   {
    "duration": 26,
    "start_time": "2024-01-18T16:06:40.792Z"
   },
   {
    "duration": 16,
    "start_time": "2024-01-18T16:06:40.820Z"
   },
   {
    "duration": 32,
    "start_time": "2024-01-18T16:06:40.838Z"
   },
   {
    "duration": 28,
    "start_time": "2024-01-18T16:06:40.873Z"
   },
   {
    "duration": 138,
    "start_time": "2024-01-18T16:06:40.902Z"
   },
   {
    "duration": 1455,
    "start_time": "2024-01-18T16:07:09.477Z"
   },
   {
    "duration": 416,
    "start_time": "2024-01-18T16:07:10.934Z"
   },
   {
    "duration": 8,
    "start_time": "2024-01-18T16:07:11.352Z"
   },
   {
    "duration": 1724,
    "start_time": "2024-01-18T16:07:11.362Z"
   },
   {
    "duration": 1742,
    "start_time": "2024-01-18T16:07:13.089Z"
   },
   {
    "duration": 1760,
    "start_time": "2024-01-18T16:07:14.833Z"
   },
   {
    "duration": 25,
    "start_time": "2024-01-18T16:07:16.595Z"
   },
   {
    "duration": 7,
    "start_time": "2024-01-18T16:07:16.621Z"
   },
   {
    "duration": 554,
    "start_time": "2024-01-18T16:07:16.630Z"
   },
   {
    "duration": 101,
    "start_time": "2024-01-18T16:07:17.186Z"
   },
   {
    "duration": 2,
    "start_time": "2024-01-18T16:07:17.289Z"
   },
   {
    "duration": 13,
    "start_time": "2024-01-18T16:07:17.293Z"
   },
   {
    "duration": 6,
    "start_time": "2024-01-18T16:07:17.308Z"
   },
   {
    "duration": 10,
    "start_time": "2024-01-18T16:07:17.320Z"
   },
   {
    "duration": 3716,
    "start_time": "2024-01-18T16:07:17.332Z"
   },
   {
    "duration": 1396,
    "start_time": "2024-01-18T16:15:46.424Z"
   },
   {
    "duration": 420,
    "start_time": "2024-01-18T16:15:47.822Z"
   },
   {
    "duration": 8,
    "start_time": "2024-01-18T16:15:48.244Z"
   },
   {
    "duration": 2491,
    "start_time": "2024-01-18T16:15:48.254Z"
   },
   {
    "duration": 1734,
    "start_time": "2024-01-18T16:15:50.747Z"
   },
   {
    "duration": 1762,
    "start_time": "2024-01-18T16:15:52.483Z"
   },
   {
    "duration": 22,
    "start_time": "2024-01-18T16:15:54.246Z"
   },
   {
    "duration": 6,
    "start_time": "2024-01-18T16:15:54.280Z"
   },
   {
    "duration": 497,
    "start_time": "2024-01-18T16:15:54.288Z"
   },
   {
    "duration": 98,
    "start_time": "2024-01-18T16:15:54.788Z"
   },
   {
    "duration": 3,
    "start_time": "2024-01-18T16:15:54.887Z"
   },
   {
    "duration": 6,
    "start_time": "2024-01-18T16:15:54.892Z"
   },
   {
    "duration": 7,
    "start_time": "2024-01-18T16:15:54.900Z"
   },
   {
    "duration": 6,
    "start_time": "2024-01-18T16:15:54.909Z"
   },
   {
    "duration": 3594,
    "start_time": "2024-01-18T16:15:54.917Z"
   },
   {
    "duration": 1022,
    "start_time": "2024-01-18T16:19:32.955Z"
   },
   {
    "duration": 1486,
    "start_time": "2024-01-18T16:21:01.453Z"
   },
   {
    "duration": 430,
    "start_time": "2024-01-18T16:21:02.941Z"
   },
   {
    "duration": 9,
    "start_time": "2024-01-18T16:21:03.375Z"
   },
   {
    "duration": 1782,
    "start_time": "2024-01-18T16:21:03.387Z"
   },
   {
    "duration": 1790,
    "start_time": "2024-01-18T16:21:05.170Z"
   },
   {
    "duration": 1804,
    "start_time": "2024-01-18T16:21:06.961Z"
   },
   {
    "duration": 64,
    "start_time": "2024-01-18T16:21:08.767Z"
   },
   {
    "duration": 0,
    "start_time": "2024-01-18T16:21:08.832Z"
   },
   {
    "duration": 0,
    "start_time": "2024-01-18T16:21:08.834Z"
   },
   {
    "duration": 0,
    "start_time": "2024-01-18T16:21:08.834Z"
   },
   {
    "duration": 1,
    "start_time": "2024-01-18T16:21:08.835Z"
   },
   {
    "duration": 0,
    "start_time": "2024-01-18T16:21:08.837Z"
   },
   {
    "duration": 0,
    "start_time": "2024-01-18T16:21:08.838Z"
   },
   {
    "duration": 0,
    "start_time": "2024-01-18T16:21:08.840Z"
   },
   {
    "duration": 0,
    "start_time": "2024-01-18T16:21:08.842Z"
   },
   {
    "duration": 1507,
    "start_time": "2024-01-18T16:21:29.572Z"
   },
   {
    "duration": 444,
    "start_time": "2024-01-18T16:21:31.081Z"
   },
   {
    "duration": 7,
    "start_time": "2024-01-18T16:21:31.527Z"
   },
   {
    "duration": 1867,
    "start_time": "2024-01-18T16:21:31.536Z"
   },
   {
    "duration": 1791,
    "start_time": "2024-01-18T16:21:33.405Z"
   },
   {
    "duration": 1855,
    "start_time": "2024-01-18T16:21:35.199Z"
   },
   {
    "duration": 44,
    "start_time": "2024-01-18T16:21:37.055Z"
   },
   {
    "duration": 9,
    "start_time": "2024-01-18T16:21:37.102Z"
   },
   {
    "duration": 667,
    "start_time": "2024-01-18T16:21:37.113Z"
   },
   {
    "duration": 9,
    "start_time": "2024-01-18T16:21:37.782Z"
   },
   {
    "duration": 25,
    "start_time": "2024-01-18T16:21:37.793Z"
   },
   {
    "duration": 21,
    "start_time": "2024-01-18T16:21:37.819Z"
   },
   {
    "duration": 7,
    "start_time": "2024-01-18T16:21:37.841Z"
   },
   {
    "duration": 30,
    "start_time": "2024-01-18T16:21:37.851Z"
   },
   {
    "duration": 7010,
    "start_time": "2024-01-18T16:21:37.885Z"
   },
   {
    "duration": 1346,
    "start_time": "2024-01-18T16:21:57.071Z"
   },
   {
    "duration": 4,
    "start_time": "2024-01-18T16:23:15.336Z"
   },
   {
    "duration": 112,
    "start_time": "2024-01-18T16:23:32.680Z"
   },
   {
    "duration": 1385,
    "start_time": "2024-01-18T17:01:48.228Z"
   },
   {
    "duration": 456,
    "start_time": "2024-01-18T17:01:49.615Z"
   },
   {
    "duration": 8,
    "start_time": "2024-01-18T17:01:50.072Z"
   },
   {
    "duration": 1815,
    "start_time": "2024-01-18T17:01:50.083Z"
   },
   {
    "duration": 1766,
    "start_time": "2024-01-18T17:01:51.899Z"
   },
   {
    "duration": 1781,
    "start_time": "2024-01-18T17:01:53.667Z"
   },
   {
    "duration": 37,
    "start_time": "2024-01-18T17:01:55.450Z"
   },
   {
    "duration": 22,
    "start_time": "2024-01-18T17:01:55.489Z"
   },
   {
    "duration": 672,
    "start_time": "2024-01-18T17:01:55.513Z"
   },
   {
    "duration": 11,
    "start_time": "2024-01-18T17:01:56.188Z"
   },
   {
    "duration": 3,
    "start_time": "2024-01-18T17:01:56.201Z"
   },
   {
    "duration": 7,
    "start_time": "2024-01-18T17:01:56.206Z"
   },
   {
    "duration": 4,
    "start_time": "2024-01-18T17:01:56.215Z"
   },
   {
    "duration": 6,
    "start_time": "2024-01-18T17:01:56.221Z"
   },
   {
    "duration": 6878,
    "start_time": "2024-01-18T17:01:56.229Z"
   }
  ],
  "kernelspec": {
   "display_name": "Python 3 (ipykernel)",
   "language": "python",
   "name": "python3"
  },
  "language_info": {
   "codemirror_mode": {
    "name": "ipython",
    "version": 3
   },
   "file_extension": ".py",
   "mimetype": "text/x-python",
   "name": "python",
   "nbconvert_exporter": "python",
   "pygments_lexer": "ipython3",
   "version": "3.9.5"
  },
  "toc": {
   "base_numbering": 1,
   "nav_menu": {
    "height": "115px",
    "width": "328px"
   },
   "number_sections": true,
   "sideBar": true,
   "skip_h1_title": true,
   "title_cell": "Содержание",
   "title_sidebar": "Содержание",
   "toc_cell": true,
   "toc_position": {
    "height": "calc(100% - 180px)",
    "left": "10px",
    "top": "150px",
    "width": "196px"
   },
   "toc_section_display": true,
   "toc_window_display": true
  }
 },
 "nbformat": 4,
 "nbformat_minor": 2
}
