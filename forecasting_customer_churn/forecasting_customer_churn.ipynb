{
 "cells": [
  {
   "cell_type": "markdown",
   "metadata": {
    "toc": true
   },
   "source": [
    "<h1>Содержание<span class=\"tocSkip\"></span></h1>\n",
    "<div class=\"toc\"><ul class=\"toc-item\"><li><span><a href=\"#Подготовка-данных\" data-toc-modified-id=\"Подготовка-данных-1\"><span class=\"toc-item-num\">1&nbsp;&nbsp;</span>Подготовка данных</a></span><ul class=\"toc-item\"><li><span><a href=\"#Изучение-общей-информации-о-данных\" data-toc-modified-id=\"Изучение-общей-информации-о-данных-1.1\"><span class=\"toc-item-num\">1.1&nbsp;&nbsp;</span>Изучение общей информации о данных</a></span></li><li><span><a href=\"#Предобработка-данных\" data-toc-modified-id=\"Предобработка-данных-1.2\"><span class=\"toc-item-num\">1.2&nbsp;&nbsp;</span>Предобработка данных</a></span></li><li><span><a href=\"#Подготовка-данных-для-обучения-моделей\" data-toc-modified-id=\"Подготовка-данных-для-обучения-моделей-1.3\"><span class=\"toc-item-num\">1.3&nbsp;&nbsp;</span>Подготовка данных для обучения моделей</a></span></li></ul></li><li><span><a href=\"#Исследование-задачи\" data-toc-modified-id=\"Исследование-задачи-2\"><span class=\"toc-item-num\">2&nbsp;&nbsp;</span>Исследование задачи</a></span><ul class=\"toc-item\"><li><span><a href=\"#Исследование-баланса-классов\" data-toc-modified-id=\"Исследование-баланса-классов-2.1\"><span class=\"toc-item-num\">2.1&nbsp;&nbsp;</span>Исследование баланса классов</a></span></li><li><span><a href=\"#Изучение-моделей-без-учета-дисбаланса\" data-toc-modified-id=\"Изучение-моделей-без-учета-дисбаланса-2.2\"><span class=\"toc-item-num\">2.2&nbsp;&nbsp;</span>Изучение моделей без учета дисбаланса</a></span><ul class=\"toc-item\"><li><span><a href=\"#Логистическая-регрессия\" data-toc-modified-id=\"Логистическая-регрессия-2.2.1\"><span class=\"toc-item-num\">2.2.1&nbsp;&nbsp;</span>Логистическая регрессия</a></span></li><li><span><a href=\"#Случайный-лес\" data-toc-modified-id=\"Случайный-лес-2.2.2\"><span class=\"toc-item-num\">2.2.2&nbsp;&nbsp;</span>Случайный лес</a></span></li></ul></li><li><span><a href=\"#Выводы-по-результатам-исследования\" data-toc-modified-id=\"Выводы-по-результатам-исследования-2.3\"><span class=\"toc-item-num\">2.3&nbsp;&nbsp;</span>Выводы по результатам исследования</a></span></li></ul></li><li><span><a href=\"#Борьба-с-дисбалансом\" data-toc-modified-id=\"Борьба-с-дисбалансом-3\"><span class=\"toc-item-num\">3&nbsp;&nbsp;</span>Борьба с дисбалансом</a></span><ul class=\"toc-item\"><li><span><a href=\"#сlass_weight-для-LogisticRegression\" data-toc-modified-id=\"сlass_weight-для-LogisticRegression-3.1\"><span class=\"toc-item-num\">3.1&nbsp;&nbsp;</span><code>сlass_weight</code> для LogisticRegression</a></span></li><li><span><a href=\"#Upsampling-(увеличение-выборки)\" data-toc-modified-id=\"Upsampling-(увеличение-выборки)-3.2\"><span class=\"toc-item-num\">3.2&nbsp;&nbsp;</span>Upsampling (увеличение выборки)</a></span><ul class=\"toc-item\"><li><span><a href=\"#Создаем-функцию-upsample\" data-toc-modified-id=\"Создаем-функцию-upsample-3.2.1\"><span class=\"toc-item-num\">3.2.1&nbsp;&nbsp;</span>Создаем функцию <code>upsample</code></a></span></li><li><span><a href=\"#Обучаем-LogisticRegression-на-увеличенной-выборке\" data-toc-modified-id=\"Обучаем-LogisticRegression-на-увеличенной-выборке-3.2.2\"><span class=\"toc-item-num\">3.2.2&nbsp;&nbsp;</span>Обучаем LogisticRegression на увеличенной выборке</a></span></li><li><span><a href=\"#Обучаем-RandomForestClassifier-на-увеличенной-выборке\" data-toc-modified-id=\"Обучаем-RandomForestClassifier-на-увеличенной-выборке-3.2.3\"><span class=\"toc-item-num\">3.2.3&nbsp;&nbsp;</span>Обучаем RandomForestClassifier на увеличенной выборке</a></span></li><li><span><a href=\"#Проверяем-значение-метрики-AUC-ROC-для-LogisticRegression\" data-toc-modified-id=\"Проверяем-значение-метрики-AUC-ROC-для-LogisticRegression-3.2.4\"><span class=\"toc-item-num\">3.2.4&nbsp;&nbsp;</span>Проверяем значение метрики <code>AUC-ROC</code> для <code>LogisticRegression</code></a></span></li><li><span><a href=\"#Проверяем-значение-метрики-AUC-ROC-для-RandomForestClassifier\" data-toc-modified-id=\"Проверяем-значение-метрики-AUC-ROC-для-RandomForestClassifier-3.2.5\"><span class=\"toc-item-num\">3.2.5&nbsp;&nbsp;</span>Проверяем значение метрики <code>AUC-ROC</code> для <code>RandomForestClassifier</code></a></span></li><li><span><a href=\"#Выводы-после-применения-метода-upsampling\" data-toc-modified-id=\"Выводы-после-применения-метода-upsampling-3.2.6\"><span class=\"toc-item-num\">3.2.6&nbsp;&nbsp;</span>Выводы после применения метода <code>upsampling</code></a></span></li></ul></li><li><span><a href=\"#Downsampling-(уменьшение-выборки)\" data-toc-modified-id=\"Downsampling-(уменьшение-выборки)-3.3\"><span class=\"toc-item-num\">3.3&nbsp;&nbsp;</span>Downsampling (уменьшение выборки)</a></span><ul class=\"toc-item\"><li><span><a href=\"#Создаем-функцию-downsample\" data-toc-modified-id=\"Создаем-функцию-downsample-3.3.1\"><span class=\"toc-item-num\">3.3.1&nbsp;&nbsp;</span>Создаем функцию <code>downsample</code></a></span></li><li><span><a href=\"#Обучаем-LogisticRegression-на-уменьшенной-выборке\" data-toc-modified-id=\"Обучаем-LogisticRegression-на-уменьшенной-выборке-3.3.2\"><span class=\"toc-item-num\">3.3.2&nbsp;&nbsp;</span>Обучаем LogisticRegression на уменьшенной выборке</a></span></li><li><span><a href=\"#Обучаем-RandomForestClassifier-на-уменьшенной-выборке\" data-toc-modified-id=\"Обучаем-RandomForestClassifier-на-уменьшенной-выборке-3.3.3\"><span class=\"toc-item-num\">3.3.3&nbsp;&nbsp;</span>Обучаем RandomForestClassifier на уменьшенной выборке</a></span></li><li><span><a href=\"#Проверяем-значение-метрики-AUC-ROC-для-LogisticRegression\" data-toc-modified-id=\"Проверяем-значение-метрики-AUC-ROC-для-LogisticRegression-3.3.4\"><span class=\"toc-item-num\">3.3.4&nbsp;&nbsp;</span>Проверяем значение метрики <code>AUC-ROC</code> для <code>LogisticRegression</code></a></span></li><li><span><a href=\"#Проверяем-значение-метрики-AUC-ROC-для-RandomForestClassifier\" data-toc-modified-id=\"Проверяем-значение-метрики-AUC-ROC-для-RandomForestClassifier-3.3.5\"><span class=\"toc-item-num\">3.3.5&nbsp;&nbsp;</span>Проверяем значение метрики <code>AUC-ROC</code> для <code>RandomForestClassifier</code></a></span></li><li><span><a href=\"#Выводы-после-применения-метода-downsampling\" data-toc-modified-id=\"Выводы-после-применения-метода-downsampling-3.3.6\"><span class=\"toc-item-num\">3.3.6&nbsp;&nbsp;</span>Выводы после применения метода <code>downsampling</code></a></span></li></ul></li><li><span><a href=\"#Вывод-по-борьбе-с-дисбалансом\" data-toc-modified-id=\"Вывод-по-борьбе-с-дисбалансом-3.4\"><span class=\"toc-item-num\">3.4&nbsp;&nbsp;</span>Вывод по борьбе с дисбалансом</a></span></li></ul></li><li><span><a href=\"#Тестирование-модели\" data-toc-modified-id=\"Тестирование-модели-4\"><span class=\"toc-item-num\">4&nbsp;&nbsp;</span>Тестирование модели</a></span><ul class=\"toc-item\"><li><span><a href=\"#Предсказание-на-тестовой-выборке\" data-toc-modified-id=\"Предсказание-на-тестовой-выборке-4.1\"><span class=\"toc-item-num\">4.1&nbsp;&nbsp;</span>Предсказание на тестовой выборке</a></span></li><li><span><a href=\"#AUC-ROC-на-тестовой-выборке\" data-toc-modified-id=\"AUC-ROC-на-тестовой-выборке-4.2\"><span class=\"toc-item-num\">4.2&nbsp;&nbsp;</span><code>AUC-ROC</code> на тестовой выборке</a></span></li><li><span><a href=\"#Объединение-выборок\" data-toc-modified-id=\"Объединение-выборок-4.3\"><span class=\"toc-item-num\">4.3&nbsp;&nbsp;</span>Объединение выборок</a></span></li><li><span><a href=\"#Вывод-по-тестированию-модели\" data-toc-modified-id=\"Вывод-по-тестированию-модели-4.4\"><span class=\"toc-item-num\">4.4&nbsp;&nbsp;</span>Вывод по тестированию модели</a></span></li></ul></li><li><span><a href=\"#Общий-вывод\" data-toc-modified-id=\"Общий-вывод-5\"><span class=\"toc-item-num\">5&nbsp;&nbsp;</span>Общий вывод</a></span></li><li><span><a href=\"#Чек-лист-готовности-проекта\" data-toc-modified-id=\"Чек-лист-готовности-проекта-6\"><span class=\"toc-item-num\">6&nbsp;&nbsp;</span>Чек-лист готовности проекта</a></span></li></ul></div>"
   ]
  },
  {
   "cell_type": "markdown",
   "metadata": {},
   "source": [
    "# Прогнозирование оттока клиентов банка"
   ]
  },
  {
   "cell_type": "markdown",
   "metadata": {},
   "source": [
    "Из банка стали уходить клиенты. Каждый месяц. Немного, но заметно. Банковские маркетологи посчитали: сохранять текущих клиентов дешевле, чем привлекать новых. Нужно спрогнозировать, уйдёт клиент из банка в ближайшее время или нет. Предоставлены исторические данные о поведении клиентов и расторжении договоров с банком.\n",
    "\n",
    "---\n",
    "\n",
    "**Цель исследования:** Построить модель, которая будет способна спрогнозировать уход клиент из банка в ближайшее время. \n",
    "\n",
    "**Контекст исследования:** Исторические данные о поведении клиентов и расторжении договоров с банком.\n",
    "\n",
    "**Источник данных:** [Данные о поведении клиентов с Kaggle](https://www.kaggle.com/barelydedicated/bank-customer-churn-modeling)\n",
    "\n",
    "**Задачи исследования:** \n",
    "- Построить модель с предельно большим значением *F1*-меры\n",
    "- Довести метрику *F1*-меры до 0.59 \n",
    "- Проверить *F1*-меру на тестовой выборке\n",
    "- Дополнительно измерять *AUC-ROC*, сравнивать значение этой метрики с *F1*-мерой\n",
    "\n",
    "**План исследования:**\n",
    "- Загрузите и подготовьте данные\n",
    "- Исследовать баланс классов, обучить модель без учёта дисбаланса\n",
    "- Улучшить качество модели, учитывая дисбаланс классов. Обучить разные модели и найти лучшую\n",
    "- Провести финальное тестирование.\n",
    "\n",
    "**Описание данных:**\n",
    "\n",
    "*Признаки:*\n",
    "- `RowNumber` — индекс строки в данных\n",
    "- `CustomerId` — уникальный идентификатор клиента\n",
    "- `Surname` — фамилия\n",
    "- `CreditScore` — кредитный рейтинг\n",
    "- `Geography` — страна проживания\n",
    "- `Gender` — пол\n",
    "- `Age` — возраст\n",
    "- `Tenure` — сколько лет человек является клиентом банка\n",
    "- `Balance` — баланс на счёте\n",
    "- `NumOfProducts` — количество продуктов банка, используемых клиентом\n",
    "- `HasCrCard` — наличие кредитной карты\n",
    "- `IsActiveMember` — активность клиента\n",
    "- `EstimatedSalary` — предполагаемая зарплата\n",
    "\n",
    "*Целевой признак:*\n",
    "- `Exited` — факт ухода клиента\n",
    "\n",
    "---"
   ]
  },
  {
   "cell_type": "markdown",
   "metadata": {},
   "source": [
    "## Подготовка данных"
   ]
  },
  {
   "cell_type": "markdown",
   "metadata": {},
   "source": [
    "### Изучение общей информации о данных"
   ]
  },
  {
   "cell_type": "code",
   "execution_count": 1,
   "metadata": {},
   "outputs": [
    {
     "name": "stdout",
     "output_type": "stream",
     "text": [
      "Collecting scikit-learn==1.1.3\n",
      "  Downloading scikit_learn-1.1.3-cp39-cp39-manylinux_2_17_x86_64.manylinux2014_x86_64.whl (30.8 MB)\n",
      "\u001B[K     |████████████████████████████████| 30.8 MB 2.2 MB/s eta 0:00:01\n",
      "\u001B[?25hRequirement already satisfied: joblib>=1.0.0 in /opt/conda/lib/python3.9/site-packages (from scikit-learn==1.1.3) (1.1.0)\n",
      "Requirement already satisfied: scipy>=1.3.2 in /opt/conda/lib/python3.9/site-packages (from scikit-learn==1.1.3) (1.9.1)\n",
      "Requirement already satisfied: threadpoolctl>=2.0.0 in /opt/conda/lib/python3.9/site-packages (from scikit-learn==1.1.3) (3.1.0)\n",
      "Requirement already satisfied: numpy>=1.17.3 in /opt/conda/lib/python3.9/site-packages (from scikit-learn==1.1.3) (1.21.1)\n",
      "Installing collected packages: scikit-learn\n",
      "  Attempting uninstall: scikit-learn\n",
      "    Found existing installation: scikit-learn 0.24.1\n",
      "    Uninstalling scikit-learn-0.24.1:\n",
      "      Successfully uninstalled scikit-learn-0.24.1\n",
      "Successfully installed scikit-learn-1.1.3\n"
     ]
    }
   ],
   "source": [
    "!pip install scikit-learn == 1.1.3\n",
    "\n",
    "import matplotlib.pyplot as plt\n",
    "import pandas as pd\n",
    "from sklearn.ensemble import RandomForestClassifier\n",
    "from sklearn.linear_model import LogisticRegression\n",
    "from sklearn.metrics import (\n",
    "    f1_score,\n",
    "    roc_curve,\n",
    "    roc_auc_score\n",
    ")\n",
    "from sklearn.model_selection import train_test_split\n",
    "from sklearn.preprocessing import StandardScaler\n",
    "from sklearn.utils import shuffle\n",
    "from tqdm import tqdm\n",
    "\n",
    "pd.set_option('display.max_columns', None)\n",
    "pd.set_option('display.max_rows', None)\n",
    "pd.options.mode.chained_assignment = None"
   ]
  },
  {
   "cell_type": "code",
   "execution_count": 2,
   "metadata": {},
   "outputs": [],
   "source": [
    "try:\n",
    "    data = pd.read_csv('Churn.csv')\n",
    "except:\n",
    "    data = pd.read_csv('https://code.s3.yandex.net/datasets/Churn.csv')"
   ]
  },
  {
   "cell_type": "code",
   "execution_count": 3,
   "metadata": {},
   "outputs": [
    {
     "data": {
      "text/html": [
       "<div>\n",
       "<style scoped>\n",
       "    .dataframe tbody tr th:only-of-type {\n",
       "        vertical-align: middle;\n",
       "    }\n",
       "\n",
       "    .dataframe tbody tr th {\n",
       "        vertical-align: top;\n",
       "    }\n",
       "\n",
       "    .dataframe thead th {\n",
       "        text-align: right;\n",
       "    }\n",
       "</style>\n",
       "<table border=\"1\" class=\"dataframe\">\n",
       "  <thead>\n",
       "    <tr style=\"text-align: right;\">\n",
       "      <th></th>\n",
       "      <th>RowNumber</th>\n",
       "      <th>CustomerId</th>\n",
       "      <th>Surname</th>\n",
       "      <th>CreditScore</th>\n",
       "      <th>Geography</th>\n",
       "      <th>Gender</th>\n",
       "      <th>Age</th>\n",
       "      <th>Tenure</th>\n",
       "      <th>Balance</th>\n",
       "      <th>NumOfProducts</th>\n",
       "      <th>HasCrCard</th>\n",
       "      <th>IsActiveMember</th>\n",
       "      <th>EstimatedSalary</th>\n",
       "      <th>Exited</th>\n",
       "    </tr>\n",
       "  </thead>\n",
       "  <tbody>\n",
       "    <tr>\n",
       "      <th>0</th>\n",
       "      <td>1</td>\n",
       "      <td>15634602</td>\n",
       "      <td>Hargrave</td>\n",
       "      <td>619</td>\n",
       "      <td>France</td>\n",
       "      <td>Female</td>\n",
       "      <td>42</td>\n",
       "      <td>2.0</td>\n",
       "      <td>0.00</td>\n",
       "      <td>1</td>\n",
       "      <td>1</td>\n",
       "      <td>1</td>\n",
       "      <td>101348.88</td>\n",
       "      <td>1</td>\n",
       "    </tr>\n",
       "    <tr>\n",
       "      <th>1</th>\n",
       "      <td>2</td>\n",
       "      <td>15647311</td>\n",
       "      <td>Hill</td>\n",
       "      <td>608</td>\n",
       "      <td>Spain</td>\n",
       "      <td>Female</td>\n",
       "      <td>41</td>\n",
       "      <td>1.0</td>\n",
       "      <td>83807.86</td>\n",
       "      <td>1</td>\n",
       "      <td>0</td>\n",
       "      <td>1</td>\n",
       "      <td>112542.58</td>\n",
       "      <td>0</td>\n",
       "    </tr>\n",
       "    <tr>\n",
       "      <th>2</th>\n",
       "      <td>3</td>\n",
       "      <td>15619304</td>\n",
       "      <td>Onio</td>\n",
       "      <td>502</td>\n",
       "      <td>France</td>\n",
       "      <td>Female</td>\n",
       "      <td>42</td>\n",
       "      <td>8.0</td>\n",
       "      <td>159660.80</td>\n",
       "      <td>3</td>\n",
       "      <td>1</td>\n",
       "      <td>0</td>\n",
       "      <td>113931.57</td>\n",
       "      <td>1</td>\n",
       "    </tr>\n",
       "    <tr>\n",
       "      <th>3</th>\n",
       "      <td>4</td>\n",
       "      <td>15701354</td>\n",
       "      <td>Boni</td>\n",
       "      <td>699</td>\n",
       "      <td>France</td>\n",
       "      <td>Female</td>\n",
       "      <td>39</td>\n",
       "      <td>1.0</td>\n",
       "      <td>0.00</td>\n",
       "      <td>2</td>\n",
       "      <td>0</td>\n",
       "      <td>0</td>\n",
       "      <td>93826.63</td>\n",
       "      <td>0</td>\n",
       "    </tr>\n",
       "    <tr>\n",
       "      <th>4</th>\n",
       "      <td>5</td>\n",
       "      <td>15737888</td>\n",
       "      <td>Mitchell</td>\n",
       "      <td>850</td>\n",
       "      <td>Spain</td>\n",
       "      <td>Female</td>\n",
       "      <td>43</td>\n",
       "      <td>2.0</td>\n",
       "      <td>125510.82</td>\n",
       "      <td>1</td>\n",
       "      <td>1</td>\n",
       "      <td>1</td>\n",
       "      <td>79084.10</td>\n",
       "      <td>0</td>\n",
       "    </tr>\n",
       "  </tbody>\n",
       "</table>\n",
       "</div>"
      ],
      "text/plain": [
       "   RowNumber  CustomerId   Surname  CreditScore Geography  Gender  Age  \\\n",
       "0          1    15634602  Hargrave          619    France  Female   42   \n",
       "1          2    15647311      Hill          608     Spain  Female   41   \n",
       "2          3    15619304      Onio          502    France  Female   42   \n",
       "3          4    15701354      Boni          699    France  Female   39   \n",
       "4          5    15737888  Mitchell          850     Spain  Female   43   \n",
       "\n",
       "   Tenure    Balance  NumOfProducts  HasCrCard  IsActiveMember  \\\n",
       "0     2.0       0.00              1          1               1   \n",
       "1     1.0   83807.86              1          0               1   \n",
       "2     8.0  159660.80              3          1               0   \n",
       "3     1.0       0.00              2          0               0   \n",
       "4     2.0  125510.82              1          1               1   \n",
       "\n",
       "   EstimatedSalary  Exited  \n",
       "0        101348.88       1  \n",
       "1        112542.58       0  \n",
       "2        113931.57       1  \n",
       "3         93826.63       0  \n",
       "4         79084.10       0  "
      ]
     },
     "execution_count": 3,
     "metadata": {},
     "output_type": "execute_result"
    }
   ],
   "source": [
    "# Выводим первые 5 строчек данных\n",
    "data.head()"
   ]
  },
  {
   "cell_type": "code",
   "execution_count": 4,
   "metadata": {},
   "outputs": [
    {
     "name": "stdout",
     "output_type": "stream",
     "text": [
      "<class 'pandas.core.frame.DataFrame'>\n",
      "RangeIndex: 10000 entries, 0 to 9999\n",
      "Data columns (total 14 columns):\n",
      " #   Column           Non-Null Count  Dtype  \n",
      "---  ------           --------------  -----  \n",
      " 0   RowNumber        10000 non-null  int64  \n",
      " 1   CustomerId       10000 non-null  int64  \n",
      " 2   Surname          10000 non-null  object \n",
      " 3   CreditScore      10000 non-null  int64  \n",
      " 4   Geography        10000 non-null  object \n",
      " 5   Gender           10000 non-null  object \n",
      " 6   Age              10000 non-null  int64  \n",
      " 7   Tenure           9091 non-null   float64\n",
      " 8   Balance          10000 non-null  float64\n",
      " 9   NumOfProducts    10000 non-null  int64  \n",
      " 10  HasCrCard        10000 non-null  int64  \n",
      " 11  IsActiveMember   10000 non-null  int64  \n",
      " 12  EstimatedSalary  10000 non-null  float64\n",
      " 13  Exited           10000 non-null  int64  \n",
      "dtypes: float64(3), int64(8), object(3)\n",
      "memory usage: 1.1+ MB\n"
     ]
    }
   ],
   "source": [
    "# Получаем общую информацию о данных\n",
    "data.info()"
   ]
  },
  {
   "cell_type": "code",
   "execution_count": 5,
   "metadata": {},
   "outputs": [
    {
     "data": {
      "text/plain": [
       "array([ 2.,  1.,  8.,  7.,  4.,  6.,  3., 10.,  5.,  9.,  0., nan])"
      ]
     },
     "execution_count": 5,
     "metadata": {},
     "output_type": "execute_result"
    }
   ],
   "source": [
    "# Посмотрим на уникальные значения столбца `Tenure`\n",
    "data['Tenure'].unique()"
   ]
  },
  {
   "cell_type": "markdown",
   "metadata": {},
   "source": [
    "--- \n",
    "**Выводы по полученной информации:**\n",
    "- Всего в таблице представлены данные о 10000 клиентах\n",
    "- С типами данных столбцов все в порядке\n",
    "- Приводить названия столбцов к единому традиционному виду не вижу смысла, поскольку в данном контексте исследования мы работаем исключительно с обучением моделей\n",
    "- Присутствуют пропуски в столбце `Tenure` \n",
    "- Судя по всему, некоторые столбцы не будут оказывать положительного влияния на обучение моделей, однако будут лишь задерживать их обучение. К примеру, предлагаю убрать столбцы `RowNumber`, `CustomerId` и `Surname`, "
   ]
  },
  {
   "cell_type": "markdown",
   "metadata": {},
   "source": [
    "### Предобработка данных"
   ]
  },
  {
   "cell_type": "code",
   "execution_count": 6,
   "metadata": {},
   "outputs": [
    {
     "data": {
      "text/html": [
       "<div>\n",
       "<style scoped>\n",
       "    .dataframe tbody tr th:only-of-type {\n",
       "        vertical-align: middle;\n",
       "    }\n",
       "\n",
       "    .dataframe tbody tr th {\n",
       "        vertical-align: top;\n",
       "    }\n",
       "\n",
       "    .dataframe thead th {\n",
       "        text-align: right;\n",
       "    }\n",
       "</style>\n",
       "<table border=\"1\" class=\"dataframe\">\n",
       "  <thead>\n",
       "    <tr style=\"text-align: right;\">\n",
       "      <th></th>\n",
       "      <th>CreditScore</th>\n",
       "      <th>Geography</th>\n",
       "      <th>Gender</th>\n",
       "      <th>Age</th>\n",
       "      <th>Tenure</th>\n",
       "      <th>Balance</th>\n",
       "      <th>NumOfProducts</th>\n",
       "      <th>HasCrCard</th>\n",
       "      <th>IsActiveMember</th>\n",
       "      <th>EstimatedSalary</th>\n",
       "      <th>Exited</th>\n",
       "    </tr>\n",
       "  </thead>\n",
       "  <tbody>\n",
       "    <tr>\n",
       "      <th>0</th>\n",
       "      <td>619</td>\n",
       "      <td>France</td>\n",
       "      <td>Female</td>\n",
       "      <td>42</td>\n",
       "      <td>2.0</td>\n",
       "      <td>0.00</td>\n",
       "      <td>1</td>\n",
       "      <td>1</td>\n",
       "      <td>1</td>\n",
       "      <td>101348.88</td>\n",
       "      <td>1</td>\n",
       "    </tr>\n",
       "    <tr>\n",
       "      <th>1</th>\n",
       "      <td>608</td>\n",
       "      <td>Spain</td>\n",
       "      <td>Female</td>\n",
       "      <td>41</td>\n",
       "      <td>1.0</td>\n",
       "      <td>83807.86</td>\n",
       "      <td>1</td>\n",
       "      <td>0</td>\n",
       "      <td>1</td>\n",
       "      <td>112542.58</td>\n",
       "      <td>0</td>\n",
       "    </tr>\n",
       "    <tr>\n",
       "      <th>2</th>\n",
       "      <td>502</td>\n",
       "      <td>France</td>\n",
       "      <td>Female</td>\n",
       "      <td>42</td>\n",
       "      <td>8.0</td>\n",
       "      <td>159660.80</td>\n",
       "      <td>3</td>\n",
       "      <td>1</td>\n",
       "      <td>0</td>\n",
       "      <td>113931.57</td>\n",
       "      <td>1</td>\n",
       "    </tr>\n",
       "    <tr>\n",
       "      <th>3</th>\n",
       "      <td>699</td>\n",
       "      <td>France</td>\n",
       "      <td>Female</td>\n",
       "      <td>39</td>\n",
       "      <td>1.0</td>\n",
       "      <td>0.00</td>\n",
       "      <td>2</td>\n",
       "      <td>0</td>\n",
       "      <td>0</td>\n",
       "      <td>93826.63</td>\n",
       "      <td>0</td>\n",
       "    </tr>\n",
       "    <tr>\n",
       "      <th>4</th>\n",
       "      <td>850</td>\n",
       "      <td>Spain</td>\n",
       "      <td>Female</td>\n",
       "      <td>43</td>\n",
       "      <td>2.0</td>\n",
       "      <td>125510.82</td>\n",
       "      <td>1</td>\n",
       "      <td>1</td>\n",
       "      <td>1</td>\n",
       "      <td>79084.10</td>\n",
       "      <td>0</td>\n",
       "    </tr>\n",
       "  </tbody>\n",
       "</table>\n",
       "</div>"
      ],
      "text/plain": [
       "   CreditScore Geography  Gender  Age  Tenure    Balance  NumOfProducts  \\\n",
       "0          619    France  Female   42     2.0       0.00              1   \n",
       "1          608     Spain  Female   41     1.0   83807.86              1   \n",
       "2          502    France  Female   42     8.0  159660.80              3   \n",
       "3          699    France  Female   39     1.0       0.00              2   \n",
       "4          850     Spain  Female   43     2.0  125510.82              1   \n",
       "\n",
       "   HasCrCard  IsActiveMember  EstimatedSalary  Exited  \n",
       "0          1               1        101348.88       1  \n",
       "1          0               1        112542.58       0  \n",
       "2          1               0        113931.57       1  \n",
       "3          0               0         93826.63       0  \n",
       "4          1               1         79084.10       0  "
      ]
     },
     "execution_count": 6,
     "metadata": {},
     "output_type": "execute_result"
    }
   ],
   "source": [
    "# Избавимся от лишних столбцов\n",
    "data = data.drop(['RowNumber', 'CustomerId', 'Surname'], axis=1)\n",
    "data.head()"
   ]
  },
  {
   "cell_type": "code",
   "execution_count": 7,
   "metadata": {},
   "outputs": [
    {
     "data": {
      "text/plain": [
       "909"
      ]
     },
     "execution_count": 7,
     "metadata": {},
     "output_type": "execute_result"
    }
   ],
   "source": [
    "# Посмотрим на кол-во пропущенных значений в столбце c пропусками\n",
    "data['Tenure'].isna().sum()"
   ]
  },
  {
   "cell_type": "code",
   "execution_count": 8,
   "metadata": {},
   "outputs": [],
   "source": [
    "# Заменим пропуски на медианное значение столбца (чтобы не нарушать распределение признака)\n",
    "data['Tenure'] = data['Tenure'].fillna(data['Tenure'].median())"
   ]
  },
  {
   "cell_type": "code",
   "execution_count": 9,
   "metadata": {},
   "outputs": [
    {
     "data": {
      "text/plain": [
       "0"
      ]
     },
     "execution_count": 9,
     "metadata": {},
     "output_type": "execute_result"
    }
   ],
   "source": [
    "# Проверим столбец на наличие пропусков\n",
    "data['Tenure'].isna().sum()"
   ]
  },
  {
   "cell_type": "markdown",
   "metadata": {},
   "source": [
    "### Подготовка данных для обучения моделей"
   ]
  },
  {
   "cell_type": "markdown",
   "metadata": {},
   "source": [
    "---\n",
    "Не все признаки в данных являются численными, в связи с чем предлагаю применить **One-hot-encoding** для получения дамми-признаков и кодирования количественных переменных \n",
    "\n",
    "---"
   ]
  },
  {
   "cell_type": "code",
   "execution_count": 10,
   "metadata": {},
   "outputs": [],
   "source": [
    "# Применяем one-hot-encoding\n",
    "data_ohe = pd.get_dummies(data, drop_first=True)\n",
    "features = data_ohe.drop('Exited', axis=1)\n",
    "target = data_ohe['Exited']"
   ]
  },
  {
   "cell_type": "code",
   "execution_count": 11,
   "metadata": {},
   "outputs": [
    {
     "name": "stdout",
     "output_type": "stream",
     "text": [
      "Тренировочная: (6000, 11)\n",
      "Валидационная: (2000, 11)\n",
      "Тестовая: (2000, 11)\n"
     ]
    }
   ],
   "source": [
    "# Разобьем все данные на обучающую выборку и (валидационную + тестовую) -> для обучающей оставим 60% \n",
    "features_train, features_split, target_train, target_split = train_test_split(features, target,\n",
    "                                                                              test_size=0.4,\n",
    "                                                                              random_state=12345,\n",
    "                                                                              stratify=target)\n",
    "# Разобьем оставшиеся выборки пополам -> на валидационную (20%) и тестовую (20%)\n",
    "features_test, features_valid, target_test, target_valid = train_test_split(features_split, target_split,\n",
    "                                                                            test_size=0.5,\n",
    "                                                                            random_state=12345,\n",
    "                                                                            stratify=target_split)\n",
    "\n",
    "# Выведем размерность выборок:\n",
    "print('Тренировочная:', features_train.shape)\n",
    "print('Валидационная:', features_valid.shape)\n",
    "print('Тестовая:', features_test.shape)"
   ]
  },
  {
   "cell_type": "markdown",
   "metadata": {},
   "source": [
    "---\n",
    "- Воспользуемся **стандартизацией**, чтобы привести наши признаки к единому масштабу (во всех выборках)\n",
    "\n",
    "\n",
    "---"
   ]
  },
  {
   "cell_type": "code",
   "execution_count": 12,
   "metadata": {},
   "outputs": [
    {
     "data": {
      "text/html": [
       "<div>\n",
       "<style scoped>\n",
       "    .dataframe tbody tr th:only-of-type {\n",
       "        vertical-align: middle;\n",
       "    }\n",
       "\n",
       "    .dataframe tbody tr th {\n",
       "        vertical-align: top;\n",
       "    }\n",
       "\n",
       "    .dataframe thead th {\n",
       "        text-align: right;\n",
       "    }\n",
       "</style>\n",
       "<table border=\"1\" class=\"dataframe\">\n",
       "  <thead>\n",
       "    <tr style=\"text-align: right;\">\n",
       "      <th></th>\n",
       "      <th>CreditScore</th>\n",
       "      <th>Age</th>\n",
       "      <th>Tenure</th>\n",
       "      <th>Balance</th>\n",
       "      <th>NumOfProducts</th>\n",
       "      <th>HasCrCard</th>\n",
       "      <th>IsActiveMember</th>\n",
       "      <th>EstimatedSalary</th>\n",
       "      <th>Exited</th>\n",
       "      <th>Geography_Germany</th>\n",
       "      <th>Geography_Spain</th>\n",
       "      <th>Gender_Male</th>\n",
       "    </tr>\n",
       "  </thead>\n",
       "  <tbody>\n",
       "    <tr>\n",
       "      <th>0</th>\n",
       "      <td>619</td>\n",
       "      <td>42</td>\n",
       "      <td>2.0</td>\n",
       "      <td>0.00</td>\n",
       "      <td>1</td>\n",
       "      <td>1</td>\n",
       "      <td>1</td>\n",
       "      <td>101348.88</td>\n",
       "      <td>1</td>\n",
       "      <td>0</td>\n",
       "      <td>0</td>\n",
       "      <td>0</td>\n",
       "    </tr>\n",
       "    <tr>\n",
       "      <th>1</th>\n",
       "      <td>608</td>\n",
       "      <td>41</td>\n",
       "      <td>1.0</td>\n",
       "      <td>83807.86</td>\n",
       "      <td>1</td>\n",
       "      <td>0</td>\n",
       "      <td>1</td>\n",
       "      <td>112542.58</td>\n",
       "      <td>0</td>\n",
       "      <td>0</td>\n",
       "      <td>1</td>\n",
       "      <td>0</td>\n",
       "    </tr>\n",
       "    <tr>\n",
       "      <th>2</th>\n",
       "      <td>502</td>\n",
       "      <td>42</td>\n",
       "      <td>8.0</td>\n",
       "      <td>159660.80</td>\n",
       "      <td>3</td>\n",
       "      <td>1</td>\n",
       "      <td>0</td>\n",
       "      <td>113931.57</td>\n",
       "      <td>1</td>\n",
       "      <td>0</td>\n",
       "      <td>0</td>\n",
       "      <td>0</td>\n",
       "    </tr>\n",
       "    <tr>\n",
       "      <th>3</th>\n",
       "      <td>699</td>\n",
       "      <td>39</td>\n",
       "      <td>1.0</td>\n",
       "      <td>0.00</td>\n",
       "      <td>2</td>\n",
       "      <td>0</td>\n",
       "      <td>0</td>\n",
       "      <td>93826.63</td>\n",
       "      <td>0</td>\n",
       "      <td>0</td>\n",
       "      <td>0</td>\n",
       "      <td>0</td>\n",
       "    </tr>\n",
       "    <tr>\n",
       "      <th>4</th>\n",
       "      <td>850</td>\n",
       "      <td>43</td>\n",
       "      <td>2.0</td>\n",
       "      <td>125510.82</td>\n",
       "      <td>1</td>\n",
       "      <td>1</td>\n",
       "      <td>1</td>\n",
       "      <td>79084.10</td>\n",
       "      <td>0</td>\n",
       "      <td>0</td>\n",
       "      <td>1</td>\n",
       "      <td>0</td>\n",
       "    </tr>\n",
       "  </tbody>\n",
       "</table>\n",
       "</div>"
      ],
      "text/plain": [
       "   CreditScore  Age  Tenure    Balance  NumOfProducts  HasCrCard  \\\n",
       "0          619   42     2.0       0.00              1          1   \n",
       "1          608   41     1.0   83807.86              1          0   \n",
       "2          502   42     8.0  159660.80              3          1   \n",
       "3          699   39     1.0       0.00              2          0   \n",
       "4          850   43     2.0  125510.82              1          1   \n",
       "\n",
       "   IsActiveMember  EstimatedSalary  Exited  Geography_Germany  \\\n",
       "0               1        101348.88       1                  0   \n",
       "1               1        112542.58       0                  0   \n",
       "2               0        113931.57       1                  0   \n",
       "3               0         93826.63       0                  0   \n",
       "4               1         79084.10       0                  0   \n",
       "\n",
       "   Geography_Spain  Gender_Male  \n",
       "0                0            0  \n",
       "1                1            0  \n",
       "2                0            0  \n",
       "3                0            0  \n",
       "4                1            0  "
      ]
     },
     "execution_count": 12,
     "metadata": {},
     "output_type": "execute_result"
    }
   ],
   "source": [
    "# Уточним, какие столбцы содержат количественные переменные \n",
    "data_ohe.head()"
   ]
  },
  {
   "cell_type": "code",
   "execution_count": 13,
   "metadata": {},
   "outputs": [],
   "source": [
    "# Стандартизация\n",
    "scaler = StandardScaler()\n",
    "numerics = ['CreditScore', 'Age', 'Tenure', 'Balance', 'NumOfProducts', 'EstimatedSalary']\n",
    "scaler.fit(features_train[numerics])\n",
    "features_test[numerics] = scaler.transform(features_test[numerics])\n",
    "features_train[numerics] = scaler.transform(features_train[numerics])\n",
    "features_valid[numerics] = scaler.transform(features_valid[numerics])"
   ]
  },
  {
   "cell_type": "markdown",
   "metadata": {},
   "source": [
    "---\n",
    "\n",
    "**Вывод по предобработке данных:**\n",
    "- Избавились от \"лишних столбцов\"\n",
    "- Заменили пропущенные значения в столбце `Tenure` на медианное значение столбца\n",
    "- Применили `one-hot-encoding` для кодирования количественных переменных\n",
    "- Использовали **стандартизацию** для масштабирования переменных"
   ]
  },
  {
   "cell_type": "markdown",
   "metadata": {},
   "source": [
    "## Исследование задачи"
   ]
  },
  {
   "cell_type": "markdown",
   "metadata": {},
   "source": [
    "### Исследование баланса классов"
   ]
  },
  {
   "cell_type": "markdown",
   "metadata": {},
   "source": [
    "---\n",
    "**Значения `Exited`:**\n",
    "- `0` -> клиент остался\n",
    "- `1` -> клиент ушел\n",
    "---"
   ]
  },
  {
   "cell_type": "code",
   "execution_count": 14,
   "metadata": {},
   "outputs": [
    {
     "data": {
      "text/plain": [
       "0    0.7963\n",
       "1    0.2037\n",
       "Name: Exited, dtype: float64"
      ]
     },
     "execution_count": 14,
     "metadata": {},
     "output_type": "execute_result"
    }
   ],
   "source": [
    "frequency = data_ohe['Exited'].value_counts(normalize=True)\n",
    "frequency"
   ]
  },
  {
   "cell_type": "code",
   "execution_count": 15,
   "metadata": {},
   "outputs": [
    {
     "name": "stdout",
     "output_type": "stream",
     "text": [
      "Кол-во ушедших пользователей:  2037\n",
      "Кол-во оставшихся пользователей:  7963\n"
     ]
    },
    {
     "data": {
      "image/png": "[encoded data removed]",
      "text/plain": [
       "<Figure size 1080x360 with 1 Axes>"
      ]
     },
     "metadata": {},
     "output_type": "display_data"
    }
   ],
   "source": [
    "# Посчитаем количество оставшихся и ушедших пользователей\n",
    "print('Кол-во ушедших пользователей: ', len(data_ohe.query('Exited == 1')))\n",
    "print('Кол-во оставшихся пользователей: ', len(data_ohe.query('Exited == 0')))\n",
    "\n",
    "# Визуализируем процентное соотношение оставшихся и ушедших пользователей\n",
    "plt.rcParams['figure.figsize'] = (15, 5)\n",
    "plt.pie(\n",
    "    data_ohe['Exited'].value_counts(),\n",
    "    labels=['Осталось', 'Ушло'],\n",
    "    autopct='%1.1f%%',\n",
    "    colors=['lightgreen', 'palevioletred']\n",
    ")\n",
    "plt.title('Распределение ушедших и оставшихся пользователей')\n",
    "plt.grid()\n",
    "plt.show()"
   ]
  },
  {
   "cell_type": "markdown",
   "metadata": {},
   "source": [
    "### Изучение моделей без учета дисбаланса"
   ]
  },
  {
   "cell_type": "markdown",
   "metadata": {},
   "source": [
    "#### Логистическая регрессия"
   ]
  },
  {
   "cell_type": "code",
   "execution_count": 16,
   "metadata": {},
   "outputs": [
    {
     "name": "stdout",
     "output_type": "stream",
     "text": [
      "F1-мера для логистической регрессии: 0.2932330827067669\n"
     ]
    }
   ],
   "source": [
    "model_log = LogisticRegression(random_state=12345, solver='liblinear')\n",
    "model_log.fit(features_train, target_train)\n",
    "predicted_valid_log = model_log.predict(features_valid)\n",
    "f1_log = f1_score(target_valid, predicted_valid_log)\n",
    "print(f'F1-мера для логистической регрессии: {f1_log}')"
   ]
  },
  {
   "cell_type": "code",
   "execution_count": 17,
   "metadata": {},
   "outputs": [
    {
     "name": "stdout",
     "output_type": "stream",
     "text": [
      "Значение метрики AUC-ROC: 0.7505240217104624\n"
     ]
    }
   ],
   "source": [
    "# Измерим значение AUC-ROC\n",
    "probabilities_valid_log = model_log.predict_proba(features_valid)\n",
    "probabilities_one_valid_log = probabilities_valid_log[:, 1]\n",
    "auc_roc = roc_auc_score(target_valid, probabilities_one_valid_log)\n",
    "print('Значение метрики AUC-ROC:', auc_roc)"
   ]
  },
  {
   "cell_type": "markdown",
   "metadata": {},
   "source": [
    "#### Случайный лес"
   ]
  },
  {
   "cell_type": "markdown",
   "metadata": {},
   "source": [
    "- Для начала подберем лучшие гиперпараметры в цикле"
   ]
  },
  {
   "cell_type": "code",
   "execution_count": 18,
   "metadata": {
    "scrolled": false
   },
   "outputs": [
    {
     "name": "stderr",
     "output_type": "stream",
     "text": [
      "100%|██████████| 6/6 [00:05<00:00,  1.04it/s]"
     ]
    },
    {
     "name": "stdout",
     "output_type": "stream",
     "text": [
      "Лучшая модель: RandomForestClassifier(max_depth=19, n_estimators=40, random_state=12345)\n",
      "Depth: 19\n",
      "Trees: 40\n",
      "F1-мера случайного леса: 0.5657492354740061\n",
      "CPU times: user 5.17 s, sys: 46 ms, total: 5.21 s\n",
      "Wall time: 5.85 s\n"
     ]
    },
    {
     "name": "stderr",
     "output_type": "stream",
     "text": [
      "\n"
     ]
    }
   ],
   "source": [
    "%%time\n",
    "# Перебираем гиперпараметры и находим лучшую модель \n",
    "best_f1_demo = 0\n",
    "for depth in tqdm(range(15, 21, 1)):\n",
    "    for trees in range(20, 61, 20):\n",
    "        model = RandomForestClassifier(n_estimators=trees, max_depth=depth, random_state=12345)\n",
    "        model.fit(features_train, target_train)\n",
    "        predicted_valid = model.predict(features_valid)\n",
    "        f1_metric = f1_score(target_valid, predicted_valid)\n",
    "        if best_f1_demo < f1_metric:\n",
    "            best_f1_demo = f1_metric\n",
    "            best_depth_demo = depth\n",
    "            best_trees_demo = trees\n",
    "            best_model_demo = model\n",
    "\n",
    "print(f'Лучшая модель: {best_model_demo}')\n",
    "print(f'Depth: {best_depth_demo}')\n",
    "print(f'Trees: {best_trees_demo}')\n",
    "print(f'F1-мера случайного леса: {best_f1_demo}')"
   ]
  },
  {
   "cell_type": "code",
   "execution_count": 19,
   "metadata": {},
   "outputs": [
    {
     "name": "stdout",
     "output_type": "stream",
     "text": [
      "Значение метрики AUC-ROC: 0.8405107727141625\n"
     ]
    }
   ],
   "source": [
    "# Измерим значение AUC-ROC\n",
    "probabilities_valid_best_model_demo = best_model_demo.predict_proba(features_valid)\n",
    "probabilities_one_valid_best_model_demo = probabilities_valid_best_model_demo[:, 1]\n",
    "auc_roc = roc_auc_score(target_valid, probabilities_one_valid_best_model_demo)\n",
    "print('Значение метрики AUC-ROC:', auc_roc)"
   ]
  },
  {
   "cell_type": "markdown",
   "metadata": {},
   "source": [
    "### Выводы по результатам исследования "
   ]
  },
  {
   "cell_type": "markdown",
   "metadata": {},
   "source": [
    "---\n",
    "**Выводы по балансу классов:**\n",
    "- Класс `0` встречается почти в 4 раза чаще класса `1`\n",
    "- Оставшихся пользователей - `79.6%`, ушедших пользователей - `20.4%`\n",
    "- Подобрали оптимальные гиперпараметры для модели **`RandomForestClassifier`**, обучая модель на несбалансированной выборке: `max_depth=19`, `n_estimators=40`\n",
    "- Максимальное полученное значение `f1-меры` для **`RandomForestClassifier`** на несбалансированной выборке: `0.5657492354740061`\n",
    "- Максимально полученное значение `f1-меры` для **`LogisticRegression`** на несбалансированной выборке: `0.2932330827067669`\n",
    "- Значение метрики `AUC-ROC` для **`RandomForestClassifier`** на несбалансированной выборке: : `0.8405107727141625`\n",
    "- Значение метрики `AUC-ROC` для **`LogisticRegression`** на несбалансированной выборке: : `0.7505240217104624`\n",
    "- Модель \"Случайного леса\" показала значение метрики f1-меры **намного** выше, нежели у \"Логистической регрессии\"\n",
    "- Значение метрики AUC-ROC на достаточно хорошем уровне для того, чтобы выбрать ее целевой (учитывая то, что обучение было произведено на несбалансированной выборке)\n",
    "- Безусловно, значение f1-меры достаточно мало -> для этого переходим к **борьбе с дисбалансом классов**\n",
    "\n",
    "---"
   ]
  },
  {
   "cell_type": "markdown",
   "metadata": {},
   "source": [
    "## Борьба с дисбалансом"
   ]
  },
  {
   "cell_type": "markdown",
   "metadata": {},
   "source": [
    "### `сlass_weight` для LogisticRegression"
   ]
  },
  {
   "cell_type": "code",
   "execution_count": 20,
   "metadata": {},
   "outputs": [
    {
     "name": "stdout",
     "output_type": "stream",
     "text": [
      "F1-мера для логистической регрессии: 0.4751958224543081\n",
      "Значение метрики AUC-ROC: 0.7541501439806525\n"
     ]
    }
   ],
   "source": [
    "# Обучаем модель с применением нового гиперпараметра\n",
    "model_log_new = LogisticRegression(random_state=12345, solver='liblinear', class_weight='balanced')\n",
    "model_log_new.fit(features_train, target_train)\n",
    "predicted_valid_log_new = model_log_new.predict(features_valid)\n",
    "f1_log_new = f1_score(target_valid, predicted_valid_log_new)\n",
    "print(f'F1-мера для логистической регрессии: {f1_log_new}')\n",
    "\n",
    "# Измеряем значение AUC-ROC\n",
    "probabilities_valid_log_new = model_log_new.predict_proba(features_valid)\n",
    "probabilities_one_valid_log_new = probabilities_valid_log_new[:, 1]\n",
    "auc_roc = roc_auc_score(target_valid, probabilities_one_valid_log_new)\n",
    "print('Значение метрики AUC-ROC:', auc_roc)"
   ]
  },
  {
   "cell_type": "markdown",
   "metadata": {},
   "source": [
    "---\n",
    "- Значение f1-меры для `LogisticRegression` на несбалансированной выборке: `0.2932330827067669`\n",
    "- Значение f1-меры для `LogisticRegression` после применения метода **`class_weight`**: `0.4751958224543081` \n",
    "- Значение метрики AUC-ROC для `LogisticRegression` на несбалансированной выборке: `0.7505240217104624`\n",
    "- Значение метрики AUC-ROC для `LogisticRegression` после применения метода **`class_weight`**: `0.7541501439806525`\n",
    "\n",
    "\n",
    "- Значения обеих метрик увеличились, но это все еще маловато для того, чтобы выбрать **Логистическую регрессию** основной моделью\n",
    "---"
   ]
  },
  {
   "cell_type": "markdown",
   "metadata": {},
   "source": [
    "### Upsampling (увеличение выборки)"
   ]
  },
  {
   "cell_type": "markdown",
   "metadata": {},
   "source": [
    "---\n",
    "- Дисбаланс классов - сильный. `1` класс встречается гораздо реже класса `0`\n",
    "- Предлагаю воспользоваться техникой **upsampling** (увеличение выборки)\n",
    "- Разница - в *4 раза* -> применим `repeat=4`\n",
    "\n",
    "---"
   ]
  },
  {
   "cell_type": "markdown",
   "metadata": {},
   "source": [
    "#### Создаем функцию `upsample`"
   ]
  },
  {
   "cell_type": "code",
   "execution_count": 21,
   "metadata": {},
   "outputs": [],
   "source": [
    "# Напишем функцию для реализации увеличения выборки\n",
    "def upsample(features, target, repeat):\n",
    "    features_zeros = features[target == 0]\n",
    "    features_ones = features[target == 1]\n",
    "    target_zeros = target[target == 0]\n",
    "    target_ones = target[target == 1]\n",
    "\n",
    "    features_upsampled = pd.concat([features_zeros] + [features_ones] * repeat)\n",
    "    target_upsampled = pd.concat([target_zeros] + [target_ones] * repeat)\n",
    "\n",
    "    features_upsampled, target_upsampled = shuffle(features_upsampled, target_upsampled, random_state=12345)\n",
    "\n",
    "    return features_upsampled, target_upsampled"
   ]
  },
  {
   "cell_type": "code",
   "execution_count": 22,
   "metadata": {},
   "outputs": [],
   "source": [
    "features_upsampled, target_upsampled = upsample(features_train, target_train, 4)"
   ]
  },
  {
   "cell_type": "markdown",
   "metadata": {},
   "source": [
    "#### Обучаем LogisticRegression на увеличенной выборке"
   ]
  },
  {
   "cell_type": "code",
   "execution_count": 23,
   "metadata": {},
   "outputs": [
    {
     "name": "stdout",
     "output_type": "stream",
     "text": [
      "F1-мера для логистической регрессии: 0.47822374039282667\n"
     ]
    }
   ],
   "source": [
    "model_log_up = LogisticRegression(random_state=12345, solver='liblinear')\n",
    "model_log_up.fit(features_upsampled, target_upsampled)\n",
    "predicted_valid_log_up = model_log_up.predict(features_valid)\n",
    "f1_log_up = f1_score(target_valid, predicted_valid_log_up)\n",
    "print(f'F1-мера для логистической регрессии: {f1_log_up}')"
   ]
  },
  {
   "cell_type": "markdown",
   "metadata": {},
   "source": [
    "#### Обучаем RandomForestClassifier на увеличенной выборке"
   ]
  },
  {
   "cell_type": "markdown",
   "metadata": {},
   "source": [
    "---\n",
    "- Теперь в цикле переберем гиперпараметры, обучим модели **на увеличенной выборке** и найдем лучшую  \n",
    "\n",
    "---"
   ]
  },
  {
   "cell_type": "code",
   "execution_count": 24,
   "metadata": {},
   "outputs": [
    {
     "name": "stderr",
     "output_type": "stream",
     "text": [
      "100%|██████████| 9/9 [00:02<00:00,  4.08it/s]"
     ]
    },
    {
     "name": "stdout",
     "output_type": "stream",
     "text": [
      "Лучшая модель: RandomForestClassifier(max_depth=9, n_estimators=30, random_state=12345)\n",
      "Depth: 9\n",
      "Trees: 30\n",
      "F1-мера: 0.6114101184068892\n",
      "CPU times: user 1.49 s, sys: 60.7 ms, total: 1.55 s\n",
      "Wall time: 2.21 s\n"
     ]
    },
    {
     "name": "stderr",
     "output_type": "stream",
     "text": [
      "\n"
     ]
    }
   ],
   "source": [
    "%%time\n",
    "\n",
    "best_f1_upsamp = 0\n",
    "for depth in tqdm(range(1, 10, 1)):\n",
    "    for trees in range(30, 40, 20):\n",
    "        model = RandomForestClassifier(n_estimators=trees, max_depth=depth, random_state=12345)\n",
    "        model.fit(features_upsampled, target_upsampled)\n",
    "        predicted_valid = model.predict(features_valid)\n",
    "        f1_metric_upsamp = f1_score(target_valid, predicted_valid)\n",
    "        if best_f1_upsamp < f1_metric_upsamp:\n",
    "            best_f1_upsamp = f1_metric_upsamp\n",
    "            best_depth_upsamp = depth\n",
    "            best_trees_upsamp = trees\n",
    "            best_model_upsamp = model\n",
    "\n",
    "print(f'Лучшая модель: {best_model_upsamp}')\n",
    "print(f'Depth: {best_depth_upsamp}')\n",
    "print(f'Trees: {best_trees_upsamp}')\n",
    "print(f'F1-мера: {best_f1_upsamp}')"
   ]
  },
  {
   "cell_type": "markdown",
   "metadata": {},
   "source": [
    "---\n",
    "- **Лучшие гиперпараметры для модели: `RandomForestClassifier(max_depth=9, n_estimators=30, random_state=12345)`**\n",
    "- **Новая F1-мера на увеличенной выборке: `0.6114101184068892`** \n",
    "- Отлично, мы подняли значение F1-меры на **~ 0.0457**, что не может не радовать! Малый успех в улучшении качества модели - тоже успех 😊\n",
    "\n",
    "---"
   ]
  },
  {
   "cell_type": "markdown",
   "metadata": {},
   "source": [
    "#### Проверяем значение метрики `AUC-ROC` для `LogisticRegression`"
   ]
  },
  {
   "cell_type": "code",
   "execution_count": 25,
   "metadata": {},
   "outputs": [
    {
     "data": {
      "image/png": "[encoded data removed]",
      "text/plain": [
       "<Figure size 1080x360 with 1 Axes>"
      ]
     },
     "metadata": {
      "needs_background": "light"
     },
     "output_type": "display_data"
    },
    {
     "name": "stdout",
     "output_type": "stream",
     "text": [
      "Значение метрики AUC-ROC: 0.7541671100993135\n",
      "Значение F1-меры: 0.47822374039282667\n"
     ]
    }
   ],
   "source": [
    "probabilities_valid_log_up = model_log_up.predict_proba(features_valid)\n",
    "probabilities_one_valid_log_up = probabilities_valid_log_up[:, 1]\n",
    "fpr, tpr, thresholds = roc_curve(target_valid, probabilities_one_valid_log_up)\n",
    "plt.figure();\n",
    "\n",
    "plt.plot(fpr, tpr, color='blue');\n",
    "plt.xlim([0.0, 1.0]);\n",
    "plt.ylim([0.0, 1.0]);\n",
    "plt.xlabel('False Positive Rate');\n",
    "plt.ylabel('True Positive Rate');\n",
    "plt.title('ROC-кривая');\n",
    "plt.grid()\n",
    "plt.show()\n",
    "auc_roc = roc_auc_score(target_valid, probabilities_one_valid_log_up)\n",
    "\n",
    "print('Значение метрики AUC-ROC:', auc_roc)\n",
    "print('Значение F1-меры:', f1_log_up)"
   ]
  },
  {
   "cell_type": "markdown",
   "metadata": {},
   "source": [
    "#### Проверяем значение метрики `AUC-ROC` для `RandomForestClassifier`"
   ]
  },
  {
   "cell_type": "code",
   "execution_count": 26,
   "metadata": {},
   "outputs": [
    {
     "data": {
      "image/png": "[encoded data removed]",
      "text/plain": [
       "<Figure size 1080x360 with 1 Axes>"
      ]
     },
     "metadata": {
      "needs_background": "light"
     },
     "output_type": "display_data"
    },
    {
     "name": "stdout",
     "output_type": "stream",
     "text": [
      "Значение метрики AUC-ROC: 0.8531613277375989\n",
      "Значение F1-меры: 0.6114101184068892\n"
     ]
    }
   ],
   "source": [
    "probabilities_valid = best_model_upsamp.predict_proba(features_valid)\n",
    "probabilities_one_valid = probabilities_valid[:, 1]\n",
    "fpr, tpr, thresholds = roc_curve(target_valid, probabilities_one_valid)\n",
    "plt.figure();\n",
    "\n",
    "plt.plot(fpr, tpr, color='magenta');\n",
    "plt.xlim([0.0, 1.0]);\n",
    "plt.ylim([0.0, 1.0]);\n",
    "plt.xlabel('False Positive Rate');\n",
    "plt.ylabel('True Positive Rate');\n",
    "plt.title('ROC-кривая');\n",
    "plt.grid()\n",
    "plt.show()\n",
    "auc_roc = roc_auc_score(target_valid, probabilities_one_valid)\n",
    "\n",
    "print('Значение метрики AUC-ROC:', auc_roc)\n",
    "print('Значение F1-меры:', best_f1_upsamp)"
   ]
  },
  {
   "cell_type": "markdown",
   "metadata": {},
   "source": [
    "#### Выводы после применения метода `upsampling`"
   ]
  },
  {
   "cell_type": "markdown",
   "metadata": {},
   "source": [
    "---\n",
    "- По графику **ROC-кривой** можно сказать, что значение `AUC-ROC` у модели *RandomForestClassifier* выше, нежели у модели *LogisticRegression*. Да и в целом качество предсказаний первой модели **лучше**\n",
    "- Значение метрик **AUC-ROC** на увеличенной выборке: \n",
    "    - *RandomForestClassifier* -> `0.85316132773759897`\n",
    "    - *LogisticRegression* -> `0.7541671100993135`\n",
    "- Значение **F1-меры** на увеличенной выборке:\n",
    "    - *RandomForestClassifier* -> `0.6114101184068892`\n",
    "    - *LogisticRegression* -> `0.47822374039282667`\n",
    "    \n",
    "    \n",
    "    \n",
    "- Уже на этом этапе *Логистическая регрессия* показывает себя гораздо хуже, нежели *Случайный лес*. Проведем еще одно тестирование при использовании метода `downsampling` и точно выберем лучшую модель \n",
    "\n",
    "---"
   ]
  },
  {
   "cell_type": "markdown",
   "metadata": {},
   "source": [
    "### Downsampling (уменьшение выборки)"
   ]
  },
  {
   "cell_type": "markdown",
   "metadata": {},
   "source": [
    "---\n",
    "- Проверим и альтернативный вариант с применением техники `downsampling`\n",
    "\n",
    "---"
   ]
  },
  {
   "cell_type": "markdown",
   "metadata": {},
   "source": [
    "#### Создаем функцию `downsample` "
   ]
  },
  {
   "cell_type": "code",
   "execution_count": 27,
   "metadata": {},
   "outputs": [],
   "source": [
    "def downsample(features, target, fraction):\n",
    "    features_zeros = features[target == 0]\n",
    "    features_ones = features[target == 1]\n",
    "    target_zeros = target[target == 0]\n",
    "    target_ones = target[target == 1]\n",
    "\n",
    "    features_downsampled = pd.concat([features_zeros.sample(frac=fraction, random_state=12345)] + [features_ones])\n",
    "    target_downsampled = pd.concat([target_zeros.sample(frac=fraction, random_state=12345)] + [target_ones])\n",
    "\n",
    "    features_downsampled, target_downsampled = shuffle(features_downsampled, target_downsampled, random_state=12345)\n",
    "\n",
    "    return features_downsampled, target_downsampled"
   ]
  },
  {
   "cell_type": "code",
   "execution_count": 28,
   "metadata": {},
   "outputs": [],
   "source": [
    "features_downsampled, target_downsampled = downsample(features_train, target_train, 0.25)"
   ]
  },
  {
   "cell_type": "markdown",
   "metadata": {},
   "source": [
    "#### Обучаем LogisticRegression на уменьшенной выборке"
   ]
  },
  {
   "cell_type": "code",
   "execution_count": 29,
   "metadata": {},
   "outputs": [
    {
     "name": "stdout",
     "output_type": "stream",
     "text": [
      "F1-мера для логистической регрессии: 0.47822374039282667\n"
     ]
    }
   ],
   "source": [
    "model_log_down = LogisticRegression(random_state=12345, solver='liblinear')\n",
    "model_log_down.fit(features_downsampled, target_downsampled)\n",
    "predicted_valid_log_down = model_log_down.predict(features_valid)\n",
    "f1_log_down = f1_score(target_valid, predicted_valid_log_down)\n",
    "print(f'F1-мера для логистической регрессии: {f1_log_down}')"
   ]
  },
  {
   "cell_type": "markdown",
   "metadata": {},
   "source": [
    "#### Обучаем RandomForestClassifier на уменьшенной выборке"
   ]
  },
  {
   "cell_type": "code",
   "execution_count": 30,
   "metadata": {},
   "outputs": [
    {
     "name": "stderr",
     "output_type": "stream",
     "text": [
      "100%|██████████| 9/9 [00:04<00:00,  1.84it/s]"
     ]
    },
    {
     "name": "stdout",
     "output_type": "stream",
     "text": [
      "Лучшая модель: RandomForestClassifier(max_depth=9, n_estimators=30, random_state=12345)\n",
      "Depth: 8\n",
      "Trees: 120\n",
      "F1-мера: 0.5964585274930102\n",
      "CPU times: user 4.81 s, sys: 49.2 ms, total: 4.86 s\n",
      "Wall time: 4.89 s\n"
     ]
    },
    {
     "name": "stderr",
     "output_type": "stream",
     "text": [
      "\n"
     ]
    }
   ],
   "source": [
    "%%time\n",
    "\n",
    "best_f1_downsamp = 0\n",
    "for depth in tqdm(range(1, 10, 1)):\n",
    "    for trees in range(100, 121, 20):\n",
    "        model_down = RandomForestClassifier(n_estimators=trees, max_depth=depth, random_state=12345)\n",
    "        model_down.fit(features_downsampled, target_downsampled)\n",
    "        predicted_valid_down = model_down.predict(features_valid)\n",
    "        f1_metric_downsamp = f1_score(target_valid, predicted_valid_down)\n",
    "        if best_f1_downsamp < f1_metric_downsamp:\n",
    "            best_f1_downsamp = f1_metric_downsamp\n",
    "            best_depth_downsamp = depth\n",
    "            best_trees_downsamp = trees\n",
    "            best_model_downsamp = model\n",
    "\n",
    "print(f'Лучшая модель: {best_model_downsamp}')\n",
    "print(f'Depth: {best_depth_downsamp}')\n",
    "print(f'Trees: {best_trees_downsamp}')\n",
    "print(f'F1-мера: {best_f1_downsamp}')"
   ]
  },
  {
   "cell_type": "markdown",
   "metadata": {},
   "source": [
    "#### Проверяем значение метрики `AUC-ROC` для `LogisticRegression`"
   ]
  },
  {
   "cell_type": "code",
   "execution_count": 31,
   "metadata": {},
   "outputs": [
    {
     "data": {
      "image/png": "[encoded data removed]",
      "text/plain": [
       "<Figure size 1080x360 with 1 Axes>"
      ]
     },
     "metadata": {
      "needs_background": "light"
     },
     "output_type": "display_data"
    },
    {
     "name": "stdout",
     "output_type": "stream",
     "text": [
      "Значение метрики AUC-ROC: 0.7521064978692098\n",
      "Значение F1-меры: 0.47822374039282667\n"
     ]
    }
   ],
   "source": [
    "probabilities_valid_log_down = model_log_down.predict_proba(features_valid)\n",
    "probabilities_one_valid_log_down = probabilities_valid_log_down[:, 1]\n",
    "fpr, tpr, thresholds = roc_curve(target_valid, probabilities_one_valid_log_down)\n",
    "plt.figure();\n",
    "\n",
    "plt.plot(fpr, tpr, color='blue');\n",
    "plt.xlim([0.0, 1.0]);\n",
    "plt.ylim([0.0, 1.0]);\n",
    "plt.xlabel('False Positive Rate');\n",
    "plt.ylabel('True Positive Rate');\n",
    "plt.title('ROC-кривая');\n",
    "plt.grid()\n",
    "plt.show()\n",
    "auc_roc = roc_auc_score(target_valid, probabilities_one_valid_log_down)\n",
    "\n",
    "print('Значение метрики AUC-ROC:', auc_roc)\n",
    "print('Значение F1-меры:', f1_log_down)"
   ]
  },
  {
   "cell_type": "markdown",
   "metadata": {},
   "source": [
    "#### Проверяем значение метрики `AUC-ROC` для `RandomForestClassifier`"
   ]
  },
  {
   "cell_type": "code",
   "execution_count": 32,
   "metadata": {},
   "outputs": [
    {
     "data": {
      "image/png": "[encoded data removed]",
      "text/plain": [
       "<Figure size 1080x360 with 1 Axes>"
      ]
     },
     "metadata": {
      "needs_background": "light"
     },
     "output_type": "display_data"
    },
    {
     "name": "stdout",
     "output_type": "stream",
     "text": [
      "Значение метрики AUC-ROC: 0.8531613277375989\n",
      "Значение F1-меры: 0.5964585274930102\n"
     ]
    }
   ],
   "source": [
    "probabilities_valid = best_model_downsamp.predict_proba(features_valid)\n",
    "probabilities_one_valid = probabilities_valid[:, 1]\n",
    "\n",
    "fpr, tpr, thresholds = roc_curve(target_valid, probabilities_one_valid)\n",
    "plt.figure();\n",
    "\n",
    "plt.plot(fpr, tpr, color='magenta');\n",
    "plt.xlim([0.0, 1.0]);\n",
    "plt.ylim([0.0, 1.0]);\n",
    "plt.xlabel('False Positive Rate');\n",
    "plt.ylabel('True Positive Rate');\n",
    "plt.title('ROC-кривая');\n",
    "plt.show()\n",
    "auc_roc = roc_auc_score(target_valid, probabilities_one_valid)\n",
    "\n",
    "print('Значение метрики AUC-ROC:', auc_roc)\n",
    "print('Значение F1-меры:', best_f1_downsamp)"
   ]
  },
  {
   "cell_type": "markdown",
   "metadata": {},
   "source": [
    "#### Выводы после применения метода `downsampling`"
   ]
  },
  {
   "cell_type": "markdown",
   "metadata": {},
   "source": [
    "---\n",
    "- По графикам **ROC-кривой** можно сказать, что обе модели все еще лучше случайного классификатора. Однако `RandomForestClassifier` вновь показывает более симпатичные результаты\n",
    "\n",
    "- Значение метрик **AUC-ROC** на уменьшенной выборке: \n",
    "    - *RandomForestClassifier* -> `0.8449042262601585`\n",
    "    - *LogisticRegression* -> `0.7521064978692098`\n",
    "- Значение **F1-меры** на уменьшенной выборке:\n",
    "    - *RandomForestClassifier* -> `0.5964585274930102`\n",
    "    - *LogisticRegression* -> `0.47822374039282667`\n",
    "    \n",
    "---"
   ]
  },
  {
   "cell_type": "markdown",
   "metadata": {},
   "source": [
    "### Вывод по борьбе с дисбалансом"
   ]
  },
  {
   "cell_type": "markdown",
   "metadata": {},
   "source": [
    "По итогу перебора моделей с их обучением после использования разных методов по борьбе с дисбалансом, лучше всего себя показала следующая модель со следующими показателями:\n",
    "\n",
    "- Примененный метод: `upsampling`\n",
    "- Переменная лучшей модели: `best_model_upsamp`\n",
    "- Лучшие гиперпараметры для модели: `RandomForestClassifier(max_depth=9, n_estimators=30, random_state=12345)`\n",
    "- **F1-мера** на увеличенной выборке: `0.6114101184068892`\n",
    "- **AUC-ROC** на увеличенной выборке: `0.8531613277375989`\n",
    "\n",
    "---"
   ]
  },
  {
   "cell_type": "markdown",
   "metadata": {},
   "source": [
    "## Тестирование модели"
   ]
  },
  {
   "cell_type": "markdown",
   "metadata": {},
   "source": [
    "### Предсказание на тестовой выборке"
   ]
  },
  {
   "cell_type": "markdown",
   "metadata": {},
   "source": [
    "*Протестируем нашу лучшую выбранную модель - `best_model_upsamp`*\n",
    "\n",
    "---"
   ]
  },
  {
   "cell_type": "code",
   "execution_count": 33,
   "metadata": {},
   "outputs": [
    {
     "name": "stdout",
     "output_type": "stream",
     "text": [
      "F1-мера на тестовой выборке: 0.6261980830670926\n"
     ]
    }
   ],
   "source": [
    "predicted_test = best_model_upsamp.predict(features_test)\n",
    "f1_test = f1_score(target_test, predicted_test)\n",
    "\n",
    "print('F1-мера на тестовой выборке:', f1_test)"
   ]
  },
  {
   "cell_type": "markdown",
   "metadata": {},
   "source": [
    "###  `AUC-ROC` на тестовой выборке"
   ]
  },
  {
   "cell_type": "code",
   "execution_count": 34,
   "metadata": {},
   "outputs": [
    {
     "data": {
      "image/png": "[encoded data removed]",
      "text/plain": [
       "<Figure size 1080x360 with 1 Axes>"
      ]
     },
     "metadata": {
      "needs_background": "light"
     },
     "output_type": "display_data"
    },
    {
     "name": "stdout",
     "output_type": "stream",
     "text": [
      "Значение метрики AUC-ROC: 0.8714782552468223\n",
      "Значение F1-меры: 0.6261980830670926\n"
     ]
    }
   ],
   "source": [
    "probabilities_test = best_model_upsamp.predict_proba(features_test)\n",
    "probabilities_one_test = probabilities_test[:, 1]\n",
    "\n",
    "fpr, tpr, thresholds = roc_curve(target_test, probabilities_one_test)\n",
    "plt.figure();\n",
    "\n",
    "plt.plot(fpr, tpr, color='green');\n",
    "plt.xlim([0.0, 1.0]);\n",
    "plt.ylim([0.0, 1.0]);\n",
    "plt.xlabel('False Positive Rate');\n",
    "plt.ylabel('True Positive Rate');\n",
    "plt.title('ROC-кривая');\n",
    "plt.show()\n",
    "auc_roc = roc_auc_score(target_test, probabilities_one_test)\n",
    "print('Значение метрики AUC-ROC:', auc_roc)\n",
    "print('Значение F1-меры:', f1_test)"
   ]
  },
  {
   "cell_type": "markdown",
   "metadata": {},
   "source": [
    "---\n",
    "- Отличный результат! \n",
    "- На тестовой выборке и значение `F1-меры`, и значение `AUC-ROC` - **увеличились**. Не может не радовать 😁\n",
    "---"
   ]
  },
  {
   "cell_type": "markdown",
   "metadata": {},
   "source": [
    "### Объединение выборок"
   ]
  },
  {
   "cell_type": "markdown",
   "metadata": {},
   "source": [
    "---\n",
    "**Финальный этап:** предлагаю объединить тренировочную и валидационные выборки, обучить на них нашу лучшую модель и протестировать в заключительный раз!\n",
    "\n",
    "---"
   ]
  },
  {
   "cell_type": "code",
   "execution_count": 35,
   "metadata": {},
   "outputs": [],
   "source": [
    "features_full_train = pd.concat([features_train, features_valid])\n",
    "target_full_train = pd.concat([target_train, target_valid])\n",
    "\n",
    "features_upsampled_full_train, target_upsampled_full_train = upsample(features_full_train, target_full_train, 4)"
   ]
  },
  {
   "cell_type": "code",
   "execution_count": 36,
   "metadata": {},
   "outputs": [
    {
     "name": "stdout",
     "output_type": "stream",
     "text": [
      "F1-мера финальной модели: 0.647739221871714\n"
     ]
    }
   ],
   "source": [
    "best_model_upsamp.fit(features_upsampled_full_train, target_upsampled_full_train)\n",
    "predicted_full_test = best_model_upsamp.predict(features_test)\n",
    "f1_full = f1_score(target_test, predicted_full_test)\n",
    "print('F1-мера финальной модели:', f1_full)"
   ]
  },
  {
   "cell_type": "code",
   "execution_count": 37,
   "metadata": {},
   "outputs": [
    {
     "name": "stdout",
     "output_type": "stream",
     "text": [
      "Значение метрики AUC-ROC: 0.8744626933688047\n"
     ]
    }
   ],
   "source": [
    "probabilities_test = best_model_upsamp.predict_proba(features_test)\n",
    "probabilities_one_test = probabilities_test[:, 1]\n",
    "\n",
    "auc_roc = roc_auc_score(target_test, probabilities_one_test)\n",
    "print('Значение метрики AUC-ROC:', auc_roc)"
   ]
  },
  {
   "cell_type": "markdown",
   "metadata": {},
   "source": [
    "### Вывод по тестированию модели"
   ]
  },
  {
   "cell_type": "markdown",
   "metadata": {},
   "source": [
    "- Протестировав нашу модель, мы определили значение метрики **F1** = `0.6261980830670926`. Значение метрики **AUC-ROC** при этом составило `0.8714782552468223`\n",
    "\n",
    "\n",
    "- Объединив обучающую и валидационные выборки вместе, обучили на новой \"большой\" выборке нашу модель в заключительный раз\n",
    "- Протестировав новообученную модель еще подняли значение **F1-меры** до предела (в данном контексте исследования) - `0.647739221871714`. Значение **AUC-ROC** стало равно `0.8744626933688047`"
   ]
  },
  {
   "cell_type": "markdown",
   "metadata": {},
   "source": [
    "## Общий вывод "
   ]
  },
  {
   "cell_type": "markdown",
   "metadata": {},
   "source": [
    "---\n",
    "**По результатам исследования мы обучили максимально вероятно точную модель, которая способна спрогнозировать уход клиента из банка в ближайшее время**\n",
    "- Модель -> `RandomForestClassifier(max_depth=9, n_estimators=30, random_state=12345)`\n",
    "- Значение F1-меры -> `0.647739221871714`\n",
    "- Значение метрики AUC-ROC ->  `0.8744626933688047`\n",
    "\n",
    "---\n",
    "\n",
    "*Исследование было разделено на несколько этапов:*\n",
    "\n",
    "**1. Подготовка данных:**\n",
    "- *Изучили общую информацию о данных и выявили решения:*\n",
    "    - Всего в таблице представлены данные о 10000 клиентах\n",
    "    - Присутствуют пропуски в столбце `Tenure` \n",
    "    - Предложили убрать столбцы `RowNumber`, `CustomerId` и `Surname`\n",
    "    \n",
    "    \n",
    "- *Предобработали данные:*\n",
    "    - Избавились от \"лишних\" столбцов\n",
    "    - Заменили пропуски в столбце `Tenure` на медианное значение по столбцу\n",
    "    \n",
    "    \n",
    "- *Подготовили данные для обучения моделей:*\n",
    "    - Применили метод `one-hot-encoding` для кодирования количественных переменных\n",
    "    - Применили стандартизацию через `StandardScaler`\n",
    "    - Разбили данные на три выборки: обучающую, валидационную и тестовую *(в соотношении 3:1:1)*\n",
    "    \n",
    "\n",
    "**2. Исследование задачи:**\n",
    "- *Исследовали баланс классов -> обнаружили дисбаланс*\n",
    "    - Класс 0 встречается почти в **4 раза чаще класса 1**\n",
    "    - Оставшихся пользователей - **79.6%**, ушедших пользователей - **20.4%**\n",
    "    \n",
    "    \n",
    "- *Обучили две модели без учета дисбаланса и изучили их поведение:*\n",
    "\n",
    "        \n",
    "- Подобрали оптимальные гиперпараметры для модели `RandomForestClassifier`, обучая модель на несбалансированной выборке: `max_depth=19, n_estimators=40`\n",
    "- Максимальное полученное значение **f1-меры** для `RandomForestClassifier` на несбалансированной выборке: `0.5657492354740061`\n",
    "- Максимально полученное значение **f1-меры** для `LogisticRegression` на несбалансированной выборке: `0.2932330827067669`\n",
    "- Значение метрики **AUC-ROC** для `RandomForestClassifier` на несбалансированной выборке: `0.8405107727141625`\n",
    "- Значение метрики **AUC-ROC** для `LogisticRegression` на несбалансированной выборке: `0.7505240217104624`\n",
    "- Модель \"Случайного леса\" показала значение метрики f1-меры намного выше, нежели у \"Логистической регрессии\"\n",
    "\n",
    "\n",
    "**3. Борьба с дисбалансом:**\n",
    "\n",
    "- *Применили метод **`Upsampling`** для увеличения \"отстающей\" части выборки:*\n",
    "        \n",
    "    - Значение метрик **AUC-ROC** на увеличенной выборке: \n",
    "        - *RandomForestClassifier* -> `0.85316132773759897`\n",
    "        - *LogisticRegression* -> `0.7541671100993135`\n",
    "    - Значение **F1-меры** на увеличенной выборке:\n",
    "        - *RandomForestClassifier* -> `0.6114101184068892`\n",
    "        - *LogisticRegression* -> `0.47822374039282667`\n",
    "    \n",
    "    \n",
    "\n",
    "- *Применили метод **`Downsampling`** для уменьшения \"доминирующей\" части выборки:*\n",
    "\n",
    "    - Значение метрик **AUC-ROC** на уменьшенной выборке: \n",
    "        - *RandomForestClassifier* -> `0.8449042262601585`\n",
    "        - *LogisticRegression* -> `0.7521064978692098`\n",
    "    - Значение **F1-меры** на уменьшенной выборке:\n",
    "        - *RandomForestClassifier* -> `0.5964585274930102`\n",
    "        - *LogisticRegression* -> `0.47822374039282667`\n",
    "    \n",
    "---\n",
    "    \n",
    "\n",
    "- *По итогу перебора моделей с их обучением после использования разных методов по борьбе с дисбалансом, лучше всего себя показала следующая модель со следующими показателями*:\n",
    "\n",
    "    - Примененный метод: `upsampling`\n",
    "    - Переменная лучшей модели: `best_model_upsamp`\n",
    "    - Лучшие гиперпараметры для модели: `RandomForestClassifier(max_depth=9, n_estimators=30, random_state=12345)`\n",
    "    - **F1-мера** на увеличенной выборке: `0.6114101184068892`\n",
    "    - **AUC-ROC** на увеличенной выборке: `0.8531613277375989`\n",
    "\n",
    "---\n",
    "\n",
    "**4. Тестирование модели:**\n",
    "- Протестировав нашу модель, мы определили значение метрики **F1** = `0.6261980830670926`. \n",
    "    - Значение метрики **AUC-ROC** при этом составило `0.8714782552468223`\n",
    "\n",
    "\n",
    "- Объединив обучающую и валидационные выборки вместе, обучили на новой \"большой\" выборке нашу модель в заключительный раз\n",
    "\n",
    "\n",
    "- Протестировав новообученную модель еще подняли значение **F1-меры** до предела (в данном контексте исследования) - `0.647739221871714`. \n",
    "    - Значение **AUC-ROC** стало равно `0.8744626933688047`"
   ]
  }
 ],
 "metadata": {
  "ExecuteTimeLog": [
   {
    "duration": 994,
    "start_time": "2023-09-11T11:49:01.998Z"
   },
   {
    "duration": 185,
    "start_time": "2023-09-11T11:49:43.712Z"
   },
   {
    "duration": 20,
    "start_time": "2023-09-11T11:49:48.902Z"
   },
   {
    "duration": 18,
    "start_time": "2023-09-11T11:50:05.249Z"
   },
   {
    "duration": 5,
    "start_time": "2023-09-11T11:52:36.459Z"
   },
   {
    "duration": 8,
    "start_time": "2023-09-11T11:52:43.235Z"
   },
   {
    "duration": 5,
    "start_time": "2023-09-11T11:52:52.345Z"
   },
   {
    "duration": 6,
    "start_time": "2023-09-11T11:52:57.082Z"
   },
   {
    "duration": 6,
    "start_time": "2023-09-11T11:52:59.854Z"
   },
   {
    "duration": 835,
    "start_time": "2023-09-11T11:59:36.835Z"
   },
   {
    "duration": 73,
    "start_time": "2023-09-11T12:04:43.674Z"
   },
   {
    "duration": 138,
    "start_time": "2023-09-11T12:04:43.750Z"
   },
   {
    "duration": 16,
    "start_time": "2023-09-11T12:04:43.890Z"
   },
   {
    "duration": 23,
    "start_time": "2023-09-11T12:04:43.908Z"
   },
   {
    "duration": 8,
    "start_time": "2023-09-11T12:04:43.934Z"
   },
   {
    "duration": 3,
    "start_time": "2023-09-11T12:11:07.336Z"
   },
   {
    "duration": 14,
    "start_time": "2023-09-11T12:11:11.504Z"
   },
   {
    "duration": 1872,
    "start_time": "2023-09-11T12:15:11.674Z"
   },
   {
    "duration": 6,
    "start_time": "2023-09-11T12:15:19.289Z"
   },
   {
    "duration": 199,
    "start_time": "2023-09-11T12:15:19.298Z"
   },
   {
    "duration": 14,
    "start_time": "2023-09-11T12:15:19.500Z"
   },
   {
    "duration": 40,
    "start_time": "2023-09-11T12:15:19.516Z"
   },
   {
    "duration": 28,
    "start_time": "2023-09-11T12:15:19.559Z"
   },
   {
    "duration": 35,
    "start_time": "2023-09-11T12:16:22.590Z"
   },
   {
    "duration": 34,
    "start_time": "2023-09-11T12:16:37.855Z"
   },
   {
    "duration": 5,
    "start_time": "2023-09-11T12:16:41.343Z"
   },
   {
    "duration": 36,
    "start_time": "2023-09-11T12:16:45.682Z"
   },
   {
    "duration": 49,
    "start_time": "2023-09-11T12:16:51.404Z"
   },
   {
    "duration": 45,
    "start_time": "2023-09-11T12:16:54.494Z"
   },
   {
    "duration": 59,
    "start_time": "2023-09-11T12:17:21.993Z"
   },
   {
    "duration": 165,
    "start_time": "2023-09-11T12:17:49.032Z"
   },
   {
    "duration": 5,
    "start_time": "2023-09-11T12:17:53.050Z"
   },
   {
    "duration": 10,
    "start_time": "2023-09-11T12:18:05.137Z"
   },
   {
    "duration": 310,
    "start_time": "2023-09-11T12:18:28.260Z"
   },
   {
    "duration": 22,
    "start_time": "2023-09-11T12:18:32.303Z"
   },
   {
    "duration": 30,
    "start_time": "2023-09-11T12:20:50.749Z"
   },
   {
    "duration": 6,
    "start_time": "2023-09-11T12:22:39.401Z"
   },
   {
    "duration": 6,
    "start_time": "2023-09-11T12:22:59.712Z"
   },
   {
    "duration": 31,
    "start_time": "2023-09-11T12:23:31.870Z"
   },
   {
    "duration": 70,
    "start_time": "2023-09-11T12:24:03.618Z"
   },
   {
    "duration": 27,
    "start_time": "2023-09-11T12:24:22.909Z"
   },
   {
    "duration": 23,
    "start_time": "2023-09-11T12:25:47.677Z"
   },
   {
    "duration": 5,
    "start_time": "2023-09-11T12:25:54.174Z"
   },
   {
    "duration": 140,
    "start_time": "2023-09-11T12:25:54.181Z"
   },
   {
    "duration": 17,
    "start_time": "2023-09-11T12:25:54.323Z"
   },
   {
    "duration": 22,
    "start_time": "2023-09-11T12:25:54.342Z"
   },
   {
    "duration": 5,
    "start_time": "2023-09-11T12:25:54.366Z"
   },
   {
    "duration": 7,
    "start_time": "2023-09-11T12:25:54.373Z"
   },
   {
    "duration": 23,
    "start_time": "2023-09-11T12:25:54.382Z"
   },
   {
    "duration": 25,
    "start_time": "2023-09-11T12:26:49.229Z"
   },
   {
    "duration": 18,
    "start_time": "2023-09-11T12:27:05.346Z"
   },
   {
    "duration": 624,
    "start_time": "2023-09-11T12:27:39.790Z"
   },
   {
    "duration": 4,
    "start_time": "2023-09-11T13:02:09.577Z"
   },
   {
    "duration": 396,
    "start_time": "2023-09-11T13:02:09.583Z"
   },
   {
    "duration": 14,
    "start_time": "2023-09-11T13:02:09.981Z"
   },
   {
    "duration": 48,
    "start_time": "2023-09-11T13:02:09.996Z"
   },
   {
    "duration": 6,
    "start_time": "2023-09-11T13:02:10.046Z"
   },
   {
    "duration": 21,
    "start_time": "2023-09-11T13:02:10.053Z"
   },
   {
    "duration": 586,
    "start_time": "2023-09-11T13:02:10.076Z"
   },
   {
    "duration": 5,
    "start_time": "2023-09-11T13:51:18.372Z"
   },
   {
    "duration": 182,
    "start_time": "2023-09-11T13:51:18.379Z"
   },
   {
    "duration": 14,
    "start_time": "2023-09-11T13:51:18.563Z"
   },
   {
    "duration": 46,
    "start_time": "2023-09-11T13:51:18.579Z"
   },
   {
    "duration": 20,
    "start_time": "2023-09-11T13:51:18.627Z"
   },
   {
    "duration": 30,
    "start_time": "2023-09-11T13:51:18.649Z"
   },
   {
    "duration": 28,
    "start_time": "2023-09-11T13:51:18.681Z"
   },
   {
    "duration": 14,
    "start_time": "2023-09-11T13:52:18.296Z"
   },
   {
    "duration": 17,
    "start_time": "2023-09-11T13:52:24.509Z"
   },
   {
    "duration": 18,
    "start_time": "2023-09-11T13:53:12.678Z"
   },
   {
    "duration": 4,
    "start_time": "2023-09-11T13:56:27.794Z"
   },
   {
    "duration": 5,
    "start_time": "2023-09-11T13:56:30.386Z"
   },
   {
    "duration": 210,
    "start_time": "2023-09-11T13:56:30.397Z"
   },
   {
    "duration": 18,
    "start_time": "2023-09-11T13:56:30.609Z"
   },
   {
    "duration": 104,
    "start_time": "2023-09-11T13:56:30.629Z"
   },
   {
    "duration": 69,
    "start_time": "2023-09-11T13:56:30.735Z"
   },
   {
    "duration": 62,
    "start_time": "2023-09-11T13:56:30.806Z"
   },
   {
    "duration": 68,
    "start_time": "2023-09-11T13:56:30.871Z"
   },
   {
    "duration": 51,
    "start_time": "2023-09-11T13:56:30.941Z"
   },
   {
    "duration": 14,
    "start_time": "2023-09-11T13:56:41.605Z"
   },
   {
    "duration": 14,
    "start_time": "2023-09-11T13:56:45.923Z"
   },
   {
    "duration": 4,
    "start_time": "2023-09-11T13:56:51.826Z"
   },
   {
    "duration": 156,
    "start_time": "2023-09-11T13:56:51.832Z"
   },
   {
    "duration": 14,
    "start_time": "2023-09-11T13:56:51.990Z"
   },
   {
    "duration": 16,
    "start_time": "2023-09-11T13:56:52.005Z"
   },
   {
    "duration": 5,
    "start_time": "2023-09-11T13:56:52.023Z"
   },
   {
    "duration": 29,
    "start_time": "2023-09-11T13:56:52.029Z"
   },
   {
    "duration": 26,
    "start_time": "2023-09-11T13:56:52.060Z"
   },
   {
    "duration": 5,
    "start_time": "2023-09-11T13:56:52.088Z"
   },
   {
    "duration": 14,
    "start_time": "2023-09-11T13:58:53.809Z"
   },
   {
    "duration": 1530,
    "start_time": "2023-09-11T13:59:16.683Z"
   },
   {
    "duration": 119,
    "start_time": "2023-09-11T13:59:18.215Z"
   },
   {
    "duration": 17,
    "start_time": "2023-09-11T13:59:18.336Z"
   },
   {
    "duration": 16,
    "start_time": "2023-09-11T13:59:18.354Z"
   },
   {
    "duration": 5,
    "start_time": "2023-09-11T13:59:18.372Z"
   },
   {
    "duration": 19,
    "start_time": "2023-09-11T13:59:18.378Z"
   },
   {
    "duration": 131,
    "start_time": "2023-09-11T13:59:18.399Z"
   },
   {
    "duration": 0,
    "start_time": "2023-09-11T13:59:18.532Z"
   },
   {
    "duration": 18,
    "start_time": "2023-09-11T14:00:22.602Z"
   },
   {
    "duration": 6,
    "start_time": "2023-09-11T14:01:42.751Z"
   },
   {
    "duration": 398,
    "start_time": "2023-09-11T14:01:42.760Z"
   },
   {
    "duration": 15,
    "start_time": "2023-09-11T14:01:43.160Z"
   },
   {
    "duration": 27,
    "start_time": "2023-09-11T14:01:43.177Z"
   },
   {
    "duration": 9,
    "start_time": "2023-09-11T14:01:43.207Z"
   },
   {
    "duration": 28,
    "start_time": "2023-09-11T14:01:43.218Z"
   },
   {
    "duration": 29,
    "start_time": "2023-09-11T14:01:43.256Z"
   },
   {
    "duration": 4,
    "start_time": "2023-09-11T14:01:43.288Z"
   },
   {
    "duration": 51,
    "start_time": "2023-09-13T12:25:16.310Z"
   },
   {
    "duration": 1713,
    "start_time": "2023-09-13T12:25:19.503Z"
   },
   {
    "duration": 184,
    "start_time": "2023-09-13T12:25:21.219Z"
   },
   {
    "duration": 16,
    "start_time": "2023-09-13T12:25:21.405Z"
   },
   {
    "duration": 15,
    "start_time": "2023-09-13T12:25:21.423Z"
   },
   {
    "duration": 5,
    "start_time": "2023-09-13T12:25:21.441Z"
   },
   {
    "duration": 41,
    "start_time": "2023-09-13T12:25:21.447Z"
   },
   {
    "duration": 29,
    "start_time": "2023-09-13T12:25:21.490Z"
   },
   {
    "duration": 4,
    "start_time": "2023-09-13T12:25:21.521Z"
   },
   {
    "duration": 20,
    "start_time": "2023-09-13T12:25:21.527Z"
   },
   {
    "duration": 5,
    "start_time": "2023-09-13T12:25:37.588Z"
   },
   {
    "duration": 22,
    "start_time": "2023-09-13T12:26:00.748Z"
   },
   {
    "duration": 5,
    "start_time": "2023-09-13T12:27:05.413Z"
   },
   {
    "duration": 5,
    "start_time": "2023-09-13T12:27:08.488Z"
   },
   {
    "duration": 230,
    "start_time": "2023-09-13T12:27:08.495Z"
   },
   {
    "duration": 14,
    "start_time": "2023-09-13T12:27:08.726Z"
   },
   {
    "duration": 25,
    "start_time": "2023-09-13T12:27:08.742Z"
   },
   {
    "duration": 33,
    "start_time": "2023-09-13T12:27:08.769Z"
   },
   {
    "duration": 51,
    "start_time": "2023-09-13T12:27:08.804Z"
   },
   {
    "duration": 37,
    "start_time": "2023-09-13T12:27:08.858Z"
   },
   {
    "duration": 4,
    "start_time": "2023-09-13T12:27:08.897Z"
   },
   {
    "duration": 43,
    "start_time": "2023-09-13T12:27:08.905Z"
   },
   {
    "duration": 4,
    "start_time": "2023-09-13T12:27:30.782Z"
   },
   {
    "duration": 12,
    "start_time": "2023-09-13T12:27:32.646Z"
   },
   {
    "duration": 17,
    "start_time": "2023-09-13T12:27:34.220Z"
   },
   {
    "duration": 1536,
    "start_time": "2023-09-13T12:27:43.957Z"
   },
   {
    "duration": 149,
    "start_time": "2023-09-13T12:27:45.495Z"
   },
   {
    "duration": 17,
    "start_time": "2023-09-13T12:27:45.646Z"
   },
   {
    "duration": 32,
    "start_time": "2023-09-13T12:27:45.665Z"
   },
   {
    "duration": 5,
    "start_time": "2023-09-13T12:27:45.699Z"
   },
   {
    "duration": 15,
    "start_time": "2023-09-13T12:27:45.706Z"
   },
   {
    "duration": 17,
    "start_time": "2023-09-13T12:27:45.723Z"
   },
   {
    "duration": 13,
    "start_time": "2023-09-13T12:27:45.757Z"
   },
   {
    "duration": 29,
    "start_time": "2023-09-13T12:27:45.772Z"
   },
   {
    "duration": 1486,
    "start_time": "2023-09-13T12:28:54.950Z"
   },
   {
    "duration": 171,
    "start_time": "2023-09-13T12:28:56.438Z"
   },
   {
    "duration": 18,
    "start_time": "2023-09-13T12:28:56.610Z"
   },
   {
    "duration": 19,
    "start_time": "2023-09-13T12:28:56.630Z"
   },
   {
    "duration": 42,
    "start_time": "2023-09-13T12:28:56.651Z"
   },
   {
    "duration": 29,
    "start_time": "2023-09-13T12:28:56.694Z"
   },
   {
    "duration": 56,
    "start_time": "2023-09-13T12:28:56.725Z"
   },
   {
    "duration": 4,
    "start_time": "2023-09-13T12:28:56.783Z"
   },
   {
    "duration": 43,
    "start_time": "2023-09-13T12:28:56.788Z"
   },
   {
    "duration": 22,
    "start_time": "2023-09-13T12:30:10.022Z"
   },
   {
    "duration": 15,
    "start_time": "2023-09-13T12:30:16.782Z"
   },
   {
    "duration": 13,
    "start_time": "2023-09-13T12:30:19.727Z"
   },
   {
    "duration": 14,
    "start_time": "2023-09-13T12:31:39.434Z"
   },
   {
    "duration": 7,
    "start_time": "2023-09-13T12:36:39.338Z"
   },
   {
    "duration": 9,
    "start_time": "2023-09-13T12:36:44.388Z"
   },
   {
    "duration": 5,
    "start_time": "2023-09-13T12:36:50.742Z"
   },
   {
    "duration": 7,
    "start_time": "2023-09-13T12:36:53.428Z"
   },
   {
    "duration": 108,
    "start_time": "2023-09-13T12:40:40.566Z"
   },
   {
    "duration": 125,
    "start_time": "2023-09-13T12:40:49.147Z"
   },
   {
    "duration": 93,
    "start_time": "2023-09-13T12:42:22.706Z"
   },
   {
    "duration": 93,
    "start_time": "2023-09-13T12:42:27.125Z"
   },
   {
    "duration": 1572,
    "start_time": "2023-09-13T12:42:37.022Z"
   },
   {
    "duration": 176,
    "start_time": "2023-09-13T12:42:38.597Z"
   },
   {
    "duration": 19,
    "start_time": "2023-09-13T12:42:38.775Z"
   },
   {
    "duration": 38,
    "start_time": "2023-09-13T12:42:38.795Z"
   },
   {
    "duration": 7,
    "start_time": "2023-09-13T12:42:38.836Z"
   },
   {
    "duration": 42,
    "start_time": "2023-09-13T12:42:38.846Z"
   },
   {
    "duration": 31,
    "start_time": "2023-09-13T12:42:38.891Z"
   },
   {
    "duration": 27,
    "start_time": "2023-09-13T12:42:38.924Z"
   },
   {
    "duration": 31,
    "start_time": "2023-09-13T12:42:38.954Z"
   },
   {
    "duration": 16,
    "start_time": "2023-09-13T12:42:38.987Z"
   },
   {
    "duration": 33,
    "start_time": "2023-09-13T12:42:39.005Z"
   },
   {
    "duration": 136,
    "start_time": "2023-09-13T12:42:39.041Z"
   },
   {
    "duration": 47,
    "start_time": "2023-09-15T14:20:04.673Z"
   },
   {
    "duration": 1524,
    "start_time": "2023-09-15T14:20:10.087Z"
   },
   {
    "duration": 166,
    "start_time": "2023-09-15T14:20:11.613Z"
   },
   {
    "duration": 16,
    "start_time": "2023-09-15T14:20:11.781Z"
   },
   {
    "duration": 14,
    "start_time": "2023-09-15T14:20:11.799Z"
   },
   {
    "duration": 5,
    "start_time": "2023-09-15T14:20:11.815Z"
   },
   {
    "duration": 29,
    "start_time": "2023-09-15T14:20:11.821Z"
   },
   {
    "duration": 17,
    "start_time": "2023-09-15T14:20:11.851Z"
   },
   {
    "duration": 5,
    "start_time": "2023-09-15T14:20:11.870Z"
   },
   {
    "duration": 16,
    "start_time": "2023-09-15T14:20:11.877Z"
   },
   {
    "duration": 16,
    "start_time": "2023-09-15T14:20:11.895Z"
   },
   {
    "duration": 7,
    "start_time": "2023-09-15T14:20:11.913Z"
   },
   {
    "duration": 128,
    "start_time": "2023-09-15T14:20:11.922Z"
   },
   {
    "duration": 6,
    "start_time": "2023-09-15T14:20:39.015Z"
   },
   {
    "duration": 239,
    "start_time": "2023-09-15T14:33:11.312Z"
   },
   {
    "duration": 12562,
    "start_time": "2023-09-15T14:35:44.518Z"
   },
   {
    "duration": 138,
    "start_time": "2023-09-15T14:39:28.817Z"
   },
   {
    "duration": 144,
    "start_time": "2023-09-15T14:39:31.385Z"
   },
   {
    "duration": 11610,
    "start_time": "2023-09-15T14:39:39.258Z"
   },
   {
    "duration": 7,
    "start_time": "2023-09-15T14:41:13.522Z"
   },
   {
    "duration": 4560,
    "start_time": "2023-09-15T14:41:19.611Z"
   },
   {
    "duration": 11493,
    "start_time": "2023-09-15T14:41:35.908Z"
   },
   {
    "duration": 11578,
    "start_time": "2023-09-15T14:41:58.707Z"
   },
   {
    "duration": 11268,
    "start_time": "2023-09-15T14:42:33.157Z"
   },
   {
    "duration": 278,
    "start_time": "2023-09-15T14:44:35.174Z"
   },
   {
    "duration": 30544,
    "start_time": "2023-09-15T14:45:11.113Z"
   },
   {
    "duration": 41902,
    "start_time": "2023-09-15T14:46:28.215Z"
   },
   {
    "duration": 18628,
    "start_time": "2023-09-15T14:47:59.008Z"
   },
   {
    "duration": 271,
    "start_time": "2023-09-15T14:49:22.745Z"
   },
   {
    "duration": 4,
    "start_time": "2023-09-15T15:02:23.326Z"
   },
   {
    "duration": 12,
    "start_time": "2023-09-15T15:02:51.822Z"
   },
   {
    "duration": 12,
    "start_time": "2023-09-15T15:02:56.030Z"
   },
   {
    "duration": 27,
    "start_time": "2023-09-15T15:04:42.519Z"
   },
   {
    "duration": 1293,
    "start_time": "2023-09-15T15:05:03.552Z"
   },
   {
    "duration": 121,
    "start_time": "2023-09-15T15:05:04.846Z"
   },
   {
    "duration": 16,
    "start_time": "2023-09-15T15:05:04.968Z"
   },
   {
    "duration": 35,
    "start_time": "2023-09-15T15:05:04.986Z"
   },
   {
    "duration": 5,
    "start_time": "2023-09-15T15:05:05.023Z"
   },
   {
    "duration": 27,
    "start_time": "2023-09-15T15:05:05.029Z"
   },
   {
    "duration": 25,
    "start_time": "2023-09-15T15:05:05.057Z"
   },
   {
    "duration": 6,
    "start_time": "2023-09-15T15:05:05.083Z"
   },
   {
    "duration": 29,
    "start_time": "2023-09-15T15:05:05.090Z"
   },
   {
    "duration": 12,
    "start_time": "2023-09-15T15:05:05.121Z"
   },
   {
    "duration": 33,
    "start_time": "2023-09-15T15:05:05.134Z"
   },
   {
    "duration": 89,
    "start_time": "2023-09-15T15:05:05.168Z"
   },
   {
    "duration": 17833,
    "start_time": "2023-09-15T15:05:05.258Z"
   },
   {
    "duration": 10,
    "start_time": "2023-09-15T15:05:23.093Z"
   },
   {
    "duration": 63,
    "start_time": "2023-09-15T15:05:23.105Z"
   },
   {
    "duration": 5,
    "start_time": "2023-09-15T15:07:00.905Z"
   },
   {
    "duration": 22,
    "start_time": "2023-09-15T15:07:05.284Z"
   },
   {
    "duration": 1339,
    "start_time": "2023-09-15T15:07:11.041Z"
   },
   {
    "duration": 110,
    "start_time": "2023-09-15T15:07:12.382Z"
   },
   {
    "duration": 15,
    "start_time": "2023-09-15T15:07:12.494Z"
   },
   {
    "duration": 22,
    "start_time": "2023-09-15T15:07:12.511Z"
   },
   {
    "duration": 31,
    "start_time": "2023-09-15T15:07:12.534Z"
   },
   {
    "duration": 28,
    "start_time": "2023-09-15T15:07:12.567Z"
   },
   {
    "duration": 53,
    "start_time": "2023-09-15T15:07:12.597Z"
   },
   {
    "duration": 21,
    "start_time": "2023-09-15T15:07:12.651Z"
   },
   {
    "duration": 125,
    "start_time": "2023-09-15T15:07:12.673Z"
   },
   {
    "duration": 21,
    "start_time": "2023-09-15T15:07:12.800Z"
   },
   {
    "duration": 32,
    "start_time": "2023-09-15T15:07:12.823Z"
   },
   {
    "duration": 100,
    "start_time": "2023-09-15T15:07:12.856Z"
   },
   {
    "duration": 17584,
    "start_time": "2023-09-15T15:07:12.957Z"
   },
   {
    "duration": 16,
    "start_time": "2023-09-15T15:07:30.542Z"
   },
   {
    "duration": 69,
    "start_time": "2023-09-15T15:07:30.559Z"
   },
   {
    "duration": 10,
    "start_time": "2023-09-15T15:08:06.310Z"
   },
   {
    "duration": 23,
    "start_time": "2023-09-15T15:08:07.160Z"
   },
   {
    "duration": 13,
    "start_time": "2023-09-15T15:21:41.265Z"
   },
   {
    "duration": 12,
    "start_time": "2023-09-15T15:21:52.493Z"
   },
   {
    "duration": 4,
    "start_time": "2023-09-15T15:23:08.801Z"
   },
   {
    "duration": 1316,
    "start_time": "2023-09-15T15:23:16.250Z"
   },
   {
    "duration": 152,
    "start_time": "2023-09-15T15:23:17.568Z"
   },
   {
    "duration": 15,
    "start_time": "2023-09-15T15:23:17.724Z"
   },
   {
    "duration": 28,
    "start_time": "2023-09-15T15:23:17.740Z"
   },
   {
    "duration": 23,
    "start_time": "2023-09-15T15:23:17.769Z"
   },
   {
    "duration": 46,
    "start_time": "2023-09-15T15:23:17.793Z"
   },
   {
    "duration": 102,
    "start_time": "2023-09-15T15:23:17.840Z"
   },
   {
    "duration": 26,
    "start_time": "2023-09-15T15:23:17.944Z"
   },
   {
    "duration": 33,
    "start_time": "2023-09-15T15:23:17.973Z"
   },
   {
    "duration": 26,
    "start_time": "2023-09-15T15:23:18.007Z"
   },
   {
    "duration": 7,
    "start_time": "2023-09-15T15:23:18.034Z"
   },
   {
    "duration": 111,
    "start_time": "2023-09-15T15:23:18.042Z"
   },
   {
    "duration": 18540,
    "start_time": "2023-09-15T15:23:18.154Z"
   },
   {
    "duration": 10,
    "start_time": "2023-09-15T15:23:36.695Z"
   },
   {
    "duration": 32,
    "start_time": "2023-09-15T15:23:36.707Z"
   },
   {
    "duration": 4,
    "start_time": "2023-09-15T15:23:36.750Z"
   },
   {
    "duration": 15,
    "start_time": "2023-09-15T15:23:36.755Z"
   },
   {
    "duration": 8,
    "start_time": "2023-09-15T15:24:05.932Z"
   },
   {
    "duration": 1300,
    "start_time": "2023-09-15T15:24:10.366Z"
   },
   {
    "duration": 104,
    "start_time": "2023-09-15T15:24:11.668Z"
   },
   {
    "duration": 15,
    "start_time": "2023-09-15T15:24:11.774Z"
   },
   {
    "duration": 31,
    "start_time": "2023-09-15T15:24:11.790Z"
   },
   {
    "duration": 16,
    "start_time": "2023-09-15T15:24:11.823Z"
   },
   {
    "duration": 31,
    "start_time": "2023-09-15T15:24:11.841Z"
   },
   {
    "duration": 18,
    "start_time": "2023-09-15T15:24:11.874Z"
   },
   {
    "duration": 10,
    "start_time": "2023-09-15T15:24:11.894Z"
   },
   {
    "duration": 12,
    "start_time": "2023-09-15T15:24:11.906Z"
   },
   {
    "duration": 12,
    "start_time": "2023-09-15T15:24:11.920Z"
   },
   {
    "duration": 7,
    "start_time": "2023-09-15T15:24:11.933Z"
   },
   {
    "duration": 89,
    "start_time": "2023-09-15T15:24:11.941Z"
   },
   {
    "duration": 17966,
    "start_time": "2023-09-15T15:24:12.032Z"
   },
   {
    "duration": 10,
    "start_time": "2023-09-15T15:24:29.999Z"
   },
   {
    "duration": 89,
    "start_time": "2023-09-15T15:24:30.011Z"
   },
   {
    "duration": 49,
    "start_time": "2023-09-15T15:24:30.101Z"
   },
   {
    "duration": 44,
    "start_time": "2023-09-15T15:24:30.152Z"
   },
   {
    "duration": 17919,
    "start_time": "2023-09-15T15:29:14.441Z"
   },
   {
    "duration": 1314,
    "start_time": "2023-09-15T15:30:27.719Z"
   },
   {
    "duration": 113,
    "start_time": "2023-09-15T15:30:29.035Z"
   },
   {
    "duration": 15,
    "start_time": "2023-09-15T15:30:29.149Z"
   },
   {
    "duration": 24,
    "start_time": "2023-09-15T15:30:29.165Z"
   },
   {
    "duration": 26,
    "start_time": "2023-09-15T15:30:29.190Z"
   },
   {
    "duration": 50,
    "start_time": "2023-09-15T15:30:29.217Z"
   },
   {
    "duration": 27,
    "start_time": "2023-09-15T15:30:29.269Z"
   },
   {
    "duration": 9,
    "start_time": "2023-09-15T15:30:29.297Z"
   },
   {
    "duration": 29,
    "start_time": "2023-09-15T15:30:29.308Z"
   },
   {
    "duration": 19,
    "start_time": "2023-09-15T15:30:29.339Z"
   },
   {
    "duration": 40,
    "start_time": "2023-09-15T15:30:29.359Z"
   },
   {
    "duration": 100,
    "start_time": "2023-09-15T15:30:29.400Z"
   },
   {
    "duration": 442,
    "start_time": "2023-09-15T15:30:29.502Z"
   },
   {
    "duration": 10,
    "start_time": "2023-09-15T15:30:29.946Z"
   },
   {
    "duration": 38,
    "start_time": "2023-09-15T15:30:29.957Z"
   },
   {
    "duration": 3,
    "start_time": "2023-09-15T15:30:29.997Z"
   },
   {
    "duration": 71,
    "start_time": "2023-09-15T15:30:30.001Z"
   },
   {
    "duration": 1249,
    "start_time": "2023-09-15T15:30:42.208Z"
   },
   {
    "duration": 110,
    "start_time": "2023-09-15T15:30:43.459Z"
   },
   {
    "duration": 15,
    "start_time": "2023-09-15T15:30:43.570Z"
   },
   {
    "duration": 39,
    "start_time": "2023-09-15T15:30:43.587Z"
   },
   {
    "duration": 35,
    "start_time": "2023-09-15T15:30:43.628Z"
   },
   {
    "duration": 32,
    "start_time": "2023-09-15T15:30:43.665Z"
   },
   {
    "duration": 50,
    "start_time": "2023-09-15T15:30:43.698Z"
   },
   {
    "duration": 29,
    "start_time": "2023-09-15T15:30:43.750Z"
   },
   {
    "duration": 32,
    "start_time": "2023-09-15T15:30:43.780Z"
   },
   {
    "duration": 42,
    "start_time": "2023-09-15T15:30:43.814Z"
   },
   {
    "duration": 11,
    "start_time": "2023-09-15T15:30:43.857Z"
   },
   {
    "duration": 123,
    "start_time": "2023-09-15T15:30:43.869Z"
   },
   {
    "duration": 18623,
    "start_time": "2023-09-15T15:30:43.994Z"
   },
   {
    "duration": 11,
    "start_time": "2023-09-15T15:31:02.618Z"
   },
   {
    "duration": 51,
    "start_time": "2023-09-15T15:31:02.631Z"
   },
   {
    "duration": 38,
    "start_time": "2023-09-15T15:31:02.684Z"
   },
   {
    "duration": 38,
    "start_time": "2023-09-15T15:31:02.723Z"
   },
   {
    "duration": 168922,
    "start_time": "2023-09-15T15:31:02.762Z"
   },
   {
    "duration": 3103,
    "start_time": "2023-09-15T15:35:36.234Z"
   },
   {
    "duration": 1355,
    "start_time": "2023-09-15T15:35:42.129Z"
   },
   {
    "duration": 134,
    "start_time": "2023-09-15T15:35:43.486Z"
   },
   {
    "duration": 15,
    "start_time": "2023-09-15T15:35:43.623Z"
   },
   {
    "duration": 45,
    "start_time": "2023-09-15T15:35:43.640Z"
   },
   {
    "duration": 13,
    "start_time": "2023-09-15T15:35:43.686Z"
   },
   {
    "duration": 36,
    "start_time": "2023-09-15T15:35:43.700Z"
   },
   {
    "duration": 53,
    "start_time": "2023-09-15T15:35:43.738Z"
   },
   {
    "duration": 24,
    "start_time": "2023-09-15T15:35:43.792Z"
   },
   {
    "duration": 54,
    "start_time": "2023-09-15T15:35:43.817Z"
   },
   {
    "duration": 23,
    "start_time": "2023-09-15T15:35:43.873Z"
   },
   {
    "duration": 13,
    "start_time": "2023-09-15T15:35:43.897Z"
   },
   {
    "duration": 105,
    "start_time": "2023-09-15T15:35:43.911Z"
   },
   {
    "duration": 17791,
    "start_time": "2023-09-15T15:35:44.019Z"
   },
   {
    "duration": 11,
    "start_time": "2023-09-15T15:36:01.811Z"
   },
   {
    "duration": 42,
    "start_time": "2023-09-15T15:36:01.823Z"
   },
   {
    "duration": 20,
    "start_time": "2023-09-15T15:36:01.867Z"
   },
   {
    "duration": 41,
    "start_time": "2023-09-15T15:36:01.889Z"
   },
   {
    "duration": 226843,
    "start_time": "2023-09-15T15:36:01.932Z"
   },
   {
    "duration": 228312,
    "start_time": "2023-09-15T16:20:58.389Z"
   },
   {
    "duration": 8363,
    "start_time": "2023-09-15T16:33:07.425Z"
   },
   {
    "duration": 1295,
    "start_time": "2023-09-15T16:36:19.139Z"
   },
   {
    "duration": 190,
    "start_time": "2023-09-15T16:36:20.436Z"
   },
   {
    "duration": 16,
    "start_time": "2023-09-15T16:36:20.630Z"
   },
   {
    "duration": 28,
    "start_time": "2023-09-15T16:36:20.648Z"
   },
   {
    "duration": 11,
    "start_time": "2023-09-15T16:36:20.678Z"
   },
   {
    "duration": 54,
    "start_time": "2023-09-15T16:36:20.690Z"
   },
   {
    "duration": 25,
    "start_time": "2023-09-15T16:36:20.745Z"
   },
   {
    "duration": 11,
    "start_time": "2023-09-15T16:36:20.772Z"
   },
   {
    "duration": 26,
    "start_time": "2023-09-15T16:36:20.785Z"
   },
   {
    "duration": 11,
    "start_time": "2023-09-15T16:36:20.813Z"
   },
   {
    "duration": 11,
    "start_time": "2023-09-15T16:36:20.826Z"
   },
   {
    "duration": 89,
    "start_time": "2023-09-15T16:36:20.839Z"
   },
   {
    "duration": 18258,
    "start_time": "2023-09-15T16:36:20.931Z"
   },
   {
    "duration": 10,
    "start_time": "2023-09-15T16:36:39.190Z"
   },
   {
    "duration": 32,
    "start_time": "2023-09-15T16:36:39.201Z"
   },
   {
    "duration": 3,
    "start_time": "2023-09-15T16:36:39.234Z"
   },
   {
    "duration": 19,
    "start_time": "2023-09-15T16:36:39.239Z"
   },
   {
    "duration": 8239,
    "start_time": "2023-09-15T16:36:39.260Z"
   },
   {
    "duration": 96,
    "start_time": "2023-09-15T16:43:58.675Z"
   },
   {
    "duration": 163,
    "start_time": "2023-09-15T16:44:12.427Z"
   },
   {
    "duration": 157,
    "start_time": "2023-09-15T16:44:18.539Z"
   },
   {
    "duration": 152,
    "start_time": "2023-09-15T16:44:50.237Z"
   },
   {
    "duration": 224,
    "start_time": "2023-09-15T16:46:17.455Z"
   },
   {
    "duration": 158,
    "start_time": "2023-09-15T16:46:51.286Z"
   },
   {
    "duration": 170,
    "start_time": "2023-09-15T16:56:59.167Z"
   },
   {
    "duration": 4,
    "start_time": "2023-09-15T16:58:26.264Z"
   },
   {
    "duration": 9,
    "start_time": "2023-09-15T16:58:28.808Z"
   },
   {
    "duration": 222,
    "start_time": "2023-09-15T17:01:08.731Z"
   },
   {
    "duration": 247,
    "start_time": "2023-09-15T17:01:12.604Z"
   },
   {
    "duration": 4,
    "start_time": "2023-09-15T17:02:45.714Z"
   },
   {
    "duration": 9,
    "start_time": "2023-09-15T17:02:45.835Z"
   },
   {
    "duration": 4157,
    "start_time": "2023-09-15T17:04:21.813Z"
   },
   {
    "duration": 77921,
    "start_time": "2023-09-15T17:04:51.049Z"
   },
   {
    "duration": 315,
    "start_time": "2023-09-15T17:28:33.920Z"
   },
   {
    "duration": 304,
    "start_time": "2023-09-15T17:28:38.074Z"
   },
   {
    "duration": 313,
    "start_time": "2023-09-15T17:29:20.385Z"
   },
   {
    "duration": 309,
    "start_time": "2023-09-15T17:29:58.101Z"
   },
   {
    "duration": 1388,
    "start_time": "2023-09-15T17:30:03.232Z"
   },
   {
    "duration": 140,
    "start_time": "2023-09-15T17:30:04.622Z"
   },
   {
    "duration": 14,
    "start_time": "2023-09-15T17:30:04.764Z"
   },
   {
    "duration": 36,
    "start_time": "2023-09-15T17:30:04.780Z"
   },
   {
    "duration": 4,
    "start_time": "2023-09-15T17:30:04.817Z"
   },
   {
    "duration": 19,
    "start_time": "2023-09-15T17:30:04.822Z"
   },
   {
    "duration": 20,
    "start_time": "2023-09-15T17:30:04.842Z"
   },
   {
    "duration": 3,
    "start_time": "2023-09-15T17:30:04.864Z"
   },
   {
    "duration": 13,
    "start_time": "2023-09-15T17:30:04.868Z"
   },
   {
    "duration": 11,
    "start_time": "2023-09-15T17:30:04.884Z"
   },
   {
    "duration": 7,
    "start_time": "2023-09-15T17:30:04.896Z"
   },
   {
    "duration": 117,
    "start_time": "2023-09-15T17:30:04.904Z"
   },
   {
    "duration": 17849,
    "start_time": "2023-09-15T17:30:05.022Z"
   },
   {
    "duration": 10,
    "start_time": "2023-09-15T17:30:22.872Z"
   },
   {
    "duration": 28,
    "start_time": "2023-09-15T17:30:22.883Z"
   },
   {
    "duration": 3,
    "start_time": "2023-09-15T17:30:22.913Z"
   },
   {
    "duration": 11,
    "start_time": "2023-09-15T17:30:22.917Z"
   },
   {
    "duration": 8261,
    "start_time": "2023-09-15T17:30:22.930Z"
   },
   {
    "duration": 171,
    "start_time": "2023-09-15T17:30:31.193Z"
   },
   {
    "duration": 4,
    "start_time": "2023-09-15T17:30:31.365Z"
   },
   {
    "duration": 78,
    "start_time": "2023-09-15T17:30:31.370Z"
   },
   {
    "duration": 335,
    "start_time": "2023-09-15T17:30:31.450Z"
   },
   {
    "duration": 4,
    "start_time": "2023-09-15T17:31:18.981Z"
   },
   {
    "duration": 10,
    "start_time": "2023-09-15T17:31:19.222Z"
   },
   {
    "duration": 308,
    "start_time": "2023-09-15T17:31:19.998Z"
   },
   {
    "duration": 314,
    "start_time": "2023-09-15T17:31:39.957Z"
   },
   {
    "duration": 1244,
    "start_time": "2023-09-15T17:31:48.288Z"
   },
   {
    "duration": 140,
    "start_time": "2023-09-15T17:31:49.534Z"
   },
   {
    "duration": 16,
    "start_time": "2023-09-15T17:31:49.675Z"
   },
   {
    "duration": 16,
    "start_time": "2023-09-15T17:31:49.693Z"
   },
   {
    "duration": 6,
    "start_time": "2023-09-15T17:31:49.711Z"
   },
   {
    "duration": 13,
    "start_time": "2023-09-15T17:31:49.718Z"
   },
   {
    "duration": 31,
    "start_time": "2023-09-15T17:31:49.732Z"
   },
   {
    "duration": 2,
    "start_time": "2023-09-15T17:31:49.765Z"
   },
   {
    "duration": 15,
    "start_time": "2023-09-15T17:31:49.769Z"
   },
   {
    "duration": 10,
    "start_time": "2023-09-15T17:31:49.785Z"
   },
   {
    "duration": 6,
    "start_time": "2023-09-15T17:31:49.797Z"
   },
   {
    "duration": 111,
    "start_time": "2023-09-15T17:31:49.804Z"
   },
   {
    "duration": 18300,
    "start_time": "2023-09-15T17:31:49.917Z"
   },
   {
    "duration": 11,
    "start_time": "2023-09-15T17:32:08.219Z"
   },
   {
    "duration": 37,
    "start_time": "2023-09-15T17:32:08.231Z"
   },
   {
    "duration": 4,
    "start_time": "2023-09-15T17:32:08.270Z"
   },
   {
    "duration": 120,
    "start_time": "2023-09-15T17:32:08.275Z"
   },
   {
    "duration": 9357,
    "start_time": "2023-09-15T17:32:08.397Z"
   },
   {
    "duration": 166,
    "start_time": "2023-09-15T17:32:17.755Z"
   },
   {
    "duration": 4,
    "start_time": "2023-09-15T17:32:17.922Z"
   },
   {
    "duration": 21,
    "start_time": "2023-09-15T17:32:17.927Z"
   },
   {
    "duration": 366,
    "start_time": "2023-09-15T17:32:17.949Z"
   },
   {
    "duration": 103,
    "start_time": "2023-09-15T17:38:13.318Z"
   },
   {
    "duration": 113,
    "start_time": "2023-09-15T17:38:18.053Z"
   },
   {
    "duration": 82,
    "start_time": "2023-09-15T17:38:25.933Z"
   },
   {
    "duration": 149,
    "start_time": "2023-09-15T17:38:29.725Z"
   },
   {
    "duration": 1447,
    "start_time": "2023-09-15T17:40:14.015Z"
   },
   {
    "duration": 338,
    "start_time": "2023-09-15T17:40:15.464Z"
   },
   {
    "duration": 15,
    "start_time": "2023-09-15T17:40:15.803Z"
   },
   {
    "duration": 27,
    "start_time": "2023-09-15T17:40:15.820Z"
   },
   {
    "duration": 4,
    "start_time": "2023-09-15T17:40:15.850Z"
   },
   {
    "duration": 25,
    "start_time": "2023-09-15T17:40:15.856Z"
   },
   {
    "duration": 33,
    "start_time": "2023-09-15T17:40:15.883Z"
   },
   {
    "duration": 4,
    "start_time": "2023-09-15T17:40:15.918Z"
   },
   {
    "duration": 21,
    "start_time": "2023-09-15T17:40:15.924Z"
   },
   {
    "duration": 75,
    "start_time": "2023-09-15T17:40:15.948Z"
   },
   {
    "duration": 10,
    "start_time": "2023-09-15T17:40:16.025Z"
   },
   {
    "duration": 102,
    "start_time": "2023-09-15T17:40:16.036Z"
   },
   {
    "duration": 17626,
    "start_time": "2023-09-15T17:40:16.140Z"
   },
   {
    "duration": 9,
    "start_time": "2023-09-15T17:40:33.769Z"
   },
   {
    "duration": 44,
    "start_time": "2023-09-15T17:40:33.780Z"
   },
   {
    "duration": 116,
    "start_time": "2023-09-15T17:40:33.826Z"
   },
   {
    "duration": 21,
    "start_time": "2023-09-15T17:40:33.944Z"
   },
   {
    "duration": 8222,
    "start_time": "2023-09-15T17:40:33.966Z"
   },
   {
    "duration": 165,
    "start_time": "2023-09-15T17:40:42.189Z"
   },
   {
    "duration": 4,
    "start_time": "2023-09-15T17:40:42.355Z"
   },
   {
    "duration": 22,
    "start_time": "2023-09-15T17:40:42.360Z"
   },
   {
    "duration": 323,
    "start_time": "2023-09-15T17:40:42.383Z"
   },
   {
    "duration": 151,
    "start_time": "2023-09-15T17:40:42.707Z"
   },
   {
    "duration": 1356,
    "start_time": "2023-09-15T17:46:48.720Z"
   },
   {
    "duration": 127,
    "start_time": "2023-09-15T17:46:50.078Z"
   },
   {
    "duration": 14,
    "start_time": "2023-09-15T17:46:50.206Z"
   },
   {
    "duration": 20,
    "start_time": "2023-09-15T17:46:50.222Z"
   },
   {
    "duration": 17,
    "start_time": "2023-09-15T17:46:50.244Z"
   },
   {
    "duration": 30,
    "start_time": "2023-09-15T17:46:50.263Z"
   },
   {
    "duration": 54,
    "start_time": "2023-09-15T17:46:50.295Z"
   },
   {
    "duration": 6,
    "start_time": "2023-09-15T17:46:50.350Z"
   },
   {
    "duration": 46,
    "start_time": "2023-09-15T17:46:50.357Z"
   },
   {
    "duration": 67,
    "start_time": "2023-09-15T17:46:50.405Z"
   },
   {
    "duration": 25,
    "start_time": "2023-09-15T17:46:50.474Z"
   },
   {
    "duration": 118,
    "start_time": "2023-09-15T17:46:50.500Z"
   },
   {
    "duration": 17538,
    "start_time": "2023-09-15T17:46:50.619Z"
   },
   {
    "duration": 9,
    "start_time": "2023-09-15T17:47:08.160Z"
   },
   {
    "duration": 32,
    "start_time": "2023-09-15T17:47:08.171Z"
   },
   {
    "duration": 3,
    "start_time": "2023-09-15T17:47:08.205Z"
   },
   {
    "duration": 15,
    "start_time": "2023-09-15T17:47:08.209Z"
   },
   {
    "duration": 9286,
    "start_time": "2023-09-15T17:47:08.225Z"
   },
   {
    "duration": 173,
    "start_time": "2023-09-15T17:47:17.512Z"
   },
   {
    "duration": 4,
    "start_time": "2023-09-15T17:47:17.686Z"
   },
   {
    "duration": 16,
    "start_time": "2023-09-15T17:47:17.691Z"
   },
   {
    "duration": 304,
    "start_time": "2023-09-15T17:47:17.709Z"
   },
   {
    "duration": 155,
    "start_time": "2023-09-15T17:47:18.015Z"
   },
   {
    "duration": 46,
    "start_time": "2023-09-15T18:06:03.790Z"
   },
   {
    "duration": 166,
    "start_time": "2023-09-15T18:09:50.737Z"
   },
   {
    "duration": 219,
    "start_time": "2023-09-15T18:10:00.812Z"
   },
   {
    "duration": 184,
    "start_time": "2023-09-15T18:10:16.717Z"
   },
   {
    "duration": 96,
    "start_time": "2023-09-15T18:10:26.868Z"
   },
   {
    "duration": 158,
    "start_time": "2023-09-15T18:10:28.818Z"
   },
   {
    "duration": 159,
    "start_time": "2023-09-15T18:10:31.506Z"
   },
   {
    "duration": 153,
    "start_time": "2023-09-15T18:10:37.731Z"
   },
   {
    "duration": 152,
    "start_time": "2023-09-15T18:10:43.786Z"
   },
   {
    "duration": 153,
    "start_time": "2023-09-15T18:10:45.666Z"
   },
   {
    "duration": 156,
    "start_time": "2023-09-15T18:10:56.865Z"
   },
   {
    "duration": 154,
    "start_time": "2023-09-15T18:11:00.690Z"
   },
   {
    "duration": 5,
    "start_time": "2023-09-15T18:14:50.165Z"
   },
   {
    "duration": 4,
    "start_time": "2023-09-15T18:15:29.502Z"
   },
   {
    "duration": 856,
    "start_time": "2023-09-15T18:17:01.695Z"
   },
   {
    "duration": 4,
    "start_time": "2023-09-15T18:26:21.432Z"
   },
   {
    "duration": 5,
    "start_time": "2023-09-15T18:27:32.727Z"
   },
   {
    "duration": 841,
    "start_time": "2023-09-15T18:27:32.914Z"
   },
   {
    "duration": 169,
    "start_time": "2023-09-15T18:27:42.665Z"
   },
   {
    "duration": 41,
    "start_time": "2023-09-15T18:28:03.026Z"
   },
   {
    "duration": 5,
    "start_time": "2023-09-15T18:28:09.194Z"
   },
   {
    "duration": 843,
    "start_time": "2023-09-15T18:28:09.409Z"
   },
   {
    "duration": 43,
    "start_time": "2023-09-15T18:28:10.253Z"
   },
   {
    "duration": 49,
    "start_time": "2023-09-15T18:28:16.778Z"
   },
   {
    "duration": 44,
    "start_time": "2023-09-15T18:28:23.669Z"
   },
   {
    "duration": 1273,
    "start_time": "2023-09-15T18:49:53.073Z"
   },
   {
    "duration": 199,
    "start_time": "2023-09-15T18:49:54.348Z"
   },
   {
    "duration": 14,
    "start_time": "2023-09-15T18:49:54.549Z"
   },
   {
    "duration": 37,
    "start_time": "2023-09-15T18:49:54.565Z"
   },
   {
    "duration": 17,
    "start_time": "2023-09-15T18:49:54.604Z"
   },
   {
    "duration": 25,
    "start_time": "2023-09-15T18:49:54.623Z"
   },
   {
    "duration": 34,
    "start_time": "2023-09-15T18:49:54.650Z"
   },
   {
    "duration": 5,
    "start_time": "2023-09-15T18:49:54.685Z"
   },
   {
    "duration": 31,
    "start_time": "2023-09-15T18:49:54.692Z"
   },
   {
    "duration": 16,
    "start_time": "2023-09-15T18:49:54.727Z"
   },
   {
    "duration": 16,
    "start_time": "2023-09-15T18:49:54.744Z"
   },
   {
    "duration": 102,
    "start_time": "2023-09-15T18:49:54.761Z"
   },
   {
    "duration": 17423,
    "start_time": "2023-09-15T18:49:54.865Z"
   },
   {
    "duration": 10,
    "start_time": "2023-09-15T18:50:12.289Z"
   },
   {
    "duration": 41,
    "start_time": "2023-09-15T18:50:12.300Z"
   },
   {
    "duration": 17,
    "start_time": "2023-09-15T18:50:12.342Z"
   },
   {
    "duration": 65,
    "start_time": "2023-09-15T18:50:12.360Z"
   },
   {
    "duration": 8446,
    "start_time": "2023-09-15T18:50:12.427Z"
   },
   {
    "duration": 167,
    "start_time": "2023-09-15T18:50:20.875Z"
   },
   {
    "duration": 6,
    "start_time": "2023-09-15T18:50:21.043Z"
   },
   {
    "duration": 15,
    "start_time": "2023-09-15T18:50:21.051Z"
   },
   {
    "duration": 320,
    "start_time": "2023-09-15T18:50:21.067Z"
   },
   {
    "duration": 154,
    "start_time": "2023-09-15T18:50:21.389Z"
   },
   {
    "duration": 45,
    "start_time": "2023-09-15T18:50:21.549Z"
   },
   {
    "duration": 172,
    "start_time": "2023-09-15T18:50:21.596Z"
   },
   {
    "duration": 5,
    "start_time": "2023-09-15T18:50:21.769Z"
   },
   {
    "duration": 849,
    "start_time": "2023-09-15T18:50:21.775Z"
   },
   {
    "duration": 45,
    "start_time": "2023-09-15T18:50:22.626Z"
   },
   {
    "duration": 136,
    "start_time": "2023-09-15T20:58:14.510Z"
   },
   {
    "duration": 1641,
    "start_time": "2023-09-15T20:58:19.951Z"
   },
   {
    "duration": 264,
    "start_time": "2023-09-15T20:58:21.594Z"
   },
   {
    "duration": 17,
    "start_time": "2023-09-15T20:58:21.867Z"
   },
   {
    "duration": 13,
    "start_time": "2023-09-15T20:58:21.886Z"
   },
   {
    "duration": 5,
    "start_time": "2023-09-15T20:58:21.900Z"
   },
   {
    "duration": 42,
    "start_time": "2023-09-15T20:58:21.906Z"
   },
   {
    "duration": 21,
    "start_time": "2023-09-15T20:58:21.951Z"
   },
   {
    "duration": 3,
    "start_time": "2023-09-15T20:58:21.974Z"
   },
   {
    "duration": 17,
    "start_time": "2023-09-15T20:58:21.979Z"
   },
   {
    "duration": 11,
    "start_time": "2023-09-15T20:58:21.998Z"
   },
   {
    "duration": 6,
    "start_time": "2023-09-15T20:58:22.010Z"
   },
   {
    "duration": 116,
    "start_time": "2023-09-15T20:58:22.044Z"
   },
   {
    "duration": 22839,
    "start_time": "2023-09-15T20:58:22.163Z"
   },
   {
    "duration": 13,
    "start_time": "2023-09-15T20:58:45.004Z"
   },
   {
    "duration": 71,
    "start_time": "2023-09-15T20:58:45.019Z"
   },
   {
    "duration": 5,
    "start_time": "2023-09-15T20:58:45.092Z"
   },
   {
    "duration": 26,
    "start_time": "2023-09-15T20:58:45.098Z"
   },
   {
    "duration": 10064,
    "start_time": "2023-09-15T20:58:45.126Z"
   },
   {
    "duration": 211,
    "start_time": "2023-09-15T20:58:55.192Z"
   },
   {
    "duration": 4,
    "start_time": "2023-09-15T20:58:55.404Z"
   },
   {
    "duration": 16,
    "start_time": "2023-09-15T20:58:55.410Z"
   },
   {
    "duration": 400,
    "start_time": "2023-09-15T20:58:55.428Z"
   },
   {
    "duration": 207,
    "start_time": "2023-09-15T20:58:55.829Z"
   },
   {
    "duration": 67,
    "start_time": "2023-09-15T20:58:56.038Z"
   },
   {
    "duration": 226,
    "start_time": "2023-09-15T20:58:56.107Z"
   },
   {
    "duration": 16,
    "start_time": "2023-09-15T20:58:56.335Z"
   },
   {
    "duration": 1072,
    "start_time": "2023-09-15T20:58:56.353Z"
   },
   {
    "duration": 60,
    "start_time": "2023-09-15T20:58:57.427Z"
   },
   {
    "duration": 1489,
    "start_time": "2023-09-17T12:18:20.248Z"
   },
   {
    "duration": 102,
    "start_time": "2023-09-17T12:18:21.739Z"
   },
   {
    "duration": 14,
    "start_time": "2023-09-17T12:18:21.843Z"
   },
   {
    "duration": 35,
    "start_time": "2023-09-17T12:18:21.859Z"
   },
   {
    "duration": 4,
    "start_time": "2023-09-17T12:18:21.896Z"
   },
   {
    "duration": 25,
    "start_time": "2023-09-17T12:18:21.901Z"
   },
   {
    "duration": 23,
    "start_time": "2023-09-17T12:18:21.928Z"
   },
   {
    "duration": 15,
    "start_time": "2023-09-17T12:18:21.952Z"
   },
   {
    "duration": 13,
    "start_time": "2023-09-17T12:18:21.968Z"
   },
   {
    "duration": 11,
    "start_time": "2023-09-17T12:18:21.985Z"
   },
   {
    "duration": 7,
    "start_time": "2023-09-17T12:18:21.998Z"
   },
   {
    "duration": 114,
    "start_time": "2023-09-17T12:18:22.006Z"
   },
   {
    "duration": 82,
    "start_time": "2023-09-17T12:18:22.121Z"
   },
   {
    "duration": 0,
    "start_time": "2023-09-17T12:18:22.205Z"
   },
   {
    "duration": 0,
    "start_time": "2023-09-17T12:18:22.206Z"
   },
   {
    "duration": 0,
    "start_time": "2023-09-17T12:18:22.208Z"
   },
   {
    "duration": 1,
    "start_time": "2023-09-17T12:18:22.208Z"
   },
   {
    "duration": 0,
    "start_time": "2023-09-17T12:18:22.210Z"
   },
   {
    "duration": 0,
    "start_time": "2023-09-17T12:18:22.211Z"
   },
   {
    "duration": 0,
    "start_time": "2023-09-17T12:18:22.212Z"
   },
   {
    "duration": 0,
    "start_time": "2023-09-17T12:18:22.213Z"
   },
   {
    "duration": 0,
    "start_time": "2023-09-17T12:18:22.214Z"
   },
   {
    "duration": 0,
    "start_time": "2023-09-17T12:18:22.215Z"
   },
   {
    "duration": 0,
    "start_time": "2023-09-17T12:18:22.216Z"
   },
   {
    "duration": 0,
    "start_time": "2023-09-17T12:18:22.217Z"
   },
   {
    "duration": 0,
    "start_time": "2023-09-17T12:18:22.218Z"
   },
   {
    "duration": 0,
    "start_time": "2023-09-17T12:18:22.219Z"
   },
   {
    "duration": 0,
    "start_time": "2023-09-17T12:18:22.220Z"
   },
   {
    "duration": 0,
    "start_time": "2023-09-17T12:18:22.221Z"
   },
   {
    "duration": 5,
    "start_time": "2023-09-17T13:04:09.727Z"
   },
   {
    "duration": 1482,
    "start_time": "2023-09-17T13:04:18.809Z"
   },
   {
    "duration": 149,
    "start_time": "2023-09-17T13:04:20.293Z"
   },
   {
    "duration": 20,
    "start_time": "2023-09-17T13:04:20.444Z"
   },
   {
    "duration": 32,
    "start_time": "2023-09-17T13:04:20.466Z"
   },
   {
    "duration": 5,
    "start_time": "2023-09-17T13:04:20.500Z"
   },
   {
    "duration": 32,
    "start_time": "2023-09-17T13:04:20.507Z"
   },
   {
    "duration": 32,
    "start_time": "2023-09-17T13:04:20.542Z"
   },
   {
    "duration": 12,
    "start_time": "2023-09-17T13:04:20.576Z"
   },
   {
    "duration": 39,
    "start_time": "2023-09-17T13:04:20.589Z"
   },
   {
    "duration": 12,
    "start_time": "2023-09-17T13:04:20.630Z"
   },
   {
    "duration": 21,
    "start_time": "2023-09-17T13:04:20.644Z"
   },
   {
    "duration": 118,
    "start_time": "2023-09-17T13:04:20.667Z"
   },
   {
    "duration": 72,
    "start_time": "2023-09-17T13:04:20.786Z"
   },
   {
    "duration": 0,
    "start_time": "2023-09-17T13:04:20.860Z"
   },
   {
    "duration": 0,
    "start_time": "2023-09-17T13:04:20.861Z"
   },
   {
    "duration": 0,
    "start_time": "2023-09-17T13:04:20.861Z"
   },
   {
    "duration": 0,
    "start_time": "2023-09-17T13:04:20.863Z"
   },
   {
    "duration": 0,
    "start_time": "2023-09-17T13:04:20.864Z"
   },
   {
    "duration": 0,
    "start_time": "2023-09-17T13:04:20.864Z"
   },
   {
    "duration": 0,
    "start_time": "2023-09-17T13:04:20.865Z"
   },
   {
    "duration": 0,
    "start_time": "2023-09-17T13:04:20.866Z"
   },
   {
    "duration": 0,
    "start_time": "2023-09-17T13:04:20.867Z"
   },
   {
    "duration": 0,
    "start_time": "2023-09-17T13:04:20.868Z"
   },
   {
    "duration": 0,
    "start_time": "2023-09-17T13:04:20.869Z"
   },
   {
    "duration": 0,
    "start_time": "2023-09-17T13:04:20.870Z"
   },
   {
    "duration": 0,
    "start_time": "2023-09-17T13:04:20.871Z"
   },
   {
    "duration": 0,
    "start_time": "2023-09-17T13:04:20.871Z"
   },
   {
    "duration": 0,
    "start_time": "2023-09-17T13:04:20.872Z"
   },
   {
    "duration": 0,
    "start_time": "2023-09-17T13:04:20.874Z"
   },
   {
    "duration": 5,
    "start_time": "2023-09-17T13:05:00.409Z"
   },
   {
    "duration": 151,
    "start_time": "2023-09-17T13:05:00.417Z"
   },
   {
    "duration": 14,
    "start_time": "2023-09-17T13:05:00.570Z"
   },
   {
    "duration": 45,
    "start_time": "2023-09-17T13:05:00.585Z"
   },
   {
    "duration": 23,
    "start_time": "2023-09-17T13:05:00.633Z"
   },
   {
    "duration": 64,
    "start_time": "2023-09-17T13:05:00.658Z"
   },
   {
    "duration": 51,
    "start_time": "2023-09-17T13:05:00.724Z"
   },
   {
    "duration": 40,
    "start_time": "2023-09-17T13:05:00.777Z"
   },
   {
    "duration": 76,
    "start_time": "2023-09-17T13:05:00.818Z"
   },
   {
    "duration": 156,
    "start_time": "2023-09-17T13:05:00.896Z"
   },
   {
    "duration": 30,
    "start_time": "2023-09-17T13:05:01.054Z"
   },
   {
    "duration": 130,
    "start_time": "2023-09-17T13:05:01.086Z"
   },
   {
    "duration": 78,
    "start_time": "2023-09-17T13:05:01.217Z"
   },
   {
    "duration": 0,
    "start_time": "2023-09-17T13:05:01.297Z"
   },
   {
    "duration": 0,
    "start_time": "2023-09-17T13:05:01.298Z"
   },
   {
    "duration": 0,
    "start_time": "2023-09-17T13:05:01.299Z"
   },
   {
    "duration": 0,
    "start_time": "2023-09-17T13:05:01.300Z"
   },
   {
    "duration": 0,
    "start_time": "2023-09-17T13:05:01.301Z"
   },
   {
    "duration": 0,
    "start_time": "2023-09-17T13:05:01.301Z"
   },
   {
    "duration": 0,
    "start_time": "2023-09-17T13:05:01.302Z"
   },
   {
    "duration": 0,
    "start_time": "2023-09-17T13:05:01.303Z"
   },
   {
    "duration": 0,
    "start_time": "2023-09-17T13:05:01.304Z"
   },
   {
    "duration": 0,
    "start_time": "2023-09-17T13:05:01.305Z"
   },
   {
    "duration": 0,
    "start_time": "2023-09-17T13:05:01.306Z"
   },
   {
    "duration": 0,
    "start_time": "2023-09-17T13:05:01.307Z"
   },
   {
    "duration": 0,
    "start_time": "2023-09-17T13:05:01.308Z"
   },
   {
    "duration": 0,
    "start_time": "2023-09-17T13:05:01.308Z"
   },
   {
    "duration": 0,
    "start_time": "2023-09-17T13:05:01.309Z"
   },
   {
    "duration": 0,
    "start_time": "2023-09-17T13:05:01.310Z"
   },
   {
    "duration": 1310,
    "start_time": "2023-09-17T13:05:28.325Z"
   },
   {
    "duration": 101,
    "start_time": "2023-09-17T13:05:29.637Z"
   },
   {
    "duration": 17,
    "start_time": "2023-09-17T13:05:29.742Z"
   },
   {
    "duration": 16,
    "start_time": "2023-09-17T13:05:29.761Z"
   },
   {
    "duration": 5,
    "start_time": "2023-09-17T13:05:29.779Z"
   },
   {
    "duration": 29,
    "start_time": "2023-09-17T13:05:29.786Z"
   },
   {
    "duration": 33,
    "start_time": "2023-09-17T13:05:29.817Z"
   },
   {
    "duration": 4,
    "start_time": "2023-09-17T13:05:29.852Z"
   },
   {
    "duration": 16,
    "start_time": "2023-09-17T13:05:29.857Z"
   },
   {
    "duration": 11,
    "start_time": "2023-09-17T13:05:29.875Z"
   },
   {
    "duration": 7,
    "start_time": "2023-09-17T13:05:29.887Z"
   },
   {
    "duration": 120,
    "start_time": "2023-09-17T13:05:29.895Z"
   },
   {
    "duration": 18807,
    "start_time": "2023-09-17T13:05:30.017Z"
   },
   {
    "duration": 23,
    "start_time": "2023-09-17T13:05:48.826Z"
   },
   {
    "duration": 116,
    "start_time": "2023-09-17T13:05:48.851Z"
   },
   {
    "duration": 0,
    "start_time": "2023-09-17T13:05:48.969Z"
   },
   {
    "duration": 0,
    "start_time": "2023-09-17T13:05:48.970Z"
   },
   {
    "duration": 0,
    "start_time": "2023-09-17T13:05:48.971Z"
   },
   {
    "duration": 0,
    "start_time": "2023-09-17T13:05:48.973Z"
   },
   {
    "duration": 0,
    "start_time": "2023-09-17T13:05:48.974Z"
   },
   {
    "duration": 0,
    "start_time": "2023-09-17T13:05:48.975Z"
   },
   {
    "duration": 0,
    "start_time": "2023-09-17T13:05:48.976Z"
   },
   {
    "duration": 0,
    "start_time": "2023-09-17T13:05:48.977Z"
   },
   {
    "duration": 0,
    "start_time": "2023-09-17T13:05:48.978Z"
   },
   {
    "duration": 0,
    "start_time": "2023-09-17T13:05:48.979Z"
   },
   {
    "duration": 0,
    "start_time": "2023-09-17T13:05:48.980Z"
   },
   {
    "duration": 0,
    "start_time": "2023-09-17T13:05:48.981Z"
   },
   {
    "duration": 0,
    "start_time": "2023-09-17T13:05:48.983Z"
   },
   {
    "duration": 10,
    "start_time": "2023-09-17T13:07:06.995Z"
   },
   {
    "duration": 6,
    "start_time": "2023-09-17T13:10:07.377Z"
   },
   {
    "duration": 61,
    "start_time": "2023-09-17T13:11:53.423Z"
   },
   {
    "duration": 99,
    "start_time": "2023-09-17T13:12:07.728Z"
   },
   {
    "duration": 63,
    "start_time": "2023-09-17T13:12:11.601Z"
   },
   {
    "duration": 72,
    "start_time": "2023-09-17T13:12:26.485Z"
   },
   {
    "duration": 1321,
    "start_time": "2023-09-17T13:12:45.082Z"
   },
   {
    "duration": 297,
    "start_time": "2023-09-17T13:12:46.405Z"
   },
   {
    "duration": 15,
    "start_time": "2023-09-17T13:12:46.703Z"
   },
   {
    "duration": 13,
    "start_time": "2023-09-17T13:12:46.720Z"
   },
   {
    "duration": 4,
    "start_time": "2023-09-17T13:12:46.735Z"
   },
   {
    "duration": 19,
    "start_time": "2023-09-17T13:12:46.741Z"
   },
   {
    "duration": 25,
    "start_time": "2023-09-17T13:12:46.761Z"
   },
   {
    "duration": 2,
    "start_time": "2023-09-17T13:12:46.788Z"
   },
   {
    "duration": 76,
    "start_time": "2023-09-17T13:12:46.791Z"
   },
   {
    "duration": 10,
    "start_time": "2023-09-17T13:12:46.869Z"
   },
   {
    "duration": 19,
    "start_time": "2023-09-17T13:12:46.881Z"
   },
   {
    "duration": 12,
    "start_time": "2023-09-17T13:12:46.902Z"
   },
   {
    "duration": 109,
    "start_time": "2023-09-17T13:12:46.916Z"
   },
   {
    "duration": 201,
    "start_time": "2023-09-17T13:12:47.027Z"
   },
   {
    "duration": 10,
    "start_time": "2023-09-17T13:12:47.229Z"
   },
   {
    "duration": 26,
    "start_time": "2023-09-17T13:12:47.240Z"
   },
   {
    "duration": 4,
    "start_time": "2023-09-17T13:12:47.267Z"
   },
   {
    "duration": 19,
    "start_time": "2023-09-17T13:12:47.272Z"
   },
   {
    "duration": 97,
    "start_time": "2023-09-17T13:12:47.292Z"
   },
   {
    "duration": 11,
    "start_time": "2023-09-17T13:12:47.390Z"
   },
   {
    "duration": 0,
    "start_time": "2023-09-17T13:12:47.402Z"
   },
   {
    "duration": 0,
    "start_time": "2023-09-17T13:12:47.403Z"
   },
   {
    "duration": 0,
    "start_time": "2023-09-17T13:12:47.404Z"
   },
   {
    "duration": 0,
    "start_time": "2023-09-17T13:12:47.405Z"
   },
   {
    "duration": 0,
    "start_time": "2023-09-17T13:12:47.406Z"
   },
   {
    "duration": 0,
    "start_time": "2023-09-17T13:12:47.407Z"
   },
   {
    "duration": 0,
    "start_time": "2023-09-17T13:12:47.408Z"
   },
   {
    "duration": 0,
    "start_time": "2023-09-17T13:12:47.409Z"
   },
   {
    "duration": 0,
    "start_time": "2023-09-17T13:12:47.409Z"
   },
   {
    "duration": 5,
    "start_time": "2023-09-17T13:13:12.729Z"
   },
   {
    "duration": 6,
    "start_time": "2023-09-17T13:13:20.104Z"
   },
   {
    "duration": 5,
    "start_time": "2023-09-17T13:14:18.081Z"
   },
   {
    "duration": 5,
    "start_time": "2023-09-17T13:14:33.881Z"
   },
   {
    "duration": 4,
    "start_time": "2023-09-17T13:14:34.389Z"
   },
   {
    "duration": 69,
    "start_time": "2023-09-17T13:14:34.840Z"
   },
   {
    "duration": 5,
    "start_time": "2023-09-17T13:14:58.885Z"
   },
   {
    "duration": 4,
    "start_time": "2023-09-17T13:14:59.041Z"
   },
   {
    "duration": 5,
    "start_time": "2023-09-17T13:14:59.883Z"
   },
   {
    "duration": 71,
    "start_time": "2023-09-17T13:15:00.084Z"
   },
   {
    "duration": 1416,
    "start_time": "2023-09-17T13:15:05.449Z"
   },
   {
    "duration": 118,
    "start_time": "2023-09-17T13:15:06.867Z"
   },
   {
    "duration": 17,
    "start_time": "2023-09-17T13:15:06.987Z"
   },
   {
    "duration": 21,
    "start_time": "2023-09-17T13:15:07.006Z"
   },
   {
    "duration": 9,
    "start_time": "2023-09-17T13:15:07.029Z"
   },
   {
    "duration": 44,
    "start_time": "2023-09-17T13:15:07.039Z"
   },
   {
    "duration": 22,
    "start_time": "2023-09-17T13:15:07.084Z"
   },
   {
    "duration": 17,
    "start_time": "2023-09-17T13:15:07.107Z"
   },
   {
    "duration": 92,
    "start_time": "2023-09-17T13:15:07.126Z"
   },
   {
    "duration": 12,
    "start_time": "2023-09-17T13:15:07.221Z"
   },
   {
    "duration": 22,
    "start_time": "2023-09-17T13:15:07.234Z"
   },
   {
    "duration": 6,
    "start_time": "2023-09-17T13:15:07.258Z"
   },
   {
    "duration": 106,
    "start_time": "2023-09-17T13:15:07.265Z"
   },
   {
    "duration": 18148,
    "start_time": "2023-09-17T13:15:07.373Z"
   },
   {
    "duration": 9,
    "start_time": "2023-09-17T13:15:25.522Z"
   },
   {
    "duration": 115,
    "start_time": "2023-09-17T13:15:25.532Z"
   },
   {
    "duration": 0,
    "start_time": "2023-09-17T13:15:25.649Z"
   },
   {
    "duration": 0,
    "start_time": "2023-09-17T13:15:25.650Z"
   },
   {
    "duration": 0,
    "start_time": "2023-09-17T13:15:25.652Z"
   },
   {
    "duration": 0,
    "start_time": "2023-09-17T13:15:25.653Z"
   },
   {
    "duration": 0,
    "start_time": "2023-09-17T13:15:25.654Z"
   },
   {
    "duration": 0,
    "start_time": "2023-09-17T13:15:25.655Z"
   },
   {
    "duration": 1,
    "start_time": "2023-09-17T13:15:25.656Z"
   },
   {
    "duration": 0,
    "start_time": "2023-09-17T13:15:25.657Z"
   },
   {
    "duration": 0,
    "start_time": "2023-09-17T13:15:25.658Z"
   },
   {
    "duration": 0,
    "start_time": "2023-09-17T13:15:25.659Z"
   },
   {
    "duration": 0,
    "start_time": "2023-09-17T13:15:25.660Z"
   },
   {
    "duration": 0,
    "start_time": "2023-09-17T13:15:25.661Z"
   },
   {
    "duration": 0,
    "start_time": "2023-09-17T13:15:25.662Z"
   },
   {
    "duration": 0,
    "start_time": "2023-09-17T13:15:25.664Z"
   },
   {
    "duration": 0,
    "start_time": "2023-09-17T13:15:25.665Z"
   },
   {
    "duration": 0,
    "start_time": "2023-09-17T13:15:25.667Z"
   },
   {
    "duration": 5,
    "start_time": "2023-09-17T13:15:42.695Z"
   },
   {
    "duration": 5,
    "start_time": "2023-09-17T13:15:42.940Z"
   },
   {
    "duration": 76,
    "start_time": "2023-09-17T13:15:43.221Z"
   },
   {
    "duration": 80,
    "start_time": "2023-09-17T13:16:15.765Z"
   },
   {
    "duration": 4,
    "start_time": "2023-09-17T13:16:24.498Z"
   },
   {
    "duration": 1382,
    "start_time": "2023-09-17T13:17:07.060Z"
   },
   {
    "duration": 127,
    "start_time": "2023-09-17T13:17:08.444Z"
   },
   {
    "duration": 17,
    "start_time": "2023-09-17T13:17:08.572Z"
   },
   {
    "duration": 12,
    "start_time": "2023-09-17T13:17:08.591Z"
   },
   {
    "duration": 27,
    "start_time": "2023-09-17T13:17:08.605Z"
   },
   {
    "duration": 24,
    "start_time": "2023-09-17T13:17:08.634Z"
   },
   {
    "duration": 24,
    "start_time": "2023-09-17T13:17:08.659Z"
   },
   {
    "duration": 37,
    "start_time": "2023-09-17T13:17:08.685Z"
   },
   {
    "duration": 7,
    "start_time": "2023-09-17T13:17:08.724Z"
   },
   {
    "duration": 9,
    "start_time": "2023-09-17T13:17:08.734Z"
   },
   {
    "duration": 25,
    "start_time": "2023-09-17T13:17:08.745Z"
   },
   {
    "duration": 22,
    "start_time": "2023-09-17T13:17:08.771Z"
   },
   {
    "duration": 13,
    "start_time": "2023-09-17T13:17:08.794Z"
   },
   {
    "duration": 90,
    "start_time": "2023-09-17T13:17:08.809Z"
   },
   {
    "duration": 19324,
    "start_time": "2023-09-17T13:17:08.900Z"
   },
   {
    "duration": 28,
    "start_time": "2023-09-17T13:17:28.226Z"
   },
   {
    "duration": 27,
    "start_time": "2023-09-17T13:17:28.259Z"
   },
   {
    "duration": 5,
    "start_time": "2023-09-17T13:17:28.288Z"
   },
   {
    "duration": 19,
    "start_time": "2023-09-17T13:17:28.295Z"
   },
   {
    "duration": 8975,
    "start_time": "2023-09-17T13:17:28.315Z"
   },
   {
    "duration": 168,
    "start_time": "2023-09-17T13:17:37.291Z"
   },
   {
    "duration": 6,
    "start_time": "2023-09-17T13:17:37.461Z"
   },
   {
    "duration": 75,
    "start_time": "2023-09-17T13:17:37.469Z"
   },
   {
    "duration": 374,
    "start_time": "2023-09-17T13:17:37.546Z"
   },
   {
    "duration": 175,
    "start_time": "2023-09-17T13:17:37.922Z"
   },
   {
    "duration": 36,
    "start_time": "2023-09-17T13:17:38.098Z"
   },
   {
    "duration": 175,
    "start_time": "2023-09-17T13:17:38.136Z"
   },
   {
    "duration": 5,
    "start_time": "2023-09-17T13:17:38.314Z"
   },
   {
    "duration": 780,
    "start_time": "2023-09-17T13:17:38.320Z"
   },
   {
    "duration": 41,
    "start_time": "2023-09-17T13:17:39.102Z"
   },
   {
    "duration": 10,
    "start_time": "2023-09-17T13:17:51.307Z"
   },
   {
    "duration": 4,
    "start_time": "2023-09-17T13:18:22.094Z"
   },
   {
    "duration": 4,
    "start_time": "2023-09-17T13:18:28.124Z"
   },
   {
    "duration": 1270,
    "start_time": "2023-09-17T13:18:38.200Z"
   },
   {
    "duration": 113,
    "start_time": "2023-09-17T13:18:39.472Z"
   },
   {
    "duration": 15,
    "start_time": "2023-09-17T13:18:39.586Z"
   },
   {
    "duration": 27,
    "start_time": "2023-09-17T13:18:39.602Z"
   },
   {
    "duration": 6,
    "start_time": "2023-09-17T13:18:39.630Z"
   },
   {
    "duration": 37,
    "start_time": "2023-09-17T13:18:39.637Z"
   },
   {
    "duration": 8,
    "start_time": "2023-09-17T13:18:39.676Z"
   },
   {
    "duration": 7,
    "start_time": "2023-09-17T13:18:39.686Z"
   },
   {
    "duration": 10,
    "start_time": "2023-09-17T13:18:39.695Z"
   },
   {
    "duration": 16,
    "start_time": "2023-09-17T13:18:39.708Z"
   },
   {
    "duration": 11,
    "start_time": "2023-09-17T13:18:39.726Z"
   },
   {
    "duration": 17,
    "start_time": "2023-09-17T13:18:39.738Z"
   },
   {
    "duration": 15,
    "start_time": "2023-09-17T13:18:39.757Z"
   },
   {
    "duration": 23,
    "start_time": "2023-09-17T13:18:39.773Z"
   },
   {
    "duration": 95,
    "start_time": "2023-09-17T13:18:39.797Z"
   },
   {
    "duration": 19066,
    "start_time": "2023-09-17T13:18:39.894Z"
   },
   {
    "duration": 11,
    "start_time": "2023-09-17T13:18:58.963Z"
   },
   {
    "duration": 26,
    "start_time": "2023-09-17T13:18:58.976Z"
   },
   {
    "duration": 3,
    "start_time": "2023-09-17T13:18:59.004Z"
   },
   {
    "duration": 10,
    "start_time": "2023-09-17T13:18:59.008Z"
   },
   {
    "duration": 9132,
    "start_time": "2023-09-17T13:18:59.020Z"
   },
   {
    "duration": 175,
    "start_time": "2023-09-17T13:19:08.154Z"
   },
   {
    "duration": 4,
    "start_time": "2023-09-17T13:19:08.331Z"
   },
   {
    "duration": 58,
    "start_time": "2023-09-17T13:19:08.336Z"
   },
   {
    "duration": 345,
    "start_time": "2023-09-17T13:19:08.396Z"
   },
   {
    "duration": 174,
    "start_time": "2023-09-17T13:19:08.743Z"
   },
   {
    "duration": 53,
    "start_time": "2023-09-17T13:19:08.918Z"
   },
   {
    "duration": 182,
    "start_time": "2023-09-17T13:19:08.974Z"
   },
   {
    "duration": 7,
    "start_time": "2023-09-17T13:19:09.161Z"
   },
   {
    "duration": 751,
    "start_time": "2023-09-17T13:19:09.170Z"
   },
   {
    "duration": 48,
    "start_time": "2023-09-17T13:19:09.922Z"
   },
   {
    "duration": 1371,
    "start_time": "2023-09-17T13:20:00.697Z"
   },
   {
    "duration": 119,
    "start_time": "2023-09-17T13:20:02.071Z"
   },
   {
    "duration": 16,
    "start_time": "2023-09-17T13:20:02.191Z"
   },
   {
    "duration": 62,
    "start_time": "2023-09-17T13:20:02.208Z"
   },
   {
    "duration": 18,
    "start_time": "2023-09-17T13:20:02.271Z"
   },
   {
    "duration": 29,
    "start_time": "2023-09-17T13:20:02.291Z"
   },
   {
    "duration": 22,
    "start_time": "2023-09-17T13:20:02.322Z"
   },
   {
    "duration": 18,
    "start_time": "2023-09-17T13:20:02.346Z"
   },
   {
    "duration": 16,
    "start_time": "2023-09-17T13:20:02.366Z"
   },
   {
    "duration": 37,
    "start_time": "2023-09-17T13:20:02.385Z"
   },
   {
    "duration": 33,
    "start_time": "2023-09-17T13:20:02.424Z"
   },
   {
    "duration": 38,
    "start_time": "2023-09-17T13:20:02.459Z"
   },
   {
    "duration": 38,
    "start_time": "2023-09-17T13:20:02.499Z"
   },
   {
    "duration": 41,
    "start_time": "2023-09-17T13:20:02.539Z"
   },
   {
    "duration": 104,
    "start_time": "2023-09-17T13:20:02.582Z"
   },
   {
    "duration": 19442,
    "start_time": "2023-09-17T13:20:02.687Z"
   },
   {
    "duration": 20,
    "start_time": "2023-09-17T13:20:22.131Z"
   },
   {
    "duration": 32,
    "start_time": "2023-09-17T13:20:22.153Z"
   },
   {
    "duration": 4,
    "start_time": "2023-09-17T13:20:22.186Z"
   },
   {
    "duration": 21,
    "start_time": "2023-09-17T13:20:22.191Z"
   },
   {
    "duration": 9092,
    "start_time": "2023-09-17T13:20:22.213Z"
   },
   {
    "duration": 186,
    "start_time": "2023-09-17T13:20:31.306Z"
   },
   {
    "duration": 4,
    "start_time": "2023-09-17T13:20:31.493Z"
   },
   {
    "duration": 76,
    "start_time": "2023-09-17T13:20:31.498Z"
   },
   {
    "duration": 360,
    "start_time": "2023-09-17T13:20:31.575Z"
   },
   {
    "duration": 178,
    "start_time": "2023-09-17T13:20:31.936Z"
   },
   {
    "duration": 50,
    "start_time": "2023-09-17T13:20:32.115Z"
   },
   {
    "duration": 170,
    "start_time": "2023-09-17T13:20:32.168Z"
   },
   {
    "duration": 12,
    "start_time": "2023-09-17T13:20:32.341Z"
   },
   {
    "duration": 765,
    "start_time": "2023-09-17T13:20:32.355Z"
   },
   {
    "duration": 47,
    "start_time": "2023-09-17T13:20:33.121Z"
   },
   {
    "duration": 1306,
    "start_time": "2023-09-17T13:21:08.361Z"
   },
   {
    "duration": 102,
    "start_time": "2023-09-17T13:21:09.668Z"
   },
   {
    "duration": 15,
    "start_time": "2023-09-17T13:21:09.771Z"
   },
   {
    "duration": 20,
    "start_time": "2023-09-17T13:21:09.788Z"
   },
   {
    "duration": 17,
    "start_time": "2023-09-17T13:21:09.810Z"
   },
   {
    "duration": 50,
    "start_time": "2023-09-17T13:21:09.828Z"
   },
   {
    "duration": 24,
    "start_time": "2023-09-17T13:21:09.880Z"
   },
   {
    "duration": 17,
    "start_time": "2023-09-17T13:21:09.905Z"
   },
   {
    "duration": 23,
    "start_time": "2023-09-17T13:21:09.923Z"
   },
   {
    "duration": 30,
    "start_time": "2023-09-17T13:21:09.949Z"
   },
   {
    "duration": 27,
    "start_time": "2023-09-17T13:21:09.980Z"
   },
   {
    "duration": 70,
    "start_time": "2023-09-17T13:21:10.009Z"
   },
   {
    "duration": 32,
    "start_time": "2023-09-17T13:21:10.080Z"
   },
   {
    "duration": 32,
    "start_time": "2023-09-17T13:21:10.113Z"
   },
   {
    "duration": 117,
    "start_time": "2023-09-17T13:21:10.146Z"
   },
   {
    "duration": 19230,
    "start_time": "2023-09-17T13:21:10.265Z"
   },
   {
    "duration": 9,
    "start_time": "2023-09-17T13:21:29.497Z"
   },
   {
    "duration": 122,
    "start_time": "2023-09-17T13:21:29.507Z"
   },
   {
    "duration": 0,
    "start_time": "2023-09-17T13:21:29.631Z"
   },
   {
    "duration": 0,
    "start_time": "2023-09-17T13:21:29.632Z"
   },
   {
    "duration": 0,
    "start_time": "2023-09-17T13:21:29.634Z"
   },
   {
    "duration": 0,
    "start_time": "2023-09-17T13:21:29.635Z"
   },
   {
    "duration": 0,
    "start_time": "2023-09-17T13:21:29.655Z"
   },
   {
    "duration": 0,
    "start_time": "2023-09-17T13:21:29.661Z"
   },
   {
    "duration": 0,
    "start_time": "2023-09-17T13:21:29.663Z"
   },
   {
    "duration": 0,
    "start_time": "2023-09-17T13:21:29.665Z"
   },
   {
    "duration": 0,
    "start_time": "2023-09-17T13:21:29.666Z"
   },
   {
    "duration": 0,
    "start_time": "2023-09-17T13:21:29.668Z"
   },
   {
    "duration": 0,
    "start_time": "2023-09-17T13:21:29.668Z"
   },
   {
    "duration": 0,
    "start_time": "2023-09-17T13:21:29.669Z"
   },
   {
    "duration": 0,
    "start_time": "2023-09-17T13:21:29.670Z"
   },
   {
    "duration": 1430,
    "start_time": "2023-09-17T13:21:35.855Z"
   },
   {
    "duration": 127,
    "start_time": "2023-09-17T13:21:37.287Z"
   },
   {
    "duration": 15,
    "start_time": "2023-09-17T13:21:37.416Z"
   },
   {
    "duration": 22,
    "start_time": "2023-09-17T13:21:37.432Z"
   },
   {
    "duration": 6,
    "start_time": "2023-09-17T13:21:37.456Z"
   },
   {
    "duration": 27,
    "start_time": "2023-09-17T13:21:37.464Z"
   },
   {
    "duration": 22,
    "start_time": "2023-09-17T13:21:37.492Z"
   },
   {
    "duration": 7,
    "start_time": "2023-09-17T13:21:37.516Z"
   },
   {
    "duration": 8,
    "start_time": "2023-09-17T13:21:37.524Z"
   },
   {
    "duration": 13,
    "start_time": "2023-09-17T13:21:37.534Z"
   },
   {
    "duration": 20,
    "start_time": "2023-09-17T13:21:37.548Z"
   },
   {
    "duration": 19,
    "start_time": "2023-09-17T13:21:37.570Z"
   },
   {
    "duration": 11,
    "start_time": "2023-09-17T13:21:37.590Z"
   },
   {
    "duration": 12,
    "start_time": "2023-09-17T13:21:37.602Z"
   },
   {
    "duration": 115,
    "start_time": "2023-09-17T13:21:37.615Z"
   },
   {
    "duration": 19492,
    "start_time": "2023-09-17T13:21:37.731Z"
   },
   {
    "duration": 10,
    "start_time": "2023-09-17T13:21:57.225Z"
   },
   {
    "duration": 31,
    "start_time": "2023-09-17T13:21:57.249Z"
   },
   {
    "duration": 4,
    "start_time": "2023-09-17T13:21:57.281Z"
   },
   {
    "duration": 21,
    "start_time": "2023-09-17T13:21:57.287Z"
   },
   {
    "duration": 9296,
    "start_time": "2023-09-17T13:21:57.309Z"
   },
   {
    "duration": 190,
    "start_time": "2023-09-17T13:22:06.606Z"
   },
   {
    "duration": 5,
    "start_time": "2023-09-17T13:22:06.797Z"
   },
   {
    "duration": 45,
    "start_time": "2023-09-17T13:22:06.803Z"
   },
   {
    "duration": 352,
    "start_time": "2023-09-17T13:22:06.855Z"
   },
   {
    "duration": 180,
    "start_time": "2023-09-17T13:22:07.209Z"
   },
   {
    "duration": 34,
    "start_time": "2023-09-17T13:22:07.391Z"
   },
   {
    "duration": 181,
    "start_time": "2023-09-17T13:22:07.429Z"
   },
   {
    "duration": 6,
    "start_time": "2023-09-17T13:22:07.611Z"
   },
   {
    "duration": 853,
    "start_time": "2023-09-17T13:22:07.619Z"
   },
   {
    "duration": 49,
    "start_time": "2023-09-17T13:22:08.474Z"
   },
   {
    "duration": 1520,
    "start_time": "2023-09-18T12:55:00.364Z"
   },
   {
    "duration": 195,
    "start_time": "2023-09-18T12:55:01.887Z"
   },
   {
    "duration": 17,
    "start_time": "2023-09-18T12:55:02.083Z"
   },
   {
    "duration": 65,
    "start_time": "2023-09-18T12:55:02.101Z"
   },
   {
    "duration": 52,
    "start_time": "2023-09-18T12:55:02.168Z"
   },
   {
    "duration": 42,
    "start_time": "2023-09-18T12:55:02.222Z"
   },
   {
    "duration": 5,
    "start_time": "2023-09-18T12:55:02.266Z"
   },
   {
    "duration": 19,
    "start_time": "2023-09-18T12:55:02.272Z"
   },
   {
    "duration": 8,
    "start_time": "2023-09-18T12:55:02.293Z"
   },
   {
    "duration": 17,
    "start_time": "2023-09-18T12:55:02.302Z"
   },
   {
    "duration": 14,
    "start_time": "2023-09-18T12:55:02.321Z"
   },
   {
    "duration": 28,
    "start_time": "2023-09-18T12:55:02.336Z"
   },
   {
    "duration": 126,
    "start_time": "2023-09-18T12:55:02.366Z"
   },
   {
    "duration": 18842,
    "start_time": "2023-09-18T12:55:02.494Z"
   },
   {
    "duration": 25,
    "start_time": "2023-09-18T12:55:21.337Z"
   },
   {
    "duration": 54,
    "start_time": "2023-09-18T12:55:21.363Z"
   },
   {
    "duration": 4,
    "start_time": "2023-09-18T12:55:21.419Z"
   },
   {
    "duration": 16,
    "start_time": "2023-09-18T12:55:21.424Z"
   },
   {
    "duration": 8993,
    "start_time": "2023-09-18T12:55:21.442Z"
   },
   {
    "duration": 163,
    "start_time": "2023-09-18T12:55:30.448Z"
   },
   {
    "duration": 4,
    "start_time": "2023-09-18T12:55:30.612Z"
   },
   {
    "duration": 81,
    "start_time": "2023-09-18T12:55:30.617Z"
   },
   {
    "duration": 359,
    "start_time": "2023-09-18T12:55:30.700Z"
   },
   {
    "duration": 166,
    "start_time": "2023-09-18T12:55:31.060Z"
   },
   {
    "duration": 46,
    "start_time": "2023-09-18T12:55:31.228Z"
   },
   {
    "duration": 177,
    "start_time": "2023-09-18T12:55:31.275Z"
   },
   {
    "duration": 5,
    "start_time": "2023-09-18T12:55:31.457Z"
   },
   {
    "duration": 763,
    "start_time": "2023-09-18T12:55:31.464Z"
   },
   {
    "duration": 48,
    "start_time": "2023-09-18T12:55:32.228Z"
   },
   {
    "duration": 1403,
    "start_time": "2023-09-18T16:02:52.302Z"
   },
   {
    "duration": 250,
    "start_time": "2023-09-18T16:02:53.707Z"
   },
   {
    "duration": 87,
    "start_time": "2023-09-18T16:02:53.959Z"
   },
   {
    "duration": 347,
    "start_time": "2023-09-18T16:02:54.048Z"
   },
   {
    "duration": 23,
    "start_time": "2023-09-18T16:02:54.397Z"
   },
   {
    "duration": 35,
    "start_time": "2023-09-18T16:02:54.422Z"
   },
   {
    "duration": 29,
    "start_time": "2023-09-18T16:02:54.459Z"
   },
   {
    "duration": 21,
    "start_time": "2023-09-18T16:02:54.490Z"
   },
   {
    "duration": 25,
    "start_time": "2023-09-18T16:02:54.512Z"
   },
   {
    "duration": 25,
    "start_time": "2023-09-18T16:02:54.540Z"
   },
   {
    "duration": 39,
    "start_time": "2023-09-18T16:02:54.566Z"
   },
   {
    "duration": 40,
    "start_time": "2023-09-18T16:02:54.606Z"
   },
   {
    "duration": 161,
    "start_time": "2023-09-18T16:02:54.648Z"
   },
   {
    "duration": 20180,
    "start_time": "2023-09-18T16:02:54.811Z"
   },
   {
    "duration": 13,
    "start_time": "2023-09-18T16:03:14.994Z"
   },
   {
    "duration": 78,
    "start_time": "2023-09-18T16:03:15.010Z"
   },
   {
    "duration": 36,
    "start_time": "2023-09-18T16:03:15.089Z"
   },
   {
    "duration": 21,
    "start_time": "2023-09-18T16:03:15.127Z"
   },
   {
    "duration": 10123,
    "start_time": "2023-09-18T16:03:15.150Z"
   },
   {
    "duration": 198,
    "start_time": "2023-09-18T16:03:25.275Z"
   },
   {
    "duration": 6,
    "start_time": "2023-09-18T16:03:25.481Z"
   },
   {
    "duration": 11,
    "start_time": "2023-09-18T16:03:25.489Z"
   },
   {
    "duration": 396,
    "start_time": "2023-09-18T16:03:25.502Z"
   },
   {
    "duration": 198,
    "start_time": "2023-09-18T16:03:25.900Z"
   },
   {
    "duration": 57,
    "start_time": "2023-09-18T16:03:26.100Z"
   },
   {
    "duration": 261,
    "start_time": "2023-09-18T16:03:26.158Z"
   },
   {
    "duration": 5,
    "start_time": "2023-09-18T16:03:26.421Z"
   },
   {
    "duration": 860,
    "start_time": "2023-09-18T16:03:26.428Z"
   },
   {
    "duration": 55,
    "start_time": "2023-09-18T16:03:27.290Z"
   },
   {
    "duration": 8160,
    "start_time": "2023-09-18T16:04:06.100Z"
   },
   {
    "duration": 2864,
    "start_time": "2023-09-18T16:04:45.658Z"
   },
   {
    "duration": 3682,
    "start_time": "2023-09-18T16:13:57.884Z"
   },
   {
    "duration": 139,
    "start_time": "2023-09-18T16:14:01.568Z"
   },
   {
    "duration": 19,
    "start_time": "2023-09-18T16:14:01.708Z"
   },
   {
    "duration": 24,
    "start_time": "2023-09-18T16:14:01.728Z"
   },
   {
    "duration": 10,
    "start_time": "2023-09-18T16:14:01.755Z"
   },
   {
    "duration": 95,
    "start_time": "2023-09-18T16:14:01.767Z"
   },
   {
    "duration": 26,
    "start_time": "2023-09-18T16:14:01.864Z"
   },
   {
    "duration": 29,
    "start_time": "2023-09-18T16:14:01.892Z"
   },
   {
    "duration": 17,
    "start_time": "2023-09-18T16:14:01.923Z"
   },
   {
    "duration": 29,
    "start_time": "2023-09-18T16:14:01.942Z"
   },
   {
    "duration": 13,
    "start_time": "2023-09-18T16:14:01.973Z"
   },
   {
    "duration": 34,
    "start_time": "2023-09-18T16:14:01.988Z"
   },
   {
    "duration": 117,
    "start_time": "2023-09-18T16:14:02.024Z"
   },
   {
    "duration": 11093,
    "start_time": "2023-09-18T16:14:02.148Z"
   },
   {
    "duration": 20,
    "start_time": "2023-09-18T16:14:13.242Z"
   },
   {
    "duration": 31,
    "start_time": "2023-09-18T16:14:13.263Z"
   },
   {
    "duration": 4,
    "start_time": "2023-09-18T16:14:13.296Z"
   },
   {
    "duration": 19,
    "start_time": "2023-09-18T16:14:13.302Z"
   },
   {
    "duration": 10187,
    "start_time": "2023-09-18T16:14:13.323Z"
   },
   {
    "duration": 197,
    "start_time": "2023-09-18T16:14:23.512Z"
   },
   {
    "duration": 4,
    "start_time": "2023-09-18T16:14:23.711Z"
   },
   {
    "duration": 16,
    "start_time": "2023-09-18T16:14:23.716Z"
   },
   {
    "duration": 408,
    "start_time": "2023-09-18T16:14:23.734Z"
   },
   {
    "duration": 234,
    "start_time": "2023-09-18T16:14:24.149Z"
   },
   {
    "duration": 42,
    "start_time": "2023-09-18T16:14:24.385Z"
   },
   {
    "duration": 198,
    "start_time": "2023-09-18T16:14:24.429Z"
   },
   {
    "duration": 15,
    "start_time": "2023-09-18T16:14:24.629Z"
   },
   {
    "duration": 1114,
    "start_time": "2023-09-18T16:14:24.658Z"
   },
   {
    "duration": 70,
    "start_time": "2023-09-18T16:14:25.775Z"
   },
   {
    "duration": 22865,
    "start_time": "2023-09-18T16:14:25.855Z"
   },
   {
    "duration": 22,
    "start_time": "2023-09-18T16:15:47.383Z"
   },
   {
    "duration": 3568,
    "start_time": "2023-09-18T16:17:56.661Z"
   },
   {
    "duration": 157,
    "start_time": "2023-09-18T16:18:00.231Z"
   },
   {
    "duration": 18,
    "start_time": "2023-09-18T16:18:00.390Z"
   },
   {
    "duration": 58,
    "start_time": "2023-09-18T16:18:00.410Z"
   },
   {
    "duration": 56,
    "start_time": "2023-09-18T16:18:00.470Z"
   },
   {
    "duration": 54,
    "start_time": "2023-09-18T16:18:00.528Z"
   },
   {
    "duration": 123,
    "start_time": "2023-09-18T16:18:00.584Z"
   },
   {
    "duration": 71,
    "start_time": "2023-09-18T16:18:00.709Z"
   },
   {
    "duration": 81,
    "start_time": "2023-09-18T16:18:00.782Z"
   },
   {
    "duration": 71,
    "start_time": "2023-09-18T16:18:00.864Z"
   },
   {
    "duration": 38,
    "start_time": "2023-09-18T16:18:00.937Z"
   },
   {
    "duration": 47,
    "start_time": "2023-09-18T16:18:00.977Z"
   },
   {
    "duration": 140,
    "start_time": "2023-09-18T16:18:01.026Z"
   },
   {
    "duration": 21548,
    "start_time": "2023-09-18T16:18:01.169Z"
   },
   {
    "duration": 12,
    "start_time": "2023-09-18T16:18:22.718Z"
   },
   {
    "duration": 48,
    "start_time": "2023-09-18T16:18:22.731Z"
   },
   {
    "duration": 3,
    "start_time": "2023-09-18T16:18:22.781Z"
   },
   {
    "duration": 16,
    "start_time": "2023-09-18T16:18:22.786Z"
   },
   {
    "duration": 10094,
    "start_time": "2023-09-18T16:18:22.804Z"
   },
   {
    "duration": 203,
    "start_time": "2023-09-18T16:18:32.900Z"
   },
   {
    "duration": 4,
    "start_time": "2023-09-18T16:18:33.105Z"
   },
   {
    "duration": 17,
    "start_time": "2023-09-18T16:18:33.110Z"
   },
   {
    "duration": 407,
    "start_time": "2023-09-18T16:18:33.129Z"
   },
   {
    "duration": 197,
    "start_time": "2023-09-18T16:18:33.538Z"
   },
   {
    "duration": 42,
    "start_time": "2023-09-18T16:18:33.737Z"
   },
   {
    "duration": 192,
    "start_time": "2023-09-18T16:18:33.781Z"
   },
   {
    "duration": 5,
    "start_time": "2023-09-18T16:18:33.974Z"
   },
   {
    "duration": 907,
    "start_time": "2023-09-18T16:18:33.980Z"
   },
   {
    "duration": 40,
    "start_time": "2023-09-18T16:18:34.888Z"
   },
   {
    "duration": 460,
    "start_time": "2023-09-18T16:21:28.600Z"
   },
   {
    "duration": 20,
    "start_time": "2023-09-18T16:22:44.455Z"
   },
   {
    "duration": 24,
    "start_time": "2023-09-18T16:24:19.369Z"
   },
   {
    "duration": 22,
    "start_time": "2023-09-18T16:24:21.109Z"
   },
   {
    "duration": 146,
    "start_time": "2023-09-18T16:24:23.608Z"
   },
   {
    "duration": 22,
    "start_time": "2023-09-18T16:24:25.301Z"
   },
   {
    "duration": 23,
    "start_time": "2023-09-18T16:24:53.657Z"
   },
   {
    "duration": 26,
    "start_time": "2023-09-18T16:25:14.844Z"
   },
   {
    "duration": 21827,
    "start_time": "2023-09-18T16:25:38.607Z"
   },
   {
    "duration": 73674,
    "start_time": "2023-09-18T16:28:02.095Z"
   },
   {
    "duration": 4981,
    "start_time": "2023-09-18T16:30:08.555Z"
   },
   {
    "duration": 3218,
    "start_time": "2023-09-18T16:30:28.495Z"
   },
   {
    "duration": 118,
    "start_time": "2023-09-18T16:30:31.715Z"
   },
   {
    "duration": 20,
    "start_time": "2023-09-18T16:30:31.835Z"
   },
   {
    "duration": 29,
    "start_time": "2023-09-18T16:30:31.857Z"
   },
   {
    "duration": 20,
    "start_time": "2023-09-18T16:30:31.887Z"
   },
   {
    "duration": 63,
    "start_time": "2023-09-18T16:30:31.908Z"
   },
   {
    "duration": 23,
    "start_time": "2023-09-18T16:30:31.972Z"
   },
   {
    "duration": 33,
    "start_time": "2023-09-18T16:30:31.997Z"
   },
   {
    "duration": 28,
    "start_time": "2023-09-18T16:30:32.032Z"
   },
   {
    "duration": 39,
    "start_time": "2023-09-18T16:30:32.063Z"
   },
   {
    "duration": 44,
    "start_time": "2023-09-18T16:30:32.103Z"
   },
   {
    "duration": 23,
    "start_time": "2023-09-18T16:30:32.157Z"
   },
   {
    "duration": 110,
    "start_time": "2023-09-18T16:30:32.182Z"
   },
   {
    "duration": 155,
    "start_time": "2023-09-18T16:30:32.294Z"
   },
   {
    "duration": 5013,
    "start_time": "2023-09-18T16:30:32.455Z"
   },
   {
    "duration": 10,
    "start_time": "2023-09-18T16:30:37.470Z"
   },
   {
    "duration": 43,
    "start_time": "2023-09-18T16:30:37.481Z"
   },
   {
    "duration": 4,
    "start_time": "2023-09-18T16:30:37.525Z"
   },
   {
    "duration": 27,
    "start_time": "2023-09-18T16:30:37.530Z"
   },
   {
    "duration": 8960,
    "start_time": "2023-09-18T16:30:37.559Z"
   },
   {
    "duration": 184,
    "start_time": "2023-09-18T16:30:46.520Z"
   },
   {
    "duration": 4,
    "start_time": "2023-09-18T16:30:46.706Z"
   },
   {
    "duration": 13,
    "start_time": "2023-09-18T16:30:46.711Z"
   },
   {
    "duration": 361,
    "start_time": "2023-09-18T16:30:46.726Z"
   },
   {
    "duration": 178,
    "start_time": "2023-09-18T16:30:47.091Z"
   },
   {
    "duration": 36,
    "start_time": "2023-09-18T16:30:47.271Z"
   },
   {
    "duration": 175,
    "start_time": "2023-09-18T16:30:47.309Z"
   },
   {
    "duration": 5,
    "start_time": "2023-09-18T16:30:47.486Z"
   },
   {
    "duration": 765,
    "start_time": "2023-09-18T16:30:47.493Z"
   },
   {
    "duration": 38,
    "start_time": "2023-09-18T16:30:48.260Z"
   },
   {
    "duration": 3231,
    "start_time": "2023-09-18T16:31:50.461Z"
   },
   {
    "duration": 147,
    "start_time": "2023-09-18T16:31:53.694Z"
   },
   {
    "duration": 19,
    "start_time": "2023-09-18T16:31:53.842Z"
   },
   {
    "duration": 11,
    "start_time": "2023-09-18T16:31:53.862Z"
   },
   {
    "duration": 4,
    "start_time": "2023-09-18T16:31:53.875Z"
   },
   {
    "duration": 18,
    "start_time": "2023-09-18T16:31:53.880Z"
   },
   {
    "duration": 10,
    "start_time": "2023-09-18T16:31:53.899Z"
   },
   {
    "duration": 19,
    "start_time": "2023-09-18T16:31:53.911Z"
   },
   {
    "duration": 6,
    "start_time": "2023-09-18T16:31:53.931Z"
   },
   {
    "duration": 29,
    "start_time": "2023-09-18T16:31:53.939Z"
   },
   {
    "duration": 14,
    "start_time": "2023-09-18T16:31:53.969Z"
   },
   {
    "duration": 8,
    "start_time": "2023-09-18T16:31:53.985Z"
   },
   {
    "duration": 117,
    "start_time": "2023-09-18T16:31:53.995Z"
   },
   {
    "duration": 55,
    "start_time": "2023-09-18T16:31:54.116Z"
   },
   {
    "duration": 4383,
    "start_time": "2023-09-18T16:31:54.244Z"
   },
   {
    "duration": 12,
    "start_time": "2023-09-18T16:31:58.629Z"
   },
   {
    "duration": 45,
    "start_time": "2023-09-18T16:31:58.642Z"
   },
   {
    "duration": 4,
    "start_time": "2023-09-18T16:31:58.689Z"
   },
   {
    "duration": 11,
    "start_time": "2023-09-18T16:31:58.695Z"
   },
   {
    "duration": 9340,
    "start_time": "2023-09-18T16:31:58.709Z"
   },
   {
    "duration": 199,
    "start_time": "2023-09-18T16:32:08.053Z"
   },
   {
    "duration": 5,
    "start_time": "2023-09-18T16:32:08.253Z"
   },
   {
    "duration": 31,
    "start_time": "2023-09-18T16:32:08.260Z"
   },
   {
    "duration": 332,
    "start_time": "2023-09-18T16:32:08.293Z"
   },
   {
    "duration": 171,
    "start_time": "2023-09-18T16:32:08.627Z"
   },
   {
    "duration": 48,
    "start_time": "2023-09-18T16:32:08.800Z"
   },
   {
    "duration": 183,
    "start_time": "2023-09-18T16:32:08.849Z"
   },
   {
    "duration": 6,
    "start_time": "2023-09-18T16:32:09.033Z"
   },
   {
    "duration": 785,
    "start_time": "2023-09-18T16:32:09.046Z"
   },
   {
    "duration": 45,
    "start_time": "2023-09-18T16:32:09.833Z"
   },
   {
    "duration": 72,
    "start_time": "2023-09-18T16:32:09.883Z"
   },
   {
    "duration": 19,
    "start_time": "2023-09-18T16:32:17.918Z"
   },
   {
    "duration": 24,
    "start_time": "2023-09-18T16:32:19.538Z"
   },
   {
    "duration": 20,
    "start_time": "2023-09-18T16:32:23.011Z"
   },
   {
    "duration": 3313,
    "start_time": "2023-09-18T16:32:29.935Z"
   },
   {
    "duration": 144,
    "start_time": "2023-09-18T16:32:33.250Z"
   },
   {
    "duration": 14,
    "start_time": "2023-09-18T16:32:33.396Z"
   },
   {
    "duration": 15,
    "start_time": "2023-09-18T16:32:33.412Z"
   },
   {
    "duration": 4,
    "start_time": "2023-09-18T16:32:33.429Z"
   },
   {
    "duration": 54,
    "start_time": "2023-09-18T16:32:33.434Z"
   },
   {
    "duration": 15,
    "start_time": "2023-09-18T16:32:33.490Z"
   },
   {
    "duration": 19,
    "start_time": "2023-09-18T16:32:33.506Z"
   },
   {
    "duration": 37,
    "start_time": "2023-09-18T16:32:33.527Z"
   },
   {
    "duration": 27,
    "start_time": "2023-09-18T16:32:33.567Z"
   },
   {
    "duration": 25,
    "start_time": "2023-09-18T16:32:33.595Z"
   },
   {
    "duration": 23,
    "start_time": "2023-09-18T16:32:33.621Z"
   },
   {
    "duration": 111,
    "start_time": "2023-09-18T16:32:33.645Z"
   },
   {
    "duration": 89,
    "start_time": "2023-09-18T16:32:33.758Z"
   },
   {
    "duration": 5182,
    "start_time": "2023-09-18T16:32:33.849Z"
   },
   {
    "duration": 24,
    "start_time": "2023-09-18T16:32:39.032Z"
   },
   {
    "duration": 48,
    "start_time": "2023-09-18T16:32:39.058Z"
   },
   {
    "duration": 3,
    "start_time": "2023-09-18T16:32:39.108Z"
   },
   {
    "duration": 18,
    "start_time": "2023-09-18T16:32:39.112Z"
   },
   {
    "duration": 8974,
    "start_time": "2023-09-18T16:32:39.132Z"
   },
   {
    "duration": 175,
    "start_time": "2023-09-18T16:32:48.108Z"
   },
   {
    "duration": 4,
    "start_time": "2023-09-18T16:32:48.284Z"
   },
   {
    "duration": 39,
    "start_time": "2023-09-18T16:32:48.289Z"
   },
   {
    "duration": 334,
    "start_time": "2023-09-18T16:32:48.330Z"
   },
   {
    "duration": 169,
    "start_time": "2023-09-18T16:32:48.666Z"
   },
   {
    "duration": 46,
    "start_time": "2023-09-18T16:32:48.836Z"
   },
   {
    "duration": 170,
    "start_time": "2023-09-18T16:32:48.884Z"
   },
   {
    "duration": 5,
    "start_time": "2023-09-18T16:32:49.060Z"
   },
   {
    "duration": 758,
    "start_time": "2023-09-18T16:32:49.067Z"
   },
   {
    "duration": 41,
    "start_time": "2023-09-18T16:32:49.826Z"
   },
   {
    "duration": 3451,
    "start_time": "2023-09-18T16:41:02.999Z"
   },
   {
    "duration": 124,
    "start_time": "2023-09-18T16:41:06.457Z"
   },
   {
    "duration": 16,
    "start_time": "2023-09-18T16:41:06.582Z"
   },
   {
    "duration": 27,
    "start_time": "2023-09-18T16:41:06.601Z"
   },
   {
    "duration": 4,
    "start_time": "2023-09-18T16:41:06.629Z"
   },
   {
    "duration": 35,
    "start_time": "2023-09-18T16:41:06.635Z"
   },
   {
    "duration": 19,
    "start_time": "2023-09-18T16:41:06.671Z"
   },
   {
    "duration": 10,
    "start_time": "2023-09-18T16:41:06.692Z"
   },
   {
    "duration": 14,
    "start_time": "2023-09-18T16:41:06.704Z"
   },
   {
    "duration": 16,
    "start_time": "2023-09-18T16:41:06.721Z"
   },
   {
    "duration": 17,
    "start_time": "2023-09-18T16:41:06.739Z"
   },
   {
    "duration": 29,
    "start_time": "2023-09-18T16:41:06.758Z"
   },
   {
    "duration": 27,
    "start_time": "2023-09-18T16:41:06.789Z"
   },
   {
    "duration": 8,
    "start_time": "2023-09-18T16:41:06.817Z"
   },
   {
    "duration": 104,
    "start_time": "2023-09-18T16:41:06.827Z"
   },
   {
    "duration": 38,
    "start_time": "2023-09-18T16:41:06.933Z"
   },
   {
    "duration": 6206,
    "start_time": "2023-09-18T16:41:06.977Z"
   },
   {
    "duration": 4,
    "start_time": "2023-09-18T16:41:13.185Z"
   },
   {
    "duration": 25,
    "start_time": "2023-09-18T16:41:13.191Z"
   },
   {
    "duration": 9347,
    "start_time": "2023-09-18T16:41:13.217Z"
   },
   {
    "duration": 183,
    "start_time": "2023-09-18T16:41:22.565Z"
   },
   {
    "duration": 8,
    "start_time": "2023-09-18T16:41:22.752Z"
   },
   {
    "duration": 10,
    "start_time": "2023-09-18T16:41:22.762Z"
   },
   {
    "duration": 334,
    "start_time": "2023-09-18T16:41:22.773Z"
   },
   {
    "duration": 178,
    "start_time": "2023-09-18T16:41:23.109Z"
   },
   {
    "duration": 37,
    "start_time": "2023-09-18T16:41:23.288Z"
   },
   {
    "duration": 190,
    "start_time": "2023-09-18T16:41:23.326Z"
   },
   {
    "duration": 5,
    "start_time": "2023-09-18T16:41:23.519Z"
   },
   {
    "duration": 848,
    "start_time": "2023-09-18T16:41:23.526Z"
   },
   {
    "duration": 40,
    "start_time": "2023-09-18T16:41:24.377Z"
   },
   {
    "duration": 7981,
    "start_time": "2023-09-19T12:03:03.004Z"
   },
   {
    "duration": 237,
    "start_time": "2023-09-19T12:03:10.987Z"
   },
   {
    "duration": 15,
    "start_time": "2023-09-19T12:03:11.226Z"
   },
   {
    "duration": 62,
    "start_time": "2023-09-19T12:03:11.242Z"
   },
   {
    "duration": 6,
    "start_time": "2023-09-19T12:03:11.306Z"
   },
   {
    "duration": 26,
    "start_time": "2023-09-19T12:03:11.314Z"
   },
   {
    "duration": 27,
    "start_time": "2023-09-19T12:03:11.341Z"
   },
   {
    "duration": 19,
    "start_time": "2023-09-19T12:03:11.370Z"
   },
   {
    "duration": 18,
    "start_time": "2023-09-19T12:03:11.390Z"
   },
   {
    "duration": 24,
    "start_time": "2023-09-19T12:03:11.409Z"
   },
   {
    "duration": 17,
    "start_time": "2023-09-19T12:03:11.435Z"
   },
   {
    "duration": 28,
    "start_time": "2023-09-19T12:03:11.454Z"
   },
   {
    "duration": 38,
    "start_time": "2023-09-19T12:03:11.484Z"
   },
   {
    "duration": 6,
    "start_time": "2023-09-19T12:03:11.525Z"
   },
   {
    "duration": 99,
    "start_time": "2023-09-19T12:03:11.532Z"
   },
   {
    "duration": 30,
    "start_time": "2023-09-19T12:03:11.633Z"
   },
   {
    "duration": 5756,
    "start_time": "2023-09-19T12:03:11.665Z"
   },
   {
    "duration": 5,
    "start_time": "2023-09-19T12:03:17.423Z"
   },
   {
    "duration": 25,
    "start_time": "2023-09-19T12:03:17.429Z"
   },
   {
    "duration": 8672,
    "start_time": "2023-09-19T12:03:17.456Z"
   },
   {
    "duration": 178,
    "start_time": "2023-09-19T12:03:26.129Z"
   },
   {
    "duration": 4,
    "start_time": "2023-09-19T12:03:26.309Z"
   },
   {
    "duration": 29,
    "start_time": "2023-09-19T12:03:26.314Z"
   },
   {
    "duration": 343,
    "start_time": "2023-09-19T12:03:26.345Z"
   },
   {
    "duration": 164,
    "start_time": "2023-09-19T12:03:26.690Z"
   },
   {
    "duration": 35,
    "start_time": "2023-09-19T12:03:26.855Z"
   },
   {
    "duration": 164,
    "start_time": "2023-09-19T12:03:26.892Z"
   },
   {
    "duration": 4,
    "start_time": "2023-09-19T12:03:27.058Z"
   },
   {
    "duration": 716,
    "start_time": "2023-09-19T12:03:27.063Z"
   },
   {
    "duration": 33,
    "start_time": "2023-09-19T12:03:27.780Z"
   },
   {
    "duration": 9,
    "start_time": "2023-09-19T12:08:01.917Z"
   },
   {
    "duration": 25,
    "start_time": "2023-09-19T12:09:12.196Z"
   },
   {
    "duration": 3321,
    "start_time": "2023-09-19T12:09:17.385Z"
   },
   {
    "duration": 104,
    "start_time": "2023-09-19T12:09:20.708Z"
   },
   {
    "duration": 17,
    "start_time": "2023-09-19T12:09:20.813Z"
   },
   {
    "duration": 27,
    "start_time": "2023-09-19T12:09:20.832Z"
   },
   {
    "duration": 8,
    "start_time": "2023-09-19T12:09:20.862Z"
   },
   {
    "duration": 27,
    "start_time": "2023-09-19T12:09:20.871Z"
   },
   {
    "duration": 9,
    "start_time": "2023-09-19T12:09:20.900Z"
   },
   {
    "duration": 14,
    "start_time": "2023-09-19T12:09:20.910Z"
   },
   {
    "duration": 16,
    "start_time": "2023-09-19T12:09:20.926Z"
   },
   {
    "duration": 28,
    "start_time": "2023-09-19T12:09:20.944Z"
   },
   {
    "duration": 11,
    "start_time": "2023-09-19T12:09:20.973Z"
   },
   {
    "duration": 24,
    "start_time": "2023-09-19T12:09:20.985Z"
   },
   {
    "duration": 54,
    "start_time": "2023-09-19T12:09:21.010Z"
   },
   {
    "duration": 33,
    "start_time": "2023-09-19T12:09:21.067Z"
   },
   {
    "duration": 114,
    "start_time": "2023-09-19T12:09:21.102Z"
   },
   {
    "duration": 50,
    "start_time": "2023-09-19T12:09:21.218Z"
   },
   {
    "duration": 84,
    "start_time": "2023-09-19T12:09:21.270Z"
   },
   {
    "duration": 5243,
    "start_time": "2023-09-19T12:09:21.355Z"
   },
   {
    "duration": 25,
    "start_time": "2023-09-19T12:09:26.600Z"
   },
   {
    "duration": 7,
    "start_time": "2023-09-19T12:09:26.627Z"
   },
   {
    "duration": 28,
    "start_time": "2023-09-19T12:09:26.636Z"
   },
   {
    "duration": 8805,
    "start_time": "2023-09-19T12:09:26.665Z"
   },
   {
    "duration": 188,
    "start_time": "2023-09-19T12:09:35.471Z"
   },
   {
    "duration": 4,
    "start_time": "2023-09-19T12:09:35.661Z"
   },
   {
    "duration": 32,
    "start_time": "2023-09-19T12:09:35.667Z"
   },
   {
    "duration": 390,
    "start_time": "2023-09-19T12:09:35.700Z"
   },
   {
    "duration": 192,
    "start_time": "2023-09-19T12:09:36.093Z"
   },
   {
    "duration": 40,
    "start_time": "2023-09-19T12:09:36.286Z"
   },
   {
    "duration": 172,
    "start_time": "2023-09-19T12:09:36.328Z"
   },
   {
    "duration": 4,
    "start_time": "2023-09-19T12:09:36.501Z"
   },
   {
    "duration": 779,
    "start_time": "2023-09-19T12:09:36.507Z"
   },
   {
    "duration": 34,
    "start_time": "2023-09-19T12:09:37.288Z"
   },
   {
    "duration": 14,
    "start_time": "2023-09-19T12:13:14.200Z"
   },
   {
    "duration": 25,
    "start_time": "2023-09-19T12:13:19.173Z"
   },
   {
    "duration": 23,
    "start_time": "2023-09-19T12:17:23.223Z"
   },
   {
    "duration": 3343,
    "start_time": "2023-09-19T12:21:52.444Z"
   },
   {
    "duration": 142,
    "start_time": "2023-09-19T12:21:55.789Z"
   },
   {
    "duration": 23,
    "start_time": "2023-09-19T12:21:55.933Z"
   },
   {
    "duration": 19,
    "start_time": "2023-09-19T12:21:55.959Z"
   },
   {
    "duration": 6,
    "start_time": "2023-09-19T12:21:55.981Z"
   },
   {
    "duration": 19,
    "start_time": "2023-09-19T12:21:55.988Z"
   },
   {
    "duration": 46,
    "start_time": "2023-09-19T12:21:56.008Z"
   },
   {
    "duration": 8,
    "start_time": "2023-09-19T12:21:56.058Z"
   },
   {
    "duration": 8,
    "start_time": "2023-09-19T12:21:56.067Z"
   },
   {
    "duration": 14,
    "start_time": "2023-09-19T12:21:56.078Z"
   },
   {
    "duration": 13,
    "start_time": "2023-09-19T12:21:56.093Z"
   },
   {
    "duration": 14,
    "start_time": "2023-09-19T12:21:56.108Z"
   },
   {
    "duration": 47,
    "start_time": "2023-09-19T12:21:56.124Z"
   },
   {
    "duration": 8,
    "start_time": "2023-09-19T12:21:56.173Z"
   },
   {
    "duration": 106,
    "start_time": "2023-09-19T12:21:56.183Z"
   },
   {
    "duration": 68,
    "start_time": "2023-09-19T12:21:56.290Z"
   },
   {
    "duration": 106,
    "start_time": "2023-09-19T12:21:56.360Z"
   },
   {
    "duration": 5970,
    "start_time": "2023-09-19T12:21:56.555Z"
   },
   {
    "duration": 39,
    "start_time": "2023-09-19T12:22:02.527Z"
   },
   {
    "duration": 92,
    "start_time": "2023-09-19T12:22:02.568Z"
   },
   {
    "duration": 91,
    "start_time": "2023-09-19T12:22:02.662Z"
   },
   {
    "duration": 99,
    "start_time": "2023-09-19T12:22:02.756Z"
   },
   {
    "duration": 8787,
    "start_time": "2023-09-19T12:22:02.860Z"
   },
   {
    "duration": 177,
    "start_time": "2023-09-19T12:22:11.649Z"
   },
   {
    "duration": 3,
    "start_time": "2023-09-19T12:22:11.828Z"
   },
   {
    "duration": 35,
    "start_time": "2023-09-19T12:22:11.833Z"
   },
   {
    "duration": 334,
    "start_time": "2023-09-19T12:22:11.870Z"
   },
   {
    "duration": 184,
    "start_time": "2023-09-19T12:22:12.207Z"
   },
   {
    "duration": 37,
    "start_time": "2023-09-19T12:22:12.393Z"
   },
   {
    "duration": 180,
    "start_time": "2023-09-19T12:22:12.432Z"
   },
   {
    "duration": 5,
    "start_time": "2023-09-19T12:22:12.613Z"
   },
   {
    "duration": 751,
    "start_time": "2023-09-19T12:22:12.619Z"
   },
   {
    "duration": 35,
    "start_time": "2023-09-19T12:22:13.371Z"
   },
   {
    "duration": 70,
    "start_time": "2023-09-19T12:27:25.379Z"
   },
   {
    "duration": 25,
    "start_time": "2023-09-19T12:28:14.821Z"
   },
   {
    "duration": 3345,
    "start_time": "2023-09-19T12:55:23.972Z"
   },
   {
    "duration": 130,
    "start_time": "2023-09-19T12:55:27.319Z"
   },
   {
    "duration": 15,
    "start_time": "2023-09-19T12:55:27.451Z"
   },
   {
    "duration": 38,
    "start_time": "2023-09-19T12:55:27.468Z"
   },
   {
    "duration": 28,
    "start_time": "2023-09-19T12:55:27.508Z"
   },
   {
    "duration": 41,
    "start_time": "2023-09-19T12:55:27.537Z"
   },
   {
    "duration": 33,
    "start_time": "2023-09-19T12:55:27.579Z"
   },
   {
    "duration": 23,
    "start_time": "2023-09-19T12:55:27.614Z"
   },
   {
    "duration": 32,
    "start_time": "2023-09-19T12:55:27.638Z"
   },
   {
    "duration": 41,
    "start_time": "2023-09-19T12:55:27.671Z"
   },
   {
    "duration": 23,
    "start_time": "2023-09-19T12:55:27.714Z"
   },
   {
    "duration": 21,
    "start_time": "2023-09-19T12:55:27.738Z"
   },
   {
    "duration": 50,
    "start_time": "2023-09-19T12:55:27.761Z"
   },
   {
    "duration": 11,
    "start_time": "2023-09-19T12:55:27.814Z"
   },
   {
    "duration": 99,
    "start_time": "2023-09-19T12:55:27.826Z"
   },
   {
    "duration": 33,
    "start_time": "2023-09-19T12:55:27.926Z"
   },
   {
    "duration": 95,
    "start_time": "2023-09-19T12:55:27.961Z"
   },
   {
    "duration": 5042,
    "start_time": "2023-09-19T12:55:28.058Z"
   },
   {
    "duration": 26,
    "start_time": "2023-09-19T12:55:33.101Z"
   },
   {
    "duration": 129,
    "start_time": "2023-09-19T12:55:33.128Z"
   },
   {
    "duration": 92,
    "start_time": "2023-09-19T12:55:33.259Z"
   },
   {
    "duration": 200,
    "start_time": "2023-09-19T12:55:33.353Z"
   },
   {
    "duration": 34,
    "start_time": "2023-09-19T12:55:33.555Z"
   },
   {
    "duration": 9507,
    "start_time": "2023-09-19T12:55:33.591Z"
   },
   {
    "duration": 171,
    "start_time": "2023-09-19T12:55:43.100Z"
   },
   {
    "duration": 5,
    "start_time": "2023-09-19T12:55:43.272Z"
   },
   {
    "duration": 16,
    "start_time": "2023-09-19T12:55:43.278Z"
   },
   {
    "duration": 329,
    "start_time": "2023-09-19T12:55:43.295Z"
   },
   {
    "duration": 162,
    "start_time": "2023-09-19T12:55:43.625Z"
   },
   {
    "duration": 35,
    "start_time": "2023-09-19T12:55:43.789Z"
   },
   {
    "duration": 172,
    "start_time": "2023-09-19T12:55:43.825Z"
   },
   {
    "duration": 5,
    "start_time": "2023-09-19T12:55:43.998Z"
   },
   {
    "duration": 750,
    "start_time": "2023-09-19T12:55:44.004Z"
   },
   {
    "duration": 36,
    "start_time": "2023-09-19T12:55:44.756Z"
   },
   {
    "duration": 32,
    "start_time": "2023-09-19T12:58:31.741Z"
   },
   {
    "duration": 27,
    "start_time": "2023-09-19T12:58:32.293Z"
   },
   {
    "duration": 30,
    "start_time": "2023-09-19T12:58:41.566Z"
   },
   {
    "duration": 28,
    "start_time": "2023-09-19T12:58:45.885Z"
   },
   {
    "duration": 24835,
    "start_time": "2023-09-19T12:59:09.522Z"
   },
   {
    "duration": 60701,
    "start_time": "2023-09-19T12:59:46.429Z"
   },
   {
    "duration": 73,
    "start_time": "2023-09-19T13:07:51.277Z"
   },
   {
    "duration": 26,
    "start_time": "2023-09-19T13:08:28.311Z"
   },
   {
    "duration": 26,
    "start_time": "2023-09-19T13:08:46.998Z"
   },
   {
    "duration": 23,
    "start_time": "2023-09-19T13:08:52.920Z"
   },
   {
    "duration": 308,
    "start_time": "2023-09-19T13:10:45.972Z"
   },
   {
    "duration": 285,
    "start_time": "2023-09-19T13:12:43.798Z"
   },
   {
    "duration": 272,
    "start_time": "2023-09-19T13:13:04.703Z"
   },
   {
    "duration": 3113,
    "start_time": "2023-09-19T13:18:38.264Z"
   },
   {
    "duration": 171,
    "start_time": "2023-09-19T13:18:41.379Z"
   },
   {
    "duration": 15,
    "start_time": "2023-09-19T13:18:41.552Z"
   },
   {
    "duration": 10,
    "start_time": "2023-09-19T13:18:41.569Z"
   },
   {
    "duration": 4,
    "start_time": "2023-09-19T13:18:41.581Z"
   },
   {
    "duration": 12,
    "start_time": "2023-09-19T13:18:41.586Z"
   },
   {
    "duration": 19,
    "start_time": "2023-09-19T13:18:41.600Z"
   },
   {
    "duration": 17,
    "start_time": "2023-09-19T13:18:41.620Z"
   },
   {
    "duration": 7,
    "start_time": "2023-09-19T13:18:41.639Z"
   },
   {
    "duration": 16,
    "start_time": "2023-09-19T13:18:41.649Z"
   },
   {
    "duration": 11,
    "start_time": "2023-09-19T13:18:41.667Z"
   },
   {
    "duration": 10,
    "start_time": "2023-09-19T13:18:41.679Z"
   },
   {
    "duration": 25,
    "start_time": "2023-09-19T13:18:41.690Z"
   },
   {
    "duration": 7,
    "start_time": "2023-09-19T13:18:41.718Z"
   },
   {
    "duration": 107,
    "start_time": "2023-09-19T13:18:41.726Z"
   },
   {
    "duration": 26,
    "start_time": "2023-09-19T13:18:41.835Z"
   },
   {
    "duration": 190,
    "start_time": "2023-09-19T13:18:41.863Z"
   },
   {
    "duration": 4738,
    "start_time": "2023-09-19T13:18:42.149Z"
   },
   {
    "duration": 24,
    "start_time": "2023-09-19T13:18:46.888Z"
   },
   {
    "duration": 47,
    "start_time": "2023-09-19T13:18:46.913Z"
   },
   {
    "duration": 6,
    "start_time": "2023-09-19T13:18:47.053Z"
   },
   {
    "duration": 18,
    "start_time": "2023-09-19T13:18:47.150Z"
   },
   {
    "duration": 48,
    "start_time": "2023-09-19T13:18:47.170Z"
   },
   {
    "duration": 60191,
    "start_time": "2023-09-19T13:18:47.252Z"
   },
   {
    "duration": 324,
    "start_time": "2023-09-19T13:19:47.451Z"
   },
   {
    "duration": 147,
    "start_time": "2023-09-19T13:19:47.776Z"
   },
   {
    "duration": 3,
    "start_time": "2023-09-19T13:19:47.925Z"
   },
   {
    "duration": 19,
    "start_time": "2023-09-19T13:19:47.930Z"
   },
   {
    "duration": 320,
    "start_time": "2023-09-19T13:19:47.951Z"
   },
   {
    "duration": 176,
    "start_time": "2023-09-19T13:19:48.273Z"
   },
   {
    "duration": 22,
    "start_time": "2023-09-19T13:19:48.452Z"
   },
   {
    "duration": 234,
    "start_time": "2023-09-19T13:19:48.477Z"
   },
   {
    "duration": 4,
    "start_time": "2023-09-19T13:19:48.713Z"
   },
   {
    "duration": 251,
    "start_time": "2023-09-19T13:19:48.718Z"
   },
   {
    "duration": 17,
    "start_time": "2023-09-19T13:19:48.970Z"
   },
   {
    "duration": 19,
    "start_time": "2023-09-19T13:35:35.415Z"
   },
   {
    "duration": 333,
    "start_time": "2023-09-19T13:35:59.931Z"
   },
   {
    "duration": 3235,
    "start_time": "2023-09-19T13:38:50.632Z"
   },
   {
    "duration": 180,
    "start_time": "2023-09-19T13:38:53.869Z"
   },
   {
    "duration": 16,
    "start_time": "2023-09-19T13:38:54.050Z"
   },
   {
    "duration": 36,
    "start_time": "2023-09-19T13:38:54.068Z"
   },
   {
    "duration": 5,
    "start_time": "2023-09-19T13:38:54.106Z"
   },
   {
    "duration": 16,
    "start_time": "2023-09-19T13:38:54.113Z"
   },
   {
    "duration": 13,
    "start_time": "2023-09-19T13:38:54.131Z"
   },
   {
    "duration": 8,
    "start_time": "2023-09-19T13:38:54.145Z"
   },
   {
    "duration": 16,
    "start_time": "2023-09-19T13:38:54.155Z"
   },
   {
    "duration": 20,
    "start_time": "2023-09-19T13:38:54.174Z"
   },
   {
    "duration": 38,
    "start_time": "2023-09-19T13:38:54.196Z"
   },
   {
    "duration": 57,
    "start_time": "2023-09-19T13:38:54.236Z"
   },
   {
    "duration": 43,
    "start_time": "2023-09-19T13:38:54.295Z"
   },
   {
    "duration": 6,
    "start_time": "2023-09-19T13:38:54.340Z"
   },
   {
    "duration": 95,
    "start_time": "2023-09-19T13:38:54.347Z"
   },
   {
    "duration": 106,
    "start_time": "2023-09-19T13:38:54.444Z"
   },
   {
    "duration": 98,
    "start_time": "2023-09-19T13:38:54.552Z"
   },
   {
    "duration": 5627,
    "start_time": "2023-09-19T13:38:54.652Z"
   },
   {
    "duration": 26,
    "start_time": "2023-09-19T13:39:00.280Z"
   },
   {
    "duration": 48,
    "start_time": "2023-09-19T13:39:00.308Z"
   },
   {
    "duration": 98,
    "start_time": "2023-09-19T13:39:00.357Z"
   },
   {
    "duration": 145,
    "start_time": "2023-09-19T13:39:00.457Z"
   },
   {
    "duration": 62,
    "start_time": "2023-09-19T13:39:00.604Z"
   },
   {
    "duration": 60373,
    "start_time": "2023-09-19T13:39:00.668Z"
   },
   {
    "duration": 336,
    "start_time": "2023-09-19T13:40:01.042Z"
   },
   {
    "duration": 147,
    "start_time": "2023-09-19T13:40:01.380Z"
   },
   {
    "duration": 39,
    "start_time": "2023-09-19T13:40:01.528Z"
   },
   {
    "duration": 126,
    "start_time": "2023-09-19T13:40:01.569Z"
   },
   {
    "duration": 91,
    "start_time": "2023-09-19T13:40:01.697Z"
   },
   {
    "duration": 158111,
    "start_time": "2023-09-19T13:40:01.791Z"
   },
   {
    "duration": 197,
    "start_time": "2023-09-19T13:42:39.904Z"
   },
   {
    "duration": 18,
    "start_time": "2023-09-19T13:42:40.103Z"
   },
   {
    "duration": 154,
    "start_time": "2023-09-19T13:42:40.123Z"
   },
   {
    "duration": 5,
    "start_time": "2023-09-19T13:42:40.279Z"
   },
   {
    "duration": 258,
    "start_time": "2023-09-19T13:42:40.286Z"
   },
   {
    "duration": 18,
    "start_time": "2023-09-19T13:42:40.546Z"
   },
   {
    "duration": 4428,
    "start_time": "2023-09-19T13:43:47.215Z"
   },
   {
    "duration": 247,
    "start_time": "2023-09-19T13:53:27.012Z"
   },
   {
    "duration": 194,
    "start_time": "2023-09-19T14:05:53.286Z"
   },
   {
    "duration": 3347,
    "start_time": "2023-09-19T14:23:15.182Z"
   },
   {
    "duration": 574,
    "start_time": "2023-09-19T14:23:18.531Z"
   },
   {
    "duration": 24,
    "start_time": "2023-09-19T14:23:19.107Z"
   },
   {
    "duration": 21,
    "start_time": "2023-09-19T14:23:19.133Z"
   },
   {
    "duration": 5,
    "start_time": "2023-09-19T14:23:19.156Z"
   },
   {
    "duration": 21,
    "start_time": "2023-09-19T14:23:19.163Z"
   },
   {
    "duration": 6,
    "start_time": "2023-09-19T14:23:19.186Z"
   },
   {
    "duration": 6,
    "start_time": "2023-09-19T14:23:19.194Z"
   },
   {
    "duration": 7,
    "start_time": "2023-09-19T14:23:19.202Z"
   },
   {
    "duration": 16,
    "start_time": "2023-09-19T14:23:19.211Z"
   },
   {
    "duration": 13,
    "start_time": "2023-09-19T14:23:19.249Z"
   },
   {
    "duration": 16,
    "start_time": "2023-09-19T14:23:19.264Z"
   },
   {
    "duration": 38,
    "start_time": "2023-09-19T14:23:19.282Z"
   },
   {
    "duration": 31,
    "start_time": "2023-09-19T14:23:19.323Z"
   },
   {
    "duration": 104,
    "start_time": "2023-09-19T14:23:19.356Z"
   },
   {
    "duration": 189,
    "start_time": "2023-09-19T14:23:19.462Z"
   },
   {
    "duration": 13,
    "start_time": "2023-09-19T14:23:19.652Z"
   },
   {
    "duration": 5240,
    "start_time": "2023-09-19T14:23:19.668Z"
   },
   {
    "duration": 40,
    "start_time": "2023-09-19T14:23:24.910Z"
   },
   {
    "duration": 98,
    "start_time": "2023-09-19T14:23:24.952Z"
   },
   {
    "duration": 6,
    "start_time": "2023-09-19T14:23:25.053Z"
   },
   {
    "duration": 96,
    "start_time": "2023-09-19T14:23:25.061Z"
   },
   {
    "duration": 50,
    "start_time": "2023-09-19T14:23:25.159Z"
   },
   {
    "duration": 64410,
    "start_time": "2023-09-19T14:23:25.211Z"
   },
   {
    "duration": 333,
    "start_time": "2023-09-19T14:24:29.623Z"
   },
   {
    "duration": 155,
    "start_time": "2023-09-19T14:24:29.958Z"
   },
   {
    "duration": 5,
    "start_time": "2023-09-19T14:24:30.114Z"
   },
   {
    "duration": 29,
    "start_time": "2023-09-19T14:24:30.120Z"
   },
   {
    "duration": 97,
    "start_time": "2023-09-19T14:24:30.152Z"
   },
   {
    "duration": 4654,
    "start_time": "2023-09-19T14:24:30.251Z"
   },
   {
    "duration": 276,
    "start_time": "2023-09-19T14:24:34.907Z"
   },
   {
    "duration": 270,
    "start_time": "2023-09-19T14:24:35.186Z"
   },
   {
    "duration": 21,
    "start_time": "2023-09-19T14:24:35.458Z"
   },
   {
    "duration": 199,
    "start_time": "2023-09-19T14:24:35.482Z"
   },
   {
    "duration": 6,
    "start_time": "2023-09-19T14:24:35.683Z"
   },
   {
    "duration": 374,
    "start_time": "2023-09-19T14:24:35.691Z"
   },
   {
    "duration": 25,
    "start_time": "2023-09-19T14:24:36.068Z"
   },
   {
    "duration": 3726,
    "start_time": "2023-09-19T14:37:22.947Z"
   },
   {
    "duration": 120,
    "start_time": "2023-09-19T14:37:26.675Z"
   },
   {
    "duration": 16,
    "start_time": "2023-09-19T14:37:26.797Z"
   },
   {
    "duration": 14,
    "start_time": "2023-09-19T14:37:26.815Z"
   },
   {
    "duration": 4,
    "start_time": "2023-09-19T14:37:26.831Z"
   },
   {
    "duration": 21,
    "start_time": "2023-09-19T14:37:26.837Z"
   },
   {
    "duration": 7,
    "start_time": "2023-09-19T14:37:26.860Z"
   },
   {
    "duration": 7,
    "start_time": "2023-09-19T14:37:26.868Z"
   },
   {
    "duration": 16,
    "start_time": "2023-09-19T14:37:26.876Z"
   },
   {
    "duration": 35,
    "start_time": "2023-09-19T14:37:26.895Z"
   },
   {
    "duration": 14,
    "start_time": "2023-09-19T14:37:26.931Z"
   },
   {
    "duration": 28,
    "start_time": "2023-09-19T14:37:26.946Z"
   },
   {
    "duration": 46,
    "start_time": "2023-09-19T14:37:26.976Z"
   },
   {
    "duration": 7,
    "start_time": "2023-09-19T14:37:27.024Z"
   },
   {
    "duration": 106,
    "start_time": "2023-09-19T14:37:27.033Z"
   },
   {
    "duration": 37,
    "start_time": "2023-09-19T14:37:27.140Z"
   },
   {
    "duration": 94,
    "start_time": "2023-09-19T14:37:27.179Z"
   },
   {
    "duration": 5509,
    "start_time": "2023-09-19T14:37:27.349Z"
   },
   {
    "duration": 27,
    "start_time": "2023-09-19T14:37:32.860Z"
   },
   {
    "duration": 167,
    "start_time": "2023-09-19T14:37:32.889Z"
   },
   {
    "duration": 7,
    "start_time": "2023-09-19T14:37:33.058Z"
   },
   {
    "duration": 103,
    "start_time": "2023-09-19T14:37:33.067Z"
   },
   {
    "duration": 97,
    "start_time": "2023-09-19T14:37:33.171Z"
   },
   {
    "duration": 1655,
    "start_time": "2023-09-19T14:37:33.271Z"
   },
   {
    "duration": 356,
    "start_time": "2023-09-19T14:37:34.927Z"
   },
   {
    "duration": 184,
    "start_time": "2023-09-19T14:37:35.284Z"
   },
   {
    "duration": 6,
    "start_time": "2023-09-19T14:37:35.469Z"
   },
   {
    "duration": 23,
    "start_time": "2023-09-19T14:37:35.478Z"
   },
   {
    "duration": 54,
    "start_time": "2023-09-19T14:37:35.503Z"
   },
   {
    "duration": 5166,
    "start_time": "2023-09-19T14:37:35.560Z"
   },
   {
    "duration": 336,
    "start_time": "2023-09-19T14:37:40.728Z"
   },
   {
    "duration": 150,
    "start_time": "2023-09-19T14:37:41.068Z"
   },
   {
    "duration": 5,
    "start_time": "2023-09-19T14:37:41.220Z"
   },
   {
    "duration": 100,
    "start_time": "2023-09-19T14:37:41.226Z"
   },
   {
    "duration": 180,
    "start_time": "2023-09-19T14:37:41.328Z"
   },
   {
    "duration": 5,
    "start_time": "2023-09-19T14:37:41.510Z"
   },
   {
    "duration": 298,
    "start_time": "2023-09-19T14:37:41.517Z"
   },
   {
    "duration": 18,
    "start_time": "2023-09-19T14:37:41.816Z"
   },
   {
    "duration": 23,
    "start_time": "2023-09-19T14:38:54.250Z"
   },
   {
    "duration": 3531,
    "start_time": "2023-09-19T14:39:10.172Z"
   },
   {
    "duration": 168,
    "start_time": "2023-09-19T14:39:13.705Z"
   },
   {
    "duration": 16,
    "start_time": "2023-09-19T14:39:13.875Z"
   },
   {
    "duration": 12,
    "start_time": "2023-09-19T14:39:13.893Z"
   },
   {
    "duration": 14,
    "start_time": "2023-09-19T14:39:13.906Z"
   },
   {
    "duration": 16,
    "start_time": "2023-09-19T14:39:13.922Z"
   },
   {
    "duration": 11,
    "start_time": "2023-09-19T14:39:13.955Z"
   },
   {
    "duration": 6,
    "start_time": "2023-09-19T14:39:13.969Z"
   },
   {
    "duration": 6,
    "start_time": "2023-09-19T14:39:13.976Z"
   },
   {
    "duration": 16,
    "start_time": "2023-09-19T14:39:13.985Z"
   },
   {
    "duration": 12,
    "start_time": "2023-09-19T14:39:14.003Z"
   },
   {
    "duration": 51,
    "start_time": "2023-09-19T14:39:14.017Z"
   },
   {
    "duration": 28,
    "start_time": "2023-09-19T14:39:14.070Z"
   },
   {
    "duration": 6,
    "start_time": "2023-09-19T14:39:14.100Z"
   },
   {
    "duration": 118,
    "start_time": "2023-09-19T14:39:14.108Z"
   },
   {
    "duration": 129,
    "start_time": "2023-09-19T14:39:14.228Z"
   },
   {
    "duration": 98,
    "start_time": "2023-09-19T14:39:14.358Z"
   },
   {
    "duration": 5532,
    "start_time": "2023-09-19T14:39:14.460Z"
   },
   {
    "duration": 30,
    "start_time": "2023-09-19T14:39:19.995Z"
   },
   {
    "duration": 136,
    "start_time": "2023-09-19T14:39:20.028Z"
   },
   {
    "duration": 88,
    "start_time": "2023-09-19T14:39:20.167Z"
   },
   {
    "duration": 94,
    "start_time": "2023-09-19T14:39:20.259Z"
   },
   {
    "duration": 108,
    "start_time": "2023-09-19T14:39:20.355Z"
   },
   {
    "duration": 1656,
    "start_time": "2023-09-19T14:39:20.467Z"
   },
   {
    "duration": 336,
    "start_time": "2023-09-19T14:39:22.125Z"
   },
   {
    "duration": 178,
    "start_time": "2023-09-19T14:39:22.463Z"
   },
   {
    "duration": 12,
    "start_time": "2023-09-19T14:39:22.642Z"
   },
   {
    "duration": 36,
    "start_time": "2023-09-19T14:39:22.658Z"
   },
   {
    "duration": 58,
    "start_time": "2023-09-19T14:39:22.696Z"
   },
   {
    "duration": 5229,
    "start_time": "2023-09-19T14:39:22.757Z"
   },
   {
    "duration": 309,
    "start_time": "2023-09-19T14:39:27.989Z"
   },
   {
    "duration": 169,
    "start_time": "2023-09-19T14:39:28.300Z"
   },
   {
    "duration": 25,
    "start_time": "2023-09-19T14:39:28.471Z"
   },
   {
    "duration": 188,
    "start_time": "2023-09-19T14:39:28.498Z"
   },
   {
    "duration": 6,
    "start_time": "2023-09-19T14:39:28.688Z"
   },
   {
    "duration": 311,
    "start_time": "2023-09-19T14:39:28.696Z"
   },
   {
    "duration": 19,
    "start_time": "2023-09-19T14:39:29.008Z"
   },
   {
    "duration": 7,
    "start_time": "2023-09-19T14:41:33.045Z"
   },
   {
    "duration": 3664,
    "start_time": "2023-09-19T14:50:56.522Z"
   },
   {
    "duration": 276,
    "start_time": "2023-09-19T14:51:00.188Z"
   },
   {
    "duration": 21,
    "start_time": "2023-09-19T14:51:00.466Z"
   },
   {
    "duration": 44,
    "start_time": "2023-09-19T14:51:00.490Z"
   },
   {
    "duration": 27,
    "start_time": "2023-09-19T14:51:00.536Z"
   },
   {
    "duration": 59,
    "start_time": "2023-09-19T14:51:00.565Z"
   },
   {
    "duration": 38,
    "start_time": "2023-09-19T14:51:00.626Z"
   },
   {
    "duration": 31,
    "start_time": "2023-09-19T14:51:00.667Z"
   },
   {
    "duration": 70,
    "start_time": "2023-09-19T14:51:00.700Z"
   },
   {
    "duration": 50,
    "start_time": "2023-09-19T14:51:00.774Z"
   },
   {
    "duration": 56,
    "start_time": "2023-09-19T14:51:00.825Z"
   },
   {
    "duration": 26,
    "start_time": "2023-09-19T14:51:00.883Z"
   },
   {
    "duration": 73,
    "start_time": "2023-09-19T14:51:00.911Z"
   },
   {
    "duration": 76,
    "start_time": "2023-09-19T14:51:00.986Z"
   },
   {
    "duration": 173,
    "start_time": "2023-09-19T14:51:01.063Z"
   },
   {
    "duration": 42,
    "start_time": "2023-09-19T14:51:01.238Z"
   },
   {
    "duration": 85,
    "start_time": "2023-09-19T14:51:01.282Z"
   },
   {
    "duration": 5926,
    "start_time": "2023-09-19T14:51:01.371Z"
   },
   {
    "duration": 28,
    "start_time": "2023-09-19T14:51:07.299Z"
   },
   {
    "duration": 56,
    "start_time": "2023-09-19T14:51:07.329Z"
   },
   {
    "duration": 79,
    "start_time": "2023-09-19T14:51:07.390Z"
   },
   {
    "duration": 22,
    "start_time": "2023-09-19T14:51:07.471Z"
   },
   {
    "duration": 106,
    "start_time": "2023-09-19T14:51:07.553Z"
   },
   {
    "duration": 1786,
    "start_time": "2023-09-19T14:51:07.664Z"
   },
   {
    "duration": 358,
    "start_time": "2023-09-19T14:51:09.455Z"
   },
   {
    "duration": 202,
    "start_time": "2023-09-19T14:51:09.815Z"
   },
   {
    "duration": 4,
    "start_time": "2023-09-19T14:51:10.019Z"
   },
   {
    "duration": 16,
    "start_time": "2023-09-19T14:51:10.025Z"
   },
   {
    "duration": 45,
    "start_time": "2023-09-19T14:51:10.049Z"
   },
   {
    "duration": 6514,
    "start_time": "2023-09-19T14:51:10.097Z"
   },
   {
    "duration": 281,
    "start_time": "2023-09-19T14:51:16.613Z"
   },
   {
    "duration": 206,
    "start_time": "2023-09-19T14:51:16.896Z"
   },
   {
    "duration": 20,
    "start_time": "2023-09-19T14:51:17.105Z"
   },
   {
    "duration": 247,
    "start_time": "2023-09-19T14:51:17.126Z"
   },
   {
    "duration": 15,
    "start_time": "2023-09-19T14:51:17.375Z"
   },
   {
    "duration": 304,
    "start_time": "2023-09-19T14:51:17.393Z"
   },
   {
    "duration": 23,
    "start_time": "2023-09-19T14:51:17.699Z"
   },
   {
    "duration": 108,
    "start_time": "2023-09-19T15:01:01.597Z"
   },
   {
    "duration": 13,
    "start_time": "2023-09-19T15:01:07.201Z"
   },
   {
    "duration": 308,
    "start_time": "2023-09-19T15:01:10.209Z"
   },
   {
    "duration": 25,
    "start_time": "2023-09-19T15:01:18.866Z"
   },
   {
    "duration": 5,
    "start_time": "2023-09-19T15:03:00.485Z"
   },
   {
    "duration": 3699,
    "start_time": "2023-09-19T15:16:46.859Z"
   },
   {
    "duration": 139,
    "start_time": "2023-09-19T15:16:50.560Z"
   },
   {
    "duration": 25,
    "start_time": "2023-09-19T15:16:50.701Z"
   },
   {
    "duration": 19,
    "start_time": "2023-09-19T15:16:50.729Z"
   },
   {
    "duration": 28,
    "start_time": "2023-09-19T15:16:50.750Z"
   },
   {
    "duration": 30,
    "start_time": "2023-09-19T15:16:50.780Z"
   },
   {
    "duration": 33,
    "start_time": "2023-09-19T15:16:50.812Z"
   },
   {
    "duration": 26,
    "start_time": "2023-09-19T15:16:50.847Z"
   },
   {
    "duration": 14,
    "start_time": "2023-09-19T15:16:50.875Z"
   },
   {
    "duration": 42,
    "start_time": "2023-09-19T15:16:50.891Z"
   },
   {
    "duration": 30,
    "start_time": "2023-09-19T15:16:50.935Z"
   },
   {
    "duration": 35,
    "start_time": "2023-09-19T15:16:50.966Z"
   },
   {
    "duration": 58,
    "start_time": "2023-09-19T15:16:51.004Z"
   },
   {
    "duration": 9,
    "start_time": "2023-09-19T15:16:51.064Z"
   },
   {
    "duration": 116,
    "start_time": "2023-09-19T15:16:51.076Z"
   },
   {
    "duration": 89,
    "start_time": "2023-09-19T15:16:51.195Z"
   },
   {
    "duration": 85,
    "start_time": "2023-09-19T15:16:51.287Z"
   },
   {
    "duration": 5535,
    "start_time": "2023-09-19T15:16:51.377Z"
   },
   {
    "duration": 39,
    "start_time": "2023-09-19T15:16:56.913Z"
   },
   {
    "duration": 32,
    "start_time": "2023-09-19T15:16:56.955Z"
   },
   {
    "duration": 13,
    "start_time": "2023-09-19T15:16:57.051Z"
   },
   {
    "duration": 110,
    "start_time": "2023-09-19T15:16:57.066Z"
   },
   {
    "duration": 84,
    "start_time": "2023-09-19T15:16:57.177Z"
   },
   {
    "duration": 1607,
    "start_time": "2023-09-19T15:16:57.267Z"
   },
   {
    "duration": 362,
    "start_time": "2023-09-19T15:16:58.876Z"
   },
   {
    "duration": 191,
    "start_time": "2023-09-19T15:16:59.240Z"
   },
   {
    "duration": 4,
    "start_time": "2023-09-19T15:16:59.433Z"
   },
   {
    "duration": 42,
    "start_time": "2023-09-19T15:16:59.449Z"
   },
   {
    "duration": 22,
    "start_time": "2023-09-19T15:16:59.492Z"
   },
   {
    "duration": 5226,
    "start_time": "2023-09-19T15:16:59.516Z"
   },
   {
    "duration": 347,
    "start_time": "2023-09-19T15:17:04.743Z"
   },
   {
    "duration": 155,
    "start_time": "2023-09-19T15:17:05.091Z"
   },
   {
    "duration": 23,
    "start_time": "2023-09-19T15:17:05.250Z"
   },
   {
    "duration": 168,
    "start_time": "2023-09-19T15:17:05.275Z"
   },
   {
    "duration": 17,
    "start_time": "2023-09-19T15:17:05.451Z"
   },
   {
    "duration": 355,
    "start_time": "2023-09-19T15:17:05.471Z"
   },
   {
    "duration": 35,
    "start_time": "2023-09-19T15:17:05.828Z"
   },
   {
    "duration": 3386,
    "start_time": "2023-09-19T15:34:51.064Z"
   },
   {
    "duration": 201,
    "start_time": "2023-09-19T15:34:54.453Z"
   },
   {
    "duration": 26,
    "start_time": "2023-09-19T15:34:54.657Z"
   },
   {
    "duration": 18,
    "start_time": "2023-09-19T15:34:54.686Z"
   },
   {
    "duration": 10,
    "start_time": "2023-09-19T15:34:54.707Z"
   },
   {
    "duration": 37,
    "start_time": "2023-09-19T15:34:54.719Z"
   },
   {
    "duration": 13,
    "start_time": "2023-09-19T15:34:54.757Z"
   },
   {
    "duration": 46,
    "start_time": "2023-09-19T15:34:54.772Z"
   },
   {
    "duration": 37,
    "start_time": "2023-09-19T15:34:54.820Z"
   },
   {
    "duration": 27,
    "start_time": "2023-09-19T15:34:54.860Z"
   },
   {
    "duration": 29,
    "start_time": "2023-09-19T15:34:54.889Z"
   },
   {
    "duration": 23,
    "start_time": "2023-09-19T15:34:54.920Z"
   },
   {
    "duration": 54,
    "start_time": "2023-09-19T15:34:54.945Z"
   },
   {
    "duration": 9,
    "start_time": "2023-09-19T15:34:55.001Z"
   },
   {
    "duration": 153,
    "start_time": "2023-09-19T15:34:55.012Z"
   },
   {
    "duration": 34,
    "start_time": "2023-09-19T15:34:55.167Z"
   },
   {
    "duration": 12,
    "start_time": "2023-09-19T15:34:55.252Z"
   },
   {
    "duration": 5533,
    "start_time": "2023-09-19T15:34:55.270Z"
   },
   {
    "duration": 46,
    "start_time": "2023-09-19T15:35:00.805Z"
   },
   {
    "duration": 208,
    "start_time": "2023-09-19T15:35:00.853Z"
   },
   {
    "duration": 92,
    "start_time": "2023-09-19T15:35:01.064Z"
   },
   {
    "duration": 160,
    "start_time": "2023-09-19T15:35:01.159Z"
   },
   {
    "duration": 132,
    "start_time": "2023-09-19T15:35:01.321Z"
   },
   {
    "duration": 1768,
    "start_time": "2023-09-19T15:35:01.456Z"
   },
   {
    "duration": 409,
    "start_time": "2023-09-19T15:35:03.226Z"
   },
   {
    "duration": 187,
    "start_time": "2023-09-19T15:35:03.637Z"
   },
   {
    "duration": 5,
    "start_time": "2023-09-19T15:35:03.826Z"
   },
   {
    "duration": 29,
    "start_time": "2023-09-19T15:35:03.834Z"
   },
   {
    "duration": 85,
    "start_time": "2023-09-19T15:35:03.865Z"
   },
   {
    "duration": 4852,
    "start_time": "2023-09-19T15:35:03.953Z"
   },
   {
    "duration": 306,
    "start_time": "2023-09-19T15:35:08.806Z"
   },
   {
    "duration": 161,
    "start_time": "2023-09-19T15:35:09.114Z"
   },
   {
    "duration": 20,
    "start_time": "2023-09-19T15:35:09.276Z"
   },
   {
    "duration": 191,
    "start_time": "2023-09-19T15:35:09.298Z"
   },
   {
    "duration": 16,
    "start_time": "2023-09-19T15:35:09.491Z"
   },
   {
    "duration": 328,
    "start_time": "2023-09-19T15:35:09.509Z"
   },
   {
    "duration": 23,
    "start_time": "2023-09-19T15:35:09.839Z"
   },
   {
    "duration": 8205,
    "start_time": "2023-09-25T11:57:25.911Z"
   },
   {
    "duration": 325,
    "start_time": "2023-09-25T11:57:34.117Z"
   },
   {
    "duration": 25,
    "start_time": "2023-09-25T11:57:34.444Z"
   },
   {
    "duration": 45,
    "start_time": "2023-09-25T11:57:34.472Z"
   },
   {
    "duration": 36,
    "start_time": "2023-09-25T11:57:34.520Z"
   },
   {
    "duration": 81,
    "start_time": "2023-09-25T11:57:34.558Z"
   },
   {
    "duration": 53,
    "start_time": "2023-09-25T11:57:34.641Z"
   },
   {
    "duration": 56,
    "start_time": "2023-09-25T11:57:34.696Z"
   },
   {
    "duration": 17,
    "start_time": "2023-09-25T11:57:34.754Z"
   },
   {
    "duration": 34,
    "start_time": "2023-09-25T11:57:34.774Z"
   },
   {
    "duration": 59,
    "start_time": "2023-09-25T11:57:34.810Z"
   },
   {
    "duration": 33,
    "start_time": "2023-09-25T11:57:34.871Z"
   },
   {
    "duration": 63,
    "start_time": "2023-09-25T11:57:34.905Z"
   },
   {
    "duration": 8,
    "start_time": "2023-09-25T11:57:34.970Z"
   },
   {
    "duration": 266,
    "start_time": "2023-09-25T11:57:34.979Z"
   },
   {
    "duration": 104,
    "start_time": "2023-09-25T11:57:35.247Z"
   },
   {
    "duration": 104,
    "start_time": "2023-09-25T11:57:35.354Z"
   },
   {
    "duration": 5859,
    "start_time": "2023-09-25T11:57:35.548Z"
   },
   {
    "duration": 36,
    "start_time": "2023-09-25T11:57:41.408Z"
   },
   {
    "duration": 99,
    "start_time": "2023-09-25T11:57:41.446Z"
   },
   {
    "duration": 6,
    "start_time": "2023-09-25T11:57:41.546Z"
   },
   {
    "duration": 135,
    "start_time": "2023-09-25T11:57:41.553Z"
   },
   {
    "duration": 35,
    "start_time": "2023-09-25T11:57:41.689Z"
   },
   {
    "duration": 2219,
    "start_time": "2023-09-25T11:57:41.745Z"
   },
   {
    "duration": 408,
    "start_time": "2023-09-25T11:57:43.965Z"
   },
   {
    "duration": 397,
    "start_time": "2023-09-25T11:57:44.374Z"
   },
   {
    "duration": 4,
    "start_time": "2023-09-25T11:57:44.773Z"
   },
   {
    "duration": 10,
    "start_time": "2023-09-25T11:57:44.780Z"
   },
   {
    "duration": 61,
    "start_time": "2023-09-25T11:57:44.791Z"
   },
   {
    "duration": 4891,
    "start_time": "2023-09-25T11:57:44.943Z"
   },
   {
    "duration": 355,
    "start_time": "2023-09-25T11:57:49.835Z"
   },
   {
    "duration": 151,
    "start_time": "2023-09-25T11:57:50.195Z"
   },
   {
    "duration": 19,
    "start_time": "2023-09-25T11:57:50.348Z"
   },
   {
    "duration": 256,
    "start_time": "2023-09-25T11:57:50.368Z"
   },
   {
    "duration": 21,
    "start_time": "2023-09-25T11:57:50.625Z"
   },
   {
    "duration": 290,
    "start_time": "2023-09-25T11:57:50.648Z"
   },
   {
    "duration": 26,
    "start_time": "2023-09-25T11:57:50.939Z"
   }
  ],
  "kernelspec": {
   "display_name": "Python 3 (ipykernel)",
   "language": "python",
   "name": "python3"
  },
  "language_info": {
   "codemirror_mode": {
    "name": "ipython",
    "version": 3
   },
   "file_extension": ".py",
   "mimetype": "text/x-python",
   "name": "python",
   "nbconvert_exporter": "python",
   "pygments_lexer": "ipython3",
   "version": "3.9.5"
  },
  "toc": {
   "base_numbering": 1,
   "nav_menu": {},
   "number_sections": true,
   "sideBar": true,
   "skip_h1_title": true,
   "title_cell": "Содержание",
   "title_sidebar": "Contents",
   "toc_cell": true,
   "toc_position": {
    "height": "calc(100% - 180px)",
    "left": "10px",
    "top": "150px",
    "width": "359.391px"
   },
   "toc_section_display": true,
   "toc_window_display": false
  }
 },
 "nbformat": 4,
 "nbformat_minor": 2
}
