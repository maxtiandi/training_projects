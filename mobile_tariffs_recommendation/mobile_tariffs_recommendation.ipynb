{
 "cells": [
  {
   "cell_type": "markdown",
   "metadata": {},
   "source": [
    "# Классификаиция клиентов телеком компании"
   ]
  },
  {
   "cell_type": "markdown",
   "metadata": {},
   "source": [
    "Оператор мобильной связи выяснил: многие клиенты пользуются архивными тарифами. Они хотят построить систему, способную проанализировать поведение клиентов и предложить пользователям один из новых тариф.\n",
    "\n",
    "\n",
    "\n",
    "\n",
    "**Цель исследования:** Построить модель для задачи классификации, которая выберет подходящий тариф. Построить модель с максимально большим значением `accuracy`. Чтобы сдать проект успешно, нужно довести долю правильных ответов по крайней мере до **0.75**. Проверить `accuracy` на тестовой выборке самостоятельно.\n",
    " \n",
    "**Контекст исследования:**  Данные о поведении клиентов, которые уже перешли на тарифы «Смарт» или «Ультра».\n",
    " \n",
    "**План исследования**:\n",
    "- Изучить общую информацию о данных\n",
    "- Разбить данные на выборки\n",
    "- Исследовать модели\n",
    "- Проверить модель на тестовой выборке\n",
    "- Проверить модель на адекватность\n",
    "- Сделать общие выводы по исследованию\n",
    "\n",
    "**Описание данных:**\n",
    "\n",
    "Каждый объект в наборе данных — это информация о поведении одного пользователя за месяц. Известно:\n",
    "\n",
    "- `сalls` — количество звонков,\n",
    "- `minutes` — суммарная длительность звонков в минутах,\n",
    "- `messages` — количество sms-сообщений,\n",
    "- `mb_used` — израсходованный интернет-трафик в Мб,\n",
    "- `is_ultra` — каким тарифом пользовался в течение месяца («Ультра» — 1, «Смарт» — 0).\n",
    "\n",
    "\n",
    "___"
   ]
  },
  {
   "cell_type": "markdown",
   "metadata": {},
   "source": [
    "## Откройте и изучите файл"
   ]
  },
  {
   "cell_type": "code",
   "execution_count": 1,
   "metadata": {
    "ExecuteTime": {
     "end_time": "2024-03-19T20:28:27.495436Z",
     "start_time": "2024-03-19T20:28:26.203239Z"
    }
   },
   "outputs": [],
   "source": [
    "import joblib\n",
    "import matplotlib.pyplot as plt\n",
    "import pandas as pd\n",
    "from sklearn import tree\n",
    "from sklearn.dummy import DummyClassifier\n",
    "from sklearn.ensemble import RandomForestClassifier\n",
    "from sklearn.linear_model import LogisticRegression\n",
    "from sklearn.metrics import accuracy_score\n",
    "from sklearn.model_selection import train_test_split\n",
    "from sklearn.tree import DecisionTreeClassifier\n",
    "from tqdm import tqdm"
   ]
  },
  {
   "cell_type": "code",
   "execution_count": 2,
   "metadata": {
    "ExecuteTime": {
     "end_time": "2024-03-19T20:28:27.785939Z",
     "start_time": "2024-03-19T20:28:27.495032Z"
    }
   },
   "outputs": [],
   "source": [
    "try:\n",
    "    data_users = pd.read_csv('/datasets/users_behavior.csv')\n",
    "except:\n",
    "    data_users = pd.read_csv('https://code.s3.yandex.net/datasets/users_behavior.csv')"
   ]
  },
  {
   "cell_type": "code",
   "execution_count": 3,
   "metadata": {
    "ExecuteTime": {
     "end_time": "2024-03-19T20:28:27.800528Z",
     "start_time": "2024-03-19T20:28:27.788348Z"
    }
   },
   "outputs": [
    {
     "data": {
      "text/plain": "   calls  minutes  messages   mb_used  is_ultra\n0   40.0   311.90      83.0  19915.42         0\n1   85.0   516.75      56.0  22696.96         0\n2   77.0   467.66      86.0  21060.45         0\n3  106.0   745.53      81.0   8437.39         1\n4   66.0   418.74       1.0  14502.75         0",
      "text/html": "<div>\n<style scoped>\n    .dataframe tbody tr th:only-of-type {\n        vertical-align: middle;\n    }\n\n    .dataframe tbody tr th {\n        vertical-align: top;\n    }\n\n    .dataframe thead th {\n        text-align: right;\n    }\n</style>\n<table border=\"1\" class=\"dataframe\">\n  <thead>\n    <tr style=\"text-align: right;\">\n      <th></th>\n      <th>calls</th>\n      <th>minutes</th>\n      <th>messages</th>\n      <th>mb_used</th>\n      <th>is_ultra</th>\n    </tr>\n  </thead>\n  <tbody>\n    <tr>\n      <th>0</th>\n      <td>40.0</td>\n      <td>311.90</td>\n      <td>83.0</td>\n      <td>19915.42</td>\n      <td>0</td>\n    </tr>\n    <tr>\n      <th>1</th>\n      <td>85.0</td>\n      <td>516.75</td>\n      <td>56.0</td>\n      <td>22696.96</td>\n      <td>0</td>\n    </tr>\n    <tr>\n      <th>2</th>\n      <td>77.0</td>\n      <td>467.66</td>\n      <td>86.0</td>\n      <td>21060.45</td>\n      <td>0</td>\n    </tr>\n    <tr>\n      <th>3</th>\n      <td>106.0</td>\n      <td>745.53</td>\n      <td>81.0</td>\n      <td>8437.39</td>\n      <td>1</td>\n    </tr>\n    <tr>\n      <th>4</th>\n      <td>66.0</td>\n      <td>418.74</td>\n      <td>1.0</td>\n      <td>14502.75</td>\n      <td>0</td>\n    </tr>\n  </tbody>\n</table>\n</div>"
     },
     "execution_count": 3,
     "metadata": {},
     "output_type": "execute_result"
    }
   ],
   "source": [
    "# Выводим первые 5 строчек данных\n",
    "data_users.head()"
   ]
  },
  {
   "cell_type": "code",
   "execution_count": 4,
   "metadata": {
    "ExecuteTime": {
     "end_time": "2024-03-19T20:28:27.800944Z",
     "start_time": "2024-03-19T20:28:27.794463Z"
    }
   },
   "outputs": [
    {
     "name": "stdout",
     "output_type": "stream",
     "text": [
      "<class 'pandas.core.frame.DataFrame'>\n",
      "RangeIndex: 3214 entries, 0 to 3213\n",
      "Data columns (total 5 columns):\n",
      " #   Column    Non-Null Count  Dtype  \n",
      "---  ------    --------------  -----  \n",
      " 0   calls     3214 non-null   float64\n",
      " 1   minutes   3214 non-null   float64\n",
      " 2   messages  3214 non-null   float64\n",
      " 3   mb_used   3214 non-null   float64\n",
      " 4   is_ultra  3214 non-null   int64  \n",
      "dtypes: float64(4), int64(1)\n",
      "memory usage: 125.7 KB\n"
     ]
    }
   ],
   "source": [
    "# Получаем общую информацию о данных\n",
    "data_users.info()"
   ]
  },
  {
   "cell_type": "code",
   "execution_count": 5,
   "metadata": {
    "ExecuteTime": {
     "end_time": "2024-03-19T20:28:27.821764Z",
     "start_time": "2024-03-19T20:28:27.801939Z"
    }
   },
   "outputs": [
    {
     "data": {
      "text/plain": "         calls  minutes  messages   mb_used  is_ultra\ncount  3214.00  3214.00   3214.00   3214.00   3214.00\nmean     63.04   438.21     38.28  17207.67      0.31\nstd      33.24   234.57     36.15   7570.97      0.46\nmin       0.00     0.00      0.00      0.00      0.00\n25%      40.00   274.58      9.00  12491.90      0.00\n50%      62.00   430.60     30.00  16943.24      0.00\n75%      82.00   571.93     57.00  21424.70      1.00\nmax     244.00  1632.06    224.00  49745.73      1.00",
      "text/html": "<div>\n<style scoped>\n    .dataframe tbody tr th:only-of-type {\n        vertical-align: middle;\n    }\n\n    .dataframe tbody tr th {\n        vertical-align: top;\n    }\n\n    .dataframe thead th {\n        text-align: right;\n    }\n</style>\n<table border=\"1\" class=\"dataframe\">\n  <thead>\n    <tr style=\"text-align: right;\">\n      <th></th>\n      <th>calls</th>\n      <th>minutes</th>\n      <th>messages</th>\n      <th>mb_used</th>\n      <th>is_ultra</th>\n    </tr>\n  </thead>\n  <tbody>\n    <tr>\n      <th>count</th>\n      <td>3214.00</td>\n      <td>3214.00</td>\n      <td>3214.00</td>\n      <td>3214.00</td>\n      <td>3214.00</td>\n    </tr>\n    <tr>\n      <th>mean</th>\n      <td>63.04</td>\n      <td>438.21</td>\n      <td>38.28</td>\n      <td>17207.67</td>\n      <td>0.31</td>\n    </tr>\n    <tr>\n      <th>std</th>\n      <td>33.24</td>\n      <td>234.57</td>\n      <td>36.15</td>\n      <td>7570.97</td>\n      <td>0.46</td>\n    </tr>\n    <tr>\n      <th>min</th>\n      <td>0.00</td>\n      <td>0.00</td>\n      <td>0.00</td>\n      <td>0.00</td>\n      <td>0.00</td>\n    </tr>\n    <tr>\n      <th>25%</th>\n      <td>40.00</td>\n      <td>274.58</td>\n      <td>9.00</td>\n      <td>12491.90</td>\n      <td>0.00</td>\n    </tr>\n    <tr>\n      <th>50%</th>\n      <td>62.00</td>\n      <td>430.60</td>\n      <td>30.00</td>\n      <td>16943.24</td>\n      <td>0.00</td>\n    </tr>\n    <tr>\n      <th>75%</th>\n      <td>82.00</td>\n      <td>571.93</td>\n      <td>57.00</td>\n      <td>21424.70</td>\n      <td>1.00</td>\n    </tr>\n    <tr>\n      <th>max</th>\n      <td>244.00</td>\n      <td>1632.06</td>\n      <td>224.00</td>\n      <td>49745.73</td>\n      <td>1.00</td>\n    </tr>\n  </tbody>\n</table>\n</div>"
     },
     "execution_count": 5,
     "metadata": {},
     "output_type": "execute_result"
    }
   ],
   "source": [
    "# Посмотрим на основные статистические метрики\n",
    "data_users.describe().round(2)"
   ]
  },
  {
   "cell_type": "markdown",
   "metadata": {},
   "source": [
    "---\n",
    "- Данные успешно выгружены, загружены нужные библиотеки\n",
    "- Пропусков в данных нет, все типы данных в столбцах тоже верные\n",
    "- Предобработка не требуется\n",
    "---"
   ]
  },
  {
   "cell_type": "code",
   "execution_count": 6,
   "metadata": {
    "ExecuteTime": {
     "end_time": "2024-03-19T20:28:27.883807Z",
     "start_time": "2024-03-19T20:28:27.812366Z"
    }
   },
   "outputs": [
    {
     "name": "stdout",
     "output_type": "stream",
     "text": [
      "Пользователей с тарифом ULTRA:  985\n",
      "Пользователей с тарифом SMART:  2229\n"
     ]
    },
    {
     "data": {
      "text/plain": "<Figure size 1500x500 with 1 Axes>",
      "image/png": "[encoded data removed]"
     },
     "metadata": {},
     "output_type": "display_data"
    }
   ],
   "source": [
    "# Посчитаем кол-во пользователей с определенным типом тарифа\n",
    "print('Пользователей с тарифом ULTRA: ', len(data_users.query('is_ultra == 1')))\n",
    "print('Пользователей с тарифом SMART: ', len(data_users.query('is_ultra == 0')))\n",
    "\n",
    "# Визуализируем процентное соотношение пользователей с подпиской и без\n",
    "plt.rcParams['figure.figsize'] = (15, 5)\n",
    "plt.pie(\n",
    "    data_users['is_ultra'].value_counts(),\n",
    "    labels=['SMART', 'ULTRA'],\n",
    "    autopct='%1.1f%%',\n",
    "    colors=['c', 'palevioletred']\n",
    ")\n",
    "plt.title('Распределение пользователей по типу тарифа')\n",
    "plt.grid()\n",
    "plt.show()"
   ]
  },
  {
   "cell_type": "code",
   "execution_count": 7,
   "metadata": {
    "ExecuteTime": {
     "end_time": "2024-03-19T20:28:27.884250Z",
     "start_time": "2024-03-19T20:28:27.871800Z"
    }
   },
   "outputs": [
    {
     "data": {
      "text/plain": "             calls   minutes  messages   mb_used  is_ultra\ncalls     1.000000  0.982083  0.177385  0.286442  0.207122\nminutes   0.982083  1.000000  0.173110  0.280967  0.206955\nmessages  0.177385  0.173110  1.000000  0.195721  0.203830\nmb_used   0.286442  0.280967  0.195721  1.000000  0.198568\nis_ultra  0.207122  0.206955  0.203830  0.198568  1.000000",
      "text/html": "<div>\n<style scoped>\n    .dataframe tbody tr th:only-of-type {\n        vertical-align: middle;\n    }\n\n    .dataframe tbody tr th {\n        vertical-align: top;\n    }\n\n    .dataframe thead th {\n        text-align: right;\n    }\n</style>\n<table border=\"1\" class=\"dataframe\">\n  <thead>\n    <tr style=\"text-align: right;\">\n      <th></th>\n      <th>calls</th>\n      <th>minutes</th>\n      <th>messages</th>\n      <th>mb_used</th>\n      <th>is_ultra</th>\n    </tr>\n  </thead>\n  <tbody>\n    <tr>\n      <th>calls</th>\n      <td>1.000000</td>\n      <td>0.982083</td>\n      <td>0.177385</td>\n      <td>0.286442</td>\n      <td>0.207122</td>\n    </tr>\n    <tr>\n      <th>minutes</th>\n      <td>0.982083</td>\n      <td>1.000000</td>\n      <td>0.173110</td>\n      <td>0.280967</td>\n      <td>0.206955</td>\n    </tr>\n    <tr>\n      <th>messages</th>\n      <td>0.177385</td>\n      <td>0.173110</td>\n      <td>1.000000</td>\n      <td>0.195721</td>\n      <td>0.203830</td>\n    </tr>\n    <tr>\n      <th>mb_used</th>\n      <td>0.286442</td>\n      <td>0.280967</td>\n      <td>0.195721</td>\n      <td>1.000000</td>\n      <td>0.198568</td>\n    </tr>\n    <tr>\n      <th>is_ultra</th>\n      <td>0.207122</td>\n      <td>0.206955</td>\n      <td>0.203830</td>\n      <td>0.198568</td>\n      <td>1.000000</td>\n    </tr>\n  </tbody>\n</table>\n</div>"
     },
     "execution_count": 7,
     "metadata": {},
     "output_type": "execute_result"
    }
   ],
   "source": [
    "# Проверим корреляции между переменными для исключения возникновения мультиколлинеарности\n",
    "data_users.corr()"
   ]
  },
  {
   "cell_type": "markdown",
   "metadata": {},
   "source": [
    "---\n",
    "Наблюдаем сильную корреляцию между количеством звонков и суммарной длительностью звонков. Логично, ведь это неотъемлемо зависимые друг от друга переменные. Однако что касается распределения по тарифам - особо сильной зависимости с другими переменными - нет.\n",
    "\n",
    "---"
   ]
  },
  {
   "cell_type": "markdown",
   "metadata": {},
   "source": [
    "## Разбиваем данные на выборки"
   ]
  },
  {
   "cell_type": "markdown",
   "metadata": {},
   "source": [
    "---\n",
    "- Поскольку мы разбиваем исходные данные на **обучающую, валидационную и тестовую выборки**, предлагаю выполнить разбивку в соотношении 3:1:1 соответственно\n",
    "- Целевой столбец - категориальные величины тарифов - `is_ultra`\n",
    "\n",
    "*P.S. Гуглил некоторую информацию о разбивке данных и наткнулся на интересный параметр `stratify` (судя по всему, используется для справедливости баланса в поделенных выборках) - решил применить*\n",
    "\n",
    "---"
   ]
  },
  {
   "cell_type": "code",
   "execution_count": 8,
   "metadata": {
    "ExecuteTime": {
     "end_time": "2024-03-19T20:28:27.927564Z",
     "start_time": "2024-03-19T20:28:27.878768Z"
    }
   },
   "outputs": [],
   "source": [
    "# Обозначим features и target \n",
    "features = data_users.drop('is_ultra', axis=1)\n",
    "target = data_users['is_ultra']\n",
    "\n",
    "# Разобьем все данные на обучающую выборку и (валидационную + тестовую) -> для обучающей оставим 60% \n",
    "features_train, features_split, target_train, target_split = train_test_split(features, target,\n",
    "                                                                              test_size=0.4,\n",
    "                                                                              random_state=12345,\n",
    "                                                                              stratify=target)\n",
    "# Разобьем оставшиеся выборки пополам -> на валидационную (20%) и тестовую (20%)\n",
    "features_test, features_valid, target_test, target_valid = train_test_split(features_split, target_split,\n",
    "                                                                            test_size=0.5,\n",
    "                                                                            random_state=12345,\n",
    "                                                                            stratify=target_split)\n"
   ]
  },
  {
   "cell_type": "code",
   "execution_count": 9,
   "metadata": {
    "ExecuteTime": {
     "end_time": "2024-03-19T20:28:27.950139Z",
     "start_time": "2024-03-19T20:28:27.885890Z"
    }
   },
   "outputs": [
    {
     "data": {
      "text/plain": "(1928, 4)"
     },
     "metadata": {},
     "output_type": "display_data"
    },
    {
     "data": {
      "text/plain": "(643, 4)"
     },
     "metadata": {},
     "output_type": "display_data"
    },
    {
     "data": {
      "text/plain": "(643, 4)"
     },
     "metadata": {},
     "output_type": "display_data"
    },
    {
     "data": {
      "text/plain": "(1928,)"
     },
     "metadata": {},
     "output_type": "display_data"
    },
    {
     "data": {
      "text/plain": "(643,)"
     },
     "metadata": {},
     "output_type": "display_data"
    },
    {
     "data": {
      "text/plain": "(643,)"
     },
     "metadata": {},
     "output_type": "display_data"
    }
   ],
   "source": [
    "# Проверим размер выборок\n",
    "display(features_train.shape)\n",
    "display(features_test.shape)\n",
    "display(features_valid.shape)\n",
    "display(target_train.shape)\n",
    "display(target_test.shape)\n",
    "display(target_valid.shape)"
   ]
  },
  {
   "cell_type": "markdown",
   "metadata": {},
   "source": [
    "## Исследование моделей"
   ]
  },
  {
   "cell_type": "code",
   "execution_count": 10,
   "metadata": {
    "ExecuteTime": {
     "end_time": "2024-03-19T20:28:27.950880Z",
     "start_time": "2024-03-19T20:28:27.891721Z"
    }
   },
   "outputs": [],
   "source": [
    "# Создадим словарь, чтобы записывать в него лучшие модели и их точности на валидационной выборке.\n",
    "dict_model = {}"
   ]
  },
  {
   "cell_type": "markdown",
   "metadata": {},
   "source": [
    "---\n",
    "Не уверен, стоит ли сохранять лучшие модели через библиотеку `joblib`, но захотелось поэкспериментировать :)\n",
    "\n",
    "---"
   ]
  },
  {
   "cell_type": "markdown",
   "metadata": {},
   "source": [
    "### Дерево решений "
   ]
  },
  {
   "cell_type": "code",
   "execution_count": 11,
   "metadata": {
    "ExecuteTime": {
     "end_time": "2024-03-19T20:28:28.232420Z",
     "start_time": "2024-03-19T20:28:27.895623Z"
    }
   },
   "outputs": [
    {
     "name": "stderr",
     "output_type": "stream",
     "text": [
      "100%|██████████| 49/49 [00:00<00:00, 152.72it/s]"
     ]
    },
    {
     "name": "stdout",
     "output_type": "stream",
     "text": [
      "Лучшая точность: 0.8118195956454122\n"
     ]
    },
    {
     "name": "stderr",
     "output_type": "stream",
     "text": [
      "\n"
     ]
    }
   ],
   "source": [
    "# Определим пустые параметры для дальнейшего заполнения их лучшей моделью и её результатом точности\n",
    "best_model_tree = None\n",
    "best_result_tree = 0\n",
    "tree_acc_train = []\n",
    "tree_acc_valid = []\n",
    "\n",
    "# Пройдемся по циклу глубины дерева для определения лучшей модели\n",
    "for depth in tqdm(range(1, 50)):\n",
    "    model_tree = DecisionTreeClassifier(max_depth=depth, random_state=12345)\n",
    "    model_tree.fit(features_train, target_train)\n",
    "    tree_acc_train.append(model_tree.score(features_train, target_train))\n",
    "    predictions = model_tree.predict(features_valid)\n",
    "    result = accuracy_score(target_valid, predictions)\n",
    "    tree_acc_valid.append(result)\n",
    "    if result > best_result_tree:\n",
    "        best_result_tree = result\n",
    "        best_model_tree = model_tree\n",
    "        joblib.dump(model_tree, 'best_model_tree.joblib')\n",
    "dict_model[best_model_tree] = best_result_tree\n",
    "\n",
    "print(\"Лучшая точность:\", best_result_tree)"
   ]
  },
  {
   "cell_type": "code",
   "execution_count": 12,
   "metadata": {
    "ExecuteTime": {
     "end_time": "2024-03-19T20:28:28.413188Z",
     "start_time": "2024-03-19T20:28:28.232212Z"
    }
   },
   "outputs": [
    {
     "data": {
      "text/plain": "<Figure size 1500x500 with 1 Axes>",
      "image/png": "[encoded data removed]"
     },
     "metadata": {},
     "output_type": "display_data"
    },
    {
     "data": {
      "text/plain": "<Figure size 1500x500 with 1 Axes>",
      "image/png": "[encoded data removed]"
     },
     "metadata": {},
     "output_type": "display_data"
    }
   ],
   "source": [
    "# Визуализируем изменение точности на обучающей и валидационной выборках при изменении max_depth\n",
    "tree_plot = pd.DataFrame({'valid_accuracy': tree_acc_valid, 'train_accuracy': tree_acc_train, 'depth': range(1, 50)})\n",
    "\n",
    "tree_plot.plot(x='train_accuracy', y='depth', color='r')\n",
    "plt.rcParams['figure.figsize'] = (15, 5)\n",
    "plt.ylabel('max_depth')\n",
    "plt.legend(['train_accuracy'])\n",
    "plt.grid()\n",
    "plt.show()\n",
    "tree_plot.plot(x='valid_accuracy', y='depth', color='m')\n",
    "plt.rcParams['figure.figsize'] = (15, 5)\n",
    "plt.ylabel('max_depth')\n",
    "plt.legend(['valid_accuracy'])\n",
    "plt.grid()\n",
    "plt.show()"
   ]
  },
  {
   "cell_type": "code",
   "execution_count": 13,
   "metadata": {
    "ExecuteTime": {
     "end_time": "2024-03-19T20:28:28.939861Z",
     "start_time": "2024-03-19T20:28:28.419132Z"
    }
   },
   "outputs": [
    {
     "data": {
      "text/plain": "<Figure size 3000x3000 with 1 Axes>",
      "image/png": "[encoded data removed]"
     },
     "metadata": {},
     "output_type": "display_data"
    }
   ],
   "source": [
    "# Визуализируем само дерево решений для того, чтобы понимать какие сплиты выполняются\n",
    "plt.figure(figsize=(30, 30));\n",
    "_ = tree.plot_tree(best_model_tree,\n",
    "                   feature_names=features.columns,\n",
    "                   max_depth=2,\n",
    "                   class_names=['SMART', 'ULTRA'],\n",
    "                   filled=True)\n",
    "plt.show()"
   ]
  },
  {
   "cell_type": "markdown",
   "metadata": {},
   "source": [
    "---\n",
    "- По результатам перебора гиперпараметров, после `max_depth == 20` -> точность на обучающей выборке не увеличивается\n",
    "- На валидационной выборке модель начинает переобучаться после параметра `max_depth == 10` и точность **снижается**\n",
    "\n",
    "---"
   ]
  },
  {
   "cell_type": "markdown",
   "metadata": {},
   "source": [
    "### Случайный лес"
   ]
  },
  {
   "cell_type": "code",
   "execution_count": 14,
   "metadata": {
    "ExecuteTime": {
     "end_time": "2024-03-19T20:28:29.364707Z",
     "start_time": "2024-03-19T20:28:28.942333Z"
    }
   },
   "outputs": [
    {
     "name": "stderr",
     "output_type": "stream",
     "text": [
      "100%|██████████| 5/5 [00:00<00:00, 14.85it/s]"
     ]
    },
    {
     "name": "stdout",
     "output_type": "stream",
     "text": [
      "Лучшая точность: 0.8149300155520995\n"
     ]
    },
    {
     "name": "stderr",
     "output_type": "stream",
     "text": [
      "\n"
     ]
    }
   ],
   "source": [
    "# Определим пустые параметры для дальнейшего заполнения их лучшей моделью и её результатом точности\n",
    "best_model_forest = None\n",
    "best_result_forest = 0\n",
    "forest_acc_train = []\n",
    "forest_acc_valid = []\n",
    "\n",
    "# Пройдемся по циклам количества деревьев и глубины дерева для определения лучшей модели\n",
    "for trees in tqdm(range(3, 8)):\n",
    "    for depth in range(2, 10):\n",
    "        model_forest = RandomForestClassifier(random_state=12345, n_estimators=trees, max_depth=depth)\n",
    "        model_forest.fit(features_train, target_train)\n",
    "        forest_acc_train.append(model_forest.score(features_train, target_train))\n",
    "        predictions = model_forest.predict(features_valid)\n",
    "        result = accuracy_score(target_valid, predictions)\n",
    "        forest_acc_valid.append(result)\n",
    "        if result > best_result_tree:\n",
    "            best_result_forest = result\n",
    "            best_model_forest = model_forest\n",
    "            joblib.dump(model_forest, 'best_model_forest.joblib')\n",
    "dict_model[best_model_forest] = best_result_forest\n",
    "\n",
    "print(\"Лучшая точность:\", best_result_forest)"
   ]
  },
  {
   "cell_type": "code",
   "execution_count": 15,
   "metadata": {
    "ExecuteTime": {
     "end_time": "2024-03-19T20:28:29.476678Z",
     "start_time": "2024-03-19T20:28:29.287784Z"
    }
   },
   "outputs": [
    {
     "data": {
      "text/plain": "<Figure size 1500x500 with 1 Axes>",
      "image/png": "[encoded data removed]"
     },
     "metadata": {},
     "output_type": "display_data"
    },
    {
     "data": {
      "text/plain": "<Figure size 1500x500 with 1 Axes>",
      "image/png": "[encoded data removed]"
     },
     "metadata": {},
     "output_type": "display_data"
    }
   ],
   "source": [
    "# Визуализируем изменение точности на обучающей и валидационной выборках при изменении max_depth\n",
    "forest_plot = pd.DataFrame({'valid_accuracy': forest_acc_valid, 'train_accuracy': forest_acc_train})\n",
    "\n",
    "plt.plot(forest_plot['train_accuracy'], color='r')\n",
    "plt.legend(['train_accuracy'])\n",
    "plt.show()\n",
    "plt.plot(forest_plot['valid_accuracy'], color='m')\n",
    "plt.legend(['valid_accuracy'])\n",
    "plt.show()"
   ]
  },
  {
   "cell_type": "markdown",
   "metadata": {},
   "source": [
    "---\n",
    "По результатам перебора гиперпараметров, после `max_depth == 10`  и `n_estimators == 8` -> точность не увеличивается\n",
    "\n",
    "---"
   ]
  },
  {
   "cell_type": "markdown",
   "metadata": {},
   "source": [
    "### Логистическая регрессия"
   ]
  },
  {
   "cell_type": "code",
   "execution_count": 16,
   "metadata": {
    "ExecuteTime": {
     "end_time": "2024-03-19T20:28:29.477145Z",
     "start_time": "2024-03-19T20:28:29.446712Z"
    }
   },
   "outputs": [
    {
     "name": "stdout",
     "output_type": "stream",
     "text": [
      "Точность модели: 0.7465007776049767\n"
     ]
    }
   ],
   "source": [
    "best_model_logic = None\n",
    "best_result_logic = 0\n",
    "\n",
    "model_logic = LogisticRegression(random_state=12345, max_iter=100)\n",
    "model_logic.fit(features_train, target_train)\n",
    "result = model_logic.score(features_valid, target_valid)\n",
    "joblib.dump(model_logic, 'best_model_logic.joblib')\n",
    "dict_model[model_logic] = result\n",
    "\n",
    "print(\"Точность модели:\", result)"
   ]
  },
  {
   "cell_type": "markdown",
   "metadata": {},
   "source": [
    "---\n",
    "По результатам перебора гиперпараметров, после `max_iter = 100` -> точность не увеличивается\n",
    "\n",
    "---"
   ]
  },
  {
   "cell_type": "markdown",
   "metadata": {},
   "source": [
    "### Вывод по результатам исследования различных моделей"
   ]
  },
  {
   "cell_type": "code",
   "execution_count": 17,
   "metadata": {
    "scrolled": true,
    "ExecuteTime": {
     "end_time": "2024-03-19T20:28:29.477613Z",
     "start_time": "2024-03-19T20:28:29.460329Z"
    }
   },
   "outputs": [
    {
     "data": {
      "text/plain": "{DecisionTreeClassifier(max_depth=5, random_state=12345): 0.8118195956454122,\n RandomForestClassifier(max_depth=7, n_estimators=5, random_state=12345): 0.8149300155520995,\n LogisticRegression(random_state=12345): 0.7465007776049767}"
     },
     "execution_count": 17,
     "metadata": {},
     "output_type": "execute_result"
    }
   ],
   "source": [
    "dict_model"
   ]
  },
  {
   "cell_type": "markdown",
   "metadata": {},
   "source": [
    "---\n",
    "1. **RandomForestClassifier** *(случайный лес)* - фаворит среди моделей. Модель показала лучшую точность среди других - **0.81493** при показателях `max_depth` = 7  и  `n_estimators` = 5 \n",
    "2. На втором месте - **DecisionTreeClassifier** *(дерево решений)*. Она выдала точность ~ 0.8118 при `max_depth` = 5\n",
    "3. Последняя модель в рейтинге - **LogisticRegression** *(логистическая регрессия)* с точностью ~ 0.7465\n",
    "\n",
    "---"
   ]
  },
  {
   "cell_type": "markdown",
   "metadata": {},
   "source": [
    "## Проверка модели на тестовой выборке"
   ]
  },
  {
   "cell_type": "markdown",
   "metadata": {},
   "source": [
    "---\n",
    "- Для начала дообучим нашу лучшую модель (RF) с лучшими значениями гиперпараметров на тренировочной + валидационной выборке. \n",
    "\n",
    "---"
   ]
  },
  {
   "cell_type": "code",
   "execution_count": 18,
   "metadata": {
    "ExecuteTime": {
     "end_time": "2024-03-19T20:28:29.477711Z",
     "start_time": "2024-03-19T20:28:29.463356Z"
    }
   },
   "outputs": [],
   "source": [
    "# Объединим тренировочную + валидационную выборку\n",
    "features_new_train = pd.concat([features_train, features_valid])\n",
    "target_new_train = pd.concat([target_train, target_valid])"
   ]
  },
  {
   "cell_type": "code",
   "execution_count": 19,
   "metadata": {
    "ExecuteTime": {
     "end_time": "2024-03-19T20:28:29.480506Z",
     "start_time": "2024-03-19T20:28:29.466829Z"
    }
   },
   "outputs": [
    {
     "name": "stdout",
     "output_type": "stream",
     "text": [
      "Точность старой модели на тестовой выборке: 0.7807153965785381\n",
      "Точность новой дообученной модели на тестовой выборке: 0.8102643856920684\n"
     ]
    }
   ],
   "source": [
    "# Обучаем лучшую модель на новой объединенной выборке и проверяем на тестовой выборке \n",
    "new_forest_model = RandomForestClassifier(max_depth=7, n_estimators=5, random_state=1234)\n",
    "new_forest_model.fit(features_new_train, target_new_train)\n",
    "new_forest_predictions = new_forest_model.predict(features_test)\n",
    "new_result = accuracy_score(target_test, new_forest_predictions)\n",
    "\n",
    "# Выведем старый и новый результат точности\n",
    "print(f'Точность старой модели на тестовой выборке: {best_model_forest.score(features_test, target_test)}')\n",
    "print(f'Точность новой дообученной модели на тестовой выборке: {new_result}')"
   ]
  },
  {
   "cell_type": "markdown",
   "metadata": {},
   "source": [
    "---\n",
    "- Дообученная модель RF показала более точный результат метрики качества после проверки на тестовой выборке, чем старая\n",
    "- Окончательная точность выбранной модели на тестовой выборке: `0.8102643856920684` \n",
    "\n",
    "---"
   ]
  },
  {
   "cell_type": "markdown",
   "metadata": {},
   "source": [
    "## Проверка модели на адекватность"
   ]
  },
  {
   "cell_type": "code",
   "execution_count": 20,
   "metadata": {
    "ExecuteTime": {
     "end_time": "2024-03-19T20:28:29.486689Z",
     "start_time": "2024-03-19T20:28:29.481030Z"
    }
   },
   "outputs": [
    {
     "name": "stdout",
     "output_type": "stream",
     "text": [
      "Точность \"простой\" модели: 0.6936236391912908\n",
      "Точность лучшей модели: 0.8102643856920684\n"
     ]
    }
   ],
   "source": [
    "# Обучим \"глупую модель\" и сравним её точность с точностью предсказания нашей лучшей модели\n",
    "dummy_model = DummyClassifier()\n",
    "dummy_model.fit(features_train, target_train)\n",
    "print('Точность \"простой\" модели:', dummy_model.score(features_test, target_test))\n",
    "print('Точность лучшей модели:', new_result)\n"
   ]
  },
  {
   "cell_type": "markdown",
   "metadata": {},
   "source": [
    "---\n",
    "Хорошо, что точность \"простой\" модели **ниже** нашей - это указывает на адекватность лучшей модели. \n",
    "\n",
    "---"
   ]
  },
  {
   "cell_type": "markdown",
   "metadata": {},
   "source": [
    "## Общий вывод"
   ]
  },
  {
   "cell_type": "markdown",
   "metadata": {},
   "source": [
    "---\n",
    "**По результатам исследования, лучшей моделью для задачи классификации, которая выбирает подходящий тариф, оказалась модель `RandomForestClassifier` с гиперпараметрами `max_depth = 7`и `n_estimators = 5`. Ее точность предсказания на тестовой выборке составила ` 0.8102643856920684`**. \n",
    "Обучили модели \"Дерево решений\", \"Случайный лес\" и \"Логистическая регрессия\", применяя различные гиперпараметры для каждой.\n",
    "\n",
    "---\n",
    "\n",
    "*Исследование было разделено на несколько этапов:*\n",
    "\n",
    "\n",
    "\n",
    "**1. Изучение общей информации о данных:**\n",
    "- Загрузили необходимые для работы библиотеки\n",
    "- Успешно выгрузили и изучили предоставленные данные о поведении клиентов, которые уже перешли на тарифы «Смарт» или «Ультра».\n",
    "- Данные оказались готовыми для работы - не было выявлено пропусков или расхождений в типах данных\n",
    "\n",
    "**2. Разбивка данных на выборки:**\n",
    "- Разбили данные на три выборки *(в соотношении 3:1:1)*: на обучающую, валидационную и тестовую\n",
    "- Применили новоизученный параметр `stratify`\n",
    "\n",
    "**3. Исследование моделей:**\n",
    "- Провели исследование трёх изученных ранее моделей на валидационной выборке\n",
    "- `RandomForestClassifier` (случайный лес) - оказалась фаворитом среди моделей. Модель показала лучшую точность среди других - `0.81493` при показателях max_depth = 7 и n_estimators = 5\n",
    "- На втором месте - `DecisionTreeClassifier` (дерево решений). Она выдала точность `~ 0.8118` при max_depth = 5\n",
    "- Последняя модель в \"рейтинге\" - `LogisticRegression` (логистическая регрессия) с точностью `~ 0.7465`\n",
    "\n",
    "**4. Проверка моделей на тестовой выборке:**\n",
    "- Объединили тренировочную и валидационную выборку в новую обучающую, на которой *дообучили* лучшую модель с лучшими гиперпараметрами\n",
    "- Дообученная модель RF показала более точный результат метрики качества после проверки на тестовой выборке, чем старая\n",
    "- Окончательная точность выбранной модели на тестовой выборке: `0.8102643856920684`\n",
    "\n",
    "\n",
    "**5. Проверка модели на адекватность:**\n",
    "- Обучили \"глупую\" модель, которая всегда предсказывает один тариф\n",
    "- Сверили точности предсказаний \"глупой\" модели и нашей лучшей модели на тестовых выборках -> лучшая модель показала **более точный уровень предсказаний**\n",
    "- \"Лучшая\" модель -> адекватная"
   ]
  }
 ],
 "metadata": {
  "ExecuteTimeLog": [
   {
    "duration": 7,
    "start_time": "2023-08-27T10:16:53.154Z"
   },
   {
    "duration": 415,
    "start_time": "2023-08-27T13:27:40.454Z"
   },
   {
    "duration": 79,
    "start_time": "2023-08-27T13:27:40.875Z"
   },
   {
    "duration": 24,
    "start_time": "2023-08-27T13:27:47.216Z"
   },
   {
    "duration": 14,
    "start_time": "2023-08-27T13:33:13.696Z"
   },
   {
    "duration": 109,
    "start_time": "2023-08-27T13:33:24.238Z"
   },
   {
    "duration": 9,
    "start_time": "2023-08-27T13:33:27.676Z"
   },
   {
    "duration": 44,
    "start_time": "2023-08-27T13:33:38.673Z"
   },
   {
    "duration": 18,
    "start_time": "2023-08-27T13:34:02.485Z"
   },
   {
    "duration": 26,
    "start_time": "2023-08-27T13:34:20.724Z"
   },
   {
    "duration": 965,
    "start_time": "2023-08-27T13:36:54.539Z"
   },
   {
    "duration": 52,
    "start_time": "2023-09-04T11:53:45.534Z"
   },
   {
    "duration": 1181,
    "start_time": "2023-09-04T11:53:49.821Z"
   },
   {
    "duration": 116,
    "start_time": "2023-09-04T11:53:51.004Z"
   },
   {
    "duration": 23,
    "start_time": "2023-09-04T11:53:51.122Z"
   },
   {
    "duration": 13,
    "start_time": "2023-09-04T11:53:51.147Z"
   },
   {
    "duration": 31,
    "start_time": "2023-09-04T11:53:51.161Z"
   },
   {
    "duration": 75,
    "start_time": "2023-09-04T11:53:51.193Z"
   },
   {
    "duration": 26,
    "start_time": "2023-09-04T11:58:58.250Z"
   },
   {
    "duration": 16,
    "start_time": "2023-09-04T12:55:40.050Z"
   },
   {
    "duration": 10,
    "start_time": "2023-09-04T12:56:01.212Z"
   },
   {
    "duration": 1221,
    "start_time": "2023-09-04T16:56:44.608Z"
   },
   {
    "duration": 121,
    "start_time": "2023-09-04T16:56:45.831Z"
   },
   {
    "duration": 19,
    "start_time": "2023-09-04T16:56:45.954Z"
   },
   {
    "duration": 11,
    "start_time": "2023-09-04T16:56:45.975Z"
   },
   {
    "duration": 27,
    "start_time": "2023-09-04T16:56:45.988Z"
   },
   {
    "duration": 10,
    "start_time": "2023-09-04T16:56:46.017Z"
   },
   {
    "duration": 16,
    "start_time": "2023-09-04T16:57:26.564Z"
   },
   {
    "duration": 103,
    "start_time": "2023-09-04T16:57:41.560Z"
   },
   {
    "duration": 7,
    "start_time": "2023-09-04T16:57:47.676Z"
   },
   {
    "duration": 8,
    "start_time": "2023-09-04T16:58:16.082Z"
   },
   {
    "duration": 7,
    "start_time": "2023-09-04T16:58:37.595Z"
   },
   {
    "duration": 7,
    "start_time": "2023-09-04T16:59:40.741Z"
   },
   {
    "duration": 11,
    "start_time": "2023-09-04T17:00:24.587Z"
   },
   {
    "duration": 24,
    "start_time": "2023-09-04T17:05:51.968Z"
   },
   {
    "duration": 3,
    "start_time": "2023-09-04T17:05:54.890Z"
   },
   {
    "duration": 23,
    "start_time": "2023-09-04T17:05:55.632Z"
   },
   {
    "duration": 20,
    "start_time": "2023-09-04T17:05:57.532Z"
   },
   {
    "duration": 20,
    "start_time": "2023-09-04T17:05:57.978Z"
   },
   {
    "duration": 27,
    "start_time": "2023-09-04T17:05:58.420Z"
   },
   {
    "duration": 20,
    "start_time": "2023-09-04T17:05:58.866Z"
   },
   {
    "duration": 20,
    "start_time": "2023-09-04T17:05:59.383Z"
   },
   {
    "duration": 19,
    "start_time": "2023-09-04T17:05:59.759Z"
   },
   {
    "duration": 25,
    "start_time": "2023-09-04T17:06:13.531Z"
   },
   {
    "duration": 4,
    "start_time": "2023-09-04T17:11:09.435Z"
   },
   {
    "duration": 36,
    "start_time": "2023-09-04T17:11:09.441Z"
   },
   {
    "duration": 10,
    "start_time": "2023-09-04T17:11:09.479Z"
   },
   {
    "duration": 25,
    "start_time": "2023-09-04T17:11:09.490Z"
   },
   {
    "duration": 30,
    "start_time": "2023-09-04T17:11:09.517Z"
   },
   {
    "duration": 9,
    "start_time": "2023-09-04T17:11:09.548Z"
   },
   {
    "duration": 9,
    "start_time": "2023-09-04T17:11:09.559Z"
   },
   {
    "duration": 2,
    "start_time": "2023-09-04T17:11:09.570Z"
   },
   {
    "duration": 27,
    "start_time": "2023-09-04T17:11:09.608Z"
   },
   {
    "duration": 71,
    "start_time": "2023-09-04T17:12:48.244Z"
   },
   {
    "duration": 82,
    "start_time": "2023-09-04T17:12:49.195Z"
   },
   {
    "duration": 680,
    "start_time": "2023-09-04T17:12:51.966Z"
   },
   {
    "duration": 211,
    "start_time": "2023-09-04T17:12:55.584Z"
   },
   {
    "duration": 108,
    "start_time": "2023-09-04T17:12:57.916Z"
   },
   {
    "duration": 92,
    "start_time": "2023-09-04T17:13:00.941Z"
   },
   {
    "duration": 97,
    "start_time": "2023-09-04T17:13:11.584Z"
   },
   {
    "duration": 2517,
    "start_time": "2023-09-04T17:19:43.969Z"
   },
   {
    "duration": 2309,
    "start_time": "2023-09-04T17:19:59.401Z"
   },
   {
    "duration": 799,
    "start_time": "2023-09-04T17:20:25.168Z"
   },
   {
    "duration": 808,
    "start_time": "2023-09-04T17:21:40.695Z"
   },
   {
    "duration": 1226,
    "start_time": "2023-09-04T17:21:46.141Z"
   },
   {
    "duration": 759,
    "start_time": "2023-09-04T17:21:51.494Z"
   },
   {
    "duration": 1429,
    "start_time": "2023-09-04T17:21:53.922Z"
   },
   {
    "duration": 2130,
    "start_time": "2023-09-04T17:22:01.137Z"
   },
   {
    "duration": 759,
    "start_time": "2023-09-04T17:22:06.720Z"
   },
   {
    "duration": 4828,
    "start_time": "2023-09-04T17:22:16.445Z"
   },
   {
    "duration": 29438,
    "start_time": "2023-09-04T17:22:26.554Z"
   },
   {
    "duration": 1351,
    "start_time": "2023-09-04T17:22:58.508Z"
   },
   {
    "duration": 2380,
    "start_time": "2023-09-04T17:23:04.997Z"
   },
   {
    "duration": 1515,
    "start_time": "2023-09-04T17:23:11.438Z"
   },
   {
    "duration": 764,
    "start_time": "2023-09-04T17:23:14.507Z"
   },
   {
    "duration": 196,
    "start_time": "2023-09-04T17:23:18.350Z"
   },
   {
    "duration": 1525,
    "start_time": "2023-09-04T17:23:22.415Z"
   },
   {
    "duration": 2,
    "start_time": "2023-09-04T17:25:46.837Z"
   },
   {
    "duration": 33,
    "start_time": "2023-09-04T17:25:46.842Z"
   },
   {
    "duration": 9,
    "start_time": "2023-09-04T17:25:46.877Z"
   },
   {
    "duration": 19,
    "start_time": "2023-09-04T17:25:46.888Z"
   },
   {
    "duration": 25,
    "start_time": "2023-09-04T17:25:46.909Z"
   },
   {
    "duration": 11,
    "start_time": "2023-09-04T17:25:46.935Z"
   },
   {
    "duration": 10,
    "start_time": "2023-09-04T17:25:46.947Z"
   },
   {
    "duration": 3,
    "start_time": "2023-09-04T17:25:46.958Z"
   },
   {
    "duration": 114,
    "start_time": "2023-09-04T17:25:46.963Z"
   },
   {
    "duration": 1447,
    "start_time": "2023-09-04T17:25:47.079Z"
   },
   {
    "duration": 41,
    "start_time": "2023-09-04T17:25:48.528Z"
   },
   {
    "duration": 64,
    "start_time": "2023-09-04T17:26:16.517Z"
   },
   {
    "duration": 65,
    "start_time": "2023-09-04T17:26:31.002Z"
   },
   {
    "duration": 69,
    "start_time": "2023-09-04T17:26:32.644Z"
   },
   {
    "duration": 73,
    "start_time": "2023-09-04T17:26:33.076Z"
   },
   {
    "duration": 75,
    "start_time": "2023-09-04T17:26:33.429Z"
   },
   {
    "duration": 44,
    "start_time": "2023-09-04T17:26:33.651Z"
   },
   {
    "duration": 42,
    "start_time": "2023-09-04T17:26:52.816Z"
   },
   {
    "duration": 46,
    "start_time": "2023-09-04T17:27:33.797Z"
   },
   {
    "duration": 38,
    "start_time": "2023-09-04T17:27:34.451Z"
   },
   {
    "duration": 3,
    "start_time": "2023-09-04T17:28:15.099Z"
   },
   {
    "duration": 21,
    "start_time": "2023-09-04T17:28:45.750Z"
   },
   {
    "duration": 5,
    "start_time": "2023-09-04T17:28:58.124Z"
   },
   {
    "duration": 47,
    "start_time": "2023-09-04T17:28:58.131Z"
   },
   {
    "duration": 15,
    "start_time": "2023-09-04T17:28:58.181Z"
   },
   {
    "duration": 13,
    "start_time": "2023-09-04T17:28:58.198Z"
   },
   {
    "duration": 28,
    "start_time": "2023-09-04T17:28:58.214Z"
   },
   {
    "duration": 11,
    "start_time": "2023-09-04T17:28:58.244Z"
   },
   {
    "duration": 10,
    "start_time": "2023-09-04T17:28:58.257Z"
   },
   {
    "duration": 40,
    "start_time": "2023-09-04T17:28:58.268Z"
   },
   {
    "duration": 483,
    "start_time": "2023-09-04T17:28:58.311Z"
   },
   {
    "duration": 1532,
    "start_time": "2023-09-04T17:28:58.796Z"
   },
   {
    "duration": 39,
    "start_time": "2023-09-04T17:29:00.330Z"
   },
   {
    "duration": 51,
    "start_time": "2023-09-04T17:29:38.588Z"
   },
   {
    "duration": 1239,
    "start_time": "2023-09-04T22:14:57.126Z"
   },
   {
    "duration": 123,
    "start_time": "2023-09-04T22:14:58.367Z"
   },
   {
    "duration": 23,
    "start_time": "2023-09-04T22:14:58.492Z"
   },
   {
    "duration": 29,
    "start_time": "2023-09-04T22:14:58.517Z"
   },
   {
    "duration": 30,
    "start_time": "2023-09-04T22:14:58.549Z"
   },
   {
    "duration": 25,
    "start_time": "2023-09-04T22:14:58.580Z"
   },
   {
    "duration": 10,
    "start_time": "2023-09-04T22:14:58.611Z"
   },
   {
    "duration": 12,
    "start_time": "2023-09-04T22:14:58.623Z"
   },
   {
    "duration": 452,
    "start_time": "2023-09-04T22:14:58.637Z"
   },
   {
    "duration": 1522,
    "start_time": "2023-09-04T22:14:59.091Z"
   },
   {
    "duration": 53,
    "start_time": "2023-09-04T22:15:00.622Z"
   },
   {
    "duration": 3,
    "start_time": "2023-09-04T22:16:06.731Z"
   },
   {
    "duration": 340,
    "start_time": "2023-09-04T22:17:42.418Z"
   },
   {
    "duration": 1363,
    "start_time": "2023-09-04T22:18:40.597Z"
   },
   {
    "duration": 7,
    "start_time": "2023-09-04T22:28:56.723Z"
   },
   {
    "duration": 4,
    "start_time": "2023-09-04T22:29:06.998Z"
   },
   {
    "duration": 73,
    "start_time": "2023-09-04T22:29:07.006Z"
   },
   {
    "duration": 31,
    "start_time": "2023-09-04T22:29:07.081Z"
   },
   {
    "duration": 40,
    "start_time": "2023-09-04T22:29:07.114Z"
   },
   {
    "duration": 164,
    "start_time": "2023-09-04T22:29:07.156Z"
   },
   {
    "duration": 29,
    "start_time": "2023-09-04T22:29:07.322Z"
   },
   {
    "duration": 25,
    "start_time": "2023-09-04T22:29:07.353Z"
   },
   {
    "duration": 8,
    "start_time": "2023-09-04T22:29:07.381Z"
   },
   {
    "duration": 444,
    "start_time": "2023-09-04T22:29:07.390Z"
   },
   {
    "duration": 1458,
    "start_time": "2023-09-04T22:29:07.836Z"
   },
   {
    "duration": 53,
    "start_time": "2023-09-04T22:29:09.296Z"
   },
   {
    "duration": 4,
    "start_time": "2023-09-04T22:29:09.351Z"
   },
   {
    "duration": 1266,
    "start_time": "2023-09-04T22:30:02.057Z"
   },
   {
    "duration": 2578,
    "start_time": "2023-09-04T22:30:11.245Z"
   },
   {
    "duration": 1020,
    "start_time": "2023-09-04T22:30:17.632Z"
   },
   {
    "duration": 1525,
    "start_time": "2023-09-04T22:30:21.150Z"
   },
   {
    "duration": 520,
    "start_time": "2023-09-04T22:30:27.726Z"
   },
   {
    "duration": 317,
    "start_time": "2023-09-04T22:30:35.048Z"
   },
   {
    "duration": 656,
    "start_time": "2023-09-04T22:30:42.152Z"
   },
   {
    "duration": 408,
    "start_time": "2023-09-04T22:30:50.432Z"
   },
   {
    "duration": 460,
    "start_time": "2023-09-04T22:30:53.871Z"
   },
   {
    "duration": 333,
    "start_time": "2023-09-04T22:30:56.390Z"
   },
   {
    "duration": 337,
    "start_time": "2023-09-04T22:30:58.814Z"
   },
   {
    "duration": 405,
    "start_time": "2023-09-04T22:31:05.871Z"
   },
   {
    "duration": 348,
    "start_time": "2023-09-04T22:31:09.921Z"
   },
   {
    "duration": 370,
    "start_time": "2023-09-04T22:31:18.309Z"
   },
   {
    "duration": 1062,
    "start_time": "2023-09-04T22:31:28.592Z"
   },
   {
    "duration": 899,
    "start_time": "2023-09-04T22:31:35.897Z"
   },
   {
    "duration": 36030,
    "start_time": "2023-09-04T22:54:02.847Z"
   },
   {
    "duration": 882,
    "start_time": "2023-09-04T22:54:46.926Z"
   },
   {
    "duration": 135,
    "start_time": "2023-09-04T22:59:31.387Z"
   },
   {
    "duration": 61,
    "start_time": "2023-09-04T22:59:57.921Z"
   },
   {
    "duration": 1213,
    "start_time": "2023-09-04T23:00:07.916Z"
   },
   {
    "duration": 30,
    "start_time": "2023-09-04T23:00:09.132Z"
   },
   {
    "duration": 17,
    "start_time": "2023-09-04T23:00:09.164Z"
   },
   {
    "duration": 12,
    "start_time": "2023-09-04T23:00:09.183Z"
   },
   {
    "duration": 36,
    "start_time": "2023-09-04T23:00:09.198Z"
   },
   {
    "duration": 9,
    "start_time": "2023-09-04T23:00:09.236Z"
   },
   {
    "duration": 9,
    "start_time": "2023-09-04T23:00:09.247Z"
   },
   {
    "duration": 19,
    "start_time": "2023-09-04T23:00:09.257Z"
   },
   {
    "duration": 364,
    "start_time": "2023-09-04T23:00:09.278Z"
   },
   {
    "duration": 845,
    "start_time": "2023-09-04T23:00:09.644Z"
   },
   {
    "duration": 50,
    "start_time": "2023-09-04T23:00:10.490Z"
   },
   {
    "duration": 6,
    "start_time": "2023-09-04T23:00:10.542Z"
   },
   {
    "duration": 11,
    "start_time": "2023-09-04T23:00:10.550Z"
   },
   {
    "duration": 5,
    "start_time": "2023-09-04T23:36:54.065Z"
   },
   {
    "duration": 44,
    "start_time": "2023-09-04T23:36:54.072Z"
   },
   {
    "duration": 11,
    "start_time": "2023-09-04T23:36:54.118Z"
   },
   {
    "duration": 11,
    "start_time": "2023-09-04T23:36:54.130Z"
   },
   {
    "duration": 25,
    "start_time": "2023-09-04T23:36:54.143Z"
   },
   {
    "duration": 11,
    "start_time": "2023-09-04T23:36:54.170Z"
   },
   {
    "duration": 14,
    "start_time": "2023-09-04T23:36:54.209Z"
   },
   {
    "duration": 3,
    "start_time": "2023-09-04T23:36:54.225Z"
   },
   {
    "duration": 336,
    "start_time": "2023-09-04T23:36:54.229Z"
   },
   {
    "duration": 870,
    "start_time": "2023-09-04T23:36:54.567Z"
   },
   {
    "duration": 34,
    "start_time": "2023-09-04T23:36:55.439Z"
   },
   {
    "duration": 4,
    "start_time": "2023-09-04T23:36:55.475Z"
   },
   {
    "duration": 214,
    "start_time": "2023-09-04T23:41:00.451Z"
   },
   {
    "duration": 5,
    "start_time": "2023-09-04T23:41:02.181Z"
   },
   {
    "duration": 72,
    "start_time": "2023-09-04T23:41:02.188Z"
   },
   {
    "duration": 10,
    "start_time": "2023-09-04T23:41:02.262Z"
   },
   {
    "duration": 46,
    "start_time": "2023-09-04T23:41:02.273Z"
   },
   {
    "duration": 48,
    "start_time": "2023-09-04T23:41:02.321Z"
   },
   {
    "duration": 9,
    "start_time": "2023-09-04T23:41:02.371Z"
   },
   {
    "duration": 48,
    "start_time": "2023-09-04T23:41:02.381Z"
   },
   {
    "duration": 11,
    "start_time": "2023-09-04T23:41:02.431Z"
   },
   {
    "duration": 396,
    "start_time": "2023-09-04T23:41:02.444Z"
   },
   {
    "duration": 881,
    "start_time": "2023-09-04T23:41:02.842Z"
   },
   {
    "duration": 150,
    "start_time": "2023-09-04T23:41:03.725Z"
   },
   {
    "duration": 5,
    "start_time": "2023-09-04T23:41:03.877Z"
   },
   {
    "duration": 17,
    "start_time": "2023-09-04T23:44:25.312Z"
   },
   {
    "duration": 1177,
    "start_time": "2023-09-04T23:45:04.653Z"
   },
   {
    "duration": 31,
    "start_time": "2023-09-04T23:45:05.832Z"
   },
   {
    "duration": 66,
    "start_time": "2023-09-04T23:45:05.864Z"
   },
   {
    "duration": 33,
    "start_time": "2023-09-04T23:45:05.932Z"
   },
   {
    "duration": 63,
    "start_time": "2023-09-04T23:45:05.967Z"
   },
   {
    "duration": 8,
    "start_time": "2023-09-04T23:45:06.032Z"
   },
   {
    "duration": 44,
    "start_time": "2023-09-04T23:45:06.042Z"
   },
   {
    "duration": 27,
    "start_time": "2023-09-04T23:45:06.088Z"
   },
   {
    "duration": 476,
    "start_time": "2023-09-04T23:45:06.118Z"
   },
   {
    "duration": 847,
    "start_time": "2023-09-04T23:45:06.597Z"
   },
   {
    "duration": 91,
    "start_time": "2023-09-04T23:45:07.446Z"
   },
   {
    "duration": 5,
    "start_time": "2023-09-04T23:45:07.539Z"
   },
   {
    "duration": 21,
    "start_time": "2023-09-04T23:45:07.546Z"
   },
   {
    "duration": 16,
    "start_time": "2023-09-04T23:45:12.655Z"
   },
   {
    "duration": 16,
    "start_time": "2023-09-04T23:45:13.968Z"
   },
   {
    "duration": 21,
    "start_time": "2023-09-04T23:45:14.517Z"
   },
   {
    "duration": 17,
    "start_time": "2023-09-04T23:45:15.110Z"
   },
   {
    "duration": 6,
    "start_time": "2023-09-04T23:47:33.265Z"
   },
   {
    "duration": 7,
    "start_time": "2023-09-04T23:47:35.885Z"
   },
   {
    "duration": 6,
    "start_time": "2023-09-04T23:47:36.242Z"
   },
   {
    "duration": 7,
    "start_time": "2023-09-04T23:47:36.528Z"
   },
   {
    "duration": 7,
    "start_time": "2023-09-04T23:47:36.814Z"
   },
   {
    "duration": 8,
    "start_time": "2023-09-04T23:47:50.859Z"
   },
   {
    "duration": 8,
    "start_time": "2023-09-04T23:47:55.411Z"
   },
   {
    "duration": 8,
    "start_time": "2023-09-04T23:48:00.378Z"
   },
   {
    "duration": 6,
    "start_time": "2023-09-04T23:48:07.529Z"
   },
   {
    "duration": 10,
    "start_time": "2023-09-04T23:48:08.582Z"
   },
   {
    "duration": 8,
    "start_time": "2023-09-04T23:48:10.080Z"
   },
   {
    "duration": 15,
    "start_time": "2023-09-04T23:48:16.217Z"
   },
   {
    "duration": 1376,
    "start_time": "2023-09-04T23:48:22.082Z"
   },
   {
    "duration": 31,
    "start_time": "2023-09-04T23:48:23.460Z"
   },
   {
    "duration": 28,
    "start_time": "2023-09-04T23:48:23.493Z"
   },
   {
    "duration": 11,
    "start_time": "2023-09-04T23:48:23.522Z"
   },
   {
    "duration": 26,
    "start_time": "2023-09-04T23:48:23.536Z"
   },
   {
    "duration": 9,
    "start_time": "2023-09-04T23:48:23.564Z"
   },
   {
    "duration": 43,
    "start_time": "2023-09-04T23:48:23.575Z"
   },
   {
    "duration": 2,
    "start_time": "2023-09-04T23:48:23.620Z"
   },
   {
    "duration": 441,
    "start_time": "2023-09-04T23:48:23.624Z"
   },
   {
    "duration": 948,
    "start_time": "2023-09-04T23:48:24.067Z"
   },
   {
    "duration": 105,
    "start_time": "2023-09-04T23:48:25.017Z"
   },
   {
    "duration": 5,
    "start_time": "2023-09-04T23:48:25.124Z"
   },
   {
    "duration": 16,
    "start_time": "2023-09-04T23:48:25.131Z"
   },
   {
    "duration": 6,
    "start_time": "2023-09-04T23:48:25.150Z"
   },
   {
    "duration": 11,
    "start_time": "2023-09-04T23:48:25.158Z"
   },
   {
    "duration": 6,
    "start_time": "2023-09-04T23:48:25.170Z"
   },
   {
    "duration": 6,
    "start_time": "2023-09-04T23:49:54.873Z"
   },
   {
    "duration": 8,
    "start_time": "2023-09-04T23:49:55.257Z"
   },
   {
    "duration": 110,
    "start_time": "2023-09-04T23:49:55.521Z"
   },
   {
    "duration": 7,
    "start_time": "2023-09-04T23:50:00.153Z"
   },
   {
    "duration": 13,
    "start_time": "2023-09-04T23:52:25.671Z"
   },
   {
    "duration": 13,
    "start_time": "2023-09-04T23:52:51.081Z"
   },
   {
    "duration": 30,
    "start_time": "2023-09-05T00:07:16.733Z"
   },
   {
    "duration": 6,
    "start_time": "2023-09-05T00:07:22.245Z"
   },
   {
    "duration": 6,
    "start_time": "2023-09-05T00:08:22.136Z"
   },
   {
    "duration": 1316,
    "start_time": "2023-09-05T00:08:28.778Z"
   },
   {
    "duration": 35,
    "start_time": "2023-09-05T00:08:30.096Z"
   },
   {
    "duration": 17,
    "start_time": "2023-09-05T00:08:30.133Z"
   },
   {
    "duration": 15,
    "start_time": "2023-09-05T00:08:30.151Z"
   },
   {
    "duration": 60,
    "start_time": "2023-09-05T00:08:30.168Z"
   },
   {
    "duration": 16,
    "start_time": "2023-09-05T00:08:30.230Z"
   },
   {
    "duration": 67,
    "start_time": "2023-09-05T00:08:30.248Z"
   },
   {
    "duration": 10,
    "start_time": "2023-09-05T00:08:30.317Z"
   },
   {
    "duration": 846,
    "start_time": "2023-09-05T00:08:30.329Z"
   },
   {
    "duration": 917,
    "start_time": "2023-09-05T00:08:31.177Z"
   },
   {
    "duration": 183,
    "start_time": "2023-09-05T00:08:32.096Z"
   },
   {
    "duration": 6,
    "start_time": "2023-09-05T00:08:32.280Z"
   },
   {
    "duration": 31,
    "start_time": "2023-09-05T00:08:32.288Z"
   },
   {
    "duration": 11,
    "start_time": "2023-09-05T00:08:32.322Z"
   },
   {
    "duration": 1252,
    "start_time": "2023-09-05T00:28:54.083Z"
   },
   {
    "duration": 30,
    "start_time": "2023-09-05T00:28:55.337Z"
   },
   {
    "duration": 16,
    "start_time": "2023-09-05T00:28:55.369Z"
   },
   {
    "duration": 26,
    "start_time": "2023-09-05T00:28:55.386Z"
   },
   {
    "duration": 45,
    "start_time": "2023-09-05T00:28:55.415Z"
   },
   {
    "duration": 9,
    "start_time": "2023-09-05T00:28:55.462Z"
   },
   {
    "duration": 50,
    "start_time": "2023-09-05T00:28:55.472Z"
   },
   {
    "duration": 23,
    "start_time": "2023-09-05T00:28:55.524Z"
   },
   {
    "duration": 431,
    "start_time": "2023-09-05T00:28:55.549Z"
   },
   {
    "duration": 823,
    "start_time": "2023-09-05T00:28:55.983Z"
   },
   {
    "duration": 126,
    "start_time": "2023-09-05T00:28:56.810Z"
   },
   {
    "duration": 6,
    "start_time": "2023-09-05T00:28:56.937Z"
   },
   {
    "duration": 77,
    "start_time": "2023-09-05T00:28:56.944Z"
   },
   {
    "duration": 5,
    "start_time": "2023-09-05T00:28:57.024Z"
   },
   {
    "duration": 1295,
    "start_time": "2023-09-05T00:31:04.241Z"
   },
   {
    "duration": 30,
    "start_time": "2023-09-05T00:31:05.538Z"
   },
   {
    "duration": 17,
    "start_time": "2023-09-05T00:31:05.570Z"
   },
   {
    "duration": 26,
    "start_time": "2023-09-05T00:31:05.589Z"
   },
   {
    "duration": 44,
    "start_time": "2023-09-05T00:31:05.618Z"
   },
   {
    "duration": 18,
    "start_time": "2023-09-05T00:31:05.664Z"
   },
   {
    "duration": 41,
    "start_time": "2023-09-05T00:31:05.683Z"
   },
   {
    "duration": 11,
    "start_time": "2023-09-05T00:31:05.726Z"
   },
   {
    "duration": 644,
    "start_time": "2023-09-05T00:31:05.738Z"
   },
   {
    "duration": 968,
    "start_time": "2023-09-05T00:31:06.384Z"
   },
   {
    "duration": 192,
    "start_time": "2023-09-05T00:31:07.354Z"
   },
   {
    "duration": 6,
    "start_time": "2023-09-05T00:31:07.548Z"
   },
   {
    "duration": 26,
    "start_time": "2023-09-05T00:31:07.555Z"
   },
   {
    "duration": 6,
    "start_time": "2023-09-05T00:31:07.583Z"
   },
   {
    "duration": 1200,
    "start_time": "2023-09-05T00:32:49.613Z"
   },
   {
    "duration": 31,
    "start_time": "2023-09-05T00:32:50.817Z"
   },
   {
    "duration": 16,
    "start_time": "2023-09-05T00:32:50.849Z"
   },
   {
    "duration": 24,
    "start_time": "2023-09-05T00:32:50.867Z"
   },
   {
    "duration": 32,
    "start_time": "2023-09-05T00:32:50.894Z"
   },
   {
    "duration": 10,
    "start_time": "2023-09-05T00:32:50.927Z"
   },
   {
    "duration": 10,
    "start_time": "2023-09-05T00:32:50.938Z"
   },
   {
    "duration": 3,
    "start_time": "2023-09-05T00:32:50.950Z"
   },
   {
    "duration": 413,
    "start_time": "2023-09-05T00:32:50.954Z"
   },
   {
    "duration": 869,
    "start_time": "2023-09-05T00:32:51.368Z"
   },
   {
    "duration": 192,
    "start_time": "2023-09-05T00:32:52.239Z"
   },
   {
    "duration": 5,
    "start_time": "2023-09-05T00:32:52.432Z"
   },
   {
    "duration": 43,
    "start_time": "2023-09-05T00:32:52.438Z"
   },
   {
    "duration": 5,
    "start_time": "2023-09-05T00:32:52.484Z"
   },
   {
    "duration": 136,
    "start_time": "2023-09-05T00:36:37.779Z"
   },
   {
    "duration": 9,
    "start_time": "2023-09-05T00:36:49.667Z"
   },
   {
    "duration": 7,
    "start_time": "2023-09-05T00:37:03.212Z"
   },
   {
    "duration": 8,
    "start_time": "2023-09-05T00:37:31.178Z"
   },
   {
    "duration": 8,
    "start_time": "2023-09-05T00:37:34.155Z"
   },
   {
    "duration": 10,
    "start_time": "2023-09-05T00:37:36.918Z"
   },
   {
    "duration": 9,
    "start_time": "2023-09-05T00:37:37.753Z"
   },
   {
    "duration": 8,
    "start_time": "2023-09-05T00:37:50.779Z"
   },
   {
    "duration": 1239,
    "start_time": "2023-09-05T00:38:02.824Z"
   },
   {
    "duration": 30,
    "start_time": "2023-09-05T00:38:04.065Z"
   },
   {
    "duration": 26,
    "start_time": "2023-09-05T00:38:04.097Z"
   },
   {
    "duration": 11,
    "start_time": "2023-09-05T00:38:04.125Z"
   },
   {
    "duration": 33,
    "start_time": "2023-09-05T00:38:04.137Z"
   },
   {
    "duration": 34,
    "start_time": "2023-09-05T00:38:04.172Z"
   },
   {
    "duration": 30,
    "start_time": "2023-09-05T00:38:04.210Z"
   },
   {
    "duration": 2,
    "start_time": "2023-09-05T00:38:04.242Z"
   },
   {
    "duration": 517,
    "start_time": "2023-09-05T00:38:04.246Z"
   },
   {
    "duration": 879,
    "start_time": "2023-09-05T00:38:04.766Z"
   },
   {
    "duration": 99,
    "start_time": "2023-09-05T00:38:05.647Z"
   },
   {
    "duration": 6,
    "start_time": "2023-09-05T00:38:05.748Z"
   },
   {
    "duration": 17,
    "start_time": "2023-09-05T00:38:05.755Z"
   },
   {
    "duration": 7,
    "start_time": "2023-09-05T00:38:05.774Z"
   },
   {
    "duration": 2963,
    "start_time": "2023-09-05T04:30:39.144Z"
   },
   {
    "duration": 114,
    "start_time": "2023-09-05T04:30:42.108Z"
   },
   {
    "duration": 18,
    "start_time": "2023-09-05T04:30:42.224Z"
   },
   {
    "duration": 12,
    "start_time": "2023-09-05T04:30:42.244Z"
   },
   {
    "duration": 38,
    "start_time": "2023-09-05T04:30:42.258Z"
   },
   {
    "duration": 9,
    "start_time": "2023-09-05T04:30:42.298Z"
   },
   {
    "duration": 24,
    "start_time": "2023-09-05T04:30:42.308Z"
   },
   {
    "duration": 48,
    "start_time": "2023-09-05T04:30:42.333Z"
   },
   {
    "duration": 339,
    "start_time": "2023-09-05T04:30:42.383Z"
   },
   {
    "duration": 844,
    "start_time": "2023-09-05T04:30:42.724Z"
   },
   {
    "duration": 218,
    "start_time": "2023-09-05T04:30:43.570Z"
   },
   {
    "duration": 7,
    "start_time": "2023-09-05T04:30:43.790Z"
   },
   {
    "duration": 22,
    "start_time": "2023-09-05T04:30:43.798Z"
   },
   {
    "duration": 5,
    "start_time": "2023-09-05T04:30:43.821Z"
   },
   {
    "duration": 1151,
    "start_time": "2023-09-05T11:45:51.214Z"
   },
   {
    "duration": 105,
    "start_time": "2023-09-05T11:49:04.740Z"
   },
   {
    "duration": 4,
    "start_time": "2023-09-05T11:49:08.226Z"
   },
   {
    "duration": 89,
    "start_time": "2023-09-05T11:49:08.232Z"
   },
   {
    "duration": 17,
    "start_time": "2023-09-05T11:49:08.323Z"
   },
   {
    "duration": 12,
    "start_time": "2023-09-05T11:49:08.342Z"
   },
   {
    "duration": 27,
    "start_time": "2023-09-05T11:49:08.356Z"
   },
   {
    "duration": 31,
    "start_time": "2023-09-05T11:49:08.384Z"
   },
   {
    "duration": 9,
    "start_time": "2023-09-05T11:49:08.416Z"
   },
   {
    "duration": 36,
    "start_time": "2023-09-05T11:49:08.427Z"
   },
   {
    "duration": 3,
    "start_time": "2023-09-05T11:49:08.465Z"
   },
   {
    "duration": 316,
    "start_time": "2023-09-05T11:49:08.469Z"
   },
   {
    "duration": 807,
    "start_time": "2023-09-05T11:49:08.787Z"
   },
   {
    "duration": 91,
    "start_time": "2023-09-05T11:49:09.596Z"
   },
   {
    "duration": 6,
    "start_time": "2023-09-05T11:49:09.689Z"
   },
   {
    "duration": 23,
    "start_time": "2023-09-05T11:49:09.697Z"
   },
   {
    "duration": 25,
    "start_time": "2023-09-05T11:49:09.722Z"
   },
   {
    "duration": 36,
    "start_time": "2023-09-05T11:49:46.600Z"
   },
   {
    "duration": 5,
    "start_time": "2023-09-05T11:50:38.521Z"
   },
   {
    "duration": 7,
    "start_time": "2023-09-05T11:50:44.610Z"
   },
   {
    "duration": 5,
    "start_time": "2023-09-05T11:50:47.646Z"
   },
   {
    "duration": 5,
    "start_time": "2023-09-05T11:51:21.501Z"
   },
   {
    "duration": 4,
    "start_time": "2023-09-05T11:51:24.005Z"
   },
   {
    "duration": 4,
    "start_time": "2023-09-05T11:51:29.920Z"
   },
   {
    "duration": 104,
    "start_time": "2023-09-05T11:51:34.728Z"
   },
   {
    "duration": 5,
    "start_time": "2023-09-05T11:51:37.700Z"
   },
   {
    "duration": 6,
    "start_time": "2023-09-05T11:51:39.429Z"
   },
   {
    "duration": 12,
    "start_time": "2023-09-05T11:52:08.803Z"
   },
   {
    "duration": 8,
    "start_time": "2023-09-05T11:52:24.642Z"
   },
   {
    "duration": 10,
    "start_time": "2023-09-05T11:52:28.021Z"
   },
   {
    "duration": 9,
    "start_time": "2023-09-05T11:52:40.642Z"
   },
   {
    "duration": 10,
    "start_time": "2023-09-05T11:52:51.115Z"
   },
   {
    "duration": 102,
    "start_time": "2023-09-05T11:53:02.925Z"
   },
   {
    "duration": 11,
    "start_time": "2023-09-05T11:53:11.131Z"
   },
   {
    "duration": 11,
    "start_time": "2023-09-05T11:53:26.170Z"
   },
   {
    "duration": 5,
    "start_time": "2023-09-05T11:53:32.466Z"
   },
   {
    "duration": 5,
    "start_time": "2023-09-05T11:53:36.314Z"
   },
   {
    "duration": 5,
    "start_time": "2023-09-05T11:53:43.769Z"
   },
   {
    "duration": 5,
    "start_time": "2023-09-05T11:53:48.713Z"
   },
   {
    "duration": 14,
    "start_time": "2023-09-05T11:55:13.049Z"
   },
   {
    "duration": 457,
    "start_time": "2023-09-05T11:55:29.617Z"
   },
   {
    "duration": 92,
    "start_time": "2023-09-05T11:55:43.901Z"
   },
   {
    "duration": 75,
    "start_time": "2023-09-05T11:55:55.971Z"
   },
   {
    "duration": 87,
    "start_time": "2023-09-05T11:56:05.621Z"
   },
   {
    "duration": 74,
    "start_time": "2023-09-05T11:56:08.276Z"
   },
   {
    "duration": 75,
    "start_time": "2023-09-05T11:56:18.301Z"
   },
   {
    "duration": 71,
    "start_time": "2023-09-05T11:56:20.847Z"
   },
   {
    "duration": 77,
    "start_time": "2023-09-05T11:56:24.633Z"
   },
   {
    "duration": 161,
    "start_time": "2023-09-05T11:56:28.613Z"
   },
   {
    "duration": 71,
    "start_time": "2023-09-05T11:56:31.716Z"
   },
   {
    "duration": 72,
    "start_time": "2023-09-05T11:56:36.308Z"
   },
   {
    "duration": 75,
    "start_time": "2023-09-05T11:56:43.432Z"
   },
   {
    "duration": 110,
    "start_time": "2023-09-05T11:57:58.824Z"
   },
   {
    "duration": 26,
    "start_time": "2023-09-05T11:58:09.220Z"
   },
   {
    "duration": 6,
    "start_time": "2023-09-05T11:58:15.126Z"
   },
   {
    "duration": 14,
    "start_time": "2023-09-05T11:58:22.145Z"
   },
   {
    "duration": 587,
    "start_time": "2023-09-05T11:58:26.017Z"
   },
   {
    "duration": 105,
    "start_time": "2023-09-05T11:58:32.376Z"
   },
   {
    "duration": 86,
    "start_time": "2023-09-05T11:58:52.743Z"
   },
   {
    "duration": 77,
    "start_time": "2023-09-05T11:59:10.137Z"
   },
   {
    "duration": 83,
    "start_time": "2023-09-05T11:59:26.009Z"
   },
   {
    "duration": 78,
    "start_time": "2023-09-05T12:00:08.567Z"
   },
   {
    "duration": 83,
    "start_time": "2023-09-05T12:04:53.699Z"
   },
   {
    "duration": 79,
    "start_time": "2023-09-05T12:05:11.598Z"
   },
   {
    "duration": 80,
    "start_time": "2023-09-05T12:05:50.601Z"
   },
   {
    "duration": 81,
    "start_time": "2023-09-05T12:06:44.031Z"
   },
   {
    "duration": 146,
    "start_time": "2023-09-05T12:06:50.805Z"
   },
   {
    "duration": 21,
    "start_time": "2023-09-05T12:07:02.923Z"
   },
   {
    "duration": 20,
    "start_time": "2023-09-05T12:07:11.403Z"
   },
   {
    "duration": 19,
    "start_time": "2023-09-05T12:08:18.507Z"
   },
   {
    "duration": 91,
    "start_time": "2023-09-05T12:09:26.754Z"
   },
   {
    "duration": 101,
    "start_time": "2023-09-05T12:10:37.306Z"
   },
   {
    "duration": 226,
    "start_time": "2023-09-05T12:10:45.059Z"
   },
   {
    "duration": 93,
    "start_time": "2023-09-05T12:14:17.465Z"
   },
   {
    "duration": 11,
    "start_time": "2023-09-05T13:14:43.484Z"
   },
   {
    "duration": 12,
    "start_time": "2023-09-05T13:17:39.530Z"
   },
   {
    "duration": 798,
    "start_time": "2023-09-05T13:33:30.994Z"
   },
   {
    "duration": 263,
    "start_time": "2023-09-05T13:33:36.496Z"
   },
   {
    "duration": 661,
    "start_time": "2023-09-05T13:33:39.003Z"
   },
   {
    "duration": 697,
    "start_time": "2023-09-05T13:33:42.632Z"
   },
   {
    "duration": 826,
    "start_time": "2023-09-05T13:39:50.930Z"
   },
   {
    "duration": 176,
    "start_time": "2023-09-05T13:41:47.593Z"
   },
   {
    "duration": 360,
    "start_time": "2023-09-05T13:41:58.711Z"
   },
   {
    "duration": 87,
    "start_time": "2023-09-05T13:42:08.255Z"
   },
   {
    "duration": 341,
    "start_time": "2023-09-05T13:42:25.395Z"
   },
   {
    "duration": 1510,
    "start_time": "2023-09-05T13:42:53.662Z"
   },
   {
    "duration": 33,
    "start_time": "2023-09-05T13:42:55.174Z"
   },
   {
    "duration": 14,
    "start_time": "2023-09-05T13:42:55.209Z"
   },
   {
    "duration": 13,
    "start_time": "2023-09-05T13:42:55.225Z"
   },
   {
    "duration": 70,
    "start_time": "2023-09-05T13:42:55.240Z"
   },
   {
    "duration": 98,
    "start_time": "2023-09-05T13:42:55.312Z"
   },
   {
    "duration": 12,
    "start_time": "2023-09-05T13:42:55.412Z"
   },
   {
    "duration": 14,
    "start_time": "2023-09-05T13:42:55.426Z"
   },
   {
    "duration": 10,
    "start_time": "2023-09-05T13:42:55.457Z"
   },
   {
    "duration": 24,
    "start_time": "2023-09-05T13:42:55.469Z"
   },
   {
    "duration": 792,
    "start_time": "2023-09-05T13:42:55.494Z"
   },
   {
    "duration": 356,
    "start_time": "2023-09-05T13:42:56.288Z"
   },
   {
    "duration": 841,
    "start_time": "2023-09-05T13:42:56.646Z"
   },
   {
    "duration": 95,
    "start_time": "2023-09-05T13:42:57.488Z"
   },
   {
    "duration": 7,
    "start_time": "2023-09-05T13:42:57.584Z"
   },
   {
    "duration": 35,
    "start_time": "2023-09-05T13:42:57.592Z"
   },
   {
    "duration": 41,
    "start_time": "2023-09-05T13:42:57.628Z"
   },
   {
    "duration": 321,
    "start_time": "2023-09-05T13:44:27.509Z"
   },
   {
    "duration": 378,
    "start_time": "2023-09-05T13:44:32.761Z"
   },
   {
    "duration": 333,
    "start_time": "2023-09-05T13:44:40.601Z"
   },
   {
    "duration": 308,
    "start_time": "2023-09-05T13:44:45.086Z"
   },
   {
    "duration": 300,
    "start_time": "2023-09-05T13:44:47.264Z"
   },
   {
    "duration": 293,
    "start_time": "2023-09-05T13:44:50.472Z"
   },
   {
    "duration": 289,
    "start_time": "2023-09-05T13:44:55.812Z"
   },
   {
    "duration": 448,
    "start_time": "2023-09-05T13:45:38.956Z"
   },
   {
    "duration": 308,
    "start_time": "2023-09-05T13:45:47.162Z"
   },
   {
    "duration": 316,
    "start_time": "2023-09-05T13:46:39.920Z"
   },
   {
    "duration": 312,
    "start_time": "2023-09-05T13:46:43.909Z"
   },
   {
    "duration": 302,
    "start_time": "2023-09-05T13:46:58.399Z"
   },
   {
    "duration": 320,
    "start_time": "2023-09-05T13:47:10.046Z"
   },
   {
    "duration": 757,
    "start_time": "2023-09-05T15:13:07.668Z"
   },
   {
    "duration": 313,
    "start_time": "2023-09-05T15:13:08.427Z"
   },
   {
    "duration": 2448,
    "start_time": "2023-09-05T15:16:10.865Z"
   },
   {
    "duration": 2207,
    "start_time": "2023-09-05T15:20:38.508Z"
   },
   {
    "duration": 2212,
    "start_time": "2023-09-05T15:20:45.333Z"
   },
   {
    "duration": 1368,
    "start_time": "2023-09-05T15:20:57.289Z"
   },
   {
    "duration": 553,
    "start_time": "2023-09-05T15:21:09.309Z"
   },
   {
    "duration": 1260,
    "start_time": "2023-09-05T15:21:16.853Z"
   },
   {
    "duration": 950,
    "start_time": "2023-09-05T15:21:30.891Z"
   },
   {
    "duration": 1841,
    "start_time": "2023-09-05T15:21:36.852Z"
   },
   {
    "duration": 1433,
    "start_time": "2023-09-05T15:21:58.446Z"
   },
   {
    "duration": 1816,
    "start_time": "2023-09-05T15:23:10.251Z"
   },
   {
    "duration": 1381,
    "start_time": "2023-09-05T15:23:15.982Z"
   },
   {
    "duration": 934,
    "start_time": "2023-09-05T15:23:21.028Z"
   },
   {
    "duration": 790,
    "start_time": "2023-09-05T15:23:47.988Z"
   },
   {
    "duration": 4,
    "start_time": "2023-09-05T15:25:08.656Z"
   },
   {
    "duration": 39,
    "start_time": "2023-09-05T15:25:08.662Z"
   },
   {
    "duration": 11,
    "start_time": "2023-09-05T15:25:08.703Z"
   },
   {
    "duration": 36,
    "start_time": "2023-09-05T15:25:08.716Z"
   },
   {
    "duration": 45,
    "start_time": "2023-09-05T15:25:08.755Z"
   },
   {
    "duration": 121,
    "start_time": "2023-09-05T15:25:08.802Z"
   },
   {
    "duration": 32,
    "start_time": "2023-09-05T15:25:08.925Z"
   },
   {
    "duration": 14,
    "start_time": "2023-09-05T15:25:08.960Z"
   },
   {
    "duration": 26,
    "start_time": "2023-09-05T15:25:08.976Z"
   },
   {
    "duration": 15,
    "start_time": "2023-09-05T15:25:09.005Z"
   },
   {
    "duration": 859,
    "start_time": "2023-09-05T15:25:09.024Z"
   },
   {
    "duration": 362,
    "start_time": "2023-09-05T15:25:09.885Z"
   },
   {
    "duration": 793,
    "start_time": "2023-09-05T15:25:10.256Z"
   },
   {
    "duration": 762,
    "start_time": "2023-09-05T15:25:11.051Z"
   },
   {
    "duration": 96,
    "start_time": "2023-09-05T15:25:11.815Z"
   },
   {
    "duration": 5,
    "start_time": "2023-09-05T15:25:11.913Z"
   },
   {
    "duration": 50,
    "start_time": "2023-09-05T15:25:11.919Z"
   },
   {
    "duration": 18,
    "start_time": "2023-09-05T15:25:11.971Z"
   },
   {
    "duration": 4,
    "start_time": "2023-09-05T15:48:42.673Z"
   },
   {
    "duration": 59,
    "start_time": "2023-09-05T15:48:42.679Z"
   },
   {
    "duration": 12,
    "start_time": "2023-09-05T15:48:42.740Z"
   },
   {
    "duration": 48,
    "start_time": "2023-09-05T15:48:42.753Z"
   },
   {
    "duration": 76,
    "start_time": "2023-09-05T15:48:42.803Z"
   },
   {
    "duration": 107,
    "start_time": "2023-09-05T15:48:42.882Z"
   },
   {
    "duration": 11,
    "start_time": "2023-09-05T15:48:42.992Z"
   },
   {
    "duration": 43,
    "start_time": "2023-09-05T15:48:43.005Z"
   },
   {
    "duration": 35,
    "start_time": "2023-09-05T15:48:43.050Z"
   },
   {
    "duration": 8,
    "start_time": "2023-09-05T15:48:43.087Z"
   },
   {
    "duration": 854,
    "start_time": "2023-09-05T15:48:43.097Z"
   },
   {
    "duration": 341,
    "start_time": "2023-09-05T15:48:43.956Z"
   },
   {
    "duration": 782,
    "start_time": "2023-09-05T15:48:44.298Z"
   },
   {
    "duration": 801,
    "start_time": "2023-09-05T15:48:45.084Z"
   },
   {
    "duration": 100,
    "start_time": "2023-09-05T15:48:45.888Z"
   },
   {
    "duration": 5,
    "start_time": "2023-09-05T15:48:45.990Z"
   },
   {
    "duration": 20,
    "start_time": "2023-09-05T15:48:45.997Z"
   },
   {
    "duration": 6,
    "start_time": "2023-09-05T15:48:46.018Z"
   },
   {
    "duration": 330,
    "start_time": "2023-09-05T15:49:01.141Z"
   },
   {
    "duration": 649,
    "start_time": "2023-09-05T15:49:08.271Z"
   },
   {
    "duration": 343,
    "start_time": "2023-09-05T15:49:11.086Z"
   },
   {
    "duration": 113,
    "start_time": "2023-09-05T16:20:27.675Z"
   },
   {
    "duration": 910,
    "start_time": "2023-09-05T16:20:34.491Z"
   },
   {
    "duration": 18,
    "start_time": "2023-09-05T16:20:36.270Z"
   },
   {
    "duration": 17,
    "start_time": "2023-09-05T16:20:52.255Z"
   },
   {
    "duration": 1162,
    "start_time": "2023-09-05T16:21:12.889Z"
   },
   {
    "duration": 19,
    "start_time": "2023-09-05T16:22:45.888Z"
   },
   {
    "duration": 17,
    "start_time": "2023-09-05T16:23:53.214Z"
   },
   {
    "duration": 18,
    "start_time": "2023-09-05T16:24:26.589Z"
   },
   {
    "duration": 342,
    "start_time": "2023-09-05T16:24:43.479Z"
   },
   {
    "duration": 5,
    "start_time": "2023-09-05T16:32:11.419Z"
   },
   {
    "duration": 37,
    "start_time": "2023-09-05T16:32:11.426Z"
   },
   {
    "duration": 14,
    "start_time": "2023-09-05T16:32:11.465Z"
   },
   {
    "duration": 28,
    "start_time": "2023-09-05T16:32:11.481Z"
   },
   {
    "duration": 32,
    "start_time": "2023-09-05T16:32:11.512Z"
   },
   {
    "duration": 84,
    "start_time": "2023-09-05T16:32:11.546Z"
   },
   {
    "duration": 32,
    "start_time": "2023-09-05T16:32:11.632Z"
   },
   {
    "duration": 13,
    "start_time": "2023-09-05T16:32:11.666Z"
   },
   {
    "duration": 26,
    "start_time": "2023-09-05T16:32:11.681Z"
   },
   {
    "duration": 18,
    "start_time": "2023-09-05T16:32:11.709Z"
   },
   {
    "duration": 734,
    "start_time": "2023-09-05T16:32:11.729Z"
   },
   {
    "duration": 347,
    "start_time": "2023-09-05T16:32:12.465Z"
   },
   {
    "duration": 795,
    "start_time": "2023-09-05T16:32:12.814Z"
   },
   {
    "duration": 951,
    "start_time": "2023-09-05T16:32:13.612Z"
   },
   {
    "duration": 336,
    "start_time": "2023-09-05T16:32:14.565Z"
   },
   {
    "duration": 112,
    "start_time": "2023-09-05T16:32:14.903Z"
   },
   {
    "duration": 5,
    "start_time": "2023-09-05T16:32:15.018Z"
   },
   {
    "duration": 42,
    "start_time": "2023-09-05T16:32:15.025Z"
   },
   {
    "duration": 17,
    "start_time": "2023-09-05T16:32:15.069Z"
   },
   {
    "duration": 10,
    "start_time": "2023-09-05T16:35:27.101Z"
   },
   {
    "duration": 4,
    "start_time": "2023-09-05T16:35:32.967Z"
   },
   {
    "duration": 979,
    "start_time": "2023-09-05T16:35:52.911Z"
   },
   {
    "duration": 955,
    "start_time": "2023-09-05T16:35:56.370Z"
   },
   {
    "duration": 1133,
    "start_time": "2023-09-05T16:36:11.292Z"
   },
   {
    "duration": 973,
    "start_time": "2023-09-05T16:36:28.724Z"
   },
   {
    "duration": 982,
    "start_time": "2023-09-05T16:36:32.776Z"
   },
   {
    "duration": 770,
    "start_time": "2023-09-05T16:36:48.214Z"
   },
   {
    "duration": 802,
    "start_time": "2023-09-05T16:36:53.002Z"
   },
   {
    "duration": 1061,
    "start_time": "2023-09-05T16:36:59.930Z"
   },
   {
    "duration": 985,
    "start_time": "2023-09-05T16:37:05.534Z"
   },
   {
    "duration": 1125,
    "start_time": "2023-09-05T16:37:07.497Z"
   },
   {
    "duration": 321,
    "start_time": "2023-09-05T16:37:11.017Z"
   },
   {
    "duration": 365,
    "start_time": "2023-09-05T16:37:19.250Z"
   },
   {
    "duration": 327,
    "start_time": "2023-09-05T16:37:26.409Z"
   },
   {
    "duration": 319,
    "start_time": "2023-09-05T16:37:46.366Z"
   },
   {
    "duration": 346,
    "start_time": "2023-09-05T16:37:54.597Z"
   },
   {
    "duration": 4,
    "start_time": "2023-09-05T16:40:14.472Z"
   },
   {
    "duration": 38,
    "start_time": "2023-09-05T16:40:14.478Z"
   },
   {
    "duration": 12,
    "start_time": "2023-09-05T16:40:14.519Z"
   },
   {
    "duration": 24,
    "start_time": "2023-09-05T16:40:14.533Z"
   },
   {
    "duration": 30,
    "start_time": "2023-09-05T16:40:14.560Z"
   },
   {
    "duration": 94,
    "start_time": "2023-09-05T16:40:14.592Z"
   },
   {
    "duration": 11,
    "start_time": "2023-09-05T16:40:14.688Z"
   },
   {
    "duration": 16,
    "start_time": "2023-09-05T16:40:14.701Z"
   },
   {
    "duration": 38,
    "start_time": "2023-09-05T16:40:14.719Z"
   },
   {
    "duration": 2,
    "start_time": "2023-09-05T16:40:14.759Z"
   },
   {
    "duration": 835,
    "start_time": "2023-09-05T16:40:14.763Z"
   },
   {
    "duration": 468,
    "start_time": "2023-09-05T16:40:15.600Z"
   },
   {
    "duration": 787,
    "start_time": "2023-09-05T16:40:16.069Z"
   },
   {
    "duration": 983,
    "start_time": "2023-09-05T16:40:16.859Z"
   },
   {
    "duration": 357,
    "start_time": "2023-09-05T16:40:17.844Z"
   },
   {
    "duration": 99,
    "start_time": "2023-09-05T16:40:18.203Z"
   },
   {
    "duration": 5,
    "start_time": "2023-09-05T16:40:18.304Z"
   },
   {
    "duration": 17,
    "start_time": "2023-09-05T16:40:18.310Z"
   },
   {
    "duration": 10,
    "start_time": "2023-09-05T16:40:18.329Z"
   },
   {
    "duration": 1474,
    "start_time": "2023-09-05T18:34:30.612Z"
   },
   {
    "duration": 33,
    "start_time": "2023-09-05T18:34:32.089Z"
   },
   {
    "duration": 20,
    "start_time": "2023-09-05T18:34:32.125Z"
   },
   {
    "duration": 33,
    "start_time": "2023-09-05T18:34:32.147Z"
   },
   {
    "duration": 43,
    "start_time": "2023-09-05T18:34:32.182Z"
   },
   {
    "duration": 105,
    "start_time": "2023-09-05T18:34:32.227Z"
   },
   {
    "duration": 23,
    "start_time": "2023-09-05T18:34:32.334Z"
   },
   {
    "duration": 10,
    "start_time": "2023-09-05T18:34:32.359Z"
   },
   {
    "duration": 28,
    "start_time": "2023-09-05T18:34:32.371Z"
   },
   {
    "duration": 2,
    "start_time": "2023-09-05T18:34:32.401Z"
   },
   {
    "duration": 745,
    "start_time": "2023-09-05T18:34:32.405Z"
   },
   {
    "duration": 342,
    "start_time": "2023-09-05T18:34:33.157Z"
   },
   {
    "duration": 807,
    "start_time": "2023-09-05T18:34:33.502Z"
   },
   {
    "duration": 900,
    "start_time": "2023-09-05T18:34:34.312Z"
   },
   {
    "duration": 417,
    "start_time": "2023-09-05T18:34:35.214Z"
   },
   {
    "duration": 123,
    "start_time": "2023-09-05T18:34:35.634Z"
   },
   {
    "duration": 7,
    "start_time": "2023-09-05T18:34:35.759Z"
   },
   {
    "duration": 35,
    "start_time": "2023-09-05T18:34:35.768Z"
   },
   {
    "duration": 27,
    "start_time": "2023-09-05T18:34:35.806Z"
   },
   {
    "duration": 6,
    "start_time": "2023-09-05T19:19:14.803Z"
   },
   {
    "duration": 25,
    "start_time": "2023-09-05T19:20:50.158Z"
   },
   {
    "duration": 28,
    "start_time": "2023-09-05T19:20:59.780Z"
   },
   {
    "duration": 29,
    "start_time": "2023-09-05T19:25:44.227Z"
   },
   {
    "duration": 26,
    "start_time": "2023-09-05T19:26:07.780Z"
   },
   {
    "duration": 136,
    "start_time": "2023-09-05T19:27:08.451Z"
   },
   {
    "duration": 75,
    "start_time": "2023-09-05T19:27:14.619Z"
   },
   {
    "duration": 52,
    "start_time": "2023-09-05T19:27:27.434Z"
   },
   {
    "duration": 29,
    "start_time": "2023-09-05T19:27:48.183Z"
   },
   {
    "duration": 26,
    "start_time": "2023-09-05T19:28:10.323Z"
   },
   {
    "duration": 40,
    "start_time": "2023-09-05T19:30:06.867Z"
   },
   {
    "duration": 31,
    "start_time": "2023-09-05T19:30:16.367Z"
   },
   {
    "duration": 30,
    "start_time": "2023-09-05T19:31:03.354Z"
   },
   {
    "duration": 5,
    "start_time": "2023-09-05T19:35:04.976Z"
   },
   {
    "duration": 4,
    "start_time": "2023-09-05T19:36:46.118Z"
   },
   {
    "duration": 5,
    "start_time": "2023-09-05T19:38:06.225Z"
   },
   {
    "duration": 5,
    "start_time": "2023-09-05T19:38:34.415Z"
   },
   {
    "duration": 6,
    "start_time": "2023-09-05T19:40:29.368Z"
   },
   {
    "duration": 1441,
    "start_time": "2023-09-05T19:44:30.273Z"
   },
   {
    "duration": 31,
    "start_time": "2023-09-05T19:44:31.717Z"
   },
   {
    "duration": 14,
    "start_time": "2023-09-05T19:44:31.750Z"
   },
   {
    "duration": 37,
    "start_time": "2023-09-05T19:44:31.765Z"
   },
   {
    "duration": 66,
    "start_time": "2023-09-05T19:44:31.804Z"
   },
   {
    "duration": 104,
    "start_time": "2023-09-05T19:44:31.872Z"
   },
   {
    "duration": 10,
    "start_time": "2023-09-05T19:44:31.978Z"
   },
   {
    "duration": 34,
    "start_time": "2023-09-05T19:44:31.990Z"
   },
   {
    "duration": 29,
    "start_time": "2023-09-05T19:44:32.026Z"
   },
   {
    "duration": 10,
    "start_time": "2023-09-05T19:44:32.056Z"
   },
   {
    "duration": 831,
    "start_time": "2023-09-05T19:44:32.068Z"
   },
   {
    "duration": 334,
    "start_time": "2023-09-05T19:44:32.900Z"
   },
   {
    "duration": 837,
    "start_time": "2023-09-05T19:44:33.236Z"
   },
   {
    "duration": 925,
    "start_time": "2023-09-05T19:44:34.076Z"
   },
   {
    "duration": 424,
    "start_time": "2023-09-05T19:44:35.002Z"
   },
   {
    "duration": 105,
    "start_time": "2023-09-05T19:44:35.428Z"
   },
   {
    "duration": 6,
    "start_time": "2023-09-05T19:44:35.535Z"
   },
   {
    "duration": 38,
    "start_time": "2023-09-05T19:44:35.543Z"
   },
   {
    "duration": 64,
    "start_time": "2023-09-05T19:44:35.583Z"
   },
   {
    "duration": 5,
    "start_time": "2023-09-05T19:44:35.649Z"
   },
   {
    "duration": 1465,
    "start_time": "2023-09-05T19:45:17.309Z"
   },
   {
    "duration": 32,
    "start_time": "2023-09-05T19:45:18.776Z"
   },
   {
    "duration": 15,
    "start_time": "2023-09-05T19:45:18.810Z"
   },
   {
    "duration": 11,
    "start_time": "2023-09-05T19:45:18.828Z"
   },
   {
    "duration": 29,
    "start_time": "2023-09-05T19:45:18.840Z"
   },
   {
    "duration": 99,
    "start_time": "2023-09-05T19:45:18.871Z"
   },
   {
    "duration": 10,
    "start_time": "2023-09-05T19:45:18.972Z"
   },
   {
    "duration": 10,
    "start_time": "2023-09-05T19:45:18.984Z"
   },
   {
    "duration": 12,
    "start_time": "2023-09-05T19:45:18.996Z"
   },
   {
    "duration": 2,
    "start_time": "2023-09-05T19:45:19.011Z"
   },
   {
    "duration": 855,
    "start_time": "2023-09-05T19:45:19.015Z"
   },
   {
    "duration": 351,
    "start_time": "2023-09-05T19:45:19.872Z"
   },
   {
    "duration": 812,
    "start_time": "2023-09-05T19:45:20.225Z"
   },
   {
    "duration": 1098,
    "start_time": "2023-09-05T19:45:21.039Z"
   },
   {
    "duration": 396,
    "start_time": "2023-09-05T19:45:22.139Z"
   },
   {
    "duration": 131,
    "start_time": "2023-09-05T19:45:22.537Z"
   },
   {
    "duration": 6,
    "start_time": "2023-09-05T19:45:22.669Z"
   },
   {
    "duration": 6,
    "start_time": "2023-09-05T19:45:22.677Z"
   },
   {
    "duration": 28,
    "start_time": "2023-09-05T19:45:22.684Z"
   },
   {
    "duration": 5,
    "start_time": "2023-09-05T19:45:22.714Z"
   },
   {
    "duration": 82,
    "start_time": "2023-09-05T19:59:55.687Z"
   },
   {
    "duration": 77,
    "start_time": "2023-09-05T19:59:56.632Z"
   },
   {
    "duration": 97,
    "start_time": "2023-09-05T20:00:06.518Z"
   },
   {
    "duration": 102,
    "start_time": "2023-09-05T20:00:09.869Z"
   },
   {
    "duration": 89,
    "start_time": "2023-09-05T20:00:10.283Z"
   },
   {
    "duration": 82,
    "start_time": "2023-09-05T20:00:10.673Z"
   },
   {
    "duration": 82,
    "start_time": "2023-09-05T20:00:17.757Z"
   },
   {
    "duration": 91,
    "start_time": "2023-09-05T20:00:22.170Z"
   },
   {
    "duration": 116,
    "start_time": "2023-09-05T20:00:31.557Z"
   },
   {
    "duration": 88,
    "start_time": "2023-09-05T20:00:39.268Z"
   },
   {
    "duration": 91,
    "start_time": "2023-09-05T20:00:44.898Z"
   },
   {
    "duration": 1435,
    "start_time": "2023-09-05T20:05:18.213Z"
   },
   {
    "duration": 33,
    "start_time": "2023-09-05T20:05:19.650Z"
   },
   {
    "duration": 14,
    "start_time": "2023-09-05T20:05:19.687Z"
   },
   {
    "duration": 12,
    "start_time": "2023-09-05T20:05:19.702Z"
   },
   {
    "duration": 38,
    "start_time": "2023-09-05T20:05:19.716Z"
   },
   {
    "duration": 91,
    "start_time": "2023-09-05T20:05:19.756Z"
   },
   {
    "duration": 16,
    "start_time": "2023-09-05T20:05:19.848Z"
   },
   {
    "duration": 20,
    "start_time": "2023-09-05T20:05:19.866Z"
   },
   {
    "duration": 15,
    "start_time": "2023-09-05T20:05:19.889Z"
   },
   {
    "duration": 3,
    "start_time": "2023-09-05T20:05:19.905Z"
   },
   {
    "duration": 729,
    "start_time": "2023-09-05T20:05:19.910Z"
   },
   {
    "duration": 334,
    "start_time": "2023-09-05T20:05:20.640Z"
   },
   {
    "duration": 782,
    "start_time": "2023-09-05T20:05:20.975Z"
   },
   {
    "duration": 878,
    "start_time": "2023-09-05T20:05:21.760Z"
   },
   {
    "duration": 399,
    "start_time": "2023-09-05T20:05:22.640Z"
   },
   {
    "duration": 119,
    "start_time": "2023-09-05T20:05:23.041Z"
   },
   {
    "duration": 6,
    "start_time": "2023-09-05T20:05:23.162Z"
   },
   {
    "duration": 7,
    "start_time": "2023-09-05T20:05:23.169Z"
   },
   {
    "duration": 31,
    "start_time": "2023-09-05T20:05:23.177Z"
   },
   {
    "duration": 5,
    "start_time": "2023-09-05T20:05:23.210Z"
   },
   {
    "duration": 51,
    "start_time": "2023-09-11T01:02:41.119Z"
   }
  ],
  "kernelspec": {
   "display_name": "Python 3 (ipykernel)",
   "language": "python",
   "name": "python3"
  },
  "language_info": {
   "codemirror_mode": {
    "name": "ipython",
    "version": 3
   },
   "file_extension": ".py",
   "mimetype": "text/x-python",
   "name": "python",
   "nbconvert_exporter": "python",
   "pygments_lexer": "ipython3",
   "version": "3.9.5"
  },
  "toc": {
   "base_numbering": 1,
   "nav_menu": {
    "height": "130px",
    "width": "312px"
   },
   "number_sections": true,
   "sideBar": true,
   "skip_h1_title": true,
   "title_cell": "Table of Contents",
   "title_sidebar": "Contents",
   "toc_cell": false,
   "toc_position": {
    "height": "calc(100% - 180px)",
    "left": "10px",
    "top": "150px",
    "width": "275px"
   },
   "toc_section_display": true,
   "toc_window_display": true
  }
 },
 "nbformat": 4,
 "nbformat_minor": 2
}
